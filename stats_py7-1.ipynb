{
 "cells": [
  {
   "cell_type": "markdown",
   "id": "6f927ef7-3b5b-4d29-8781-4554bf431bf6",
   "metadata": {},
   "source": [
    "# Chapter 7. 통계학과 머신러닝"
   ]
  },
  {
   "cell_type": "markdown",
   "id": "d6d7bf6d-829e-4e50-a29a-d9a9f0cc4849",
   "metadata": {},
   "source": [
    "## 7.1 머신러닝 기본"
   ]
  },
  {
   "cell_type": "markdown",
   "id": "83139928-d399-4af1-ade7-20762b8d5832",
   "metadata": {},
   "source": [
    "* 이 절에서는 머신러닝과 통계학과의 관계를 설명함\n",
    "\n",
    "    - 양자의 관계가 완전히 합의가 이루어진 것은 아니며, 저자 및 연구자의 입장이나 배경에 의존하는 부분이 있음\n",
    "    \n",
    "    - 대략적인 기준이 될 수 있는 유사점과 차이점을 소개함"
   ]
  },
  {
   "cell_type": "markdown",
   "id": "e1572b17-854d-4277-a3bd-81f455da02e7",
   "metadata": {},
   "source": [
    "### 7.1.1 머신러닝"
   ]
  },
  {
   "cell_type": "markdown",
   "id": "de1bb203-23b9-4d69-9b64-815aa11747a0",
   "metadata": {},
   "source": [
    "* **머신러닝**은 컴퓨터에 학습 능력을 부여하는 것을 목적으로 한 연구 분야\n",
    "\n",
    "* 학습은 데이터를 기반으로 행해져 데이터가 가지는 규칙성을 분명히 함 -> 이를 바탕으로 모르는 데이터의 예측 등에 활용됨"
   ]
  },
  {
   "cell_type": "markdown",
   "id": "ddee08e0-b516-410d-a9ab-17e531258930",
   "metadata": {},
   "source": [
    "### 7.1.2 지도학습"
   ]
  },
  {
   "cell_type": "markdown",
   "id": "ccff5894-3b0d-40bf-9e89-fddd66abd2ff",
   "metadata": {},
   "source": [
    "* **지도학습** : 명시적 라벨(정답)이 있는 데이터를 학습하는 방법"
   ]
  },
  {
   "cell_type": "markdown",
   "id": "4780fb71-f9a3-464b-842f-3ef6f3621ada",
   "metadata": {},
   "source": [
    "### 7.1.3 비지도 학습"
   ]
  },
  {
   "cell_type": "markdown",
   "id": "024b00c5-3332-4a6f-a8c4-1de5e968de2d",
   "metadata": {},
   "source": [
    "* **비지도학습** : 명시적인 라벨(정답)이 없는 데이터를 학습하는 방법"
   ]
  },
  {
   "cell_type": "markdown",
   "id": "fda82e55-a755-4073-8caf-3e013c59fc6d",
   "metadata": {},
   "source": [
    "### 7.1.4 강화학습"
   ]
  },
  {
   "cell_type": "markdown",
   "id": "d7f5ffec-585d-4b27-85da-1385ca67b8b2",
   "metadata": {},
   "source": [
    "* 주어진 상황에서 이득이 최대가 되는 행동을 찾는 방식으로 문제를 해결하는 학습 방법\n",
    "\n",
    "* 지도학습과 달리 정답 데이터는 주어지지 않음"
   ]
  },
  {
   "cell_type": "markdown",
   "id": "9d4624c7-bce9-41bf-b371-75a28a910233",
   "metadata": {},
   "source": [
    "### 7.1.5 룰베이스 머신러닝\n",
    "\n",
    "* **룰베이스 머신러닝** : 사람이 미리 룰을 지정하고 그 룰에 따라서 예측 결과를 출력하는 방법\n",
    "\n",
    "    - 사람이 지정하거나 정한 규칙에 따라 프로그래밍된 머신이 보통 이 부류에 속함(기존 프래그래밍 방식)\n",
    "    \n",
    "    - 단순한 룰을 적용하는 문제라면 머신러닝 보다 저비용, 효율성을 가질 수 있음"
   ]
  },
  {
   "cell_type": "markdown",
   "id": "bd04d2b9-bdc6-4a4d-8da5-d0fb95398a84",
   "metadata": {},
   "source": [
    "### 7.1.6 통계학과 머신러닝을 완전히 분리하는 것은 어렵다"
   ]
  },
  {
   "cell_type": "markdown",
   "id": "ebf676e8-ec5b-46c3-8d04-a1d2249c8e68",
   "metadata": {},
   "source": [
    "* 로지스틱 회귀 등의 특정 방법에 대해 이 방법이 통계학의 범주에 들어갈 것인지, 머신러닝의 범주에 들어갈 것인지 명확하게 나는 것은 어려운 일"
   ]
  },
  {
   "cell_type": "markdown",
   "id": "92a9f11b-c330-4154-a336-abd9d0145f2c",
   "metadata": {},
   "source": [
    "### 7.1.7 통계학은 과정, 머신러닝은 결과에 주목한다"
   ]
  },
  {
   "cell_type": "markdown",
   "id": "0f0a402a-f03d-412b-81c6-8863703cc0ab",
   "metadata": {},
   "source": [
    "* 통계학과 머신러닝은 하는 일은 비슷하지만 데이터를 분석하는 목적에서 차이가 있음\n",
    "\n",
    "    - 통계 모델의 목적은 데이터를 얻는 프로세스를 이해하는 것\n",
    "    \n",
    "    - 머신러닝의 목적은 미지의 데이터를 계산해서 획득하는 것"
   ]
  },
  {
   "cell_type": "markdown",
   "id": "5508d6e6-4002-4c9d-ac76-70e2f9fd909c",
   "metadata": {},
   "source": [
    "* 통계학은 데이터를 얻을 수 있는 프로세스(과정)에 주목함\n",
    "\n",
    "    - 과정을 알게 되면 다음에 어떤 데이터가 올지 예측도 할 수 있을 것이라고 생각\n",
    "    \n",
    "    - 통계모델을 이용해서 예측할 수 있을 때, 과정의 이해가 첫번째이고 예측은 그 다음임\n",
    "\n",
    "\n",
    "* 머신러닝은 다음에 어떤 결과를 얻을 수 있는지에 주목함\n",
    "\n",
    "    - 따라서 내부가 블랙박스인 모델도 자주 사용됨"
   ]
  },
  {
   "cell_type": "markdown",
   "id": "7c64ff4e-186f-45df-9f2b-63d275e61668",
   "metadata": {},
   "source": [
    "* **차이점에 대한 예시**\n",
    "\n",
    "    - 일반선형모델을 포함한 분류와 회귀모델은 통계학과 머신러닝모두에서 설명하나 사용하고자 하는 관점에서 약간 차이가 발생함\n",
    "\n",
    "        - 예를 들어 기온과 맥주 매상이 관계가 있는 지 등에 관한 이해 -> 통계학 관점\n",
    "\n",
    "        - 매상에 대한 예측, 시험의 합격여부에 관한 예측 -> 머신러닝의 관점"
   ]
  },
  {
   "cell_type": "markdown",
   "id": "061179ba-6096-41fc-987e-59d1dc255ee3",
   "metadata": {},
   "source": [
    "* 주) 보통 일반선형모델까지를 통계학의 범주에서 다루고 이어 리지회귀, 라소 회귀 등 정규화 및 손실함수의 개념으로 넘어가기 시작하면 머신러닝의 범주로 다룸\n",
    "\n",
    "    - 아마도 딥러닝 등 AI가 더 발전하면 통계학 + 머신러닝이 고전적 데이터 분석 방법으로 묶이고 \n",
    "    \n",
    "    - 딥러닝 중에서도 심층 네트워크 또는 generative pretrained model 등이 현대적 데이터 분석 또는 데이터 활용 방법으로 범주화 될 것으로 보인다."
   ]
  }
 ],
 "metadata": {
  "kernelspec": {
   "display_name": "Python 3 (ipykernel)",
   "language": "python",
   "name": "python3"
  },
  "language_info": {
   "codemirror_mode": {
    "name": "ipython",
    "version": 3
   },
   "file_extension": ".py",
   "mimetype": "text/x-python",
   "name": "python",
   "nbconvert_exporter": "python",
   "pygments_lexer": "ipython3",
   "version": "3.9.12"
  }
 },
 "nbformat": 4,
 "nbformat_minor": 5
}
