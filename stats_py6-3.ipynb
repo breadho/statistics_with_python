{
 "cells": [
  {
   "cell_type": "markdown",
   "id": "0d204c0c-1c2d-4d35-8f40-c591c8d5ddcd",
   "metadata": {},
   "source": [
    "# Chapter 6. 일반선형모델"
   ]
  },
  {
   "cell_type": "markdown",
   "id": "299d6e19-61cc-4a13-bf11-d771fe213b91",
   "metadata": {},
   "source": [
    "## 6.4 일반선형모델의 평가"
   ]
  },
  {
   "cell_type": "markdown",
   "id": "2953ec97-01d5-495d-9500-a7fe7b7d2edc",
   "metadata": {},
   "source": [
    "* 정규선형모델에서 배운 것처럼 모델을 평가할 때 잔차의 체크는 필수\n",
    "\n",
    "    - 다만 모집단 분포가 정규분포 이외의 분포가 되면 잔차의 취급이 크게 바뀌게 됨\n",
    "    \n",
    "* 이 절에서는 일반선형모델에서의 잔차 취급을 설명함\n",
    "\n",
    "    - 잔차는 데이터와 모델의 괴리를 표현하는 중요한 지표\n",
    "    \n",
    "    - 모델의 손실을 파악하는 방법도 확인"
   ]
  },
  {
   "cell_type": "markdown",
   "id": "499e821f-1c66-411e-a51f-9a21fb28aab7",
   "metadata": {},
   "source": [
    "### 6.4.1 분석 준비"
   ]
  },
  {
   "cell_type": "code",
   "execution_count": 1,
   "id": "4572aa5d-cf55-44ba-bf04-b61b134e9e8d",
   "metadata": {},
   "outputs": [],
   "source": [
    "# 수치계산에 사용되는 라이브러리\n",
    "import numpy as np\n",
    "import pandas as pd\n",
    "import scipy as sp\n",
    "from scipy import stats\n",
    "\n",
    "# 그래프를 그리기 위한 라이브러리\n",
    "from matplotlib import pyplot as plt\n",
    "import seaborn as sns\n",
    "sns.set()\n",
    "\n",
    "# 통계모델을 추정하는데 사용하는 라이브러리\n",
    "import statsmodels.formula.api as smf\n",
    "import statsmodels.api as sm\n",
    "\n",
    "# 표시 자릿수 지정\n",
    "%precision 3\n",
    "\n",
    "# 그래프를 주피터 노트북에 그리기 위한 설정\n",
    "%matplotlib inline"
   ]
  },
  {
   "cell_type": "code",
   "execution_count": 2,
   "id": "e63603b6-4e7e-4e78-82b0-688d928e7420",
   "metadata": {},
   "outputs": [],
   "source": [
    "# 데이터 읽어 들이기\n",
    "test_result = pd.read_csv(\"py_source/6-3-1-logistic-regression.csv\")\n",
    "\n",
    "# 로지스틱 회귀모델 모델링\n",
    "mod_glm = smf.glm(\"result ~ hours\", data = test_result, family = sm.families.Binomial()).fit()\n",
    "\n",
    "# 로지스틱 회귀모델 모델링\n",
    "mod_glm_null = smf.glm(\"result ~ 1\", data = test_result, family = sm.families.Binomial()).fit()"
   ]
  },
  {
   "cell_type": "code",
   "execution_count": 3,
   "id": "47f0569f-0600-44c7-a68d-f97e581f61cd",
   "metadata": {},
   "outputs": [
    {
     "data": {
      "text/html": [
       "<table class=\"simpletable\">\n",
       "<caption>Generalized Linear Model Regression Results</caption>\n",
       "<tr>\n",
       "  <th>Dep. Variable:</th>        <td>result</td>      <th>  No. Observations:  </th>  <td>   100</td> \n",
       "</tr>\n",
       "<tr>\n",
       "  <th>Model:</th>                  <td>GLM</td>       <th>  Df Residuals:      </th>  <td>    98</td> \n",
       "</tr>\n",
       "<tr>\n",
       "  <th>Model Family:</th>        <td>Binomial</td>     <th>  Df Model:          </th>  <td>     1</td> \n",
       "</tr>\n",
       "<tr>\n",
       "  <th>Link Function:</th>         <td>Logit</td>      <th>  Scale:             </th> <td>  1.0000</td>\n",
       "</tr>\n",
       "<tr>\n",
       "  <th>Method:</th>                <td>IRLS</td>       <th>  Log-Likelihood:    </th> <td> -34.014</td>\n",
       "</tr>\n",
       "<tr>\n",
       "  <th>Date:</th>            <td>Sun, 18 Sep 2022</td> <th>  Deviance:          </th> <td>  68.028</td>\n",
       "</tr>\n",
       "<tr>\n",
       "  <th>Time:</th>                <td>19:14:00</td>     <th>  Pearson chi2:      </th>  <td>  84.9</td> \n",
       "</tr>\n",
       "<tr>\n",
       "  <th>No. Iterations:</th>          <td>6</td>        <th>  Pseudo R-squ. (CS):</th>  <td>0.5032</td> \n",
       "</tr>\n",
       "<tr>\n",
       "  <th>Covariance Type:</th>     <td>nonrobust</td>    <th>                     </th>     <td> </td>   \n",
       "</tr>\n",
       "</table>\n",
       "<table class=\"simpletable\">\n",
       "<tr>\n",
       "      <td></td>         <th>coef</th>     <th>std err</th>      <th>z</th>      <th>P>|z|</th>  <th>[0.025</th>    <th>0.975]</th>  \n",
       "</tr>\n",
       "<tr>\n",
       "  <th>Intercept</th> <td>   -4.5587</td> <td>    0.901</td> <td>   -5.061</td> <td> 0.000</td> <td>   -6.324</td> <td>   -2.793</td>\n",
       "</tr>\n",
       "<tr>\n",
       "  <th>hours</th>     <td>    0.9289</td> <td>    0.174</td> <td>    5.345</td> <td> 0.000</td> <td>    0.588</td> <td>    1.270</td>\n",
       "</tr>\n",
       "</table>"
      ],
      "text/plain": [
       "<class 'statsmodels.iolib.summary.Summary'>\n",
       "\"\"\"\n",
       "                 Generalized Linear Model Regression Results                  \n",
       "==============================================================================\n",
       "Dep. Variable:                 result   No. Observations:                  100\n",
       "Model:                            GLM   Df Residuals:                       98\n",
       "Model Family:                Binomial   Df Model:                            1\n",
       "Link Function:                  Logit   Scale:                          1.0000\n",
       "Method:                          IRLS   Log-Likelihood:                -34.014\n",
       "Date:                Sun, 18 Sep 2022   Deviance:                       68.028\n",
       "Time:                        19:14:00   Pearson chi2:                     84.9\n",
       "No. Iterations:                     6   Pseudo R-squ. (CS):             0.5032\n",
       "Covariance Type:            nonrobust                                         \n",
       "==============================================================================\n",
       "                 coef    std err          z      P>|z|      [0.025      0.975]\n",
       "------------------------------------------------------------------------------\n",
       "Intercept     -4.5587      0.901     -5.061      0.000      -6.324      -2.793\n",
       "hours          0.9289      0.174      5.345      0.000       0.588       1.270\n",
       "==============================================================================\n",
       "\"\"\""
      ]
     },
     "execution_count": 3,
     "metadata": {},
     "output_type": "execute_result"
    }
   ],
   "source": [
    "mod_glm.summary()"
   ]
  },
  {
   "cell_type": "code",
   "execution_count": 4,
   "id": "98296b81-65f9-49b5-a6f8-e6d04847b19b",
   "metadata": {},
   "outputs": [
    {
     "data": {
      "text/html": [
       "<table class=\"simpletable\">\n",
       "<caption>Generalized Linear Model Regression Results</caption>\n",
       "<tr>\n",
       "  <th>Dep. Variable:</th>        <td>result</td>      <th>  No. Observations:  </th>  <td>   100</td>  \n",
       "</tr>\n",
       "<tr>\n",
       "  <th>Model:</th>                  <td>GLM</td>       <th>  Df Residuals:      </th>  <td>    99</td>  \n",
       "</tr>\n",
       "<tr>\n",
       "  <th>Model Family:</th>        <td>Binomial</td>     <th>  Df Model:          </th>  <td>     0</td>  \n",
       "</tr>\n",
       "<tr>\n",
       "  <th>Link Function:</th>         <td>Logit</td>      <th>  Scale:             </th> <td>  1.0000</td> \n",
       "</tr>\n",
       "<tr>\n",
       "  <th>Method:</th>                <td>IRLS</td>       <th>  Log-Likelihood:    </th> <td> -68.994</td> \n",
       "</tr>\n",
       "<tr>\n",
       "  <th>Date:</th>            <td>Sun, 18 Sep 2022</td> <th>  Deviance:          </th> <td>  137.99</td> \n",
       "</tr>\n",
       "<tr>\n",
       "  <th>Time:</th>                <td>19:14:00</td>     <th>  Pearson chi2:      </th>  <td>  100.</td>  \n",
       "</tr>\n",
       "<tr>\n",
       "  <th>No. Iterations:</th>          <td>4</td>        <th>  Pseudo R-squ. (CS):</th> <td>3.331e-16</td>\n",
       "</tr>\n",
       "<tr>\n",
       "  <th>Covariance Type:</th>     <td>nonrobust</td>    <th>                     </th>     <td> </td>    \n",
       "</tr>\n",
       "</table>\n",
       "<table class=\"simpletable\">\n",
       "<tr>\n",
       "      <td></td>         <th>coef</th>     <th>std err</th>      <th>z</th>      <th>P>|z|</th>  <th>[0.025</th>    <th>0.975]</th>  \n",
       "</tr>\n",
       "<tr>\n",
       "  <th>Intercept</th> <td>   -0.1603</td> <td>    0.201</td> <td>   -0.799</td> <td> 0.424</td> <td>   -0.554</td> <td>    0.233</td>\n",
       "</tr>\n",
       "</table>"
      ],
      "text/plain": [
       "<class 'statsmodels.iolib.summary.Summary'>\n",
       "\"\"\"\n",
       "                 Generalized Linear Model Regression Results                  \n",
       "==============================================================================\n",
       "Dep. Variable:                 result   No. Observations:                  100\n",
       "Model:                            GLM   Df Residuals:                       99\n",
       "Model Family:                Binomial   Df Model:                            0\n",
       "Link Function:                  Logit   Scale:                          1.0000\n",
       "Method:                          IRLS   Log-Likelihood:                -68.994\n",
       "Date:                Sun, 18 Sep 2022   Deviance:                       137.99\n",
       "Time:                        19:14:00   Pearson chi2:                     100.\n",
       "No. Iterations:                     4   Pseudo R-squ. (CS):          3.331e-16\n",
       "Covariance Type:            nonrobust                                         \n",
       "==============================================================================\n",
       "                 coef    std err          z      P>|z|      [0.025      0.975]\n",
       "------------------------------------------------------------------------------\n",
       "Intercept     -0.1603      0.201     -0.799      0.424      -0.554       0.233\n",
       "==============================================================================\n",
       "\"\"\""
      ]
     },
     "execution_count": 4,
     "metadata": {},
     "output_type": "execute_result"
    }
   ],
   "source": [
    "mod_glm_null.summary()"
   ]
  },
  {
   "cell_type": "markdown",
   "id": "92e219bd-9e62-4810-99b6-328ebf18e2c4",
   "metadata": {},
   "source": [
    "### 6.4.2 피어슨 잔차"
   ]
  },
  {
   "cell_type": "markdown",
   "id": "a6d200a6-fa1f-4aef-ab2d-efb90b32af14",
   "metadata": {},
   "source": [
    "* 이항분포에서 **피어슨 잔차** \n",
    "\n",
    "    - y는 종속변수(이항확률 변수, 이 경우에는 합격여부 데이터)\n",
    "    \n",
    "    - N은 시행횟수, $\\hat{p}$은 추측한 성공확률(즉, mod_glm.predict()로 계산한 예측치)\n",
    "    \n",
    "    $$Pearson residuals = \\frac{y - N\\hat{p}}{\\sqrt{N\\hat{p} \\left ( 1 - \\hat{p} \\right)} }$$\n",
    "    \n",
    "* 하나하나의 예측 결과의 시행횟수는 당연히 1이되기 때문에 피어슨 잔차는 실질적으로 다음과 같이 계산됨\n",
    "\n",
    "    $$Pearson residuals = \\frac{y - N\\hat{p}}{\\sqrt{\\hat{p} \\left ( 1 - \\hat{p} \\right)} }$$"
   ]
  },
  {
   "cell_type": "markdown",
   "id": "c56e45d3-d4fa-46cf-a48f-1d45c1700551",
   "metadata": {},
   "source": [
    "### 6.4.3 피어슨 잔차의 해석"
   ]
  },
  {
   "cell_type": "markdown",
   "id": "9efd2d9a-efa8-4ec4-a6cb-63928852729f",
   "metadata": {},
   "source": [
    "* 피어슨 잔차의 분모에 있는 $N\\hat{p} \\left ( 1 - \\hat{p} \\right)$ 은 이항분포의 분산 값과 일치함. 그 값에 루트를 취한 것이므로 분모는 이항분포의 표준편차로 볼 수 있음"
   ]
  },
  {
   "cell_type": "markdown",
   "id": "020804a5-f5b5-4340-8768-265f3859d277",
   "metadata": {},
   "source": [
    "* 정규선형모델에서는 종속변수와 predict() 함수로 구한 예측값의 차이를 잔차로 사용함\n",
    "\n",
    "     - 피어슨 잔차는 일반 잔차를 분포의 표준편차로 나눈것으로 해석할 수 있음\n",
    "\n",
    "\n",
    "* 피어슨 잔차의 제곱합은 **피어슨 카이제곱통계량** 이라고도 부르며, 모델 적합도의 지표가 됨\n",
    "\n",
    "    - 피어슨 잔차를 피어슨 카이제곱통계량의 부호 달린 루트값으로 끌어내는 사람도 있음"
   ]
  },
  {
   "cell_type": "markdown",
   "id": "3c74bacd-98ca-408d-9795-ba92bf3485fa",
   "metadata": {},
   "source": [
    "### 6.4.4 피어슨 잔차(실습)"
   ]
  },
  {
   "cell_type": "code",
   "execution_count": 5,
   "id": "22f7f497-c4e2-4e2a-b01e-0a69cd4e4ae2",
   "metadata": {},
   "outputs": [
    {
     "data": {
      "text/plain": [
       "0   -0.102351\n",
       "1   -0.102351\n",
       "2   -0.102351\n",
       "3   -0.102351\n",
       "4   -0.102351\n",
       "5   -0.102351\n",
       "Name: result, dtype: float64"
      ]
     },
     "execution_count": 5,
     "metadata": {},
     "output_type": "execute_result"
    }
   ],
   "source": [
    "# 예측한 성공확률\n",
    "pred = mod_glm.predict()\n",
    "\n",
    "# 종속변수(시험 합격여부)\n",
    "y = test_result.result\n",
    "\n",
    "# 피어슨 잔차\n",
    "pearson_resid = (y - pred) / np.sqrt(pred * (1 - pred))\n",
    "pearson_resid.head(6)"
   ]
  },
  {
   "cell_type": "code",
   "execution_count": 6,
   "id": "0c90ca57-b4e0-4a68-aeab-a12a7e353981",
   "metadata": {},
   "outputs": [
    {
     "data": {
      "text/plain": [
       "0   -0.102351\n",
       "1   -0.102351\n",
       "2   -0.102351\n",
       "3   -0.102351\n",
       "4   -0.102351\n",
       "5   -0.102351\n",
       "dtype: float64"
      ]
     },
     "execution_count": 6,
     "metadata": {},
     "output_type": "execute_result"
    }
   ],
   "source": [
    "# 모델에서 직접 얻을 수도 있음(피어슨 잔차)\n",
    "\n",
    "mod_glm.resid_pearson.head(6)"
   ]
  },
  {
   "cell_type": "markdown",
   "id": "aa801b22-6de2-4eb6-9be8-4f28cad4f0e3",
   "metadata": {},
   "source": [
    "* **피어슨 잔차제곱합은 피어슨 카이제곱통계량이 됨**"
   ]
  },
  {
   "cell_type": "code",
   "execution_count": 7,
   "id": "ff99334c-67a9-4c91-9e72-d300dcd047a0",
   "metadata": {},
   "outputs": [
    {
     "data": {
      "text/plain": [
       "84.911"
      ]
     },
     "execution_count": 7,
     "metadata": {},
     "output_type": "execute_result"
    }
   ],
   "source": [
    "np.sum(mod_glm.resid_pearson ** 2)"
   ]
  },
  {
   "cell_type": "markdown",
   "id": "24a5571e-6b62-4fd5-97a0-6d2fceeb91ab",
   "metadata": {},
   "source": [
    "* **이 결과는 summary() 함수에도 출력되며, 아래와 같이 꺼낼 수 있음**"
   ]
  },
  {
   "cell_type": "code",
   "execution_count": 8,
   "id": "3a394020-4126-4161-bb76-7bcd7c3a60ff",
   "metadata": {},
   "outputs": [
    {
     "data": {
      "text/plain": [
       "84.911"
      ]
     },
     "execution_count": 8,
     "metadata": {},
     "output_type": "execute_result"
    }
   ],
   "source": [
    "mod_glm.pearson_chi2"
   ]
  },
  {
   "cell_type": "markdown",
   "id": "2f598ee2-6fb8-412f-a72e-40ad08a322aa",
   "metadata": {},
   "source": [
    "* **피어슨 카이제곱통계량에 대한 P-value 산출**"
   ]
  },
  {
   "cell_type": "code",
   "execution_count": 9,
   "id": "79dc98bf-bfad-4c35-b6d0-61088373a08b",
   "metadata": {},
   "outputs": [
    {
     "data": {
      "text/plain": [
       "0.825"
      ]
     },
     "execution_count": 9,
     "metadata": {},
     "output_type": "execute_result"
    }
   ],
   "source": [
    "# hours 적합 모델\n",
    "1 - stats.chi2.cdf(84.9 , 98)"
   ]
  },
  {
   "cell_type": "code",
   "execution_count": 10,
   "id": "b0a833cd-9cb9-45ea-804d-b7de22dd6406",
   "metadata": {},
   "outputs": [
    {
     "data": {
      "text/plain": [
       "0.005"
      ]
     },
     "execution_count": 10,
     "metadata": {},
     "output_type": "execute_result"
    }
   ],
   "source": [
    "# Null 모델\n",
    "1 - stats.chi2.cdf(137.99 , 98)"
   ]
  },
  {
   "cell_type": "markdown",
   "id": "4b129f6a-7a93-470e-9f52-11477d26d12b",
   "metadata": {},
   "source": [
    "* hours 적합 모델의 피어슨 카이제곱 통계량에 대한 P-value가 0.05 보다 크므로 '현 모델 ```result ~ hours```이 참이다'라는 귀무가설을 기각할 수 없음(Residual Device)\n",
    "\n",
    "* Null 모델의 피어슨 카이제곱 통계량에 대한 P-value가 0.05 보다 작으므로 'Null 모델이 참이다'의 귀무가설이 기각되며 Null 모델은 적합결여가 됨(즉, Null 모델은 알맞지 않다)(Null deviance)"
   ]
  },
  {
   "cell_type": "markdown",
   "id": "e92ab58e-fec7-449d-8887-4a2a1e347a10",
   "metadata": {},
   "source": [
    "### 6.4.5 deviance"
   ]
  },
  {
   "cell_type": "markdown",
   "id": "a620700f-dfc9-4919-898b-9c3465e4fec1",
   "metadata": {},
   "source": [
    "* **deviance** 는 모델의 적합도를 평가하는  지표\n",
    "\n",
    "    * deviance가 크면 모델이 맞지 않는다고 평가할 수 있음"
   ]
  },
  {
   "cell_type": "markdown",
   "id": "686c5166-016c-46d2-ad46-054972d2ec34",
   "metadata": {},
   "source": [
    "* 로지스틱 회귀의 로그우도 함수를 $logL(\\beta_0, \\beta_1 ; N, m)$ 이라고 할 때 계수 $\\beta_0$, $\\beta_1$을 바꿈으로써 우도가 변함\n",
    "\n",
    "    - 여기서 최대우도법을 추정한 로지스틱 회귀의 계수에 근거한 로그우도를 $logL(\\beta_{glm} ; y)$ 라고 하며,\n",
    "    \n",
    "    - 모든 합격 여부를 완전히 예측할 수 있을 때의 로그우도를 $logL(\\beta_{max};y)$ 라고 하면\n",
    "    \n",
    "    - deviance는 다음과 같이 계산할 수 있다. \n",
    "    \n",
    "    $$deviance = 2\\left[logL(\\beta_{max};y) - logL(\\beta_{glm} ; y) \\right]$$"
   ]
  },
  {
   "cell_type": "markdown",
   "id": "75bd540b-e7c0-4725-8ecc-1481422640d5",
   "metadata": {},
   "source": [
    "### 6.4.6 deviance의 해석"
   ]
  },
  {
   "cell_type": "markdown",
   "id": "f9a6ef53-7076-4908-8985-b2bb62736fca",
   "metadata": {},
   "source": [
    "* **deviance**는 잔차제곱합을 우도처럼 표현한 것\n",
    "\n",
    "    - 즉, 최대우도법의 결과와 deviance라는 손실을 최소화하도록 파라미터를 추정한 결과는 일치함\n",
    "    \n",
    "* $logL(\\beta_{max};y)$ 는 종속변수를 완전히 예측할 수 있을 때의 로그우도. 즉, 합격(1)이라면 성공확률 100%, 불합격이라면 성공확률 0%로 예측할 때의 로그 우도\n",
    "\n",
    "    - 이 값보다 로그우도를 높이는 것은 불가능하며, 여기서 차이를 측정한 것이 **deviance** 임"
   ]
  },
  {
   "cell_type": "markdown",
   "id": "d320b896-26a2-4f7a-afef-4c4a541ea85e",
   "metadata": {},
   "source": [
    "### 6.4.7 deviance와 우도비 검정"
   ]
  },
  {
   "cell_type": "markdown",
   "id": "5dfd3172-8757-44e2-9215-07bade52afc5",
   "metadata": {},
   "source": [
    "* deviance를 계산할 때 로그우도의 차이에 2를 곱함. 2를 곱한 이유는 우도비 검정을 할때 편하기 때문\n",
    "\n",
    "* deviance는 일반선형모델에서 잔차제곱합과 같은 의미를 갖는 지표\n",
    "\n",
    "    - 때문에 모델의 deviacne의 차이를 통계량으로 한 검정은 분산분석처럼 해석이 가능함\n",
    "    \n",
    "    - 이 때 deviance를 앞서와 같이 정의해두면 deviance 차이가 카이제곱분포로 불리는 분포에 점근적으로 따르게 된다는 것이 증명됨\n",
    "\n",
    "\n",
    "* **deviance의 차이를 검정하는 것** 을 **우도비 검정**이라고 함\n",
    "\n",
    "    - R언어에서는 분산분석과 우도비 검정이 같은 anova 함수로 구현됨"
   ]
  },
  {
   "cell_type": "markdown",
   "id": "ae1a48d7-2fa2-4018-b9a5-ad39e01771d4",
   "metadata": {},
   "source": [
    "### 6.4.8 deviance 잔차\n"
   ]
  },
  {
   "cell_type": "markdown",
   "id": "106e789c-6153-4c31-b3fd-5d55abe8209a",
   "metadata": {},
   "source": [
    "* 이항분포에선 **deviance 잔차** 는 deviance 잔차제곱합이 deviance가 된다는 사실로 계산함\n",
    "\n",
    "* deviance 잔차를 계산하는 코드는 아래와 같음"
   ]
  },
  {
   "cell_type": "code",
   "execution_count": 11,
   "id": "ed7e514a-9c8d-408e-9504-506cc8d0dd5a",
   "metadata": {},
   "outputs": [
    {
     "data": {
      "text/plain": [
       "0   -0.144369\n",
       "1   -0.144369\n",
       "2   -0.144369\n",
       "Name: result, dtype: float64"
      ]
     },
     "execution_count": 11,
     "metadata": {},
     "output_type": "execute_result"
    }
   ],
   "source": [
    "# 예측한 성공확률\n",
    "pred = mod_glm.predict()\n",
    "\n",
    "# 종속변수(테스트 합격여부)\n",
    "y = test_result.result\n",
    "\n",
    "# 합격여부를 완전히 예측할 수 있을 때의 로그우도와 잔차\n",
    "resid_tmp = 0 - np.log(sp.stats.binom.pmf(k = y, n = 1, p = pred))\n",
    "                       \n",
    "# deviance 잔차\n",
    "deviance_resid = np.sqrt(2 * resid_tmp)* np.sign(y - pred)\n",
    "\n",
    "# 결과 확인\n",
    "deviance_resid.head(3)"
   ]
  },
  {
   "cell_type": "markdown",
   "id": "26ab67c5-e368-49f3-8a95-11afd024bc9d",
   "metadata": {},
   "source": [
    "* deviance 잔차는 모델에서 직접 얻을 수도 있음"
   ]
  },
  {
   "cell_type": "code",
   "execution_count": 12,
   "id": "35f8787b-7ba1-48da-928e-c3baf403f465",
   "metadata": {},
   "outputs": [
    {
     "data": {
      "text/plain": [
       "0   -0.144369\n",
       "1   -0.144369\n",
       "2   -0.144369\n",
       "dtype: float64"
      ]
     },
     "execution_count": 12,
     "metadata": {},
     "output_type": "execute_result"
    }
   ],
   "source": [
    "mod_glm.resid_deviance.head(3)"
   ]
  },
  {
   "cell_type": "markdown",
   "id": "e17cba96-defa-442c-a45c-d6d9fa015362",
   "metadata": {},
   "source": [
    "* **deviance 잔차제곱합**은 **deviance**가 됨 (이 값은 summary 함수에도 출력됨)"
   ]
  },
  {
   "cell_type": "code",
   "execution_count": 13,
   "id": "566b788f-f8cb-46ba-942a-434928336a19",
   "metadata": {},
   "outputs": [
    {
     "data": {
      "text/plain": [
       "68.028"
      ]
     },
     "execution_count": 13,
     "metadata": {},
     "output_type": "execute_result"
    }
   ],
   "source": [
    "np.sum(mod_glm.resid_deviance ** 2)"
   ]
  },
  {
   "cell_type": "code",
   "execution_count": 14,
   "id": "d5dab17f-c13b-4e4a-b245-36730616a46d",
   "metadata": {},
   "outputs": [
    {
     "data": {
      "text/html": [
       "<table class=\"simpletable\">\n",
       "<caption>Generalized Linear Model Regression Results</caption>\n",
       "<tr>\n",
       "  <th>Dep. Variable:</th>        <td>result</td>      <th>  No. Observations:  </th>  <td>   100</td> \n",
       "</tr>\n",
       "<tr>\n",
       "  <th>Model:</th>                  <td>GLM</td>       <th>  Df Residuals:      </th>  <td>    98</td> \n",
       "</tr>\n",
       "<tr>\n",
       "  <th>Model Family:</th>        <td>Binomial</td>     <th>  Df Model:          </th>  <td>     1</td> \n",
       "</tr>\n",
       "<tr>\n",
       "  <th>Link Function:</th>         <td>Logit</td>      <th>  Scale:             </th> <td>  1.0000</td>\n",
       "</tr>\n",
       "<tr>\n",
       "  <th>Method:</th>                <td>IRLS</td>       <th>  Log-Likelihood:    </th> <td> -34.014</td>\n",
       "</tr>\n",
       "<tr>\n",
       "  <th>Date:</th>            <td>Sun, 18 Sep 2022</td> <th>  Deviance:          </th> <td>  68.028</td>\n",
       "</tr>\n",
       "<tr>\n",
       "  <th>Time:</th>                <td>19:14:00</td>     <th>  Pearson chi2:      </th>  <td>  84.9</td> \n",
       "</tr>\n",
       "<tr>\n",
       "  <th>No. Iterations:</th>          <td>6</td>        <th>  Pseudo R-squ. (CS):</th>  <td>0.5032</td> \n",
       "</tr>\n",
       "<tr>\n",
       "  <th>Covariance Type:</th>     <td>nonrobust</td>    <th>                     </th>     <td> </td>   \n",
       "</tr>\n",
       "</table>\n",
       "<table class=\"simpletable\">\n",
       "<tr>\n",
       "      <td></td>         <th>coef</th>     <th>std err</th>      <th>z</th>      <th>P>|z|</th>  <th>[0.025</th>    <th>0.975]</th>  \n",
       "</tr>\n",
       "<tr>\n",
       "  <th>Intercept</th> <td>   -4.5587</td> <td>    0.901</td> <td>   -5.061</td> <td> 0.000</td> <td>   -6.324</td> <td>   -2.793</td>\n",
       "</tr>\n",
       "<tr>\n",
       "  <th>hours</th>     <td>    0.9289</td> <td>    0.174</td> <td>    5.345</td> <td> 0.000</td> <td>    0.588</td> <td>    1.270</td>\n",
       "</tr>\n",
       "</table>"
      ],
      "text/plain": [
       "<class 'statsmodels.iolib.summary.Summary'>\n",
       "\"\"\"\n",
       "                 Generalized Linear Model Regression Results                  \n",
       "==============================================================================\n",
       "Dep. Variable:                 result   No. Observations:                  100\n",
       "Model:                            GLM   Df Residuals:                       98\n",
       "Model Family:                Binomial   Df Model:                            1\n",
       "Link Function:                  Logit   Scale:                          1.0000\n",
       "Method:                          IRLS   Log-Likelihood:                -34.014\n",
       "Date:                Sun, 18 Sep 2022   Deviance:                       68.028\n",
       "Time:                        19:14:00   Pearson chi2:                     84.9\n",
       "No. Iterations:                     6   Pseudo R-squ. (CS):             0.5032\n",
       "Covariance Type:            nonrobust                                         \n",
       "==============================================================================\n",
       "                 coef    std err          z      P>|z|      [0.025      0.975]\n",
       "------------------------------------------------------------------------------\n",
       "Intercept     -4.5587      0.901     -5.061      0.000      -6.324      -2.793\n",
       "hours          0.9289      0.174      5.345      0.000       0.588       1.270\n",
       "==============================================================================\n",
       "\"\"\""
      ]
     },
     "execution_count": 14,
     "metadata": {},
     "output_type": "execute_result"
    }
   ],
   "source": [
    "mod_glm.summary()"
   ]
  },
  {
   "cell_type": "markdown",
   "id": "e98f70b4-f51c-467d-86aa-b5a4ccada37a",
   "metadata": {},
   "source": [
    "* 결국 deviance는 완전모델(포화모델, saturated model)과의 차이를 나타내며 null deviance 는 독립변수가 없는 null 모델의 이탈도를 나타냄\n",
    "\n",
    "\n",
    "* 회귀 모델의 성능인 Pseudo R-squ. (CS) 값은 Deviance로부터 도출함 \n",
    "\n",
    "> **(참고)** https://datascienceschool.net/03%20machine%20learning/10.01%20%EB%A1%9C%EC%A7%80%EC%8A%A4%ED%8B%B1%20%ED%9A%8C%EA%B7%80%EB%B6%84%EC%84%9D.html"
   ]
  },
  {
   "cell_type": "markdown",
   "id": "79e3ea7d-7edc-49b0-ac5f-2c7b2584aca1",
   "metadata": {},
   "source": [
    "### 6.4.9 교차 엔트로피 오차"
   ]
  },
  {
   "cell_type": "markdown",
   "id": "8d32fdd7-acc8-4319-9c47-8414a0a4be41",
   "metadata": {},
   "source": [
    "* 머신러닝에서는 로지스틱 회귀를 **교차 엔트로피 오차**의 최소화 관점으로 설명하는 일이 자주 있음 \n",
    "\n",
    "* 이항분포의 확률질량함수\n",
    "\n",
    "   $$Bin \\left( m | N, p \\right) = _{n}\\textrm{C}_{m} \\cdot p^m \\cdot \\left(1-p \\right)^{N-m} $$"
   ]
  },
  {
   "cell_type": "markdown",
   "id": "1113c6eb-f09c-493f-a187-e0dade4b5a50",
   "metadata": {},
   "source": [
    "* 여기서 하나하나의 데이터에 대해 시행횟수 N은 언제나 1이 되므로 다음과 같이 된다. (m은 0이나 1 밖에 되지 않는다.)"
   ]
  },
  {
   "cell_type": "markdown",
   "id": "aae75107-59c5-4b82-a48f-1dc9433096a9",
   "metadata": {},
   "source": [
    "   $$Bin \\left( m | N, p \\right) = p^m \\cdot \\left(1-p \\right)^{1-m} $$"
   ]
  },
  {
   "cell_type": "markdown",
   "id": "31b185c9-e4f0-44c9-868e-bbeda58c351d",
   "metadata": {},
   "source": [
    "* 분석 사례에 맞추어서 0이나 1의 합격 여부를 $y$, 예측한 합격률을 $\\hat{p}$ 라고 함 "
   ]
  },
  {
   "cell_type": "markdown",
   "id": "5a261cb7-74ca-4292-b252-73d499a0a224",
   "metadata": {},
   "source": [
    "   $$Bin \\left( y | 1, \\hat{p} \\right) = \\hat{p}^{y} \\cdot \\left( 1- \\hat{p} \\right)^{1-y} $$"
   ]
  },
  {
   "cell_type": "markdown",
   "id": "038a1b06-263d-40dd-b534-0b3c507945bd",
   "metadata": {},
   "source": [
    "* 샘플 사이즈 T의 우도함수"
   ]
  },
  {
   "cell_type": "markdown",
   "id": "c79b769d-373a-451a-baff-2ae83f44b2b1",
   "metadata": {},
   "source": [
    "   $$\\prod_{i=1}^{T} \\hat{p_i}^{y_i} \\cdot \\left( 1- \\hat{p_i} \\right)^{1-y_i} $$"
   ]
  },
  {
   "cell_type": "markdown",
   "id": "4c416046-714b-4ffd-8429-454c1e953c6f",
   "metadata": {},
   "source": [
    "* 우도 함수에 -1을 곱하면 아래와 같으며 이를 **엔트로피 오차**라고 함"
   ]
  },
  {
   "cell_type": "markdown",
   "id": "e92427df-4b1f-480e-9e5f-6a0cf75791e4",
   "metadata": {},
   "source": [
    "$$ -\\sum_{i=1}^{T} \\left [ y_i log\\hat{p_i} + \\left ( 1-y_i \\right ) log\\left ( 1-\\hat{p_i} \\right )\\right ]$$"
   ]
  },
  {
   "cell_type": "markdown",
   "id": "28265e31-27fd-47d5-b46b-4f05f0664fd9",
   "metadata": {},
   "source": [
    "* 모집단 분포가 이항분포라고 가정한 경우 deviance와 같은 의미를가짐 \n",
    "\n",
    "* 교차 엔트로피 오차를 최소로 하는 것은 deviance를 최소로 하는 것과 동일하며, 로지스틱 회귀의 로그우도를 최대로 하는 것과 같음"
   ]
  }
 ],
 "metadata": {
  "kernelspec": {
   "display_name": "Python 3 (ipykernel)",
   "language": "python",
   "name": "python3"
  },
  "language_info": {
   "codemirror_mode": {
    "name": "ipython",
    "version": 3
   },
   "file_extension": ".py",
   "mimetype": "text/x-python",
   "name": "python",
   "nbconvert_exporter": "python",
   "pygments_lexer": "ipython3",
   "version": "3.9.12"
  }
 },
 "nbformat": 4,
 "nbformat_minor": 5
}
