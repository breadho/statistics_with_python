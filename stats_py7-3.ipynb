{
 "cells": [
  {
   "cell_type": "markdown",
   "id": "85f3ee43-b6c7-4098-9262-0a98010e6662",
   "metadata": {},
   "source": [
    "# Chapter 7. 통계학과 머신러닝"
   ]
  },
  {
   "cell_type": "markdown",
   "id": "3459d60a-7b62-4107-b97c-f1fcb7c58bba",
   "metadata": {},
   "source": [
    "## 7.4 선형모델과 신경망"
   ]
  },
  {
   "cell_type": "markdown",
   "id": "0bffa67f-2e73-4c73-bbdb-8cb6464a2388",
   "metadata": {},
   "source": [
    "* 신경망의 기본적인 구조를 소개함\n",
    "\n",
    "* 파이썬으로 구현을 하면서 선형모델과 복잡한 머신러닝을 비교"
   ]
  },
  {
   "cell_type": "markdown",
   "id": "94cf51f9-d3cf-434e-bdb6-651ee5d64fe4",
   "metadata": {},
   "source": [
    "### 7.4.1 이 절에서 다루는 예제"
   ]
  },
  {
   "cell_type": "markdown",
   "id": "39d639d2-8cd8-4d26-9e25-66b6beeb974b",
   "metadata": {},
   "source": [
    "* iris 데이터 분류"
   ]
  },
  {
   "cell_type": "markdown",
   "id": "d6d8a9ec-4088-457c-88f4-92856d7ada94",
   "metadata": {},
   "source": [
    "### 7.4.2 용어 비교"
   ]
  },
  {
   "cell_type": "markdown",
   "id": "5762915a-5da0-4ce4-b49d-9440803c2365",
   "metadata": {},
   "source": [
    "* 통계모델과 신경망 머신러닝에서 사용하는 용어 비교\n",
    "\n",
    "| 통계모델 | 머신러닝(신경망)|\n",
    "|:--------:|:---------------:|\n",
    "|독립변수  | 입력 벡터       | \n",
    "|종속변수  | 목표 벡터       |\n",
    "|계수      | 가중치          |\n",
    "|절편      | 편향            |\n"
   ]
  },
  {
   "cell_type": "markdown",
   "id": "cfa88cc7-3300-4e89-857e-b863e52ed13a",
   "metadata": {},
   "source": [
    "### 7.4.3 단순 퍼셉트론"
   ]
  },
  {
   "cell_type": "markdown",
   "id": "e49c30bb-5376-42a6-b3cd-aa85dd4ed20e",
   "metadata": {},
   "source": [
    "* 싸이킷런의 함수를 이용해 간단한 신경망을 구성\n",
    "\n",
    "    - 복잡한 모델은 Tensorflow나 PyTorch 같은 프레임워크를 사용"
   ]
  },
  {
   "cell_type": "code",
   "execution_count": 1,
   "id": "4620b5d9-7508-4032-b6e1-7eb539a92f94",
   "metadata": {},
   "outputs": [],
   "source": [
    "# 수치계산에 사용되는 라이브러리\n",
    "import numpy as np\n",
    "import pandas as pd\n",
    "import scipy as sp\n",
    "from scipy import stats\n",
    "\n",
    "# 그래프를 그리기 위한 라이브러리\n",
    "from matplotlib import pyplot as plt\n",
    "import seaborn as sns\n",
    "sns.set()\n",
    "\n",
    "# 통계모델을 추정하는데 사용하는 라이브러리\n",
    "import statsmodels.formula.api as smf\n",
    "import statsmodels.api as sm\n",
    "\n",
    "# 다층 퍼셉트론용 애플리케이션\n",
    "from sklearn.neural_network import MLPClassifier\n",
    "\n",
    "# 샘플 데이터 불러오기\n",
    "from sklearn.datasets import load_iris\n",
    "\n",
    "# 테스트 데이터와 훈련 데이터 분리\n",
    "from sklearn.model_selection import train_test_split\n",
    "\n",
    "# 데이터 표준화용 라이브러리\n",
    "from sklearn.preprocessing import StandardScaler\n",
    "\n",
    "# 표시 자릿수 지정\n",
    "%precision 3\n",
    "\n",
    "# 그래프를 주피터 노트북에 그리기 위한 설정\n",
    "%matplotlib inline"
   ]
  },
  {
   "cell_type": "markdown",
   "id": "03d4120b-d143-49d3-83df-1b1ee665324f",
   "metadata": {},
   "source": [
    "### 7.4.4 데이터 읽기와 다듬기 "
   ]
  },
  {
   "cell_type": "code",
   "execution_count": 2,
   "id": "31ae031d-3130-45aa-a83d-bc2dcddb5c74",
   "metadata": {},
   "outputs": [],
   "source": [
    "iris = load_iris()"
   ]
  },
  {
   "cell_type": "code",
   "execution_count": 3,
   "id": "617dff30-f3f9-451b-84d9-c7a470911eea",
   "metadata": {},
   "outputs": [
    {
     "data": {
      "text/plain": [
       "['sepal length (cm)',\n",
       " 'sepal width (cm)',\n",
       " 'petal length (cm)',\n",
       " 'petal width (cm)']"
      ]
     },
     "execution_count": 3,
     "metadata": {},
     "output_type": "execute_result"
    }
   ],
   "source": [
    "iris.feature_names"
   ]
  },
  {
   "cell_type": "code",
   "execution_count": 4,
   "id": "3eb76630-abcd-446e-a93f-ccaeb463809e",
   "metadata": {},
   "outputs": [
    {
     "data": {
      "text/plain": [
       "array(['setosa', 'versicolor', 'virginica'], dtype='<U10')"
      ]
     },
     "execution_count": 4,
     "metadata": {},
     "output_type": "execute_result"
    }
   ],
   "source": [
    "iris.target_names"
   ]
  },
  {
   "cell_type": "code",
   "execution_count": 5,
   "id": "0edd71e7-19c9-4819-94c1-333e41b68550",
   "metadata": {},
   "outputs": [
    {
     "name": "stdout",
     "output_type": "stream",
     "text": [
      "독립변수 행 수, 열 수 :  (100, 2)\n",
      "종속변수 행 수, 열 수 :  (100,)\n"
     ]
    }
   ],
   "source": [
    "# 일부 데이터만 추출\n",
    "X = iris.data[50:150, 0:2]\n",
    "y = iris.target[50:150]\n",
    "\n",
    "print(\"독립변수 행 수, 열 수 : \", X.shape)\n",
    "print(\"종속변수 행 수, 열 수 : \", y.shape)"
   ]
  },
  {
   "cell_type": "code",
   "execution_count": 6,
   "id": "abd9f3ff-5471-4203-bcae-d1a9e105968e",
   "metadata": {},
   "outputs": [
    {
     "name": "stdout",
     "output_type": "stream",
     "text": [
      "독립변수 행 수, 열 수 :  (75, 2)\n",
      "종속변수 행 수, 열 수 :  (75,)\n"
     ]
    }
   ],
   "source": [
    "# train 75%, test 25% 분리\n",
    "X_train, X_test, y_train, y_test = train_test_split(X, y, random_state = 2)\n",
    "\n",
    "print(\"독립변수 행 수, 열 수 : \", X_train.shape)\n",
    "print(\"종속변수 행 수, 열 수 : \", y_train.shape)"
   ]
  },
  {
   "cell_type": "markdown",
   "id": "626df71e-d36e-4a1e-9b8e-d6cc4bd6e71f",
   "metadata": {},
   "source": [
    "### 7.4.5 로지스틱 회귀"
   ]
  },
  {
   "cell_type": "markdown",
   "id": "73d2078f-0716-4b50-83fb-9c8636ae9d69",
   "metadata": {},
   "source": [
    "* 신경망과 비교를 위해 로지스틱 회귀를 이용한 분석 실시"
   ]
  },
  {
   "cell_type": "code",
   "execution_count": 7,
   "id": "a6b5bd72-6101-4e1c-ba8b-5bdf479419eb",
   "metadata": {},
   "outputs": [
    {
     "data": {
      "text/plain": [
       "array([1, 1, 2, 2, 2, 2, 1, 1, 1, 1])"
      ]
     },
     "execution_count": 7,
     "metadata": {},
     "output_type": "execute_result"
    }
   ],
   "source": [
    "# 종속변수 확인\n",
    "\n",
    "y_train[0:10]"
   ]
  },
  {
   "cell_type": "markdown",
   "id": "0a3f1793-68dc-41d4-b8b6-70a987548928",
   "metadata": {},
   "source": [
    "* 1과 2를 이용해서 서로 다른 종을 나타내고 있음. 로지스틱 회귀를 이용해서 1과 2중 어떤 종에 속하는지 자동으로 분류토록 함"
   ]
  },
  {
   "cell_type": "code",
   "execution_count": 8,
   "id": "15fc1573-4168-4747-a6ba-e7167571addf",
   "metadata": {},
   "outputs": [
    {
     "name": "stdout",
     "output_type": "stream",
     "text": [
      "   species  sepal_len  sepal_wid\n",
      "0        0        5.7        2.8\n",
      "1        0        6.6        3.0\n",
      "2        1        6.1        3.0\n"
     ]
    }
   ],
   "source": [
    "# 데이터 정리\n",
    "# 독립변수 데이터프레임\n",
    "X_train_df = pd.DataFrame(X_train, columns = [\"sepal_len\" , \"sepal_wid\"])\n",
    "\n",
    "# 종속변수 데이터프레임\n",
    "y_train_df = pd.DataFrame({\"species\": y_train - 1})\n",
    "\n",
    "# 데이터프레임 결합\n",
    "iris_train_df = pd.concat([y_train_df, X_train_df], axis = 1)\n",
    "\n",
    "# 결과 출력\n",
    "print(iris_train_df.head(3))"
   ]
  },
  {
   "cell_type": "markdown",
   "id": "ca530933-5678-46fd-8f71-61aa8a8d6724",
   "metadata": {},
   "source": [
    "* 로지스틱 모델링"
   ]
  },
  {
   "cell_type": "code",
   "execution_count": 9,
   "id": "bb015fad-93c5-4afa-9b33-31bde362629a",
   "metadata": {},
   "outputs": [],
   "source": [
    "# 모든 변수를 다 넣은 모델\n",
    "\n",
    "logi_mod_full = smf.glm(\"species ~ sepal_len + sepal_wid\", data = iris_train_df, family = sm.families.Binomial()).fit()"
   ]
  },
  {
   "cell_type": "code",
   "execution_count": 10,
   "id": "65c6e0ae-034b-4fc6-936a-5b8d3b3d9cd7",
   "metadata": {},
   "outputs": [],
   "source": [
    "# 길이만 넣은 모델 \n",
    "\n",
    "logi_mod_len = smf.glm(\"species ~ sepal_len\", data = iris_train_df, family = sm.families.Binomial()).fit()"
   ]
  },
  {
   "cell_type": "code",
   "execution_count": 11,
   "id": "96787d38-b1bd-45c4-8a57-dc4ba0055bbd",
   "metadata": {},
   "outputs": [],
   "source": [
    "# 폭만 넣은 모델 \n",
    "\n",
    "logi_mod_wid = smf.glm(\"species ~ sepal_wid\", data = iris_train_df, family = sm.families.Binomial()).fit()"
   ]
  },
  {
   "cell_type": "code",
   "execution_count": 12,
   "id": "efa4c421-5109-4473-b480-4f8f81ca2f65",
   "metadata": {},
   "outputs": [],
   "source": [
    "# Null 모델 \n",
    "\n",
    "logi_mod_null = smf.glm(\"species ~ 1\", data = iris_train_df, family = sm.families.Binomial()).fit()"
   ]
  },
  {
   "cell_type": "code",
   "execution_count": 13,
   "id": "b5ca696f-db31-4209-a627-f9085ab42429",
   "metadata": {},
   "outputs": [
    {
     "name": "stdout",
     "output_type": "stream",
     "text": [
      "full model 76.813\n",
      "len model 76.234\n",
      "wid model 92.768\n",
      "null model 105.318\n"
     ]
    }
   ],
   "source": [
    "# AIC 비교\n",
    "\n",
    "print(\"full model\" , logi_mod_full.aic.round(3))\n",
    "print(\"len model\" , logi_mod_len.aic.round(3))\n",
    "print(\"wid model\" , logi_mod_wid.aic.round(3))\n",
    "print(\"null model\" , logi_mod_null.aic.round(3))"
   ]
  },
  {
   "cell_type": "markdown",
   "id": "f1ba5d49-defb-4bb8-be04-bc90aa5b8324",
   "metadata": {},
   "source": [
    "* 길이만 이용한 모델이 폭과 길이 모두 이요한 모델보다 AIC가 낮게 나옴\n",
    "\n",
    "* 그러므로 독립변수는 꽃받침 길이 1개만 사용한 logi_mod_len을 사용"
   ]
  },
  {
   "cell_type": "code",
   "execution_count": 14,
   "id": "77a478ab-2b0c-4237-a781-e24517b0174d",
   "metadata": {},
   "outputs": [
    {
     "data": {
      "text/html": [
       "<table class=\"simpletable\">\n",
       "<tr>\n",
       "      <td></td>         <th>coef</th>     <th>std err</th>      <th>z</th>      <th>P>|z|</th>  <th>[0.025</th>    <th>0.975]</th>  \n",
       "</tr>\n",
       "<tr>\n",
       "  <th>Intercept</th> <td>  -16.4152</td> <td>    4.000</td> <td>   -4.104</td> <td> 0.000</td> <td>  -24.256</td> <td>   -8.575</td>\n",
       "</tr>\n",
       "<tr>\n",
       "  <th>sepal_len</th> <td>    2.6478</td> <td>    0.639</td> <td>    4.142</td> <td> 0.000</td> <td>    1.395</td> <td>    3.901</td>\n",
       "</tr>\n",
       "</table>"
      ],
      "text/plain": [
       "<class 'statsmodels.iolib.table.SimpleTable'>"
      ]
     },
     "execution_count": 14,
     "metadata": {},
     "output_type": "execute_result"
    }
   ],
   "source": [
    "logi_mod_len.summary().tables[1]"
   ]
  },
  {
   "cell_type": "markdown",
   "id": "d3fe711b-1c73-4958-9b84-910eabb17d25",
   "metadata": {},
   "source": [
    "* 추정된 계수를 보면 꽃받침의 길이는 양의 계수를 가지고 있고, 길이가 길수록 2번 종일 가능성이 크다는 것을 알 수 있음"
   ]
  },
  {
   "cell_type": "markdown",
   "id": "7dcaedbd-ab80-48e0-9931-7dd10aa6b114",
   "metadata": {},
   "source": [
    "* 훈련 데이터와 테스트 데이터의 적중률 확인"
   ]
  },
  {
   "cell_type": "code",
   "execution_count": 15,
   "id": "12ab39e7-0819-45cf-8e4a-8e128f616f74",
   "metadata": {},
   "outputs": [],
   "source": [
    "# 데이터 정리\n",
    "X_test_df = pd.DataFrame(X_test, columns = [\"sepal_len\", \"sepal_wid\"])\n",
    "\n",
    "# 피팅 예측\n",
    "logi_fit = logi_mod_len.fittedvalues.round(0)\n",
    "logi_pred = logi_mod_len.predict(X_test_df).round(0)\n",
    "\n",
    "# 정답수\n",
    "true_train = np.sum(logi_fit == (y_train - 1))\n",
    "true_test = np.sum(logi_pred == (y_test -1))"
   ]
  },
  {
   "cell_type": "code",
   "execution_count": 16,
   "id": "72c0d1bd-2748-47d0-9c87-8e9c543d140f",
   "metadata": {},
   "outputs": [],
   "source": [
    "# 적중률 계산\n",
    "result_train = true_train / len(y_train)\n",
    "result_test = true_test / len(y_test)"
   ]
  },
  {
   "cell_type": "code",
   "execution_count": 17,
   "id": "6fcf4895-f431-481d-bbb6-e272e5063137",
   "metadata": {},
   "outputs": [
    {
     "name": "stdout",
     "output_type": "stream",
     "text": [
      "훈련 데이터 적중률   :  0.7466666666666667\n",
      "테스트 데이터 적중률 :  0.68\n"
     ]
    }
   ],
   "source": [
    "# 결과 출력\n",
    "print(\"훈련 데이터 적중률   : \", result_train)\n",
    "print(\"테스트 데이터 적중률 : \", result_test)"
   ]
  },
  {
   "cell_type": "markdown",
   "id": "cf89efb5-2567-4e20-b28b-9ee8a4f34676",
   "metadata": {},
   "source": [
    "* 훈련 데이터와 테스트 데이터의 적중률(Accuracy)은 약 70% 전후로 나타남"
   ]
  },
  {
   "cell_type": "markdown",
   "id": "d1f99ed3-7657-4578-8430-628b0aa812b7",
   "metadata": {},
   "source": [
    "### 7.4.6 표준화"
   ]
  },
  {
   "cell_type": "markdown",
   "id": "d4d417aa-0589-4eda-9508-c86a09363fc6",
   "metadata": {},
   "source": [
    "* 신경망을 이용하려면 리지 회귀와 마찬가지로 독립변수를 표준화해야 함\n",
    "\n",
    "    - sklearn.preprocessing의 StandardScaler 함수 사용"
   ]
  },
  {
   "cell_type": "code",
   "execution_count": 18,
   "id": "257e7b44-0dbb-4c1c-b3a4-c8dcc267af77",
   "metadata": {},
   "outputs": [],
   "source": [
    "# 표준화를 위한 준비\n",
    "scaler = StandardScaler()\n",
    "scaler.fit(X_train)\n",
    "\n",
    "# 표준화 실시\n",
    "X_train_scaled = scaler.transform(X_train)\n",
    "X_test_scaled = scaler.transform(X_test)"
   ]
  },
  {
   "cell_type": "markdown",
   "id": "a00aa9e8-bce9-4a99-8173-cfab9e8a0853",
   "metadata": {},
   "source": [
    "* 표준화 실시 시 scaler.fit(X_train)의 결과를 훈련 데이터와 테스트 데이터에 적용함\n",
    "\n",
    "    - 같은 평균, 분산(표준편차)를 사용함\n",
    "\n",
    "\n",
    "* 훈련 데이터의 독립변수의 표준편차가 1인지 확인함\n",
    "\n",
    "* 훈련 데이터의 표준편차가 1로 변환되었다고 해서 테스트 데이터의 표준 편차도 1이 된다고 할 수는 없으나 훈련 데이터와 테스트 데이터에 같은 기준을 적용하는 것이 중요함"
   ]
  },
  {
   "cell_type": "code",
   "execution_count": 19,
   "id": "226b6e63-4440-4ded-9c6b-3ff521b61b58",
   "metadata": {},
   "outputs": [
    {
     "data": {
      "text/plain": [
       "array([1., 1.])"
      ]
     },
     "execution_count": 19,
     "metadata": {},
     "output_type": "execute_result"
    }
   ],
   "source": [
    "np.std(X_train_scaled, axis = 0)"
   ]
  },
  {
   "cell_type": "code",
   "execution_count": 20,
   "id": "3041c719-8f10-435f-a54b-40749c2673b3",
   "metadata": {},
   "outputs": [
    {
     "data": {
      "text/plain": [
       "array([0.74 , 0.679])"
      ]
     },
     "execution_count": 20,
     "metadata": {},
     "output_type": "execute_result"
    }
   ],
   "source": [
    "np.std(X_test_scaled, axis = 0)"
   ]
  },
  {
   "cell_type": "markdown",
   "id": "7b683e6d-0c28-49c3-94b6-16e93f3a8427",
   "metadata": {},
   "source": [
    "### 7.4.7 신경망"
   ]
  },
  {
   "cell_type": "code",
   "execution_count": 21,
   "id": "51d92201-c3d2-4c16-a2c5-23a2ee2fdc17",
   "metadata": {},
   "outputs": [
    {
     "data": {
      "text/plain": [
       "MLPClassifier(alpha=0.07, hidden_layer_sizes=(100, 100), max_iter=10000,\n",
       "              random_state=0)"
      ]
     },
     "execution_count": 21,
     "metadata": {},
     "output_type": "execute_result"
    }
   ],
   "source": [
    "# 신경망 모델링 및 정확도 산출\n",
    "\n",
    "nnet = MLPClassifier(hidden_layer_sizes = (100, 100),\n",
    "                     alpha = 0.07,\n",
    "                     max_iter = 10000,\n",
    "                     random_state = 0)\n",
    "nnet.fit(X_train_scaled , y_train)"
   ]
  },
  {
   "cell_type": "code",
   "execution_count": 22,
   "id": "678613cf-1330-4efe-81fd-aa789157d95c",
   "metadata": {},
   "outputs": [
    {
     "name": "stdout",
     "output_type": "stream",
     "text": [
      "훈련 데이터 적중률 :  0.8933333333333333\n",
      "테스트 데이터 적중률 :  0.68\n"
     ]
    }
   ],
   "source": [
    "# 정확도\n",
    "print(\"훈련 데이터 적중률 : \" , nnet.score(X_train_scaled, y_train))\n",
    "print(\"테스트 데이터 적중률 : \", nnet.score(X_test_scaled, y_test))"
   ]
  },
  {
   "cell_type": "markdown",
   "id": "5bde3827-3661-4176-a03c-4af128053478",
   "metadata": {},
   "source": [
    "* MLPClassifier 함수를 이용 간단한 신경망 모형을 구축해 봄 \n",
    "\n",
    "    - hidden_layer_size = (100, 100) 이라고 지정해서 은닉층을 2층으로 하여 각각의 은닉층에 100개의 유닛을 배치함\n",
    "    \n",
    "    - alpha = 0.07로 하여 정규화의 강도를 지정함\n",
    "    \n",
    "    - max_iter = 10000으로 지정하여 파라미터 추정을 위한 반복을 몇 번이나 할 지 설정함\n",
    "    \n",
    "    - random_state = 0 으로 난수를 고정함 \n",
    "    \n",
    "    - 활성화 함수는 ReLU, Optimization은 Adam (디폴트 값 이용)"
   ]
  },
  {
   "cell_type": "markdown",
   "id": "2f12852a-37a1-44d8-a9b5-59c920845d18",
   "metadata": {},
   "source": [
    "* 학습 데이터의 피팅 정확도는 증가하였지만 테스트 데이터에 대한 정확도는 로지스틱 회귀 모델과 동일함"
   ]
  },
  {
   "cell_type": "markdown",
   "id": "72b230c6-d4ad-464e-a7b9-e857708f9b45",
   "metadata": {},
   "source": [
    "### 7.4.8 선형모델의 장점과 신경망의 장점"
   ]
  },
  {
   "cell_type": "markdown",
   "id": "c23ada59-1172-49c6-9e01-ac61cfacc4c6",
   "metadata": {},
   "source": [
    "* 신경망 모델의 구조를 배울 때, '신경망 모델은 선형모델을 보다 복잡하게 확장한 것'이라고 설명\n",
    "\n",
    "    - 선형모델로는 표현할 수 없는 복잡한 데이터도 신경망이라면 잘 모델링 할 수 있을 가능성이 커짐 -> 그래서 딥러닝의 시대가 열림\n",
    "\n",
    "\n",
    "* 주의할 점은 어느 한 쪽이 우수하다고 하기 보다는 데이터나 목적에 따라서 적합한 분석 방법을 정하는 것이 중요\n",
    "\n",
    "* 각 모델의 기본이 되는 이론을 배우는 것이 장단점을 외워서 적용하는 방법보다 지름길이 될 수 있음"
   ]
  },
  {
   "cell_type": "markdown",
   "id": "4f8acb46-1b5a-44c6-b7f6-0e7ae76ae529",
   "metadata": {},
   "source": [
    "## 7.5 Next Step"
   ]
  },
  {
   "cell_type": "markdown",
   "id": "6ad53ad8-42b6-4162-af3e-ae74075576f3",
   "metadata": {},
   "source": [
    "* 이 책의 저자는 독자가 앞으로 어떤 공부를 하면 좋을지 대략적인 방침을 제시해 줌"
   ]
  },
  {
   "cell_type": "markdown",
   "id": "27ed9392-c6eb-4c1a-a42c-917edc6a6205",
   "metadata": {},
   "source": [
    "### 7.5.1 수리적인 측면 배우기"
   ]
  },
  {
   "cell_type": "markdown",
   "id": "5635a1b6-393e-49a2-8c7d-5a17f84c2e6a",
   "metadata": {},
   "source": [
    "* 본 책에서는 파라미터 추정을 위한 알고리즘 등은 과감하게 그 내용을 생략함\n",
    "\n",
    "    - 앞으로 복잡한  내용을 이해하기 위해서는 수식으로 된 표현을 읽어낼 수 있는 기술이 필요함\n",
    "\n",
    "\n",
    "* 집합 -> 미적분 -> 선형대수 순으로 제시함 "
   ]
  },
  {
   "cell_type": "markdown",
   "id": "11f84c78-6928-4018-8213-65590abb82b8",
   "metadata": {},
   "source": [
    "### 7.5.2 고전 통계학 입문 배우기"
   ]
  },
  {
   "cell_type": "markdown",
   "id": "fe7932d3-1627-4654-a860-1d9a55457948",
   "metadata": {},
   "source": [
    "* 고전적인 통계학 입문서에서는 대략 아래 내용을 배우게 됨\n",
    "\n",
    "    1. 표본과 모집단, 확률변수와 확률분포의 관계\n",
    "    \n",
    "    2. 기술통계\n",
    "    \n",
    "    3. 신뢰구간\n",
    "    \n",
    "    4. 통계적가설검정"
   ]
  },
  {
   "cell_type": "markdown",
   "id": "e42ae7c0-1caf-4447-9eca-0fa72999eea2",
   "metadata": {},
   "source": [
    "### 7.5.3 통계모델 배우기"
   ]
  },
  {
   "cell_type": "markdown",
   "id": "144585c4-eddc-4bd1-9818-e8b51546ba9f",
   "metadata": {},
   "source": [
    "* 일반선형모델은 현대 통계학의 첫걸음이 됨\n",
    "\n",
    "* 이와 함께 베이즈 통계, 시계열 분석으로 확장"
   ]
  },
  {
   "cell_type": "markdown",
   "id": "ff4c9eff-cbca-4a92-8fe4-3b98a924369c",
   "metadata": {},
   "source": [
    "### 7.5.4 머신러닝 배우기"
   ]
  },
  {
   "cell_type": "markdown",
   "id": "6c6110ed-77eb-43f9-bc63-21023c27bb53",
   "metadata": {},
   "source": [
    "* 머신러닝 특히 지도학습을 배울 때는 예측 정확도를 높이기 위해 다양한 방법을 배움\n",
    "\n",
    "    - 정규화, 데이터 전처리, 독립변수 차원 축소, 변수 간 조합을 통한 파생변수 생성 등"
   ]
  },
  {
   "cell_type": "markdown",
   "id": "d5968f38-ac9e-4b06-a402-2f86e78aa101",
   "metadata": {},
   "source": [
    "### 7.5.5 모델 평가 방법 배우기"
   ]
  },
  {
   "cell_type": "markdown",
   "id": "0d15cc2e-b46b-4769-a719-ca75b785b952",
   "metadata": {},
   "source": [
    "* 머신 러닝은 심층학습, 그래디언트 부스팅, 서포트 벡터 머신 등 여러 모델이 있음 \n",
    "\n",
    "    - 이들 모델 간의 성능 평가 방법을 배워야 비교하여 적절한 모델을 선택할 수 있음\n",
    "    \n",
    "    - 머신러닝에서는 주로 일반화 오차의 추정과 평가가 주요 작업이 됨\n",
    "    \n",
    "    - AIC 등의 편리한 기준이 없는 경우가 보통이며, 교차 검증법 등이 자주 이용됨"
   ]
  },
  {
   "cell_type": "markdown",
   "id": "4ad59225-0ac6-452d-9abb-2c9965349dc5",
   "metadata": {},
   "source": [
    "### 7.5.6 데이터 과학"
   ]
  },
  {
   "cell_type": "markdown",
   "id": "360ebe44-40e7-43d2-ae3c-e2cb13107fbe",
   "metadata": {},
   "source": [
    "* 데이터 과학이란 데이터의 취득과 관리 그리고 의사결정에 활용하는 등 그 내용은 다방면에 걸쳐 있음\n",
    "\n",
    "* 이 책은 파이썬을 이용한 데이터 과학의 가장 기초적인 이론을 다루는 것을 목적으로 기획되었으며, 기초를 이해하는 것이 더 어려울지도 모르나 기초가 튼튼하면 바뀌는 라이브러리에 잘 적응하고 대응할 수 있음\n",
    "\n",
    "* **기초 이론은 배신 당하지 않고 오래 사용할 수 있는 도구**라는 점을 강조함"
   ]
  },
  {
   "cell_type": "markdown",
   "id": "cd55e09e-6e64-4b45-b375-f96501827253",
   "metadata": {},
   "source": [
    "# **소감**"
   ]
  },
  {
   "cell_type": "markdown",
   "id": "5ba4378f-6015-402b-9cfb-6d018ea5d81d",
   "metadata": {},
   "source": [
    "파이썬을 활용하여 전반적인 통계학 부분을 정리해 볼 수 있는 좋은 책이다. \n",
    "\n",
    "데이터 분석을 얕게 해본 사람들은 통계학이 다루는 부분의 중요성을 간과하는 편인데, 저자는 그런 점에 주의를 기울이며 기초적인 내용을 차근히 잘 설명해 주어 좋았다.\n",
    "\n",
    "이 책을 정리하고 나니 예전에 PPT로 그려놓았던 '데이터 과학자의 역할'에 대한 장표가 생각났다.\n",
    "\n",
    "넓은 스펙트럼을 담당하고 수행해야 하는 데이터 과학자가 오랜만에 통계학에 대해 정리해 보고 싶을 때, 참 좋을 책이라 생각된다.\n",
    "\n",
    "![image2.png](drawings/data_science1.png)\n",
    "\n",
    "![image2.png](drawings/data_science2.png)"
   ]
  }
 ],
 "metadata": {
  "kernelspec": {
   "display_name": "Python 3 (ipykernel)",
   "language": "python",
   "name": "python3"
  },
  "language_info": {
   "codemirror_mode": {
    "name": "ipython",
    "version": 3
   },
   "file_extension": ".py",
   "mimetype": "text/x-python",
   "name": "python",
   "nbconvert_exporter": "python",
   "pygments_lexer": "ipython3",
   "version": "3.9.12"
  }
 },
 "nbformat": 4,
 "nbformat_minor": 5
}
