{
 "cells": [
  {
   "cell_type": "markdown",
   "id": "39edd6ef-876f-4450-8929-fa99342d83ce",
   "metadata": {},
   "source": [
    "# Chapter 6. 일반선형모델"
   ]
  },
  {
   "cell_type": "markdown",
   "id": "4e8c7883-9f94-4987-8996-951332aebad9",
   "metadata": {},
   "source": [
    "## 6.5 포아송 회귀"
   ]
  },
  {
   "cell_type": "markdown",
   "id": "74246281-2e3c-4290-bc36-3991aa56cdc6",
   "metadata": {},
   "source": [
    "* 이 절에서는 포아송 회귀를 알아보고 파이선을 이용한 실천적 분석 방법을 설명함\n",
    "\n",
    "    * 분석 순서는 로지스틱 회귀와 크게 다르지 않음\n",
    "\n",
    "\n",
    "* **포아송 회귀** 란 확률분포에 포아송 분포를 사용하고, 링크함수에 로그함수를 사용한 일반 선형 모델임\n",
    "\n",
    "    * 독립변수는 여러 개 있어도 상관없고, 연속형과 카테고리형이 혼재되어 있어도 됨"
   ]
  },
  {
   "cell_type": "markdown",
   "id": "86e69dd5-43ed-425c-84ca-67b66f8a41c7",
   "metadata": {},
   "source": [
    "### 6.5.1 이 절의 예제"
   ]
  },
  {
   "cell_type": "markdown",
   "id": "a4ecbfac-752c-47d3-8f05-3328c9d824c9",
   "metadata": {},
   "source": [
    "* 이 절의 예제에서는 맥주 판매 개수를 예측\n",
    "\n",
    "* 기온에 의해 판매 개수가 바뀐다는 구조를 수리모델로 표현하면 선형예측자는 아래와 같아짐\n",
    "\n",
    "$$\\beta_0 + \\beta_1 \\times 기온 \\left(^{\\circ}C\\right)$$"
   ]
  },
  {
   "cell_type": "markdown",
   "id": "5310a5fd-41cd-42b9-8c58-6f91a22c05f4",
   "metadata": {},
   "source": [
    "### 6.5.2 포아송 회귀의 구조"
   ]
  },
  {
   "cell_type": "markdown",
   "id": "6ba77db8-0f45-4c79-baf5-27ab8debbee5",
   "metadata": {},
   "source": [
    "- 링크함수에 로그함수를 사용하면 맥주 판매 개수와 기온의 관계는 다음과 같이 됨"
   ]
  },
  {
   "cell_type": "markdown",
   "id": "39bd4481-08a7-44f0-8e05-700172e03772",
   "metadata": {},
   "source": [
    "$$ log\\left[ 맥주 판매 개수 \\right] = \\beta_0 + \\beta_1 \\times 기온 \\left(^{\\circ}C\\right) $$\n",
    "\n",
    "$$ 맥주 \\, 판매 \\, 개수 = exp \\left[\\beta_0 + \\beta_1 \\times 기온 \\left(^{\\circ}C\\right) \\right]$$"
   ]
  },
  {
   "cell_type": "markdown",
   "id": "64ea1169-5e51-4b33-9251-7b21aaae9050",
   "metadata": {},
   "source": [
    "* 실제 맥주 판매 데이터를 얻었다고 할 때, 기온이 맥주 판매 개수에 영향을 주는지 조사 "
   ]
  },
  {
   "cell_type": "markdown",
   "id": "f7ef67f8-b7ea-49c3-ae4e-760a74b7db19",
   "metadata": {},
   "source": [
    "* 맥주 판매 개수Y는 강도 $\\lambda$ (평균값의 푸아송 분포를 따를 것이라고 예상)"
   ]
  },
  {
   "cell_type": "markdown",
   "id": "32ee55a7-63c7-457c-bed6-4f006b3211dd",
   "metadata": {},
   "source": [
    "$$ 맥주 \\, 판매 \\, 개수 : Y ~ Pois\\left(y| exp \\left[\\beta_0 + \\beta_1 \\times 기온 \\left(^{\\circ}C\\right) \\right] \\right)$$"
   ]
  },
  {
   "cell_type": "markdown",
   "id": "3ce22814-8b8f-473d-ad6a-9e8e73546545",
   "metadata": {},
   "source": [
    "$$ Pois\\left(y| \\lambda \\right) = \\frac{e^{-\\lambda} \\cdot \\lambda^{y}}{y!} $$"
   ]
  },
  {
   "cell_type": "markdown",
   "id": "bd95f251-379c-4d25-ab82-0c97d345d569",
   "metadata": {},
   "source": [
    "### 6.5.3 분석 준비"
   ]
  },
  {
   "cell_type": "code",
   "execution_count": 1,
   "id": "cc8ae4c2-a385-494c-88b3-e61fb9fb8d9a",
   "metadata": {},
   "outputs": [],
   "source": [
    "# 수치계산에 사용되는 라이브러리\n",
    "import numpy as np\n",
    "import pandas as pd\n",
    "import scipy as sp\n",
    "from scipy import stats\n",
    "\n",
    "# 그래프를 그리기 위한 라이브러리\n",
    "from matplotlib import pyplot as plt\n",
    "import seaborn as sns\n",
    "sns.set()\n",
    "\n",
    "# 통계모델을 추정하는데 사용하는 라이브러리\n",
    "import statsmodels.formula.api as smf\n",
    "import statsmodels.api as sm\n",
    "\n",
    "# 표시 자릿수 지정\n",
    "%precision 3\n",
    "\n",
    "# 그래프를 주피터 노트북에 그리기 위한 설정\n",
    "%matplotlib inline"
   ]
  },
  {
   "cell_type": "code",
   "execution_count": 2,
   "id": "4f045109-6a89-4eac-a247-e2006e86ac76",
   "metadata": {},
   "outputs": [
    {
     "name": "stdout",
     "output_type": "stream",
     "text": [
      "   beer_number  temperature\n",
      "0            6         17.5\n",
      "1           11         26.6\n",
      "2            2          5.0\n"
     ]
    }
   ],
   "source": [
    "# 데이터 불러오기 \n",
    "beer = pd.read_csv(\"py_source/6-5-1-poisson-regression.csv\")\n",
    "print(beer.head(3))"
   ]
  },
  {
   "cell_type": "markdown",
   "id": "f3218cf8-2d52-4718-a179-2002fcd5d73d",
   "metadata": {},
   "source": [
    "### 6.5.4 포아송 회귀(실습)"
   ]
  },
  {
   "cell_type": "markdown",
   "id": "cace0db8-638e-4cb9-bc9c-1d03b4ca1271",
   "metadata": {},
   "source": [
    "* 포아송 회귀모델 추정"
   ]
  },
  {
   "cell_type": "code",
   "execution_count": 3,
   "id": "70cdb73a-4852-42b0-82dd-f58626279cac",
   "metadata": {},
   "outputs": [],
   "source": [
    "mod_pois = smf.glm(\"beer_number ~ temperature\", beer, family = sm.families.Poisson()).fit()"
   ]
  },
  {
   "cell_type": "code",
   "execution_count": 4,
   "id": "ba0fc609-1848-473e-a35e-bc3fbd0c472b",
   "metadata": {},
   "outputs": [
    {
     "data": {
      "text/html": [
       "<table class=\"simpletable\">\n",
       "<caption>Generalized Linear Model Regression Results</caption>\n",
       "<tr>\n",
       "  <th>Dep. Variable:</th>      <td>beer_number</td>   <th>  No. Observations:  </th>  <td>    30</td> \n",
       "</tr>\n",
       "<tr>\n",
       "  <th>Model:</th>                  <td>GLM</td>       <th>  Df Residuals:      </th>  <td>    28</td> \n",
       "</tr>\n",
       "<tr>\n",
       "  <th>Model Family:</th>         <td>Poisson</td>     <th>  Df Model:          </th>  <td>     1</td> \n",
       "</tr>\n",
       "<tr>\n",
       "  <th>Link Function:</th>          <td>Log</td>       <th>  Scale:             </th> <td>  1.0000</td>\n",
       "</tr>\n",
       "<tr>\n",
       "  <th>Method:</th>                <td>IRLS</td>       <th>  Log-Likelihood:    </th> <td> -57.672</td>\n",
       "</tr>\n",
       "<tr>\n",
       "  <th>Date:</th>            <td>Sun, 18 Sep 2022</td> <th>  Deviance:          </th> <td>  5.1373</td>\n",
       "</tr>\n",
       "<tr>\n",
       "  <th>Time:</th>                <td>19:13:29</td>     <th>  Pearson chi2:      </th>  <td>  5.40</td> \n",
       "</tr>\n",
       "<tr>\n",
       "  <th>No. Iterations:</th>          <td>4</td>        <th>  Pseudo R-squ. (CS):</th>  <td>0.9708</td> \n",
       "</tr>\n",
       "<tr>\n",
       "  <th>Covariance Type:</th>     <td>nonrobust</td>    <th>                     </th>     <td> </td>   \n",
       "</tr>\n",
       "</table>\n",
       "<table class=\"simpletable\">\n",
       "<tr>\n",
       "       <td></td>          <th>coef</th>     <th>std err</th>      <th>z</th>      <th>P>|z|</th>  <th>[0.025</th>    <th>0.975]</th>  \n",
       "</tr>\n",
       "<tr>\n",
       "  <th>Intercept</th>   <td>    0.4476</td> <td>    0.199</td> <td>    2.253</td> <td> 0.024</td> <td>    0.058</td> <td>    0.837</td>\n",
       "</tr>\n",
       "<tr>\n",
       "  <th>temperature</th> <td>    0.0761</td> <td>    0.008</td> <td>    9.784</td> <td> 0.000</td> <td>    0.061</td> <td>    0.091</td>\n",
       "</tr>\n",
       "</table>"
      ],
      "text/plain": [
       "<class 'statsmodels.iolib.summary.Summary'>\n",
       "\"\"\"\n",
       "                 Generalized Linear Model Regression Results                  \n",
       "==============================================================================\n",
       "Dep. Variable:            beer_number   No. Observations:                   30\n",
       "Model:                            GLM   Df Residuals:                       28\n",
       "Model Family:                 Poisson   Df Model:                            1\n",
       "Link Function:                    Log   Scale:                          1.0000\n",
       "Method:                          IRLS   Log-Likelihood:                -57.672\n",
       "Date:                Sun, 18 Sep 2022   Deviance:                       5.1373\n",
       "Time:                        19:13:29   Pearson chi2:                     5.40\n",
       "No. Iterations:                     4   Pseudo R-squ. (CS):             0.9708\n",
       "Covariance Type:            nonrobust                                         \n",
       "===============================================================================\n",
       "                  coef    std err          z      P>|z|      [0.025      0.975]\n",
       "-------------------------------------------------------------------------------\n",
       "Intercept       0.4476      0.199      2.253      0.024       0.058       0.837\n",
       "temperature     0.0761      0.008      9.784      0.000       0.061       0.091\n",
       "===============================================================================\n",
       "\"\"\""
      ]
     },
     "execution_count": 4,
     "metadata": {},
     "output_type": "execute_result"
    }
   ],
   "source": [
    "mod_pois.summary()"
   ]
  },
  {
   "cell_type": "code",
   "execution_count": 5,
   "id": "7997eaa8-4a1b-4a57-9312-d9a24795c690",
   "metadata": {},
   "outputs": [
    {
     "data": {
      "text/plain": [
       "1.000"
      ]
     },
     "execution_count": 5,
     "metadata": {},
     "output_type": "execute_result"
    }
   ],
   "source": [
    "# 피어슨 카이제곱 통계량 검정\n",
    "1 - stats.chi2.cdf(mod_pois.pearson_chi2, mod_pois.df_resid)"
   ]
  },
  {
   "cell_type": "markdown",
   "id": "3b6df200-dbd3-4a1e-aaba-5a86a0f6945f",
   "metadata": {},
   "source": [
    "* 구축 모델에 대한 피어슨 카이제곱 통계량 검정 결과 P 값이 0.05 보다 크므로 '추정 모델이 적합하다'라는 귀무가설을 기각할 수 없음(적합결여 없음)"
   ]
  },
  {
   "cell_type": "markdown",
   "id": "dc7e11b2-10ff-49fc-b20b-26b4d37ed2e2",
   "metadata": {},
   "source": [
    "### 6.5.5 모델 선택"
   ]
  },
  {
   "cell_type": "markdown",
   "id": "f6962145-f342-4cd8-99ab-d7dabec00090",
   "metadata": {},
   "source": [
    "* **AIC** 를 사용한 모델 선택"
   ]
  },
  {
   "cell_type": "code",
   "execution_count": 6,
   "id": "143e2480-e86f-404a-a1e7-3db82b458144",
   "metadata": {},
   "outputs": [],
   "source": [
    "# Null 모델 추정\n",
    "mod_pois_null = smf.glm(\"beer_number ~ 1\", data = beer, family = sm.families.Poisson()).fit()"
   ]
  },
  {
   "cell_type": "markdown",
   "id": "b20b4d0d-37c6-4086-8854-121613f8851d",
   "metadata": {},
   "source": [
    "* **AIC**를 비교하면 기온이라는 독립변수가 들어간 모델의 AIC가 작음 \n",
    "\n",
    "    - 기온 독립변수가 필요함"
   ]
  },
  {
   "cell_type": "code",
   "execution_count": 7,
   "id": "995f26f3-0843-4789-bf0d-1c03151d3fc8",
   "metadata": {},
   "outputs": [
    {
     "name": "stdout",
     "output_type": "stream",
     "text": [
      "Null 모델       :  223.363\n",
      "변수가 있는 모델:  119.343\n"
     ]
    }
   ],
   "source": [
    "print(\"Null 모델       : \" , mod_pois_null.aic.round(3))\n",
    "print(\"변수가 있는 모델: \" , mod_pois.aic.round(3))"
   ]
  },
  {
   "cell_type": "markdown",
   "id": "fb8dbcba-7835-451b-baf8-58e7a731a433",
   "metadata": {},
   "source": [
    "### 6.5.6 회귀곡선 그래프"
   ]
  },
  {
   "cell_type": "markdown",
   "id": "f8877306-ca67-4f5d-92d5-37a35ef2cb48",
   "metadata": {},
   "source": [
    "* 포아송 회귀의 경우에는 seaborn 함수로 그릴 수 없기 때문에 추정된 모델의 예측값을 산포도 위에 덧그림"
   ]
  },
  {
   "cell_type": "code",
   "execution_count": 8,
   "id": "93e158f8-ad15-4c63-ae61-b10830381f02",
   "metadata": {},
   "outputs": [
    {
     "data": {
      "text/html": [
       "<div>\n",
       "<style scoped>\n",
       "    .dataframe tbody tr th:only-of-type {\n",
       "        vertical-align: middle;\n",
       "    }\n",
       "\n",
       "    .dataframe tbody tr th {\n",
       "        vertical-align: top;\n",
       "    }\n",
       "\n",
       "    .dataframe thead th {\n",
       "        text-align: right;\n",
       "    }\n",
       "</style>\n",
       "<table border=\"1\" class=\"dataframe\">\n",
       "  <thead>\n",
       "    <tr style=\"text-align: right;\">\n",
       "      <th></th>\n",
       "      <th>beer_number</th>\n",
       "      <th>temperature</th>\n",
       "    </tr>\n",
       "  </thead>\n",
       "  <tbody>\n",
       "    <tr>\n",
       "      <th>count</th>\n",
       "      <td>30.000000</td>\n",
       "      <td>30.000000</td>\n",
       "    </tr>\n",
       "    <tr>\n",
       "      <th>mean</th>\n",
       "      <td>7.833333</td>\n",
       "      <td>18.063333</td>\n",
       "    </tr>\n",
       "    <tr>\n",
       "      <th>std</th>\n",
       "      <td>5.657362</td>\n",
       "      <td>9.169495</td>\n",
       "    </tr>\n",
       "    <tr>\n",
       "      <th>min</th>\n",
       "      <td>2.000000</td>\n",
       "      <td>5.000000</td>\n",
       "    </tr>\n",
       "    <tr>\n",
       "      <th>25%</th>\n",
       "      <td>4.000000</td>\n",
       "      <td>10.225000</td>\n",
       "    </tr>\n",
       "    <tr>\n",
       "      <th>50%</th>\n",
       "      <td>6.000000</td>\n",
       "      <td>17.200000</td>\n",
       "    </tr>\n",
       "    <tr>\n",
       "      <th>75%</th>\n",
       "      <td>11.000000</td>\n",
       "      <td>25.750000</td>\n",
       "    </tr>\n",
       "    <tr>\n",
       "      <th>max</th>\n",
       "      <td>22.000000</td>\n",
       "      <td>34.000000</td>\n",
       "    </tr>\n",
       "  </tbody>\n",
       "</table>\n",
       "</div>"
      ],
      "text/plain": [
       "       beer_number  temperature\n",
       "count    30.000000    30.000000\n",
       "mean      7.833333    18.063333\n",
       "std       5.657362     9.169495\n",
       "min       2.000000     5.000000\n",
       "25%       4.000000    10.225000\n",
       "50%       6.000000    17.200000\n",
       "75%      11.000000    25.750000\n",
       "max      22.000000    34.000000"
      ]
     },
     "execution_count": 8,
     "metadata": {},
     "output_type": "execute_result"
    }
   ],
   "source": [
    "# 변수들의 범위 확인\n",
    "beer.describe()"
   ]
  },
  {
   "cell_type": "code",
   "execution_count": 9,
   "id": "7cd1b98e-c584-4042-a25e-f0bdb256ffe8",
   "metadata": {},
   "outputs": [
    {
     "data": {
      "text/plain": [
       "[<matplotlib.lines.Line2D at 0x1c948d29340>]"
      ]
     },
     "execution_count": 9,
     "metadata": {},
     "output_type": "execute_result"
    },
    {
     "data": {
      "image/png": "[encoded data removed]",
      "text/plain": [
       "<Figure size 360x360 with 1 Axes>"
      ]
     },
     "metadata": {
      "needs_background": "light"
     },
     "output_type": "display_data"
    }
   ],
   "source": [
    "# 예측값 작성\n",
    "x_plot = np.arange(0, 37) # 기온은 5도에서 34도 사이 분포하므로 적절한 구간을 잡음\n",
    "pred = mod_pois.predict(pd.DataFrame({\"temperature\": x_plot}))\n",
    "\n",
    "# 회귀곡선을 그리지 않은 lmplot\n",
    "sns.lmplot(y = \"beer_number\", x = \"temperature\", data = beer, fit_reg = False,\n",
    "           scatter_kws = {\"color\" : \"steelblue\"})\n",
    "plt.plot(x_plot, pred, color = \"red\")"
   ]
  },
  {
   "cell_type": "markdown",
   "id": "1bbe8eec-7c2d-41f1-810c-ffc87c32551d",
   "metadata": {},
   "source": [
    "### 6.5.7 회귀계수 해석"
   ]
  },
  {
   "cell_type": "markdown",
   "id": "1c90a909-333e-4a6d-a89f-64647ebfc7bc",
   "metadata": {},
   "source": [
    "* 링크함수가 항등함수가 아닐 경우에는 획득한 회귀계수의 해석이 바뀜(로그함수를 사용한 경우의 계수 해석 방법을 확인함)\n",
    "\n",
    "* 로그의 특징은 덧셈이 곱셈이 된다는 점이 있음. \n",
    "\n",
    "    - 일반적인 모델에서는 기온이 1도 오르면 맥주 매출이 X원 증가한다는 해석이 되겠지만, 로그함수를 사용하면 기온이 1도 오르면 맥주 판매 개수가 Y배 된다는 해석이 됨"
   ]
  },
  {
   "cell_type": "code",
   "execution_count": 10,
   "id": "39726019-ff1f-4046-a726-ebf74fc65236",
   "metadata": {},
   "outputs": [
    {
     "data": {
      "text/plain": [
       "0    1.079045\n",
       "dtype: float64"
      ]
     },
     "execution_count": 10,
     "metadata": {},
     "output_type": "execute_result"
    }
   ],
   "source": [
    "# 기온이 1도일 때의 판매 개수의 기댓값\n",
    "exp_val_1 = pd.DataFrame({\"temperature\" : [1]})\n",
    "pred_1 = mod_pois.predict(exp_val_1)\n",
    "\n",
    "# 기온이 2도일 때의 판매 개수의 기댓값\n",
    "exp_val_2 = pd.DataFrame({\"temperature\" : [2]})\n",
    "pred_2 = mod_pois.predict(exp_val_2)\n",
    "\n",
    "# 기온이 1도에서 1도 오르면 판매 개수는 몇 배가 되는가?\n",
    "pred_2 / pred_1"
   ]
  },
  {
   "cell_type": "markdown",
   "id": "39ac3395-4144-4766-8dd1-a5f6afcb21e2",
   "metadata": {},
   "source": [
    "- **(결과 해석)** 기온이 1도씨 오르면 맥주 판매 개수는 약 1.08배 증가\n",
    "\n",
    "- 이는 회귀계수에 exp를 취한 값과 동일하며, **회귀계수에 exp 취한 값**이 바로 **독립변수($x$)가 1 증가할 때 발생하는 종속변수($y$)의 변화 또는 효과**라고 볼 수 있다.\n",
    "\n",
    "    - 독립변수의 영향이 곱셈이 되는 것은 해석에 있어서 매우 중요하기 때문에 반드시 기억!"
   ]
  },
  {
   "cell_type": "code",
   "execution_count": 11,
   "id": "214d659a-8840-4c4b-8a9e-88e4473c126a",
   "metadata": {},
   "outputs": [
    {
     "data": {
      "text/plain": [
       "1.079"
      ]
     },
     "execution_count": 11,
     "metadata": {},
     "output_type": "execute_result"
    }
   ],
   "source": [
    "# 회귀계수에 exp 취한 결과 확인\n",
    "\n",
    "np.exp(mod_pois.params[\"temperature\"])"
   ]
  }
 ],
 "metadata": {
  "kernelspec": {
   "display_name": "Python 3 (ipykernel)",
   "language": "python",
   "name": "python3"
  },
  "language_info": {
   "codemirror_mode": {
    "name": "ipython",
    "version": 3
   },
   "file_extension": ".py",
   "mimetype": "text/x-python",
   "name": "python",
   "nbconvert_exporter": "python",
   "pygments_lexer": "ipython3",
   "version": "3.9.12"
  }
 },
 "nbformat": 4,
 "nbformat_minor": 5
}
