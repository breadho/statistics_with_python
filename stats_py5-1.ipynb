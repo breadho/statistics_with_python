{
 "cells": [
  {
   "cell_type": "markdown",
   "id": "18abef7b-fee8-4062-bfed-6757a2d3dc4e",
   "metadata": {},
   "source": [
    "# Chapter 5. 정규선형모델"
   ]
  },
  {
   "cell_type": "markdown",
   "id": "0434f454-9d2b-409c-99dd-9a4ab9e4fd10",
   "metadata": {},
   "source": [
    "## 5.1 연속형 독립변수가 하나인 모델(단순회귀)"
   ]
  },
  {
   "cell_type": "markdown",
   "id": "320999a8-b603-40bc-b391-43d340655ae8",
   "metadata": {},
   "source": [
    "### 5.1.1 분석 준비"
   ]
  },
  {
   "cell_type": "markdown",
   "id": "a0424eb8-e719-4cb1-96e2-1c8822f8e946",
   "metadata": {},
   "source": [
    "분석에 필요한 라이브러리를 임포트하고, 표시 자릿수를 지정"
   ]
  },
  {
   "cell_type": "code",
   "execution_count": 1,
   "id": "da084af3-a441-47ef-adb6-c91593cf959d",
   "metadata": {},
   "outputs": [],
   "source": [
    "# 수치 계산에 사용하는 라이브러리\n",
    "import numpy as np\n",
    "import pandas as pd\n",
    "import scipy as sp\n",
    "from scipy import stats\n",
    "\n",
    "# 그래프를 그리기 위한 라이브러리\n",
    "from matplotlib import pyplot as plt\n",
    "import  seaborn as sns\n",
    "sns.set()\n",
    "\n",
    "# 선형모델을 추정하는 라이브러리\n",
    "# (공식문서) https://www.statsmodels.org/stable/index.html \n",
    "import statsmodels.formula.api as smf\n",
    "import statsmodels.api as sm\n",
    "\n",
    "# 표시 자릿수 지정 \n",
    "%precision 3\n",
    "\n",
    "# 그래프를 주피터 노트북에 그리기 위한 설정\n",
    "%matplotlib inline"
   ]
  },
  {
   "cell_type": "markdown",
   "id": "95398726-165f-4022-9905-98d73170970a",
   "metadata": {},
   "source": [
    "### 5.1.2 데이터 읽어 들이기와 표시"
   ]
  },
  {
   "cell_type": "markdown",
   "id": "ce6e2bec-2202-4799-a65e-7b8774e9e5d7",
   "metadata": {},
   "source": [
    "* 가공의 맥주 매상 데이터"
   ]
  },
  {
   "cell_type": "code",
   "execution_count": 2,
   "id": "862c8bd7-566d-4b51-a249-2fe66c70ef42",
   "metadata": {},
   "outputs": [
    {
     "name": "stdout",
     "output_type": "stream",
     "text": [
      "   beer  temperature\n",
      "0  45.3         20.5\n",
      "1  59.3         25.0\n",
      "2  40.4         10.0\n",
      "3  38.0         26.9\n",
      "4  37.0         15.8\n"
     ]
    }
   ],
   "source": [
    "beer = pd.read_csv(\"py_source/5-1-1-beer.csv\")\n",
    "print(beer.head())"
   ]
  },
  {
   "cell_type": "markdown",
   "id": "3777ba77-e115-42d4-ad97-be24ed5a0b85",
   "metadata": {},
   "source": [
    "* 데이터를 읽어 들이고 나서 제일 먼저 할 일은 그래프를 그리는 것\n",
    "\n",
    "* 그래프를 그리면 데이터의 특징을 알 수 있음"
   ]
  },
  {
   "cell_type": "code",
   "execution_count": 3,
   "id": "103e96c7-479a-4832-b6f5-b31c8c6d478c",
   "metadata": {},
   "outputs": [
    {
     "data": {
      "text/plain": [
       "<seaborn.axisgrid.JointGrid at 0x29811bf0100>"
      ]
     },
     "execution_count": 3,
     "metadata": {},
     "output_type": "execute_result"
    },
    {
     "data": {
      "image/png": "[encoded data removed]",
      "text/plain": [
       "<Figure size 432x432 with 3 Axes>"
      ]
     },
     "metadata": {
      "needs_background": "light"
     },
     "output_type": "display_data"
    }
   ],
   "source": [
    "sns.jointplot(x = \"temperature\", y = \"beer\", data = beer, color = 'steelblue')"
   ]
  },
  {
   "cell_type": "markdown",
   "id": "ae77478a-75b0-4e6a-9f9a-ec87a0e21d79",
   "metadata": {},
   "source": [
    "### 5.1.3 모델 구축"
   ]
  },
  {
   "cell_type": "markdown",
   "id": "16dddaa3-c4fe-48ef-a22c-e64f9e11dc3a",
   "metadata": {},
   "source": [
    "* 아래와 같은 맥주 매상 모델을 구축\n",
    "\n",
    "    - $맥주 \\, 매상 \\sim N \\left( \\beta_0 + \\beta_1 \\times 기온, \\, \\sigma^2 \\right )$\n",
    "    \n",
    "* 모델 구축 시 장점\n",
    "\n",
    "    - 현상을 해석할 수 있게 되며,\n",
    "    \n",
    "    - 예측이 가능함"
   ]
  },
  {
   "cell_type": "markdown",
   "id": "3d98362f-809e-490b-9c38-8b3082a3a479",
   "metadata": {},
   "source": [
    "### 5.1.4 statsmodels를 이용한 모델링"
   ]
  },
  {
   "cell_type": "code",
   "execution_count": 4,
   "id": "2a44bde9-d4c5-4e0b-ae97-665d1a8f8baa",
   "metadata": {},
   "outputs": [],
   "source": [
    "lm_model = smf.ols(formula = \"beer ~ temperature\" , data = beer).fit()"
   ]
  },
  {
   "cell_type": "markdown",
   "id": "098e71da-213d-481a-85e0-61802bb7a7ac",
   "metadata": {},
   "source": [
    "* ```statsmodels.formula.api``` (alias로 smf로 지정함)에서 제공하는 ols 함수를 사용\n",
    "\n",
    "* 모델의 구조를 지정하는 것은 ```formula```, 지정식은 ```종속변수 ~ 독립변수``` 형태인 ```beer ~ temperature```\n",
    "\n",
    "* 모델에 적용할 데이터는 ```data = beer```로 지정후 ```.fit()```을 호출함으로써 fittig을 실시  "
   ]
  },
  {
   "cell_type": "markdown",
   "id": "2f54e220-0dde-4542-b366-b04987eb960f",
   "metadata": {},
   "source": [
    "### 5.1.5 추정 결과 표시와 계수 검정"
   ]
  },
  {
   "cell_type": "code",
   "execution_count": 5,
   "id": "22a15e16-df41-4e2d-a89e-35910ae852de",
   "metadata": {},
   "outputs": [
    {
     "data": {
      "text/html": [
       "<table class=\"simpletable\">\n",
       "<caption>OLS Regression Results</caption>\n",
       "<tr>\n",
       "  <th>Dep. Variable:</th>          <td>beer</td>       <th>  R-squared:         </th> <td>   0.504</td>\n",
       "</tr>\n",
       "<tr>\n",
       "  <th>Model:</th>                   <td>OLS</td>       <th>  Adj. R-squared:    </th> <td>   0.486</td>\n",
       "</tr>\n",
       "<tr>\n",
       "  <th>Method:</th>             <td>Least Squares</td>  <th>  F-statistic:       </th> <td>   28.45</td>\n",
       "</tr>\n",
       "<tr>\n",
       "  <th>Date:</th>             <td>Sun, 18 Sep 2022</td> <th>  Prob (F-statistic):</th> <td>1.11e-05</td>\n",
       "</tr>\n",
       "<tr>\n",
       "  <th>Time:</th>                 <td>19:15:45</td>     <th>  Log-Likelihood:    </th> <td> -102.45</td>\n",
       "</tr>\n",
       "<tr>\n",
       "  <th>No. Observations:</th>      <td>    30</td>      <th>  AIC:               </th> <td>   208.9</td>\n",
       "</tr>\n",
       "<tr>\n",
       "  <th>Df Residuals:</th>          <td>    28</td>      <th>  BIC:               </th> <td>   211.7</td>\n",
       "</tr>\n",
       "<tr>\n",
       "  <th>Df Model:</th>              <td>     1</td>      <th>                     </th>     <td> </td>   \n",
       "</tr>\n",
       "<tr>\n",
       "  <th>Covariance Type:</th>      <td>nonrobust</td>    <th>                     </th>     <td> </td>   \n",
       "</tr>\n",
       "</table>\n",
       "<table class=\"simpletable\">\n",
       "<tr>\n",
       "       <td></td>          <th>coef</th>     <th>std err</th>      <th>t</th>      <th>P>|t|</th>  <th>[0.025</th>    <th>0.975]</th>  \n",
       "</tr>\n",
       "<tr>\n",
       "  <th>Intercept</th>   <td>   34.6102</td> <td>    3.235</td> <td>   10.699</td> <td> 0.000</td> <td>   27.984</td> <td>   41.237</td>\n",
       "</tr>\n",
       "<tr>\n",
       "  <th>temperature</th> <td>    0.7654</td> <td>    0.144</td> <td>    5.334</td> <td> 0.000</td> <td>    0.471</td> <td>    1.059</td>\n",
       "</tr>\n",
       "</table>\n",
       "<table class=\"simpletable\">\n",
       "<tr>\n",
       "  <th>Omnibus:</th>       <td> 0.587</td> <th>  Durbin-Watson:     </th> <td>   1.960</td>\n",
       "</tr>\n",
       "<tr>\n",
       "  <th>Prob(Omnibus):</th> <td> 0.746</td> <th>  Jarque-Bera (JB):  </th> <td>   0.290</td>\n",
       "</tr>\n",
       "<tr>\n",
       "  <th>Skew:</th>          <td>-0.240</td> <th>  Prob(JB):          </th> <td>   0.865</td>\n",
       "</tr>\n",
       "<tr>\n",
       "  <th>Kurtosis:</th>      <td> 2.951</td> <th>  Cond. No.          </th> <td>    52.5</td>\n",
       "</tr>\n",
       "</table><br/><br/>Notes:<br/>[1] Standard Errors assume that the covariance matrix of the errors is correctly specified."
      ],
      "text/plain": [
       "<class 'statsmodels.iolib.summary.Summary'>\n",
       "\"\"\"\n",
       "                            OLS Regression Results                            \n",
       "==============================================================================\n",
       "Dep. Variable:                   beer   R-squared:                       0.504\n",
       "Model:                            OLS   Adj. R-squared:                  0.486\n",
       "Method:                 Least Squares   F-statistic:                     28.45\n",
       "Date:                Sun, 18 Sep 2022   Prob (F-statistic):           1.11e-05\n",
       "Time:                        19:15:45   Log-Likelihood:                -102.45\n",
       "No. Observations:                  30   AIC:                             208.9\n",
       "Df Residuals:                      28   BIC:                             211.7\n",
       "Df Model:                           1                                         \n",
       "Covariance Type:            nonrobust                                         \n",
       "===============================================================================\n",
       "                  coef    std err          t      P>|t|      [0.025      0.975]\n",
       "-------------------------------------------------------------------------------\n",
       "Intercept      34.6102      3.235     10.699      0.000      27.984      41.237\n",
       "temperature     0.7654      0.144      5.334      0.000       0.471       1.059\n",
       "==============================================================================\n",
       "Omnibus:                        0.587   Durbin-Watson:                   1.960\n",
       "Prob(Omnibus):                  0.746   Jarque-Bera (JB):                0.290\n",
       "Skew:                          -0.240   Prob(JB):                        0.865\n",
       "Kurtosis:                       2.951   Cond. No.                         52.5\n",
       "==============================================================================\n",
       "\n",
       "Notes:\n",
       "[1] Standard Errors assume that the covariance matrix of the errors is correctly specified.\n",
       "\"\"\""
      ]
     },
     "execution_count": 5,
     "metadata": {},
     "output_type": "execute_result"
    }
   ],
   "source": [
    "lm_model.summary()"
   ]
  },
  {
   "cell_type": "markdown",
   "id": "c85e5920-a63f-4f9b-9916-f3283a26ba84",
   "metadata": {},
   "source": [
    "* Durbin-Watson: 잔차 자기상관성 (d ~ 2 : 잔차끼리 상관관계를 가지지 않는다. d ~ 0: 양의 상관관계, d ~ 4: 음의 상관관계)\n",
    "\n",
    "* Jarque-Bera: 잔차 정규성 (H0 : 정규분포)"
   ]
  },
  {
   "cell_type": "markdown",
   "id": "aeb2b41e-480f-4432-a15c-7d71aa04a31a",
   "metadata": {},
   "source": [
    "* coef : 모델의 계수값 ($\\beta_0$ , $\\beta_1$)\n",
    "\n",
    "* 왼쪽부터 순서대로 계수의 표준오차, t값, 계수의 값이 0이라는 귀무가설에 대한 p 값, 95% 신뢰구간에서 하측신뢰한계와 상측신뢰한계"
   ]
  },
  {
   "cell_type": "markdown",
   "id": "d86a644a-f037-45ca-ac8f-5585f5fd228c",
   "metadata": {},
   "source": [
    "### 5.1.6 summary 함수의 출력 내용 설명"
   ]
  },
  {
   "cell_type": "markdown",
   "id": "c4ae7ffd-d3ab-4232-870c-0f68ad4392bc",
   "metadata": {},
   "source": [
    "* **Dep.Variable** : 종속변수의 이름. Dep은 Depended의 약자. 종속변수라는 의미\n",
    "\n",
    "* **Model, Method** : OLS(Ordinary Least Squares, 범용최소제곱법) 사용했다는 설명\n",
    "\n",
    "* **Date, Time** : 모델을 추정한 일시\n",
    "\n",
    "* **No.Observations** : 샘플사이즈\n",
    "\n",
    "* **Df Residuals** : 샘플사이즈에서 추정된 파라미터수를 뺀 것\n",
    "\n",
    "* **DF Model** : 사용된 독립변수의 수\n",
    "\n",
    "* **Covariance Type** : 공분산 타입. 특별히 지정하지 않으면 nonrobust가 된다.\n",
    "\n",
    "* **R-squared, Adj.R-squared** : 결정계수와 자유도 조정이 끝난 결정계수\n",
    "\n",
    "* **F-statistic, Prob(F-statistic) : 분산분석 결과** , 분산분석은 5.2절 참조\n",
    "\n",
    "* **Log-Likelihood** : 최대로그우도\n",
    "\n",
    "* **AIC** : 아카이케 정보 기준\n",
    "\n",
    "* **BIC** : 베이즈 정보 기준. 정보 기준의 일종이지만 현재 본 서에서는 사용하지 않음. 세세한 부분은 사용하는 라이브러리나 버전에 따라 달라질 수 있음. 샘플사이즈, 결정계수, AIC 등을 참조하는 것만으로도 충분\n",
    "\n",
    "\n",
    "\n",
    "\n",
    "\n",
    "\n",
    "\n",
    "\n",
    "\n",
    "\n",
    "\n",
    "\n"
   ]
  },
  {
   "cell_type": "markdown",
   "id": "26673ea5-788d-4578-bfa3-62ced32be1b1",
   "metadata": {},
   "source": [
    "### 5.1.7 AIC를 이용한 모델 선택"
   ]
  },
  {
   "cell_type": "markdown",
   "id": "663544bb-e65b-4cf9-bffd-a2bb18442818",
   "metadata": {},
   "source": [
    "* AIC를 이용한 모델 선택\n",
    "\n",
    "    - 독립변수가 1개 밖에 없기 때문에 Null 모델의 AIC와 기온이라는 독립변수가 들어간 모델의 AIC를 비교\n",
    "    \n",
    "    - 1. Null 모델 구축\n",
    "    \n",
    "    - 2. 기온 변수 모델 구축 \n",
    "    \n",
    "    - 3. 각 모델의 AIC 값 비교"
   ]
  },
  {
   "cell_type": "code",
   "execution_count": 6,
   "id": "e6e47ad0-2fd2-44f3-b354-f675743f4356",
   "metadata": {},
   "outputs": [],
   "source": [
    "null_model = smf.ols(\"beer ~ 1\" , data = beer).fit()"
   ]
  },
  {
   "cell_type": "markdown",
   "id": "7f079bb1-2fe8-4430-af1a-80f75fb7b337",
   "metadata": {},
   "source": [
    "* Null 모델의 AIC 확인"
   ]
  },
  {
   "cell_type": "code",
   "execution_count": 7,
   "id": "4ffe2c2e-d2aa-48ea-a7fa-c02f2eaccf33",
   "metadata": {},
   "outputs": [
    {
     "data": {
      "text/plain": [
       "227.942"
      ]
     },
     "execution_count": 7,
     "metadata": {},
     "output_type": "execute_result"
    }
   ],
   "source": [
    "null_model.aic"
   ]
  },
  {
   "cell_type": "markdown",
   "id": "dcad55c6-6530-4178-a2cb-8e519808d506",
   "metadata": {},
   "source": [
    "* 독립변수가 있는 모델의 AIC 확인"
   ]
  },
  {
   "cell_type": "code",
   "execution_count": 8,
   "id": "1cc0efc0-f422-4427-b7f1-23eed54b3da4",
   "metadata": {},
   "outputs": [
    {
     "data": {
      "text/plain": [
       "208.909"
      ]
     },
     "execution_count": 8,
     "metadata": {},
     "output_type": "execute_result"
    }
   ],
   "source": [
    "lm_model.aic"
   ]
  },
  {
   "cell_type": "markdown",
   "id": "dc410c7f-dc31-439d-8880-47476ddbc341",
   "metadata": {},
   "source": [
    "**(AIC 계산 방법)**"
   ]
  },
  {
   "cell_type": "code",
   "execution_count": 9,
   "id": "b5b20120-0703-4655-85e5-3e80064b1abf",
   "metadata": {},
   "outputs": [
    {
     "data": {
      "text/plain": [
       "-102.455"
      ]
     },
     "execution_count": 9,
     "metadata": {},
     "output_type": "execute_result"
    }
   ],
   "source": [
    "# 추정된 모델의 로그우도 확인\n",
    "lm_model.llf"
   ]
  },
  {
   "cell_type": "code",
   "execution_count": 10,
   "id": "ccbecef1-e6e7-426a-aa4d-f9a3effea8ae",
   "metadata": {},
   "outputs": [
    {
     "data": {
      "text/plain": [
       "1.000"
      ]
     },
     "execution_count": 10,
     "metadata": {},
     "output_type": "execute_result"
    }
   ],
   "source": [
    "# 추정된 파라미터 수는 모델에 포함되어 있지 않지만, \n",
    "# 사용된 독립변수의 수는 아래 방법으로 확인 가능\n",
    "\n",
    "lm_model.df_model"
   ]
  },
  {
   "cell_type": "code",
   "execution_count": 11,
   "id": "653daa7a-24ab-47ef-a579-af266bd177b9",
   "metadata": {},
   "outputs": [
    {
     "data": {
      "text/plain": [
       "208.909"
      ]
     },
     "execution_count": 11,
     "metadata": {},
     "output_type": "execute_result"
    }
   ],
   "source": [
    "# 실제로 절편도 추정되었기 때문에 여기에 1을 더하면 추정된 파라미터의 수를 구할 수 있음\n",
    "-2 * (lm_model.llf - (lm_model.df_model + 1))"
   ]
  },
  {
   "cell_type": "markdown",
   "id": "5f6d69b5-c01f-471d-bce4-3f59e48591b2",
   "metadata": {},
   "source": [
    "**(주의)** R 언어 등 다른 소프트웨어서는 장애모수가 포함되어 AIC가 계산됨. 따라서 다른 소프트웨어나 라이브러리에서 계산된 AIC와의 직접적인 비교는 피해야 함"
   ]
  },
  {
   "cell_type": "markdown",
   "id": "eeb70838-de49-4c8e-a6dc-af93543d14e4",
   "metadata": {},
   "source": [
    "### 5.1.8 회귀직선"
   ]
  },
  {
   "cell_type": "markdown",
   "id": "cc169907-e884-4722-b981-d87801bd21a6",
   "metadata": {},
   "source": [
    "* **회귀직선** 은 모델에 의한 종속변수의 추측값을 직선으로 표시한 것. \n",
    "\n",
    "* 종속변수가 연속형 변수일 경우, 전통적으로 회귀라고 부르기 때문에 회귀라는 이름을 사용함\n",
    "\n",
    "* 비선형모델의 경우에는 **회귀곡선** 이라고도 부름"
   ]
  },
  {
   "cell_type": "markdown",
   "id": "fcd6e1e0-8dd4-4661-8b72-39d74ec2b5f0",
   "metadata": {},
   "source": [
    "### 5.1.9 seaborn을 이용한 회귀직선 그래프 그리기"
   ]
  },
  {
   "cell_type": "markdown",
   "id": "cba45ae5-8124-4d04-a4d3-ed6de5622b16",
   "metadata": {},
   "source": [
    "* ```statsmodels```를 사용하지 않아도 회귀직선 그래프를 그릴 수 있음\n",
    "\n",
    "* ```seaborn```의 ```lmplot``` 함수를 사용"
   ]
  },
  {
   "cell_type": "code",
   "execution_count": 12,
   "id": "b4a176e9-cc5b-4c75-a540-0ed15239bb92",
   "metadata": {},
   "outputs": [
    {
     "data": {
      "text/plain": [
       "<seaborn.axisgrid.FacetGrid at 0x2981894eb50>"
      ]
     },
     "execution_count": 12,
     "metadata": {},
     "output_type": "execute_result"
    },
    {
     "data": {
      "image/png": "[encoded data removed]",
      "text/plain": [
       "<Figure size 360x360 with 1 Axes>"
      ]
     },
     "metadata": {
      "needs_background": "light"
     },
     "output_type": "display_data"
    }
   ],
   "source": [
    "sns.lmplot(x = \"temperature\", y = \"beer\", data = beer,\n",
    "           scatter_kws = {\"color\" : \"steelblue\"},\n",
    "           line_kws = {\"color\" : \"red\"})"
   ]
  },
  {
   "cell_type": "markdown",
   "id": "5532ec46-6182-4f95-980b-85ee54f53fd0",
   "metadata": {},
   "source": [
    "* 산포도의 디자인은 **```scatter_kws```** 로 지정하고, 회귀직선의 디자인은 **```line_kws```** 로 지정함\n",
    "\n",
    "* 음영 부분은 회귀직선의 95% 신뢰구간"
   ]
  },
  {
   "cell_type": "markdown",
   "id": "6eb47361-d41f-4215-ba1b-1bd1fccf13a7",
   "metadata": {},
   "source": [
    "### 5.1.10 모델을 이용한 예측"
   ]
  },
  {
   "cell_type": "markdown",
   "id": "a53a3022-c07a-4427-9463-df87a047156e",
   "metadata": {},
   "source": [
    "* 모델의 계수를 추정할 수 있으므로 이를 사용하면 예측을 할 수 있음\n",
    "\n",
    "* 이를 위해 추정된 모델에 predict 함수 적용\n",
    "\n",
    "* 파라미터에 아무것도 넘기지 않으면 훈련 데이터를 사용한 값이 그대로 출력됨"
   ]
  },
  {
   "cell_type": "code",
   "execution_count": 13,
   "id": "7f681494-4fba-470d-8d30-6035ca3bfea7",
   "metadata": {},
   "outputs": [
    {
     "data": {
      "text/plain": [
       "array([50.301, 53.746, 42.264, 55.2  , 46.704, 37.825, 44.943, 54.511,\n",
       "       52.445, 41.116, 54.664, 49.23 , 53.21 , 52.445, 41.04 , 52.598,\n",
       "       45.25 , 61.783, 55.43 , 50.301, 42.418, 50.301, 51.143, 40.657,\n",
       "       66.911, 52.904, 62.854, 41.423, 62.472, 39.509])"
      ]
     },
     "execution_count": 13,
     "metadata": {},
     "output_type": "execute_result"
    }
   ],
   "source": [
    "lm_model.predict()"
   ]
  },
  {
   "cell_type": "markdown",
   "id": "488b41d0-5480-4cd3-8944-10431e691da8",
   "metadata": {},
   "source": [
    "* 기온값을 지정해서 예측할 수도 있음. 파라미터로 데이터프레임을 넘김"
   ]
  },
  {
   "cell_type": "code",
   "execution_count": 14,
   "id": "b771a767-894c-41a8-8715-e616de5ecadd",
   "metadata": {},
   "outputs": [
    {
     "data": {
      "text/plain": [
       "0    34.610215\n",
       "dtype: float64"
      ]
     },
     "execution_count": 14,
     "metadata": {},
     "output_type": "execute_result"
    }
   ],
   "source": [
    "# 기온이 0도일 때의 맥주 매상의 기댓값 계산\n",
    "\n",
    "lm_model.predict(pd.DataFrame({\"temperature\":[0]}))"
   ]
  },
  {
   "cell_type": "markdown",
   "id": "69aa2c12-da8e-4229-b40b-daa21a6da940",
   "metadata": {},
   "source": [
    "* 기온이 0도 일때는 $\\beta_0$ 값과 같아짐"
   ]
  },
  {
   "cell_type": "code",
   "execution_count": 15,
   "id": "15d6d711-0ce9-4ab6-9ee7-5d968acc96cb",
   "metadata": {},
   "outputs": [
    {
     "data": {
      "text/plain": [
       "Intercept      34.610215\n",
       "temperature     0.765428\n",
       "dtype: float64"
      ]
     },
     "execution_count": 15,
     "metadata": {},
     "output_type": "execute_result"
    }
   ],
   "source": [
    "lm_model.params"
   ]
  },
  {
   "cell_type": "markdown",
   "id": "9e65e77f-6081-41e6-95ab-c887d364a871",
   "metadata": {},
   "source": [
    "* Intercept 값과 0도 일때 예측값이 일치함"
   ]
  },
  {
   "cell_type": "markdown",
   "id": "d03f9325-b37f-4fe0-82c6-5010ea01c18a",
   "metadata": {},
   "source": [
    "* 기온이 20도 일때 맥주 매상의 기댓값 계산"
   ]
  },
  {
   "cell_type": "code",
   "execution_count": 16,
   "id": "4a09e001-795e-4641-96f8-a750b9a36357",
   "metadata": {},
   "outputs": [
    {
     "data": {
      "text/plain": [
       "0    49.918767\n",
       "dtype: float64"
      ]
     },
     "execution_count": 16,
     "metadata": {},
     "output_type": "execute_result"
    }
   ],
   "source": [
    "lm_model.predict(pd.DataFrame({\"temperature\":[20]}))"
   ]
  },
  {
   "cell_type": "markdown",
   "id": "1678ffa3-5d07-49e1-93df-af04a3f55a5e",
   "metadata": {},
   "source": [
    "* 이 값은 $\\beta_0 + \\beta_1 \\times 20 $의 계산 결과와 같음\n",
    "\n",
    "* 아래 실제 식에 대입하여 검사을 실시함"
   ]
  },
  {
   "cell_type": "code",
   "execution_count": 17,
   "id": "27a9a080-06dc-4f19-b289-0dc8ab30c290",
   "metadata": {},
   "outputs": [
    {
     "data": {
      "text/plain": [
       "49.919"
      ]
     },
     "execution_count": 17,
     "metadata": {},
     "output_type": "execute_result"
    }
   ],
   "source": [
    "beta0 = lm_model.params[0]\n",
    "beta1 = lm_model.params[1]\n",
    "temperature = 20\n",
    "\n",
    "beta0 + beta1 * temperature"
   ]
  },
  {
   "cell_type": "markdown",
   "id": "366222dd-6065-4d5d-94bd-039db36d083c",
   "metadata": {},
   "source": [
    "### 5.1.11 잔차 계산"
   ]
  },
  {
   "cell_type": "markdown",
   "id": "cdea5f36-be0c-405c-ab88-5a355ef1e94f",
   "metadata": {},
   "source": [
    "* 모델의 평가 방법은 주로 잔차를 체크해서 실시함\n",
    "\n",
    "* 정규선형모델의 경우에는 **```잔차가 '평균이 0인 정규분포'를 따르는 것```** 이므로 모델이 그 분포를 따르고 있는지 체크하게 됨\n",
    "\n",
    "* 잔차는 다음과 같이 계산함"
   ]
  },
  {
   "cell_type": "code",
   "execution_count": 18,
   "id": "4a06f938-f49b-4f1c-9516-fceb853bd4be",
   "metadata": {},
   "outputs": [
    {
     "data": {
      "text/plain": [
       "0   -5.001481\n",
       "1    5.554095\n",
       "2   -1.864491\n",
       "dtype: float64"
      ]
     },
     "execution_count": 18,
     "metadata": {},
     "output_type": "execute_result"
    }
   ],
   "source": [
    "resid = lm_model.resid\n",
    "resid.head(3)"
   ]
  },
  {
   "cell_type": "markdown",
   "id": "cdf19dc8-fe0a-4816-83e6-ec9d5ab95a3b",
   "metadata": {},
   "source": [
    "* 잔차의 계산식에 따른 잔차 계산 \n",
    "\n",
    "\n",
    "$$ residuals = y - \\hat{y} $$"
   ]
  },
  {
   "cell_type": "code",
   "execution_count": 19,
   "id": "89217022-3df8-422c-a425-1a4af6c42bdc",
   "metadata": {},
   "outputs": [],
   "source": [
    "# 예측값: lm_model.fittedvalues나 lm_model.predict() 값\n",
    "y_hat1 = lm_model.fittedvalues\n",
    "y_hat2 = lm_model.predict()\n",
    "y_hat3 = beta0 + beta1 * beer.temperature"
   ]
  },
  {
   "cell_type": "code",
   "execution_count": 20,
   "id": "40822909-ee8e-4f0c-9fdd-f7c35c7652bf",
   "metadata": {},
   "outputs": [
    {
     "data": {
      "text/plain": [
       "array([ True,  True,  True,  True,  True,  True,  True,  True,  True,\n",
       "        True,  True,  True,  True,  True,  True,  True,  True,  True,\n",
       "        True,  True,  True,  True,  True,  True,  True,  True,  True,\n",
       "        True,  True,  True])"
      ]
     },
     "execution_count": 20,
     "metadata": {},
     "output_type": "execute_result"
    }
   ],
   "source": [
    "np.array(y_hat1 == y_hat3)"
   ]
  },
  {
   "cell_type": "code",
   "execution_count": 21,
   "id": "5557fad3-2a6a-4e4d-a77d-cccd0dd1a02e",
   "metadata": {},
   "outputs": [
    {
     "data": {
      "text/plain": [
       "array([ True,  True,  True,  True,  True,  True,  True,  True,  True,\n",
       "        True,  True,  True,  True,  True,  True,  True,  True,  True,\n",
       "        True,  True,  True,  True,  True,  True,  True,  True,  True,\n",
       "        True,  True,  True])"
      ]
     },
     "execution_count": 21,
     "metadata": {},
     "output_type": "execute_result"
    }
   ],
   "source": [
    "y_hat2 == np.array(y_hat1)"
   ]
  },
  {
   "cell_type": "code",
   "execution_count": 22,
   "id": "3307e38f-4f07-48d7-991f-c4949721be3b",
   "metadata": {},
   "outputs": [
    {
     "data": {
      "text/plain": [
       "array([ True,  True,  True,  True,  True,  True,  True,  True,  True,\n",
       "        True,  True,  True,  True,  True,  True,  True,  True,  True,\n",
       "        True,  True,  True,  True,  True,  True,  True,  True,  True,\n",
       "        True,  True,  True])"
      ]
     },
     "execution_count": 22,
     "metadata": {},
     "output_type": "execute_result"
    }
   ],
   "source": [
    "y_hat2 == np.array(y_hat3)"
   ]
  },
  {
   "cell_type": "markdown",
   "id": "6b079ed8-55c7-4035-8d1e-4313ccee4a51",
   "metadata": {},
   "source": [
    "* 실제값에서 예측값을 빼면 잔차가 됨"
   ]
  },
  {
   "cell_type": "code",
   "execution_count": 23,
   "id": "44a23151-9638-47ec-a1b1-c8a32620f93d",
   "metadata": {},
   "outputs": [
    {
     "data": {
      "text/plain": [
       "0   -5.001481\n",
       "1    5.554095\n",
       "2   -1.864491\n",
       "dtype: float64"
      ]
     },
     "execution_count": 23,
     "metadata": {},
     "output_type": "execute_result"
    }
   ],
   "source": [
    "(beer.beer - y_hat3).head(3)"
   ]
  },
  {
   "cell_type": "markdown",
   "id": "29abb0a4-f6d5-40a2-89c8-9c19205159e6",
   "metadata": {},
   "source": [
    "### 5.1.12 결정계수"
   ]
  },
  {
   "cell_type": "markdown",
   "id": "95653026-70c8-46e0-b4df-65cad5f459d2",
   "metadata": {},
   "source": [
    "* summary 함수의 출력에 있는 R-squared는 결정계수라 불리는 지표\n",
    "\n",
    "* 결정계수는 가지고 있는 데이터에 대해 모델을 적용했을 때의 적합도를 평가한 지표\n",
    "\n",
    "* 결정계수를 나타내는 식\n",
    "\n",
    "    * **SST(Total Sum of Squares)** : 관측값에서 관측값의 평균(혹은 추정치의 평균)을 뺀 결과의 총합\n",
    "    \n",
    "    * **SSE(Explained Sum of Squares)** : 추정값에서 관측값의 평균(혹은 추정치의 평균)을 뺀 결과의 총합\n",
    "    \n",
    "    * **SSR(Residual Sum of Squares)** : 관측값에서 추정값을 뺀 잔차의 총합\n",
    "    \n",
    "    \n",
    "$$  R^{2} = \\frac{SSE}{SST} \\, \\quad = \\frac{SSR}{SST} $$\n",
    "\n",
    "$$ = \\frac{\\sum_{i=1}^{N} \\left( \\hat{y} - \\mu \\right)^2}{\\sum_{i=1}^{N} \\left( y - \\mu \\right)^2} \\,  = \\frac{\\sum_{i=1}^{N} \\left( y - \\hat{y} \\right)^2}{\\sum_{i=1}^{N} \\left( y - \\mu \\right)^2}$$\n",
    "\n"
   ]
  },
  {
   "cell_type": "code",
   "execution_count": 24,
   "id": "9f3b5c2e-d337-4885-bee7-3426cbad1eef",
   "metadata": {},
   "outputs": [
    {
     "data": {
      "text/plain": [
       "0.504"
      ]
     },
     "execution_count": 24,
     "metadata": {},
     "output_type": "execute_result"
    }
   ],
   "source": [
    "# 결정계수 계산\n",
    "\n",
    "mu = np.mean(beer.beer)\n",
    "y = beer.beer\n",
    "y_hat = lm_model.predict()\n",
    "\n",
    "np.sum((y_hat - mu) ** 2) / np.sum((y - mu) ** 2)"
   ]
  },
  {
   "cell_type": "code",
   "execution_count": 25,
   "id": "55b2377d-6f62-45a2-b5ff-398fa0c501ce",
   "metadata": {},
   "outputs": [
    {
     "data": {
      "text/plain": [
       "0.504"
      ]
     },
     "execution_count": 25,
     "metadata": {},
     "output_type": "execute_result"
    }
   ],
   "source": [
    "# 도출된 모델에서 결정계수 attr 추출\n",
    "\n",
    "lm_model.rsquared"
   ]
  },
  {
   "cell_type": "markdown",
   "id": "e74437b9-3675-4a53-85c5-e34afb878f92",
   "metadata": {},
   "source": [
    "* 결정계수의 정성적 의미는 전체 대비 모델이 설명하는 부분으로 전체 변동폭의 크기 vs 모델로 설명 가능한 변동폭의 비율이라고 해석할 수 있음\n",
    "\n",
    "* 다음은 잔차를 이용한 결정계수 도출"
   ]
  },
  {
   "cell_type": "code",
   "execution_count": 26,
   "id": "b79e31a5-880a-49dc-8096-157e79f9ae35",
   "metadata": {},
   "outputs": [
    {
     "data": {
      "text/plain": [
       "3277.115"
      ]
     },
     "execution_count": 26,
     "metadata": {},
     "output_type": "execute_result"
    }
   ],
   "source": [
    "np.sum((y_hat - mu) ** 2) + sum(resid ** 2)"
   ]
  },
  {
   "cell_type": "code",
   "execution_count": 27,
   "id": "34c481c5-7e42-448a-bd2a-2a3fc6edd74d",
   "metadata": {},
   "outputs": [
    {
     "data": {
      "text/plain": [
       "3277.115"
      ]
     },
     "execution_count": 27,
     "metadata": {},
     "output_type": "execute_result"
    }
   ],
   "source": [
    "np.sum((y - mu) ** 2)"
   ]
  },
  {
   "cell_type": "code",
   "execution_count": 28,
   "id": "0c543a7e-20c9-44f9-b010-c9869a2dbaf1",
   "metadata": {},
   "outputs": [
    {
     "data": {
      "text/plain": [
       "0.504"
      ]
     },
     "execution_count": 28,
     "metadata": {},
     "output_type": "execute_result"
    }
   ],
   "source": [
    "# 잔차를 이용한 결정계수 \n",
    "# SSR/SST\n",
    "\n",
    "1 - np.sum(resid ** 2) / np.sum((y - mu) ** 2)"
   ]
  },
  {
   "cell_type": "markdown",
   "id": "653d8ae9-883a-4292-bf29-5d619c297873",
   "metadata": {},
   "source": [
    "### 5.1.13 수정된 결정계수"
   ]
  },
  {
   "cell_type": "markdown",
   "id": "71babcb0-48fc-4cdb-b7ba-ddd92f35f636",
   "metadata": {},
   "source": [
    "* 독립변수가 늘어나는 것에 패널티를 적용한 결정계수를 **수정된 결정계수(Adjusted R-squared)** 라고 함\n",
    "\n",
    "* 독립변수의 수가 늘어나면 결정계수는 큰 값이 됨. 즉 독립변수가 늘어날 수록 과적합이 될 수 있으므로 아래와 같이 조정함\n",
    "\n",
    "* 수정된 결정계수의 식\n",
    "\n",
    "    * **s** : 독립변수의 수\n",
    "    \n",
    "$$ R^2 = \\frac{\\sum_{i=1}^{N} \\left( y - \\hat{y} \\right)^2 / \\left( N - s - 1 \\right)}{\\sum_{i=1}^{N} \\left( y - \\mu \\right)^2 / \\left(N -1 \\right)}$$\n"
   ]
  },
  {
   "cell_type": "code",
   "execution_count": 29,
   "id": "6b36a897-cba8-476e-9c33-b9d602b9f419",
   "metadata": {},
   "outputs": [],
   "source": [
    "# 수정항 설정\n",
    "n = len(beer.beer)\n",
    "s = 1"
   ]
  },
  {
   "cell_type": "code",
   "execution_count": 30,
   "id": "29aa6c60-769b-4fa0-b75e-0ca6830a44dd",
   "metadata": {},
   "outputs": [
    {
     "data": {
      "text/plain": [
       "0.486"
      ]
     },
     "execution_count": 30,
     "metadata": {},
     "output_type": "execute_result"
    }
   ],
   "source": [
    "# 수정된 결정계수 계산\n",
    "\n",
    "1 - (np.sum(resid** 2) / ( n - s -1)) / ((np.sum((y - mu)**2))/(n-1))"
   ]
  },
  {
   "cell_type": "code",
   "execution_count": 31,
   "id": "4f1243f5-5aaa-4d32-bb33-72b7e7e743a6",
   "metadata": {},
   "outputs": [
    {
     "data": {
      "text/plain": [
       "0.486"
      ]
     },
     "execution_count": 31,
     "metadata": {},
     "output_type": "execute_result"
    }
   ],
   "source": [
    "lm_model.rsquared_adj"
   ]
  },
  {
   "cell_type": "markdown",
   "id": "09688b97-4417-4f26-8013-03a0c1ff66c0",
   "metadata": {},
   "source": [
    "### 5.1.14 잔차 그래프"
   ]
  },
  {
   "cell_type": "markdown",
   "id": "570d57b2-86fb-4cbb-87b0-692716353384",
   "metadata": {},
   "source": [
    "* 잔차의 특징을 보는 가장 간단한 방법은 잔차의 히스토그램을 그리는 것\n",
    "\n",
    "* 히스토그램을 보고 정규분포의 특징을 갖고 있는지 확인"
   ]
  },
  {
   "cell_type": "code",
   "execution_count": 32,
   "id": "d6b2a1a0-0d13-4041-926b-013605805581",
   "metadata": {},
   "outputs": [
    {
     "name": "stderr",
     "output_type": "stream",
     "text": [
      "C:\\ProgramData\\Anaconda3\\lib\\site-packages\\seaborn\\distributions.py:2619: FutureWarning: `distplot` is a deprecated function and will be removed in a future version. Please adapt your code to use either `displot` (a figure-level function with similar flexibility) or `histplot` (an axes-level function for histograms).\n",
      "  warnings.warn(msg, FutureWarning)\n"
     ]
    },
    {
     "data": {
      "text/plain": [
       "<AxesSubplot:ylabel='Density'>"
      ]
     },
     "execution_count": 32,
     "metadata": {},
     "output_type": "execute_result"
    },
    {
     "data": {
      "image/png": "[encoded data removed]",
      "text/plain": [
       "<Figure size 432x288 with 1 Axes>"
      ]
     },
     "metadata": {
      "needs_background": "light"
     },
     "output_type": "display_data"
    }
   ],
   "source": [
    "sns.distplot(resid, color = 'steelblue')"
   ]
  },
  {
   "cell_type": "code",
   "execution_count": 33,
   "id": "c5e24f98-02c5-4c61-80e8-4928baf48588",
   "metadata": {},
   "outputs": [
    {
     "data": {
      "text/plain": [
       "<AxesSubplot:ylabel='Density'>"
      ]
     },
     "execution_count": 33,
     "metadata": {},
     "output_type": "execute_result"
    },
    {
     "data": {
      "image/png": "[encoded data removed]",
      "text/plain": [
       "<Figure size 432x288 with 1 Axes>"
      ]
     },
     "metadata": {
      "needs_background": "light"
     },
     "output_type": "display_data"
    }
   ],
   "source": [
    "sns.histplot(resid, color = 'steelblue', kde = True, stat = 'density')"
   ]
  },
  {
   "cell_type": "code",
   "execution_count": 34,
   "id": "fae88712-d2f3-4edc-8810-ea07b4f13fcc",
   "metadata": {},
   "outputs": [
    {
     "data": {
      "text/plain": [
       "<seaborn.axisgrid.FacetGrid at 0x298189dcbb0>"
      ]
     },
     "execution_count": 34,
     "metadata": {},
     "output_type": "execute_result"
    },
    {
     "data": {
      "image/png": "[encoded data removed]",
      "text/plain": [
       "<Figure size 360x360 with 1 Axes>"
      ]
     },
     "metadata": {
      "needs_background": "light"
     },
     "output_type": "display_data"
    }
   ],
   "source": [
    "sns.displot(resid, color = 'steelblue', kde = True, stat = 'density')"
   ]
  },
  {
   "cell_type": "markdown",
   "id": "5e287944-e0f2-4e6b-8975-63c152a43ba2",
   "metadata": {},
   "source": [
    "* 다음에는 X축이 적합도, Y축이 잔차인 산포도를 그림\n",
    "\n",
    "* 이 산포도가 완전 랜덤이며 상관이 없다는 것을 확인, 더불어 매우 큰 잔차(이상치)가 나오지 않는 것도 확인"
   ]
  },
  {
   "cell_type": "code",
   "execution_count": 35,
   "id": "9911c670-4c87-4dd8-a073-3e1a22e3579a",
   "metadata": {},
   "outputs": [
    {
     "name": "stderr",
     "output_type": "stream",
     "text": [
      "C:\\ProgramData\\Anaconda3\\lib\\site-packages\\seaborn\\_decorators.py:36: FutureWarning: Pass the following variables as keyword args: x, y. From version 0.12, the only valid positional argument will be `data`, and passing other arguments without an explicit keyword will result in an error or misinterpretation.\n",
      "  warnings.warn(\n"
     ]
    },
    {
     "data": {
      "text/plain": [
       "<seaborn.axisgrid.JointGrid at 0x29818f8e340>"
      ]
     },
     "execution_count": 35,
     "metadata": {},
     "output_type": "execute_result"
    },
    {
     "data": {
      "image/png": "[encoded data removed]",
      "text/plain": [
       "<Figure size 432x432 with 3 Axes>"
      ]
     },
     "metadata": {
      "needs_background": "light"
     },
     "output_type": "display_data"
    }
   ],
   "source": [
    "sns.jointplot(lm_model.fittedvalues, resid, joint_kws = {\"color\" : \"steelblue\"}, marginal_kws = {\"color\" : \"steelblue\"})"
   ]
  },
  {
   "cell_type": "code",
   "execution_count": 36,
   "id": "d6b67ac3-1afc-44be-9ba0-0de727d76a4a",
   "metadata": {},
   "outputs": [
    {
     "data": {
      "text/plain": [
       "<seaborn.axisgrid.JointGrid at 0x298190a5880>"
      ]
     },
     "execution_count": 36,
     "metadata": {},
     "output_type": "execute_result"
    },
    {
     "data": {
      "image/png": "[encoded data removed]",
      "text/plain": [
       "<Figure size 432x432 with 3 Axes>"
      ]
     },
     "metadata": {
      "needs_background": "light"
     },
     "output_type": "display_data"
    }
   ],
   "source": [
    "# seaborn의 jointplot의 첫번째 인수는 data(pandas의 DataFrame 또는 numpy의 ndarray)로 각각의 벡터 데이터를 입력하고자 한다면 \n",
    "# 위치 인수(position argument)로 명시해 주는 것이 좋음(에러 발생 없음)\n",
    "\n",
    "sns.jointplot(x = lm_model.fittedvalues, y = resid, joint_kws = {\"color\" : \"steelblue\"}, marginal_kws = {\"color\" : \"steelblue\"})"
   ]
  },
  {
   "cell_type": "markdown",
   "id": "e9155d93-8685-49eb-8935-b71d8701851f",
   "metadata": {},
   "source": [
    "### 5.1.15 Q-Q 플롯"
   ]
  },
  {
   "cell_type": "markdown",
   "id": "49531eec-6186-451d-b07f-e61ad22e8f8a",
   "metadata": {},
   "source": [
    "* **(원리)** 정규분포의 퍼센트 포인트를 사용하면 이론상의 분위점(quantile)을 얻을 수 있고 이론상의 분위점과 실제 데이터의 분위점을 비교\n",
    "\n",
    "    - 이론상의 분위점과 실제 데이터의 분위점을 비교하는 것으로서 잔차가 정규분포에 근접하는지 아닌지 시각적으로 판단할 수 있음\n",
    "\n",
    "    - statsmodels.api 의 qqplot을 이용하여 Q-Q 플랏을 그릴 수 있음\n",
    "\n",
    "        - ```lins = \"s\"``` 인수를 이용하여 잔차가 정규분포를 따르면 위치하는 기준선(line)을 표시할 수 있음\n",
    "        "
   ]
  },
  {
   "cell_type": "code",
   "execution_count": 37,
   "id": "1729ccab-b263-4de6-a3c2-eae0dde03f56",
   "metadata": {},
   "outputs": [
    {
     "data": {
      "image/png": "[encoded data removed]",
      "text/plain": [
       "<Figure size 432x288 with 1 Axes>"
      ]
     },
     "metadata": {
      "needs_background": "light"
     },
     "output_type": "display_data"
    }
   ],
   "source": [
    "fig = sm.qqplot(resid, line = \"s\")"
   ]
  },
  {
   "cell_type": "code",
   "execution_count": 38,
   "id": "b7205f0f-9b15-42e1-87a2-edec406dd896",
   "metadata": {},
   "outputs": [
    {
     "data": {
      "text/plain": [
       "3    -17.200217\n",
       "21   -14.501481\n",
       "12    -9.710106\n",
       "4     -9.703971\n",
       "10    -7.664418\n",
       "dtype: float64"
      ]
     },
     "execution_count": 38,
     "metadata": {},
     "output_type": "execute_result"
    }
   ],
   "source": [
    "# 1. sorting: 우선 데이터를 작은 것이 앞에 오게 끔 정렬함\n",
    "\n",
    "resid_sort = resid.sort_values()\n",
    "resid_sort.head()"
   ]
  },
  {
   "cell_type": "code",
   "execution_count": 39,
   "id": "ffeb935c-0568-41f2-8495-4d3565fc2df8",
   "metadata": {},
   "outputs": [
    {
     "data": {
      "text/plain": [
       "0.032"
      ]
     },
     "execution_count": 39,
     "metadata": {},
     "output_type": "execute_result"
    }
   ],
   "source": [
    "# 2. 퍼센트 포인트 시작점(누적확률) 계산 (1/(n(관측치 수)+1))\n",
    "\n",
    "1/31"
   ]
  },
  {
   "cell_type": "code",
   "execution_count": 40,
   "id": "ff170f77-e02a-46fa-9df2-683a18c2f611",
   "metadata": {},
   "outputs": [
    {
     "data": {
      "text/plain": [
       "array([0.032, 0.065, 0.097, 0.129, 0.161, 0.194, 0.226, 0.258, 0.29 ,\n",
       "       0.323, 0.355, 0.387, 0.419, 0.452, 0.484, 0.516, 0.548, 0.581,\n",
       "       0.613, 0.645, 0.677, 0.71 , 0.742, 0.774, 0.806, 0.839, 0.871,\n",
       "       0.903, 0.935, 0.968])"
      ]
     },
     "execution_count": 40,
     "metadata": {},
     "output_type": "execute_result"
    }
   ],
   "source": [
    "# 3. 30개의 샘플 데이터에 대한 누적확률 계산 (이론상의 누적 확률 산출)\n",
    "\n",
    "nobs = len(resid_sort)\n",
    "cdf = np.arange(1, nobs + 1) / (nobs + 1)\n",
    "cdf"
   ]
  },
  {
   "cell_type": "code",
   "execution_count": 41,
   "id": "b9d76027-9d2d-41ec-af76-15c2ffc3c062",
   "metadata": {},
   "outputs": [
    {
     "data": {
      "text/plain": [
       "array([-1.849, -1.518, -1.3  , -1.131, -0.989, -0.865, -0.753, -0.649,\n",
       "       -0.552, -0.46 , -0.372, -0.287, -0.204, -0.122, -0.04 ,  0.04 ,\n",
       "        0.122,  0.204,  0.287,  0.372,  0.46 ,  0.552,  0.649,  0.753,\n",
       "        0.865,  0.989,  1.131,  1.3  ,  1.518,  1.849])"
      ]
     },
     "execution_count": 41,
     "metadata": {},
     "output_type": "execute_result"
    }
   ],
   "source": [
    "# 4. 이론상 분위점 계산(정규분포의 퍼센트포인트 이용)\n",
    "\n",
    "ppf = stats.norm.ppf(cdf)\n",
    "ppf"
   ]
  },
  {
   "cell_type": "code",
   "execution_count": 42,
   "id": "66f65f7c-f2e5-43f5-9ace-2fe2d3899c2d",
   "metadata": {},
   "outputs": [
    {
     "data": {
      "text/plain": [
       "<seaborn.axisgrid.FacetGrid at 0x29819261f10>"
      ]
     },
     "execution_count": 42,
     "metadata": {},
     "output_type": "execute_result"
    },
    {
     "data": {
      "image/png": "[encoded data removed]",
      "text/plain": [
       "<Figure size 360x360 with 1 Axes>"
      ]
     },
     "metadata": {
      "needs_background": "light"
     },
     "output_type": "display_data"
    }
   ],
   "source": [
    "# 5. 산점도를 이용하여 직접 Q-Q plot 그리기\n",
    "\n",
    "sns.relplot(x = ppf, y = resid_sort)"
   ]
  },
  {
   "cell_type": "code",
   "execution_count": 43,
   "id": "93166bc7-7118-47ca-8ef3-c200dafa3eb5",
   "metadata": {},
   "outputs": [
    {
     "name": "stdout",
     "output_type": "stream",
     "text": [
      "Q1의 좌표: (-0.674 , 0.266)\n",
      "Q3의 좌표: (0.674 , 0.734)\n"
     ]
    }
   ],
   "source": [
    "# 6. Q-Q plot 위에 직접 qqline 그리기\n",
    "\n",
    "# 6.1 qqline은 Q1과 Q3를 이어주는 선으로 Q1과 Q3의 좌표는 다음과 같이 산출 가능\n",
    "\n",
    "print(\"Q1의 좌표: (%3.3f , %3.3f)\" %(stats.norm.ppf(0.25), np.quantile(cdf, q = 0.25)))\n",
    "print(\"Q3의 좌표: (%3.3f , %3.3f)\" %(stats.norm.ppf(0.75), np.quantile(cdf, q = 0.75)))"
   ]
  },
  {
   "cell_type": "code",
   "execution_count": 44,
   "id": "08aa538c-9f11-41fd-8b00-57a86bda87ad",
   "metadata": {},
   "outputs": [
    {
     "name": "stdout",
     "output_type": "stream",
     "text": [
      "qqline의 기울기: 5.765 , 절편: 0.166\n"
     ]
    }
   ],
   "source": [
    "# 6.2 qqline의 정의에 따라 q1과 q3을 지나는 선형식(기울기와 절편) 산출\n",
    "fit_line = np.polyfit(x = [stats.norm.ppf(0.25), stats.norm.ppf(0.75)], \n",
    "                      y = [np.quantile(resid_sort, q = 0.25), np.quantile(resid_sort, q = 0.75)], \n",
    "                      deg = 1)\n",
    "\n",
    "print(\"qqline의 기울기: %3.3f , 절편: %3.3f\" %(fit_line[0], fit_line[1])) # 기울기, 절편"
   ]
  },
  {
   "cell_type": "code",
   "execution_count": 45,
   "id": "57d7b5ea-ef17-4c29-9512-7d3cf5677e9d",
   "metadata": {},
   "outputs": [],
   "source": [
    "# 6.3 qqplot위에 그릴 qqline의 좌표 설정\n",
    "\n",
    "x_min = np.min(ppf)\n",
    "x_max = np.max(ppf)\n",
    "\n",
    "y_min = x_min*fit_line[0] + fit_line[1]\n",
    "y_max = x_max*fit_line[0] + fit_line[1]"
   ]
  },
  {
   "cell_type": "code",
   "execution_count": 46,
   "id": "31e8ab71-47ab-46d6-895e-a93f5af57a32",
   "metadata": {},
   "outputs": [
    {
     "data": {
      "text/plain": [
       "[<matplotlib.lines.Line2D at 0x2981928f580>]"
      ]
     },
     "execution_count": 46,
     "metadata": {},
     "output_type": "execute_result"
    },
    {
     "data": {
      "image/png": "[encoded data removed]",
      "text/plain": [
       "<Figure size 360x360 with 1 Axes>"
      ]
     },
     "metadata": {
      "needs_background": "light"
     },
     "output_type": "display_data"
    }
   ],
   "source": [
    "# 6.4 설정된 좌표를 잇는 직선을 추가하여 qqplot 그리기 (plt.plot 이용)\n",
    "sns.relplot(x = ppf, y = resid_sort)\n",
    "plt.plot([x_min, x_max], [y_min, y_max], color = \"red\")"
   ]
  },
  {
   "cell_type": "code",
   "execution_count": 47,
   "id": "43cbe8d3-31ad-4db0-9702-8e10f527574c",
   "metadata": {},
   "outputs": [
    {
     "data": {
      "text/plain": [
       "<AxesSubplot:xlabel='_x', ylabel='_y'>"
      ]
     },
     "execution_count": 47,
     "metadata": {},
     "output_type": "execute_result"
    },
    {
     "data": {
      "image/png": "[encoded data removed]",
      "text/plain": [
       "<Figure size 360x360 with 1 Axes>"
      ]
     },
     "metadata": {
      "needs_background": "light"
     },
     "output_type": "display_data"
    }
   ],
   "source": [
    "# 6.4 설정된 좌표를 잇는 직선을 추가하여 qqplot 그리기 (sns.regplot 이용)\n",
    "sns.relplot(x = ppf, y = resid_sort)\n",
    "sns.regplot(x = [x_min, x_max], y = [y_min, y_max], color = \"red\", ci= None, scatter = False)"
   ]
  },
  {
   "cell_type": "markdown",
   "id": "8c17eb72-b11c-448d-ab58-39cbb19f21c5",
   "metadata": {},
   "source": [
    "### 5.1.16 summary 함수의 출력으로 보는 잔차 체크"
   ]
  },
  {
   "cell_type": "markdown",
   "id": "71dac51c-5f07-4029-a9e0-dfca0efc5e97",
   "metadata": {},
   "source": [
    "* **Prob(Omnibus)** 와 **Prob(JB)** 는 잔차의 정규성에 대한 검정 결과\n",
    "\n",
    "    * 귀무가설: 잔차가 정규분포를 따른다.\n",
    "\n",
    "    * 대립가설: 잔차가 정규분포와 다르다.\n",
    "\n",
    "    * 검정의 비대칭성이 있으므로 p값이 0.05보다 크다고 해도 정규분포라고 주장할 수 없다는 점에 주의!\n",
    "\n",
    "    * 이러한 검정은 명확한 문제가 있는지 판단하는 것\n",
    "\n",
    "* **Skew(왜도)** 히스토그램의 좌우비대칭 방향과 그 정도를 측정하는 지표\n",
    "\n",
    "    * 0 보다 크면 오른쪽 자락이 길어짐\n",
    "\n",
    "\n",
    "* **Kurtosis(첨도)** 히스토그램 중심부의 뾰족함을 측정하는 지표\n",
    "\n",
    "    * 정규분포의 첨조는 3 \n",
    "\n",
    "\n",
    "* **Durbin-Watson(더빈-왓슨)** : 잔차의 자기상관을 체크하는 지표\n",
    "\n",
    "    * 0에 가까우면 양의 상관관계, 4에 가까우면 음의 상관관계\n",
    "    \n",
    "    * 이 지표가 2 전후라면 문제없다고 판단할 수 있음 (2: 상관관계 없음)\n",
    "\n",
    "    * 시계열 데이터를 대상으로 분석을 하는 경우에는 반드시 Durbin-watson이 2 전후임을 확인해야 함\n",
    "    \n",
    "    * **잔차에 자기상관이 있으면 계수의 t검정 결과를 신뢰할 수 없게 됨**\n",
    "  \n",
    "\n",
    "    \n",
    "    \n",
    "    "
   ]
  },
  {
   "cell_type": "code",
   "execution_count": 48,
   "id": "50fc764d-5e4e-4b6a-bf50-d6fbe7c4fd8e",
   "metadata": {},
   "outputs": [
    {
     "data": {
      "text/html": [
       "<table class=\"simpletable\">\n",
       "<caption>OLS Regression Results</caption>\n",
       "<tr>\n",
       "  <th>Dep. Variable:</th>          <td>beer</td>       <th>  R-squared:         </th> <td>   0.504</td>\n",
       "</tr>\n",
       "<tr>\n",
       "  <th>Model:</th>                   <td>OLS</td>       <th>  Adj. R-squared:    </th> <td>   0.486</td>\n",
       "</tr>\n",
       "<tr>\n",
       "  <th>Method:</th>             <td>Least Squares</td>  <th>  F-statistic:       </th> <td>   28.45</td>\n",
       "</tr>\n",
       "<tr>\n",
       "  <th>Date:</th>             <td>Sun, 18 Sep 2022</td> <th>  Prob (F-statistic):</th> <td>1.11e-05</td>\n",
       "</tr>\n",
       "<tr>\n",
       "  <th>Time:</th>                 <td>19:15:48</td>     <th>  Log-Likelihood:    </th> <td> -102.45</td>\n",
       "</tr>\n",
       "<tr>\n",
       "  <th>No. Observations:</th>      <td>    30</td>      <th>  AIC:               </th> <td>   208.9</td>\n",
       "</tr>\n",
       "<tr>\n",
       "  <th>Df Residuals:</th>          <td>    28</td>      <th>  BIC:               </th> <td>   211.7</td>\n",
       "</tr>\n",
       "<tr>\n",
       "  <th>Df Model:</th>              <td>     1</td>      <th>                     </th>     <td> </td>   \n",
       "</tr>\n",
       "<tr>\n",
       "  <th>Covariance Type:</th>      <td>nonrobust</td>    <th>                     </th>     <td> </td>   \n",
       "</tr>\n",
       "</table>\n",
       "<table class=\"simpletable\">\n",
       "<tr>\n",
       "       <td></td>          <th>coef</th>     <th>std err</th>      <th>t</th>      <th>P>|t|</th>  <th>[0.025</th>    <th>0.975]</th>  \n",
       "</tr>\n",
       "<tr>\n",
       "  <th>Intercept</th>   <td>   34.6102</td> <td>    3.235</td> <td>   10.699</td> <td> 0.000</td> <td>   27.984</td> <td>   41.237</td>\n",
       "</tr>\n",
       "<tr>\n",
       "  <th>temperature</th> <td>    0.7654</td> <td>    0.144</td> <td>    5.334</td> <td> 0.000</td> <td>    0.471</td> <td>    1.059</td>\n",
       "</tr>\n",
       "</table>\n",
       "<table class=\"simpletable\">\n",
       "<tr>\n",
       "  <th>Omnibus:</th>       <td> 0.587</td> <th>  Durbin-Watson:     </th> <td>   1.960</td>\n",
       "</tr>\n",
       "<tr>\n",
       "  <th>Prob(Omnibus):</th> <td> 0.746</td> <th>  Jarque-Bera (JB):  </th> <td>   0.290</td>\n",
       "</tr>\n",
       "<tr>\n",
       "  <th>Skew:</th>          <td>-0.240</td> <th>  Prob(JB):          </th> <td>   0.865</td>\n",
       "</tr>\n",
       "<tr>\n",
       "  <th>Kurtosis:</th>      <td> 2.951</td> <th>  Cond. No.          </th> <td>    52.5</td>\n",
       "</tr>\n",
       "</table><br/><br/>Notes:<br/>[1] Standard Errors assume that the covariance matrix of the errors is correctly specified."
      ],
      "text/plain": [
       "<class 'statsmodels.iolib.summary.Summary'>\n",
       "\"\"\"\n",
       "                            OLS Regression Results                            \n",
       "==============================================================================\n",
       "Dep. Variable:                   beer   R-squared:                       0.504\n",
       "Model:                            OLS   Adj. R-squared:                  0.486\n",
       "Method:                 Least Squares   F-statistic:                     28.45\n",
       "Date:                Sun, 18 Sep 2022   Prob (F-statistic):           1.11e-05\n",
       "Time:                        19:15:48   Log-Likelihood:                -102.45\n",
       "No. Observations:                  30   AIC:                             208.9\n",
       "Df Residuals:                      28   BIC:                             211.7\n",
       "Df Model:                           1                                         \n",
       "Covariance Type:            nonrobust                                         \n",
       "===============================================================================\n",
       "                  coef    std err          t      P>|t|      [0.025      0.975]\n",
       "-------------------------------------------------------------------------------\n",
       "Intercept      34.6102      3.235     10.699      0.000      27.984      41.237\n",
       "temperature     0.7654      0.144      5.334      0.000       0.471       1.059\n",
       "==============================================================================\n",
       "Omnibus:                        0.587   Durbin-Watson:                   1.960\n",
       "Prob(Omnibus):                  0.746   Jarque-Bera (JB):                0.290\n",
       "Skew:                          -0.240   Prob(JB):                        0.865\n",
       "Kurtosis:                       2.951   Cond. No.                         52.5\n",
       "==============================================================================\n",
       "\n",
       "Notes:\n",
       "[1] Standard Errors assume that the covariance matrix of the errors is correctly specified.\n",
       "\"\"\""
      ]
     },
     "execution_count": 48,
     "metadata": {},
     "output_type": "execute_result"
    }
   ],
   "source": [
    "lm_model.summary()"
   ]
  }
 ],
 "metadata": {
  "kernelspec": {
   "display_name": "Python 3 (ipykernel)",
   "language": "python",
   "name": "python3"
  },
  "language_info": {
   "codemirror_mode": {
    "name": "ipython",
    "version": 3
   },
   "file_extension": ".py",
   "mimetype": "text/x-python",
   "name": "python",
   "nbconvert_exporter": "python",
   "pygments_lexer": "ipython3",
   "version": "3.9.12"
  }
 },
 "nbformat": 4,
 "nbformat_minor": 5
}
