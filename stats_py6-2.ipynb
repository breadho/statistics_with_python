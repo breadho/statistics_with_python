{
 "cells": [
  {
   "cell_type": "markdown",
   "id": "b0a8d594-d85b-43c8-85b7-5ff96238b9bd",
   "metadata": {},
   "source": [
    "# Chapter 6. 일반선형모델"
   ]
  },
  {
   "cell_type": "markdown",
   "id": "f0d26491-8bae-4958-94b5-a099ba828edd",
   "metadata": {},
   "source": [
    "## 6.2 일반선형모델의 기본"
   ]
  },
  {
   "cell_type": "markdown",
   "id": "97615924-9c11-429f-b318-dc2c975d1ef2",
   "metadata": {},
   "source": [
    "* **(배경)** 있다, 없다 또는 1, 2, 3 등 0 이상의 정수만을 취하는 데이터가 있다면 모집단 분포가 정규분포라고 가정하기에는 무리가 있음\n",
    "\n",
    "* 여기서 등장하는 것이 일반화선형모델(Generalized Linear Models, GLM)\n",
    "\n",
    "* 일반선형모델을 이용하면 분류 문제와 회귀 문제를 통일성 있게 취급할 수 있음 \n",
    "\n",
    "    - 고전적 통계 처리에 비하면 커다란 진보"
   ]
  },
  {
   "cell_type": "markdown",
   "id": "97b2225d-8ae4-458d-a595-696cdbe3a7cb",
   "metadata": {},
   "source": [
    "### 6.2.1 일반화선형모델의 구성요소"
   ]
  },
  {
   "cell_type": "markdown",
   "id": "cc2832d5-75d4-4e46-8a94-8601d0ef68c6",
   "metadata": {},
   "source": [
    "* 일반화 선형모델은 아래 세 가지를 구성요소로 가짐\n",
    "\n",
    "    - 1. 모집단이 따르는 확률분포\n",
    "    \n",
    "    - 2. 선형예측자\n",
    "    \n",
    "    - 3. 링크함수\n",
    "  "
   ]
  },
  {
   "cell_type": "markdown",
   "id": "ccca3382-2154-40b6-9b9d-669295c02ff9",
   "metadata": {},
   "source": [
    "### 6.2.2 확률분포"
   ]
  },
  {
   "cell_type": "markdown",
   "id": "4028053e-7cc8-4867-9b35-d7389c043e9c",
   "metadata": {},
   "source": [
    "* 일반화선형모델은 정규분포나 이항분포, 포아송 분포 등에 적용할 수 있음"
   ]
  },
  {
   "cell_type": "markdown",
   "id": "5f7fcca7-9c25-485e-b0f9-132ec2503488",
   "metadata": {},
   "source": [
    "### 6.2.3 선형예측자"
   ]
  },
  {
   "cell_type": "markdown",
   "id": "2a29d7c0-bc89-4f0a-8ee1-9e8530526d3a",
   "metadata": {},
   "source": [
    "* **선형예측자** 란 독립변수를 선형의 관계식으로 표현한 것\n",
    "\n",
    "* 예) $\\beta_0 + \\beta_1 \\times 기온(^{\\circ}C)$ , $\\beta_0 + \\beta_1 \\times 공부시간$  등"
   ]
  },
  {
   "cell_type": "markdown",
   "id": "50e654c0-0e8b-428d-b91b-a11740be9393",
   "metadata": {},
   "source": [
    "### 6.2.4 링크함수"
   ]
  },
  {
   "cell_type": "markdown",
   "id": "db455277-b46e-4777-9daf-1033572f6012",
   "metadata": {},
   "source": [
    "* **링크함수**는 종속변수와 선형예측자를 서로 대응시키기 위해 사용함\n",
    "\n",
    "* 예) $log\\left[ 맥주 판매 개수 \\right] = \\beta_0 + \\beta_1 \\times 기온(^{\\circ}C)$, 링크함수로 로그함수가 자주 사용됨(종속변수가 - 값이 나오지 않도록 하기 위해서)\n",
    "\n",
    "* 종속변수에 링크함수를 적용함으로써 0 이상의 카운트 데이터나 [0, 1] 범위를 취하는 성공확률 등을 대상으로 예측할 수 있음"
   ]
  },
  {
   "cell_type": "markdown",
   "id": "2d170b37-be74-4d0e-8a5f-4eae245bf34f",
   "metadata": {},
   "source": [
    "### 6.2.5 링크함수와 확률분포의 대응"
   ]
  },
  {
   "cell_type": "markdown",
   "id": "1328df76-2606-4dd0-a78b-dc21953baf1d",
   "metadata": {},
   "source": [
    "* 확률분포와 링크함수는 아래와 같이 한 벌로 사용되는 경우가 많음\n",
    "\n",
    "|확률분포   |링크함수 |모델명 \n",
    "|:----------|:--------|:------\n",
    "|정규분포   |항등함수 |정규선형모델\n",
    "|이항분포   |로짓함수 |로지스틱회귀\n",
    "|포아송분포 |로그함수 |포아송회귀"
   ]
  },
  {
   "cell_type": "markdown",
   "id": "4d4cb8ad-2ca5-43d4-9068-f3824a0db519",
   "metadata": {},
   "source": [
    "* 정규분포에서 링크함수를 로그하수로 하여 종속변수가 마이너스 값이 되지 않게 한 모델도 있으며,\n",
    "\n",
    "* 음이항분포에서도 링크함수로 로그함수가 자주 사용됨\n",
    "\n",
    "* 감마분포에 대해서는 링크함수로 로그함수를 사용하기도 하고 역수(1/x)를 사용하기도 함"
   ]
  },
  {
   "cell_type": "markdown",
   "id": "7b1dbdc5-cefa-44e0-b2b6-fde724a6f75a",
   "metadata": {},
   "source": [
    "### 6.2.6 일반화선형모델의 파라미터 추정"
   ]
  },
  {
   "cell_type": "markdown",
   "id": "082da56a-5a52-435f-b603-1d5672bf9fbc",
   "metadata": {},
   "source": [
    "* 일반화 선형모델에서는 정규분포 이외의 확률분포가 사용되는 경우도 있기 때문에 최대우도법에 의한 파라미터 추정을 실시함\n",
    "\n",
    "* 파라미터 추정을 위한 알고리즘으로 반복적인 최소제곱법이 이용되는 경우도 많음"
   ]
  },
  {
   "cell_type": "markdown",
   "id": "0ddc2afa-cb19-4782-994a-c2425c4baf7f",
   "metadata": {},
   "source": [
    "### 6.2.7 일반화선형모델을 이용한 검정 방법"
   ]
  },
  {
   "cell_type": "markdown",
   "id": "309f4d45-cbf7-4121-a1ce-a52bf34ad1ed",
   "metadata": {},
   "source": [
    "* 보통 세 가지 검정 방법이 제안됨\n",
    "\n",
    "    - 1. 일반화선형모델에서는 회귀계수의 t 검정을 실시할 수 없음 -> wald 검정\n",
    "    \n",
    "        + Wald 검정은 샘플사이즈가 클 때 추정값이 정규분포를 따르는 것을 이용한 검정 방법으로 Wald 검정의 결과값은 statsmodels의 출력에서도 볼 수 있음\n",
    "        \n",
    "    - 2. 우도비 검정(likelihood ratio test)\n",
    "    \n",
    "    - 3. 스코어 검정(score test)"
   ]
  },
  {
   "cell_type": "markdown",
   "id": "9e769def-4974-4fa0-b4fb-b08924d6a900",
   "metadata": {},
   "source": [
    "## 6.3 로지스틱 회귀"
   ]
  },
  {
   "cell_type": "markdown",
   "id": "9fe7f6ec-3120-4be9-b6c4-44828f8bb286",
   "metadata": {},
   "source": [
    "* **로지스틱 회귀** 는 확률분포에 이항분포를 사용하고, 링크함수에 로짓함수를 사용한 일반선형모델임"
   ]
  },
  {
   "cell_type": "markdown",
   "id": "df96dcd9-d60d-4435-8edc-3c600fd21302",
   "metadata": {},
   "source": [
    "### 6.3.1 이 절의 예제"
   ]
  },
  {
   "cell_type": "markdown",
   "id": "a326e10b-d9e8-4933-9f08-fb343c2703fe",
   "metadata": {},
   "source": [
    "* 시험에 합격, 불합격하는 것을 예측한다고 했을 때 공부시간에 따라 시험 합불 여부가 달라진다는 구조를 수리모델로 만들면 선형예측자는 아래와 같음\n",
    "\n",
    " $$\\beta_0 + \\beta_1 \\times 공부시간$$"
   ]
  },
  {
   "cell_type": "markdown",
   "id": "d4ab91ff-d73d-40d8-8860-217fa6d44237",
   "metadata": {},
   "source": [
    "### 6.3.2 두 값 판별 문제"
   ]
  },
  {
   "cell_type": "markdown",
   "id": "63dbf1e9-4267-41da-8a5e-c5fb96544625",
   "metadata": {},
   "source": [
    "* 종속변수를 합격:1 , 불합격:0 을 취하는 이항확률변수라고 가정\n",
    "\n",
    "* 공부시간은 연속형 변수이므로 선형예측자를 그대로 시험 합불과 연결할 수 없음\n",
    "\n",
    "* 이 문제는 링크함수로 로짓함수를 적용함으로써 해결 가능"
   ]
  },
  {
   "cell_type": "markdown",
   "id": "d730c444-b14a-4024-8c18-be966b1f4ae8",
   "metadata": {},
   "source": [
    "### 6.3.4 역함수"
   ]
  },
  {
   "cell_type": "markdown",
   "id": "779aae51-55fb-4bd6-8ae8-eca62b54914c",
   "metadata": {},
   "source": [
    "* 어떤 함수 $f(a) = b$가 있다고 할 때,  $g(b) = a$가 되는 함수$g(x)$를 $f(x)$의 **역함수** 라고 함(지수함수의 역함수는 로그함수)"
   ]
  },
  {
   "cell_type": "markdown",
   "id": "5b795137-017d-4a10-acbe-303c1250fe3d",
   "metadata": {},
   "source": [
    "### 6.3.5 로지스틱 함수"
   ]
  },
  {
   "cell_type": "markdown",
   "id": "7d1600a9-1ce4-4f41-a282-567191d12d97",
   "metadata": {},
   "source": [
    "* **로지스틱 함수** 는 로짓함수의 역함수"
   ]
  },
  {
   "cell_type": "markdown",
   "id": "d7c86ab0-7bcd-4020-90c0-a76a05e5cbfd",
   "metadata": {},
   "source": [
    "* 로지스틱함수 정의 $$g(y) = \\frac{1}{1+exp(-y)}$$"
   ]
  },
  {
   "cell_type": "markdown",
   "id": "213b0328-64a2-46f5-91f1-12bf37a0d9ab",
   "metadata": {},
   "source": [
    "### 6.3.6 로지스틱 함수의 특징"
   ]
  },
  {
   "cell_type": "markdown",
   "id": "aad734db-d5e9-4244-a31d-67c3b9c89a69",
   "metadata": {},
   "source": [
    "* 지수함수인 $exp(-y)$는 음수가 될 수 없음\n",
    "\n",
    "    - 때문에 로지스틱함수의 분모는 1이하로 내려가지 않음\n",
    "    \n",
    "* 분모가 큰 값이 되면 로지스틱 함수의 출력은 점점 0이 됨\n",
    "\n",
    "    - $ y \\to \\infty$ 일 때 $g(y)  \\to 1$\n",
    "    \n",
    "    - $ y \\to -\\infty$ 일 때 $g(y) \\to 0$"
   ]
  },
  {
   "cell_type": "markdown",
   "id": "46462e1e-d993-4be3-ae85-54bb47aedcf0",
   "metadata": {},
   "source": [
    "### 6.3.7 로지스틱 회귀의 구조"
   ]
  },
  {
   "cell_type": "markdown",
   "id": "bed4eebf-cc9d-4dad-b3ac-60f63f5f17c4",
   "metadata": {},
   "source": [
    "* 로지스틱 회귀는 확률분포에 이항분포를 사용하고 링크함수에 로짓함수를 사용한 일반화 선형 모델\n",
    "\n",
    "$$ log \\left ( \\frac{P}{1-P} \\right) = \\beta_0 + \\beta_1 \\times 공부시간 $$\n",
    "\n",
    "$$ P = \\frac{1}{1+exp \\left[ - \\left ( \\beta_0 + \\beta_1 \\times 공부시간 \\right ) \\right]}$$"
   ]
  },
  {
   "cell_type": "markdown",
   "id": "d7833b54-4482-45fb-a2fb-ab9713ae8201",
   "metadata": {},
   "source": [
    "* 공부시간이 5시간이던 학생이 10명이 있다고 할 때, 합격자수 M은 성공확률이 시행횟수가 10인 이항분포를 따른다고 상정할 때 아래와 같은 식이 성립함\n",
    "\n",
    "* 합격자수: $M \\sim Bin \\left( m|10,  \\frac{1}{1+exp \\left[ - \\left ( \\beta_0 + \\beta_1 \\times 5 \\right ) \\right]} \\right)$"
   ]
  },
  {
   "cell_type": "markdown",
   "id": "c6a64052-1d7b-4389-a703-559d0888e18a",
   "metadata": {},
   "source": [
    "### 6.3.8 로지스틱 회귀의 우도함수"
   ]
  },
  {
   "cell_type": "markdown",
   "id": "417de567-70bc-4baa-b52b-025f558d153a",
   "metadata": {},
   "source": [
    "* 계수 $\\beta_0$ , $\\beta_1$의 추정 : 일반화선형모델에서는 최대우도법으로 파라미터를 추정함"
   ]
  },
  {
   "cell_type": "markdown",
   "id": "a39cb807-aaf6-4556-89f6-04b896633dfa",
   "metadata": {},
   "source": [
    "* 아래와 같은 데이터를 얻었다고 가정할 때 \n",
    "\n",
    "    - 공부시간이 3시간인 학생 9명 중 4명이 합격함\n",
    "    - 공부시간이 5시간인 학생 8명 중 6명이 합격함\n",
    "    - 공부시간이 8시간인 학생 1명 중 1명이 합격함\n",
    "\n",
    "\n",
    "* 이때 우도함수를 $L \\left( \\beta_0, \\beta_1 ; N, m \\right)$ 로 놓을 수 있음\n",
    "\n",
    "     - 시행횟수 N가 합격자수 m이 데이터로 주어졌으므로 우도함수는 아래와 같이 기술할 수 있다.\n",
    "     \n",
    "     - $$L \\left( \\beta_0, \\beta_1 ; N, m \\right) = Bin \\left( 4|9,  \\frac{1}{1+exp \\left[ - \\left ( \\beta_0 + \\beta_1 \\times 3 \\right ) \\right]} \\right) \\times \n",
    "     Bin \\left( 6|8,  \\frac{1}{1+exp \\left[ - \\left ( \\beta_0 + \\beta_1 \\times 5 \\right ) \\right]} \\right) \\times\n",
    "     Bin \\left( 1|1,  \\frac{1}{1+exp \\left[ - \\left ( \\beta_0 + \\beta_1 \\times 8 \\right ) \\right]} \\right)$$"
   ]
  },
  {
   "cell_type": "markdown",
   "id": "d92aa83e-e43d-44a3-b5ce-b3ba336636fe",
   "metadata": {},
   "source": [
    "* 시험자수가 늘어나면 수식이 복잡해지긴 하지만 구조는 변하지 않음"
   ]
  },
  {
   "cell_type": "markdown",
   "id": "21166a5c-b7e6-4090-b42a-a047eb623c7c",
   "metadata": {},
   "source": [
    "### 6.3.9 분석준비"
   ]
  },
  {
   "cell_type": "code",
   "execution_count": 1,
   "id": "de206c9d-ce73-43f8-93c4-4d5d63a148dc",
   "metadata": {},
   "outputs": [],
   "source": [
    "# 이항분포를 다루기 위해 필요한 라이브러리 임포트\n",
    "\n",
    "# 수치계산에 사용되는 라이브러리\n",
    "import numpy as np\n",
    "import pandas as pd\n",
    "import scipy as sp\n",
    "from scipy import stats\n",
    "\n",
    "# 그래프를 그리기 위한 라이브러리\n",
    "from matplotlib import pyplot as plt\n",
    "import seaborn as sns\n",
    "sns.set()\n",
    "\n",
    "# 통계모델을 추정하는데 사용하는 라이브러리\n",
    "import statsmodels.formula.api as smf\n",
    "import statsmodels.api as sm\n",
    "\n",
    "# 표시 자릿수 지정\n",
    "%precision 3\n",
    "\n",
    "# 그래프를 주피터 노트북에 그리기 위한 설정\n",
    "%matplotlib inline"
   ]
  },
  {
   "cell_type": "markdown",
   "id": "86f175c7-3a2d-49ff-94da-0c786d4e61e1",
   "metadata": {},
   "source": [
    "### 6.3.10 데이터 읽어 들이기와 그래프 표시"
   ]
  },
  {
   "cell_type": "markdown",
   "id": "b3525bd4-06c0-4cc4-b7b3-534246498cf1",
   "metadata": {},
   "source": [
    "* 가상의 시험 합격 여부 데이터(hours가 공부시간, result가 시험의 합격여부)"
   ]
  },
  {
   "cell_type": "code",
   "execution_count": 2,
   "id": "de8a67d2-278a-4bed-b35b-a37b04a0b197",
   "metadata": {},
   "outputs": [
    {
     "name": "stdout",
     "output_type": "stream",
     "text": [
      "   hours  result\n",
      "0      0       0\n",
      "1      0       0\n",
      "2      0       0\n"
     ]
    }
   ],
   "source": [
    "test_result = pd.read_csv(\"py_source/6-3-1-logistic-regression.csv\")\n",
    "print(test_result.head(3))"
   ]
  },
  {
   "cell_type": "code",
   "execution_count": 3,
   "id": "662ba69b-df24-4e65-b221-1fcb9276d6cb",
   "metadata": {},
   "outputs": [
    {
     "data": {
      "text/plain": [
       "<AxesSubplot:xlabel='hours', ylabel='result'>"
      ]
     },
     "execution_count": 3,
     "metadata": {},
     "output_type": "execute_result"
    },
    {
     "data": {
      "image/png": "[encoded data removed]",
      "text/plain": [
       "<Figure size 432x288 with 1 Axes>"
      ]
     },
     "metadata": {
      "needs_background": "light"
     },
     "output_type": "display_data"
    }
   ],
   "source": [
    "# 공부시간별 시험 합격률 막대그래프\n",
    "\n",
    "sns.barplot(x = \"hours\", y = \"result\", data = test_result, palette = \"flare\")"
   ]
  },
  {
   "cell_type": "code",
   "execution_count": 4,
   "id": "41292e65-3952-4be4-9683-eb8be9beb5d6",
   "metadata": {},
   "outputs": [
    {
     "name": "stdout",
     "output_type": "stream",
     "text": [
      "       result\n",
      "hours        \n",
      "0         0.0\n",
      "1         0.0\n",
      "2         0.1\n",
      "3         0.1\n",
      "4         0.4\n",
      "5         0.4\n",
      "6         0.9\n",
      "7         0.8\n",
      "8         0.9\n",
      "9         1.0\n"
     ]
    }
   ],
   "source": [
    "# 공부시간 마다의 합격률 계산\n",
    "\n",
    "print(test_result.groupby(\"hours\").mean())"
   ]
  },
  {
   "cell_type": "markdown",
   "id": "779bd80f-56ab-47d4-abbe-bd2557443ca1",
   "metadata": {},
   "source": [
    "### 6.3.11 로지스틱 회귀(실습)"
   ]
  },
  {
   "cell_type": "code",
   "execution_count": 5,
   "id": "e4ccc7f1-7e79-44fc-841b-c1383ccbcb97",
   "metadata": {},
   "outputs": [],
   "source": [
    "# 로지스틱 회귀모델 추정\n",
    "\n",
    "mod_glm = smf.glm(formula = \"result ~ hours\", data = test_result, family = sm.families.Binomial()).fit()"
   ]
  },
  {
   "cell_type": "markdown",
   "id": "44ed95a1-0aa2-4a32-b3cf-14fcd62ed557",
   "metadata": {},
   "source": [
    "* 일반화 선형모델을 추정하는 경우에는 smf.glm 함수를 사용함\n",
    "\n",
    "    * 첫번째 파라미터 \"result ~ hours\"는 formula\n",
    "    \n",
    "    * 두번째 파라미터 : 데이터\n",
    "    \n",
    "    * 세번째 파라미터 : 확률분포 지정\n",
    "        \n",
    "        + 이항분포로 지정할 경우 ```sm.families.Binomial()``` (링크함수는 로짓함수)\n",
    "        \n",
    "        + 포아송 분포로 지정할 경우 ```sm.families.Poisson()``` (링크함수는 로그함수)\n",
    "        \n",
    "    * 이항분포로 지정할 경우 링크함수는 디폴트로 로짓함수가 지정되나, ```sm.families.Binomial(link = sm.families.links.logit)``` 이라고 명시적으로 로짓함수를 지정할 수 있음"
   ]
  },
  {
   "cell_type": "markdown",
   "id": "6db253dd-a20c-4b08-90f6-cc67f0d642c9",
   "metadata": {},
   "source": [
    "### 6.3.12 로지스틱 회귀 결과의 출력"
   ]
  },
  {
   "cell_type": "code",
   "execution_count": 6,
   "id": "6a3f28bd-ee2a-457f-a6af-f082a700812b",
   "metadata": {},
   "outputs": [
    {
     "data": {
      "text/html": [
       "<table class=\"simpletable\">\n",
       "<caption>Generalized Linear Model Regression Results</caption>\n",
       "<tr>\n",
       "  <th>Dep. Variable:</th>        <td>result</td>      <th>  No. Observations:  </th>  <td>   100</td> \n",
       "</tr>\n",
       "<tr>\n",
       "  <th>Model:</th>                  <td>GLM</td>       <th>  Df Residuals:      </th>  <td>    98</td> \n",
       "</tr>\n",
       "<tr>\n",
       "  <th>Model Family:</th>        <td>Binomial</td>     <th>  Df Model:          </th>  <td>     1</td> \n",
       "</tr>\n",
       "<tr>\n",
       "  <th>Link Function:</th>         <td>Logit</td>      <th>  Scale:             </th> <td>  1.0000</td>\n",
       "</tr>\n",
       "<tr>\n",
       "  <th>Method:</th>                <td>IRLS</td>       <th>  Log-Likelihood:    </th> <td> -34.014</td>\n",
       "</tr>\n",
       "<tr>\n",
       "  <th>Date:</th>            <td>Sun, 18 Sep 2022</td> <th>  Deviance:          </th> <td>  68.028</td>\n",
       "</tr>\n",
       "<tr>\n",
       "  <th>Time:</th>                <td>19:14:17</td>     <th>  Pearson chi2:      </th>  <td>  84.9</td> \n",
       "</tr>\n",
       "<tr>\n",
       "  <th>No. Iterations:</th>          <td>6</td>        <th>  Pseudo R-squ. (CS):</th>  <td>0.5032</td> \n",
       "</tr>\n",
       "<tr>\n",
       "  <th>Covariance Type:</th>     <td>nonrobust</td>    <th>                     </th>     <td> </td>   \n",
       "</tr>\n",
       "</table>\n",
       "<table class=\"simpletable\">\n",
       "<tr>\n",
       "      <td></td>         <th>coef</th>     <th>std err</th>      <th>z</th>      <th>P>|z|</th>  <th>[0.025</th>    <th>0.975]</th>  \n",
       "</tr>\n",
       "<tr>\n",
       "  <th>Intercept</th> <td>   -4.5587</td> <td>    0.901</td> <td>   -5.061</td> <td> 0.000</td> <td>   -6.324</td> <td>   -2.793</td>\n",
       "</tr>\n",
       "<tr>\n",
       "  <th>hours</th>     <td>    0.9289</td> <td>    0.174</td> <td>    5.345</td> <td> 0.000</td> <td>    0.588</td> <td>    1.270</td>\n",
       "</tr>\n",
       "</table>"
      ],
      "text/plain": [
       "<class 'statsmodels.iolib.summary.Summary'>\n",
       "\"\"\"\n",
       "                 Generalized Linear Model Regression Results                  \n",
       "==============================================================================\n",
       "Dep. Variable:                 result   No. Observations:                  100\n",
       "Model:                            GLM   Df Residuals:                       98\n",
       "Model Family:                Binomial   Df Model:                            1\n",
       "Link Function:                  Logit   Scale:                          1.0000\n",
       "Method:                          IRLS   Log-Likelihood:                -34.014\n",
       "Date:                Sun, 18 Sep 2022   Deviance:                       68.028\n",
       "Time:                        19:14:17   Pearson chi2:                     84.9\n",
       "No. Iterations:                     6   Pseudo R-squ. (CS):             0.5032\n",
       "Covariance Type:            nonrobust                                         \n",
       "==============================================================================\n",
       "                 coef    std err          z      P>|z|      [0.025      0.975]\n",
       "------------------------------------------------------------------------------\n",
       "Intercept     -4.5587      0.901     -5.061      0.000      -6.324      -2.793\n",
       "hours          0.9289      0.174      5.345      0.000       0.588       1.270\n",
       "==============================================================================\n",
       "\"\"\""
      ]
     },
     "execution_count": 6,
     "metadata": {},
     "output_type": "execute_result"
    }
   ],
   "source": [
    "mod_glm.summary()"
   ]
  },
  {
   "cell_type": "markdown",
   "id": "c63355f3-0ecf-43e3-b2d9-9df90ab12e1a",
   "metadata": {},
   "source": [
    "* **Method** : IRLS(Iterative Reweighted Least Squares(최소제곱법))\n",
    "\n",
    "* **Deviance(이탈도)** 와 **Pearson chi2** 은 모델의 적합도를 나타내는 지표\n",
    "\n",
    "* 계수에 대해서는 t검정 대신 **wald 검정 결과**가 출력되고 있음"
   ]
  },
  {
   "cell_type": "markdown",
   "id": "6cdfd731-b234-4fed-a814-f9d937345806",
   "metadata": {},
   "source": [
    "### 6.3.13 모델 선택"
   ]
  },
  {
   "cell_type": "markdown",
   "id": "303c9b20-238c-4444-a628-326e95745edc",
   "metadata": {},
   "source": [
    "* AIC를 사용하여 Null 모델과 독립변수가 있는 모델 중 어느 쪽이 좋은 모델인지 비교"
   ]
  },
  {
   "cell_type": "code",
   "execution_count": 7,
   "id": "8850e434-d136-4371-bcf2-cb1dadc436c0",
   "metadata": {},
   "outputs": [],
   "source": [
    "mod_glm_null = smf.glm(\"result ~ 1\" , data = test_result, family = sm.families.Binomial()).fit()"
   ]
  },
  {
   "cell_type": "markdown",
   "id": "e2648bf4-4d18-4fa7-be9b-5db56c174351",
   "metadata": {},
   "source": [
    "* AIC 비교"
   ]
  },
  {
   "cell_type": "code",
   "execution_count": 8,
   "id": "e09bf68e-a046-4e2b-b183-3789ea5abd0a",
   "metadata": {},
   "outputs": [
    {
     "name": "stdout",
     "output_type": "stream",
     "text": [
      "Null 모델    :  139.989\n",
      "독립변수 모델:  72.028\n"
     ]
    }
   ],
   "source": [
    "print(\"Null 모델    : \", mod_glm_null.aic.round(3))\n",
    "print(\"독립변수 모델: \", mod_glm.aic.round(3))"
   ]
  },
  {
   "cell_type": "markdown",
   "id": "c797b8e3-2aa0-47c3-9ea8-c153946409ed",
   "metadata": {},
   "source": [
    "* 공부시간을 독립변수로 이용한 모델의 AIC가 더 작음\n",
    "\n",
    "    - 공부시간이라는 변수는 합격률을 예측하는데 도움이 됨 \n",
    "\n",
    "\n",
    "* 공부시간의 계수가 양수였던 점도 감안하면 공부시간을 늘리면 합격률도 오른다고 판단해도 괜찮을 것임"
   ]
  },
  {
   "cell_type": "markdown",
   "id": "25c3bb84-6393-4702-80a7-c68be01fedf7",
   "metadata": {},
   "source": [
    "### 6.3.14 로지스틱 회귀곡선 그래프"
   ]
  },
  {
   "cell_type": "code",
   "execution_count": 9,
   "id": "93d44f6c-6d4b-4289-8dd3-33aadf7960fd",
   "metadata": {},
   "outputs": [
    {
     "data": {
      "text/plain": [
       "<seaborn.axisgrid.FacetGrid at 0x2034f5f4e20>"
      ]
     },
     "execution_count": 9,
     "metadata": {},
     "output_type": "execute_result"
    },
    {
     "data": {
      "image/png": "[encoded data removed]",
      "text/plain": [
       "<Figure size 360x360 with 1 Axes>"
      ]
     },
     "metadata": {
      "needs_background": "light"
     },
     "output_type": "display_data"
    }
   ],
   "source": [
    "sns.lmplot(x = \"hours\", y = \"result\", data = test_result, logistic = True, scatter_kws = {\"color\" : \"steelblue\"}, line_kws = {\"color\" : \"red\"}, x_jitter= 0.1, y_jitter = 0.02)"
   ]
  },
  {
   "cell_type": "markdown",
   "id": "6ae71951-d9c2-4165-b710-c6b9f2aae7f4",
   "metadata": {},
   "source": [
    "* logistic = True 파라미터 입력\n",
    "\n",
    "* x_jitter와 y_jitter는 산포도가 그리는 데이터의 점을 조금 위아래로 흩어지게 하는 설정(합격여부에는 0과 1만 있어서 데이터가 겹치므로 이러한 설정을 함)"
   ]
  },
  {
   "cell_type": "markdown",
   "id": "5ce4efb9-343b-4b1d-9757-f4db7e1970d2",
   "metadata": {},
   "source": [
    "### 6.3.15 성공확률 예측"
   ]
  },
  {
   "cell_type": "markdown",
   "id": "12adad58-07a1-4e5c-a712-55496a2b9254",
   "metadata": {},
   "source": [
    "* 합격률을 수치로 얻을 수도 있음"
   ]
  },
  {
   "cell_type": "code",
   "execution_count": 10,
   "id": "79c058cd-c624-4c24-bda4-3ced7776f405",
   "metadata": {},
   "outputs": [
    {
     "data": {
      "text/plain": [
       "0    0.010367\n",
       "1    0.025836\n",
       "2    0.062920\n",
       "3    0.145291\n",
       "4    0.300876\n",
       "5    0.521427\n",
       "6    0.733929\n",
       "7    0.874741\n",
       "8    0.946467\n",
       "9    0.978147\n",
       "dtype: float64"
      ]
     },
     "execution_count": 10,
     "metadata": {},
     "output_type": "execute_result"
    }
   ],
   "source": [
    "# 0~9까지 1씩 증가시키는 등차수열\n",
    "exp_val = pd.DataFrame({\"hours\" : np.arange(0, 10, 1)})\n",
    "\n",
    "# 성공확률의 예측치\n",
    "pred = mod_glm.predict(exp_val)\n",
    "pred"
   ]
  },
  {
   "cell_type": "markdown",
   "id": "8faae36e-e041-4db2-aeec-c720af74e241",
   "metadata": {},
   "source": [
    "* 성공확률의 컷오프(cut-off) 값을 지정하여 합격/불합격 이산적으로 구분 가능"
   ]
  },
  {
   "cell_type": "markdown",
   "id": "c13caeed-1b19-4a1e-b848-22f884efd729",
   "metadata": {},
   "source": [
    "### 6.3.16 용어 설명"
   ]
  },
  {
   "cell_type": "markdown",
   "id": "4818152c-8031-41dc-a15f-aabbe2eb27ae",
   "metadata": {},
   "source": [
    "* **오즈(odds)** : 실패하는 것보다 성공하는 것이 몇 배 더 쉬운가를 나타내는 것으로 다음과 같이 계산할 수 있음\n",
    "\n",
    "$$odds = \\frac{p}{1-p}$$\n",
    "\n",
    "* p = 0.5 일 때 오즈는 1이 되어 성공과 실패의 쉬움이 변하지 않음\n",
    "\n",
    "* p = 0.75 일 때 오즈는 3이 되어 성공이 실패보다 3배 쉬워짐\n",
    "\n",
    "* **로그오즈** : 오즈에 로그를 취한 것. 로짓함수는 성공확률을 로그오즈로 변환하는 함수로도 볼 수 있음\n",
    "\n",
    "* **오즈비(odd ratio)** : 오즈 간에 비율을 취한 것\n",
    "\n",
    "* **로그오즈비** : 오즈비에 로그를 취한 것"
   ]
  },
  {
   "cell_type": "markdown",
   "id": "0217d8b6-1b05-42e8-8cb2-7ce10b861da0",
   "metadata": {},
   "source": [
    "### 6.3.17 로지스틱 회귀계수와 오즈비의 관계"
   ]
  },
  {
   "cell_type": "markdown",
   "id": "2c360696-2251-441e-9650-67f4a2488fda",
   "metadata": {},
   "source": [
    "* 회귀계수는 독립변수를 1단위 변화시켰을 때의 **로그오즈비** 라고 해석\n",
    "\n",
    "* 예) 공부시간이 1시간일 때의 합격률과 2시간일 때의 합격률을 각각 구하여 로그오즈비를 계산함"
   ]
  },
  {
   "cell_type": "code",
   "execution_count": 11,
   "id": "9c3911cd-e5f2-40ca-a789-19fd081be15a",
   "metadata": {},
   "outputs": [],
   "source": [
    "# 공부시간이 1시간일 때의 합격률\n",
    "exp_val_1 = pd.DataFrame({\"hours\" : [1]})\n",
    "pred_1 = mod_glm.predict(exp_val_1)\n",
    "\n",
    "# 공부시간이 2시간일 때의 합격률\n",
    "exp_val_2 = pd.DataFrame({\"hours\" : [2]})\n",
    "pred_2 = mod_glm.predict(exp_val_2)"
   ]
  },
  {
   "cell_type": "code",
   "execution_count": 12,
   "id": "3b6a3b31-6ce7-4760-91a6-a666ba892bf3",
   "metadata": {},
   "outputs": [],
   "source": [
    "# 오즈\n",
    "odds_1 = pred_1 / (1 - pred_1)\n",
    "odds_2 = pred_2 / (1 - pred_2)"
   ]
  },
  {
   "cell_type": "code",
   "execution_count": 13,
   "id": "4f099723-d181-4c1f-9448-41fc75e6028c",
   "metadata": {},
   "outputs": [
    {
     "data": {
      "text/plain": [
       "0    0.92889\n",
       "dtype: float64"
      ]
     },
     "execution_count": 13,
     "metadata": {},
     "output_type": "execute_result"
    }
   ],
   "source": [
    "# 로그오즈비\n",
    "np.log(odds_2 / odds_1)"
   ]
  },
  {
   "cell_type": "code",
   "execution_count": 14,
   "id": "924e8223-85ea-4cd5-a222-c6f20d6af158",
   "metadata": {},
   "outputs": [
    {
     "data": {
      "text/plain": [
       "0.929"
      ]
     },
     "execution_count": 14,
     "metadata": {},
     "output_type": "execute_result"
    }
   ],
   "source": [
    "# 로그오즈비 = 공부시간의 계수\n",
    "mod_glm.params[\"hours\"]"
   ]
  },
  {
   "cell_type": "code",
   "execution_count": 15,
   "id": "8106439a-3763-4fe5-80a6-368c1d1c374a",
   "metadata": {},
   "outputs": [
    {
     "data": {
      "text/plain": [
       "2.532"
      ]
     },
     "execution_count": 15,
     "metadata": {},
     "output_type": "execute_result"
    }
   ],
   "source": [
    "# 계수에 exp를 취한 것이 오즈비 \n",
    "np.exp(mod_glm.params[\"hours\"])"
   ]
  },
  {
   "cell_type": "markdown",
   "id": "36f61db6-4cec-46c3-82f2-5b6627d701a0",
   "metadata": {},
   "source": [
    "* 독립변수가 1단위 늘어나면 오즈가 몇 배가 되느냐는 계수를 보는 것으로 판단 가능"
   ]
  }
 ],
 "metadata": {
  "kernelspec": {
   "display_name": "Python 3 (ipykernel)",
   "language": "python",
   "name": "python3"
  },
  "language_info": {
   "codemirror_mode": {
    "name": "ipython",
    "version": 3
   },
   "file_extension": ".py",
   "mimetype": "text/x-python",
   "name": "python",
   "nbconvert_exporter": "python",
   "pygments_lexer": "ipython3",
   "version": "3.9.12"
  }
 },
 "nbformat": 4,
 "nbformat_minor": 5
}
