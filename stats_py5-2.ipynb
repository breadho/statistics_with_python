{
 "cells": [
  {
   "cell_type": "markdown",
   "id": "aaa62fa2-6d15-491f-845a-934fda481e4b",
   "metadata": {},
   "source": [
    "# Chapter 5. 정규선형모델"
   ]
  },
  {
   "cell_type": "markdown",
   "id": "d4d343bd-2f53-4dad-a0ca-7d0e73cf40cb",
   "metadata": {},
   "source": [
    "## 5.2 분산분석"
   ]
  },
  {
   "cell_type": "markdown",
   "id": "f5fb435f-d31b-47d7-99f3-c0faa2c0d3e6",
   "metadata": {},
   "source": [
    "* 분산분석은 정규선형모델에서 폭넓게 이용되는 검정 방법\n",
    "\n",
    "* 고전적인 일원배치 분산분석 확인 후 정규선형모델에서 분산분석의 위상 확인"
   ]
  },
  {
   "cell_type": "markdown",
   "id": "bce33a48-36ed-4e0c-a0fc-878ef5dcd2de",
   "metadata": {},
   "source": [
    "### 5.2.1 이 절의 예제"
   ]
  },
  {
   "cell_type": "markdown",
   "id": "1cef03c8-7f5c-4109-a5ca-38458b8180d8",
   "metadata": {},
   "source": [
    "* 종속변수로는 매상, 독립변수로는 날씨 사용\n",
    "\n",
    "* 고전적인 일원배치 분산분석의 예제 \n",
    "\n",
    "    - 날씨에 따라 매상이 변화한다고 말할 수 있는지 검정으로 조사"
   ]
  },
  {
   "cell_type": "markdown",
   "id": "ae38f6e2-986a-4776-877a-04310a999aa5",
   "metadata": {},
   "source": [
    "### 5.2.2 분산분석이 필요한 시기"
   ]
  },
  {
   "cell_type": "markdown",
   "id": "282de723-7f6f-45f9-9265-3ed9dea98464",
   "metadata": {},
   "source": [
    "* **분산분석** 은 평균값의 차이를 검정하는 방법, 특히 세 개 이상의 수준 간의 평균값에 차이가 있는지 검정\n",
    "\n",
    "    - 예: 맑음, 비, 흐림 등 날씨가 변함에 따라 매상이 변한다고 말할 수 있는가와 같이 세 개 이상의 수준(level)을 가진 데이터가 대상이 됨\n",
    "\n",
    "    - **(주의)** : 모집단이 정규분포를 따르는 데이터에 대해서만 적용, 수준 사이 등분산 가정"
   ]
  },
  {
   "cell_type": "markdown",
   "id": "cc5711a2-e49d-4bd0-aa6b-639b1f095246",
   "metadata": {},
   "source": [
    "### 5.2.3 검정의 다중성"
   ]
  },
  {
   "cell_type": "markdown",
   "id": "2ff65dcf-697c-444b-a45f-be2cb9884592",
   "metadata": {},
   "source": [
    "* **검정의 다중성** : 검정을 반복함으로써 유의미한 결과를 얻기 쉬워지는 문제\n",
    "\n",
    "    * 유의수준을 0.05라고 정하고 검정을 할 경우, 제1종 오류를 저지를 확률은 5%. \n",
    "\n",
    "    * 이때, 검정을 2회 연속하였을 경우 각 검정에 있어서 유의수준은 0.05, 어느 한쪽의 검정에 대해서라도 귀무가설을 기각할 수 있다면 대립가설을 채택한다는 규칙으로 검정을 시행할 경우 제1종 오류가 발생할 확률은 1 - (0.95 x 0.95) = 0.0975가 되어 거의 10%가 됨\n",
    "\n",
    "    * 검정을 반복하면 귀무가설이 기각되기 쉬워지고 제1종 오류를 저지를 확률이 높아짐 \n",
    "\n",
    "    * 예를 들어, 맑음 대 비, 비 대 흐림, 흐림 대 맑음의 3가지 조합으로 t 검정을 실시하면 검정의 다중성 문제가 발생함\n",
    "\n",
    "* 분산분석을 하게 되면 맑음이나 비와 같은 개별 카테고리를 보는 것이 아니라 날씨에 따라 매상이 다른지 어떤지 한 번의 검정으로 판단할 수 있게 됨"
   ]
  },
  {
   "cell_type": "markdown",
   "id": "e57b7b2a-d758-439d-a4b3-a1357f47d729",
   "metadata": {},
   "source": [
    "### 5.2.4 분산분석의 직감적 사고방식: F비 "
   ]
  },
  {
   "cell_type": "markdown",
   "id": "124dd1ca-3647-4983-8c76-47236764b534",
   "metadata": {},
   "source": [
    "* 분산분석의 귀무가설과 대립가설\n",
    "\n",
    "    - 귀무가설: 수준 간의 평균값에 차이가 없다.\n",
    "    \n",
    "    - 대립가설: 수준 간의 평균값에 차이가 있다.\n",
    "    \n",
    "    - 여기서 수준(level)이란 날씨, 물고기의 종류 등과 같은 카테고리형 변수를 가리킴\n",
    "    \n",
    "* 분산분석에서는 데이터의 변동을 **오차**와 **효과**로 분리함\n",
    "\n",
    "    - F비라는 통계량을 계산함\n",
    "    \n",
    "$$ F-ratio = \\frac{효과의 \\, 분산 \\, 크기}{오차의 \\, 분산 \\, 크기} $$\n",
    "\n",
    "* 예제에서 효과는 날씨에 따른 매상의 변동 / 오차는 날씨라는 변수를 이용해서 설명할 수 없는 맥주 매상의 변동\n",
    "\n",
    "* 영향의 크기는 분산을 이용해서 정량화 함\n",
    "\n",
    "    - **날씨에 따른 매상 변동**은 '**날씨가 변함에 따른 데이터의 흩어짐 크기**'로 표현됨\n",
    "\n",
    "    - **오차 영향**의 크기도 마찬가지로 **잔차의 분산**을 계산함으로써 구할 수 있음\n",
    "\n",
    "\n",
    "* 분산의 비율을 취한 통계량으로 검정을 시행하기 때문에 **분산 분석**(Analysis of Variance), 줄여서 **ANOVA** 라고 불림"
   ]
  },
  {
   "cell_type": "markdown",
   "id": "dab625e3-28b7-4913-98df-2195e1ec40c6",
   "metadata": {},
   "source": [
    "* **F비가 크면 오차에 비해 효과의 영향이 클 것**이라고 판단할 수 있다. \n",
    "\n",
    "* 모집단 분포가 등분산 정규분포일 때의 F비의 표본분포는 이미 잘 알려져 있음 (**F분포**)\n",
    "\n",
    "    * **F분포의 누적분포함수**를 사용해서 p값을 계산하고, p값이 0.05 이하가 되면 귀무가설을 기각한다는 흐름 \n",
    "\n",
    "    * F비의 해석과 계산 방법을 이해하면 분산 분석을 어느 정도 이해할 수 있음"
   ]
  },
  {
   "cell_type": "markdown",
   "id": "65721ca3-eae9-4bd5-8288-ab03e560f7f7",
   "metadata": {},
   "source": [
    "### 5.2.5 유의미한 차이가 있을 때와 없을 때의 바이올린플랏"
   ]
  },
  {
   "cell_type": "markdown",
   "id": "8dab0654-8ca3-4c96-9fc3-751cdea800a7",
   "metadata": {},
   "source": [
    "* **바이올린 간 거리** : **효과의 크기**\n",
    "\n",
    "* **각 바이올린 폭** : **오차의 크기**\n",
    "\n",
    "![anova.png](drawings/anova_desc1.png)"
   ]
  },
  {
   "cell_type": "markdown",
   "id": "ea615358-03cc-415c-aaa7-1af06a1a1bcb",
   "metadata": {},
   "source": [
    "### 5.2.7 군간변동과 군내변동"
   ]
  },
  {
   "cell_type": "markdown",
   "id": "c363ab43-79e8-4e21-96cd-d7ecc80cc19e",
   "metadata": {},
   "source": [
    "* 바이올린 간의 거리, 즉 효과의 크기를 **군간변동** 이라고 부름\n",
    "\n",
    "* 바이올린의 폭, 즉 오차의 크기를 **군내변동**이라고 부름\n",
    "\n",
    "* **분산분석에서는 데이터의 분산을 군간변동과 군내변동 2개로 나눈 뒤 그 비율을 취한 것을 통계량으로 사용하여 검정을 시행합니다.***"
   ]
  },
  {
   "cell_type": "markdown",
   "id": "51061bfd-5494-4434-afe1-bf8192f0def3",
   "metadata": {},
   "source": [
    "### 5.2.8 분석 준비"
   ]
  },
  {
   "cell_type": "code",
   "execution_count": 1,
   "id": "ff897b24-9c35-4b21-b82e-d809358ae450",
   "metadata": {},
   "outputs": [],
   "source": [
    "# 수치 계산에 사용하는 라이브러리\n",
    "import numpy as np\n",
    "import pandas as pd\n",
    "import scipy as sp\n",
    "from scipy import stats\n",
    "\n",
    "# 그래프를 그리기 위한 라이브러리\n",
    "from matplotlib import pyplot as plt\n",
    "import seaborn as sns\n",
    "sns.set()\n",
    "\n",
    "# 통계모델 추정에 사용하는 라이브러리\n",
    "import statsmodels.formula.api as smf\n",
    "import statsmodels.api as sm\n",
    "\n",
    "# 표시 자릿수 지정\n",
    "%precision 3\n",
    "\n",
    "# 그래프를 주피터 노트북에 그리기 위한 설정\n",
    "%matplotlib inline"
   ]
  },
  {
   "cell_type": "markdown",
   "id": "8c543046-a671-462f-992d-276e392a5ad3",
   "metadata": {},
   "source": [
    "### 5.2.9 데이터 작성과 표시"
   ]
  },
  {
   "cell_type": "code",
   "execution_count": 2,
   "id": "f3999caa-6873-43d4-ae68-07bd991d2f3c",
   "metadata": {},
   "outputs": [
    {
     "name": "stdout",
     "output_type": "stream",
     "text": [
      "   beer weather\n",
      "0     6  cloudy\n",
      "1     8  cloudy\n",
      "2     2   rainy\n",
      "3     4   rainy\n",
      "4    10   sunny\n",
      "5    12   sunny\n"
     ]
    }
   ],
   "source": [
    "# 샘플 데이터\n",
    "weather = [\"cloudy\", \"cloudy\", \"rainy\", \"rainy\", \"sunny\", \"sunny\"]\n",
    "beer = [6, 8, 2, 4, 10, 12]\n",
    "\n",
    "# 데이터 프레임으로 모으기\n",
    "weather_beer = pd.DataFrame({\"beer\":beer, \"weather\":weather})\n",
    "print(weather_beer)"
   ]
  },
  {
   "cell_type": "code",
   "execution_count": 3,
   "id": "e48cd012-b993-4d9e-8716-43b41c756df7",
   "metadata": {},
   "outputs": [
    {
     "data": {
      "text/plain": [
       "<AxesSubplot:xlabel='weather', ylabel='beer'>"
      ]
     },
     "execution_count": 3,
     "metadata": {},
     "output_type": "execute_result"
    },
    {
     "data": {
      "image/png": "[encoded data removed]",
      "text/plain": [
       "<Figure size 432x288 with 1 Axes>"
      ]
     },
     "metadata": {
      "needs_background": "light"
     },
     "output_type": "display_data"
    }
   ],
   "source": [
    "sns.boxplot(x = \"weather\", y = \"beer\", data = weather_beer, color = \"steelblue\")"
   ]
  },
  {
   "cell_type": "code",
   "execution_count": 4,
   "id": "24822c3e-bf3f-4e8b-80dd-7510d7b9135b",
   "metadata": {},
   "outputs": [
    {
     "data": {
      "text/plain": [
       "<AxesSubplot:xlabel='weather', ylabel='beer'>"
      ]
     },
     "execution_count": 4,
     "metadata": {},
     "output_type": "execute_result"
    },
    {
     "data": {
      "image/png": "[encoded data removed]",
      "text/plain": [
       "<Figure size 432x288 with 1 Axes>"
      ]
     },
     "metadata": {
      "needs_background": "light"
     },
     "output_type": "display_data"
    }
   ],
   "source": [
    "sns.violinplot(x = \"weather\", y = \"beer\", data = weather_beer, width = 0.5)"
   ]
  },
  {
   "cell_type": "code",
   "execution_count": 5,
   "id": "81377e33-8724-4e47-8604-46957eeb3bc2",
   "metadata": {},
   "outputs": [
    {
     "data": {
      "image/png": "[encoded data removed]",
      "text/plain": [
       "<Figure size 432x288 with 1 Axes>"
      ]
     },
     "metadata": {
      "needs_background": "light"
     },
     "output_type": "display_data"
    }
   ],
   "source": [
    "violin_plot = sns.violinplot(x = \"weather\", y = \"beer\", data = weather_beer, width = 0.5)\n",
    "violin_fig = violin_plot.get_figure()\n",
    "violin_fig.savefig('violin_plot2.png')"
   ]
  },
  {
   "cell_type": "markdown",
   "id": "19487fc7-37ed-4272-b2f9-564cbe5a7aad",
   "metadata": {},
   "source": [
    "* 날씨별 매상의 평균치 계산\n",
    "\n",
    "    - 비오는 날은 매상이 적고, 맑은 날은 많으며, 흐린 날은 그 중간임"
   ]
  },
  {
   "cell_type": "code",
   "execution_count": 6,
   "id": "0f43554e-264a-423e-95b7-cea4b550442e",
   "metadata": {},
   "outputs": [
    {
     "name": "stdout",
     "output_type": "stream",
     "text": [
      "         beer\n",
      "weather      \n",
      "cloudy    7.0\n",
      "rainy     3.0\n",
      "sunny    11.0\n"
     ]
    }
   ],
   "source": [
    "print(weather_beer.groupby(\"weather\").mean())"
   ]
  },
  {
   "cell_type": "markdown",
   "id": "cb6a02ff-cb85-4f9d-90c4-088d703c7cda",
   "metadata": {},
   "source": [
    "### 5.2.10 분산분석(1): 군간 제곱과 군내 제곱 계산"
   ]
  },
  {
   "cell_type": "code",
   "execution_count": 7,
   "id": "857b30fa-29f0-4293-b710-ccc11511cfad",
   "metadata": {},
   "outputs": [
    {
     "data": {
      "text/html": [
       "<div>\n",
       "<style scoped>\n",
       "    .dataframe tbody tr th:only-of-type {\n",
       "        vertical-align: middle;\n",
       "    }\n",
       "\n",
       "    .dataframe tbody tr th {\n",
       "        vertical-align: top;\n",
       "    }\n",
       "\n",
       "    .dataframe thead th {\n",
       "        text-align: right;\n",
       "    }\n",
       "</style>\n",
       "<table border=\"1\" class=\"dataframe\">\n",
       "  <thead>\n",
       "    <tr style=\"text-align: right;\">\n",
       "      <th></th>\n",
       "      <th>beer</th>\n",
       "    </tr>\n",
       "    <tr>\n",
       "      <th>weather</th>\n",
       "      <th></th>\n",
       "    </tr>\n",
       "  </thead>\n",
       "  <tbody>\n",
       "    <tr>\n",
       "      <th>cloudy</th>\n",
       "      <td>7.0</td>\n",
       "    </tr>\n",
       "    <tr>\n",
       "      <th>rainy</th>\n",
       "      <td>3.0</td>\n",
       "    </tr>\n",
       "    <tr>\n",
       "      <th>sunny</th>\n",
       "      <td>11.0</td>\n",
       "    </tr>\n",
       "  </tbody>\n",
       "</table>\n",
       "</div>"
      ],
      "text/plain": [
       "         beer\n",
       "weather      \n",
       "cloudy    7.0\n",
       "rainy     3.0\n",
       "sunny    11.0"
      ]
     },
     "execution_count": 7,
     "metadata": {},
     "output_type": "execute_result"
    }
   ],
   "source": [
    "# 패키지 사용하지 않고 계산\n",
    "\n",
    "# 1. 날씨에 의한 영향으로서 각 날씨별 기대값 산출\n",
    "weather_beer.groupby(\"weather\").mean()"
   ]
  },
  {
   "cell_type": "code",
   "execution_count": 8,
   "id": "f7f7bbbe-08ff-45e9-8910-fe2b13546fef",
   "metadata": {},
   "outputs": [],
   "source": [
    "# 날씨 영향에 대한 vector 생성\n",
    "\n",
    "effect = [7, 7, 3, 3, 11, 11]"
   ]
  },
  {
   "cell_type": "markdown",
   "id": "90d680e0-e9aa-46cd-8243-477d44ba759d",
   "metadata": {},
   "source": [
    "* effect의 흩어진 정도를 구함으로써 군간 변동을 구할 수 있음\n",
    "\n",
    "    - 군간 변동의 분자에 해당하는 군간 편차제곱합 계산 \n",
    "    \n",
    "    - 전체 평균과 그룹 평균에 대한 편차제곱합"
   ]
  },
  {
   "cell_type": "code",
   "execution_count": 9,
   "id": "b396cc50-d155-4bd1-984a-6eb2b9d08d78",
   "metadata": {},
   "outputs": [
    {
     "data": {
      "text/plain": [
       "64.000"
      ]
     },
     "execution_count": 9,
     "metadata": {},
     "output_type": "execute_result"
    }
   ],
   "source": [
    "# 군간 제곱합\n",
    "# 전체 평균과 그룹의 평균에 대한 편차제곱합 => squares_model\n",
    "\n",
    "mu_effect = np.mean(effect)\n",
    "squares_model = np.sum((effect - mu_effect) ** 2) \n",
    "squares_model"
   ]
  },
  {
   "cell_type": "markdown",
   "id": "7c8fe2be-9c6e-44e0-b363-754d8c018faa",
   "metadata": {},
   "source": [
    "* 오차는 원래 데이터에서 효과를 빼는 것으로 계산"
   ]
  },
  {
   "cell_type": "code",
   "execution_count": 10,
   "id": "1f2d5fdc-6cbc-4bff-aa1d-2e2bd6d8cfde",
   "metadata": {},
   "outputs": [
    {
     "data": {
      "text/plain": [
       "0   -1\n",
       "1    1\n",
       "2   -1\n",
       "3    1\n",
       "4   -1\n",
       "5    1\n",
       "Name: beer, dtype: int64"
      ]
     },
     "execution_count": 10,
     "metadata": {},
     "output_type": "execute_result"
    }
   ],
   "source": [
    "resid = weather_beer.beer - effect\n",
    "resid"
   ]
  },
  {
   "cell_type": "markdown",
   "id": "a1ea3df1-5705-414f-a71f-0156b38dccd8",
   "metadata": {},
   "source": [
    "* 군내 편차제곱합 구하기 (그룹 내 편차 제곱)"
   ]
  },
  {
   "cell_type": "code",
   "execution_count": 11,
   "id": "8f3d26a1-2e80-47f9-94d6-c4aeba49c134",
   "metadata": {},
   "outputs": [
    {
     "data": {
      "text/plain": [
       "6"
      ]
     },
     "execution_count": 11,
     "metadata": {},
     "output_type": "execute_result"
    }
   ],
   "source": [
    "# 군내 제곱합\n",
    "squares_resid = np.sum(resid ** 2)\n",
    "squares_resid"
   ]
  },
  {
   "cell_type": "markdown",
   "id": "9b55ba36-eed6-446e-932d-5957474e2777",
   "metadata": {},
   "source": [
    "### 5.2.11 분산분석(2): 군간 분산과 군내 분산 계산"
   ]
  },
  {
   "cell_type": "markdown",
   "id": "519bbc16-0fe2-491f-ae09-cd99ad47b672",
   "metadata": {},
   "source": [
    "* 표본분산을 계산할 때 편차제곱합을 샘플사이즈로 나누어 구함\n",
    "\n",
    "    * 불편분산을 계산하는 경우, 샘플사이즈에서 1을 빼서 나눔\n",
    "\n",
    "\n",
    "* 마찬가지로 분산분석에서도 군간, 군내 분석을 계산할 때의 분모는 자유도로 나누어야 함!\n",
    "\n",
    "    - 군(그룹) 간 변동의 자유도는 수준(lv)의 종류 수에 따라 좌우됨\n",
    "    \n",
    "    - 흐림, 비, 맑음의 3가지 수준에서 1을 빼면 군간 변동의 자유도는 2가 됨\n",
    "    \n",
    "    - 군내변동의 자유도는 샘플사이즈와 수준의 종류 수에 따라 좌우됨. 샘플 사이즈가 6이고 수준의 종류수가 3이므로 6-3 = 3이 군내변동의 자유도가 됨 \n",
    "\n",
    "\n",
    "* **군간 변동의 자유도** : df_model , **군내 변동의 자유도** : df_resid"
   ]
  },
  {
   "cell_type": "code",
   "execution_count": 12,
   "id": "1b95d55d-0cf6-42e1-8bdc-c1316f562d1f",
   "metadata": {},
   "outputs": [],
   "source": [
    "df_model = 2 # 그룹간 변동의 자유도\n",
    "df_resid = 3 # 그룹 내 변동의 자유도"
   ]
  },
  {
   "cell_type": "markdown",
   "id": "2308cb3c-a912-4ded-9851-21d8fe570c8b",
   "metadata": {},
   "source": [
    "* **그룹 간 분산** "
   ]
  },
  {
   "cell_type": "code",
   "execution_count": 13,
   "id": "1b152584-ab60-45bd-974f-909cd1787d49",
   "metadata": {},
   "outputs": [
    {
     "data": {
      "text/plain": [
       "32.000"
      ]
     },
     "execution_count": 13,
     "metadata": {},
     "output_type": "execute_result"
    }
   ],
   "source": [
    "# 그룹(군) 간 평균제곱(분산)\n",
    "variance_model = squares_model / df_model\n",
    "variance_model"
   ]
  },
  {
   "cell_type": "code",
   "execution_count": 14,
   "id": "29567bbd-9688-43cb-ac8e-e9dc843f7369",
   "metadata": {},
   "outputs": [
    {
     "data": {
      "text/plain": [
       "2.000"
      ]
     },
     "execution_count": 14,
     "metadata": {},
     "output_type": "execute_result"
    }
   ],
   "source": [
    "# 그룹(군) 내 평균제곱(분산)\n",
    "variance_resid = squares_resid / df_resid\n",
    "variance_resid"
   ]
  },
  {
   "cell_type": "markdown",
   "id": "eabb3749-184c-4d33-9130-a30ea91d5153",
   "metadata": {},
   "source": [
    "### 5.2.12 분산분석(3): p값 계산"
   ]
  },
  {
   "cell_type": "markdown",
   "id": "abc9878a-9fe3-4749-89ac-2d6ebe1fb8cc",
   "metadata": {},
   "source": [
    "* F비와 p값 계산\n",
    "\n",
    "    - F-비는 군(그룹) 간 분산과 군(그룹) 내 분산의 비로 계산"
   ]
  },
  {
   "cell_type": "code",
   "execution_count": 15,
   "id": "11fb6b96-5f4b-4e11-977a-6f1a2f584e07",
   "metadata": {},
   "outputs": [
    {
     "data": {
      "text/plain": [
       "16.000"
      ]
     },
     "execution_count": 15,
     "metadata": {},
     "output_type": "execute_result"
    }
   ],
   "source": [
    "f_ratio = variance_model / variance_resid\n",
    "f_ratio"
   ]
  },
  {
   "cell_type": "markdown",
   "id": "fbb25cc7-a301-4356-993d-06b8f37ee221",
   "metadata": {},
   "source": [
    "* p값은 F분포의 누적분포함수에서 계산\n",
    "\n",
    "    * **sp.stats.f.cdf 함수 이용 **\n",
    "    \n",
    "    * 파라미터로는 F비와 2개의 자유도(dfn, dfd) 사용"
   ]
  },
  {
   "cell_type": "code",
   "execution_count": 16,
   "id": "183b6cc4-a04f-47d7-8245-68c2ff3278b7",
   "metadata": {},
   "outputs": [
    {
     "data": {
      "text/plain": [
       "0.025"
      ]
     },
     "execution_count": 16,
     "metadata": {},
     "output_type": "execute_result"
    }
   ],
   "source": [
    "1 - sp.stats.f.cdf( x = f_ratio, dfn = df_model, dfd = df_resid)"
   ]
  },
  {
   "cell_type": "markdown",
   "id": "1f99e947-583b-405a-b805-29ffd8473f3b",
   "metadata": {},
   "source": [
    "* p값이 0.05 이하가 됐으므로 날씨에 의해 매상이 유의미하게 변화한다고 판단 가능(원래는 더 큰 샘플 사이즈 사용해야 함)\n",
    "\n",
    "* 분산분석 정리\n",
    "\n",
    "    - 1. 분산분석에서는 데이터를 효과의 크기와 오차의 크기로 분리\n",
    "    \n",
    "    - 2. 각각의 크기를 분산으로 정량화\n",
    "    \n",
    "    - 3. 효과의 크기를 군(그룹) 간 변동, 오차의 크기를 군(그룹) 내 변동이라고 부름\n",
    "    \n",
    "    - 4. 군간 분산과 군내 분산의 비율, 즉 F비를 통계량으로 사용\n",
    "    \n",
    "    - 5. 모집단이 등분산 정규분포를 따를 때 F비는 F분포를 따른 다는 것이 밝혀져 있기 때문에 F분의 누적분포함수에서 p값을 계산하고, 그 p값이 0.05이하인지 판정"
   ]
  },
  {
   "cell_type": "markdown",
   "id": "3f7e9311-02a6-45fa-9840-7947dcfa0fa9",
   "metadata": {
    "tags": []
   },
   "source": [
    "### 5.2.13 독립변수가 카테고리형인 일반선형 모델"
   ]
  },
  {
   "cell_type": "markdown",
   "id": "e234886d-ff77-4e88-adaf-edb108733134",
   "metadata": {},
   "source": [
    "* 날씨에서 매상을 예측하는 일반선형 모델의 식\n",
    "\n",
    "$맥주 매상 ~ N \\left( \\beta_0 + \\beta_1 \\times 비+ \\beta2 \\times 맑음 , \\, \\sigma^2 \\right) $"
   ]
  },
  {
   "cell_type": "markdown",
   "id": "597fb9cf-af37-4cac-bd1e-8997a6e77cdb",
   "metadata": {},
   "source": [
    "* 여기서 '비'는 비가 왔을 때는 1, 그 외의 날에는 0인 변수(맑음도 동일)\n",
    "\n",
    "* 따라서 $\\beta_1$과 $\\beta_2$는 각각 비와 맑음의 영향을 나타내는 파라미터가 됨\n",
    "\n",
    "* 흐림은 비와 맑음 모두 0일 경우의 계수 $\\beta_0$"
   ]
  },
  {
   "cell_type": "markdown",
   "id": "389dbcd5-dab6-4339-a804-c731c576dffe",
   "metadata": {},
   "source": [
    "### 5.2.14 더미변수"
   ]
  },
  {
   "cell_type": "markdown",
   "id": "c351d68b-c5d5-4e52-a3c6-1b1887fc0b92",
   "metadata": {},
   "source": [
    "* 카테고리형 변수를 모델에 넣을 때 사용하는 것이 **더미변수**\n",
    "\n",
    "* 예를 들어 비일 때 1이고, 그 외에는 0인 변수가 더미변수\n",
    "\n",
    "    - 딥러닝 쪽에선 one-hot encoding 이라는 표현을 사용\n",
    "\n",
    "\n",
    "* 다만, statsmodels를 사용해서 모델링을 하는  경우에는 더미변수의 존재를 의식할 일이 그다지 없음(단순회귀모델과 같은 방식으로 모델링 가능)"
   ]
  },
  {
   "cell_type": "markdown",
   "id": "287da6a1-e6c1-45a8-9433-7b9c85e29f1d",
   "metadata": {},
   "source": [
    "### 5.2.15 statsmodels를 이용한 분산분석"
   ]
  },
  {
   "cell_type": "markdown",
   "id": "c2a91e6f-ab96-4473-9a21-71d353ce6208",
   "metadata": {},
   "source": [
    "* 앞서 일원배치 분산분석을 실시한 데이터를 일반선형모델의 구조로 모델링\n",
    "\n",
    "* 독립변수가 연속형 변수든 카테고리형 변수든 smf.ols를 사용해서 모델링하는 것은 변함 없음"
   ]
  },
  {
   "cell_type": "code",
   "execution_count": 17,
   "id": "93b7f516-0640-4840-b436-0f4cbf5ab73d",
   "metadata": {},
   "outputs": [],
   "source": [
    "anova_model = smf.ols(\"beer ~ weather\", data = weather_beer).fit()"
   ]
  },
  {
   "cell_type": "markdown",
   "id": "40e04f8a-dc5b-4493-864a-1a104fdc4758",
   "metadata": {},
   "source": [
    "* 한 번 모델링해두면 간단히 분산분석을 실행할 수 있음\n",
    "\n",
    "* **```sm.stats.anova_lm```** 함수 사용"
   ]
  },
  {
   "cell_type": "code",
   "execution_count": 18,
   "id": "42ecc828-7429-4b26-a091-bbb2423ea342",
   "metadata": {},
   "outputs": [
    {
     "name": "stdout",
     "output_type": "stream",
     "text": [
      "          sum_sq   df     F    PR(>F)\n",
      "weather     64.0  2.0  16.0  0.025095\n",
      "Residual     6.0  3.0   NaN       NaN\n"
     ]
    }
   ],
   "source": [
    "print(sm.stats.anova_lm(anova_model, typ = 2))"
   ]
  },
  {
   "cell_type": "markdown",
   "id": "f20d610d-36e5-4c6f-8eaf-c7ecfa6f0387",
   "metadata": {},
   "source": [
    "> **(함수 설명)** https://www.statsmodels.org/dev/generated/statsmodels.stats.anova.anova_lm.html"
   ]
  },
  {
   "cell_type": "markdown",
   "id": "536e86a5-28b2-4278-963d-292ce21b83cf",
   "metadata": {},
   "source": [
    "### 5.2.16 분산분석표"
   ]
  },
  {
   "cell_type": "markdown",
   "id": "7da2bce2-ca94-48f1-9d93-f5ef73a173b1",
   "metadata": {},
   "source": [
    "* sm.stats.anova_lm 함수의 결과로 출력된 표의 형식을 **분산분석표**\n",
    "\n",
    "    * 분산분석표 내에는 그룹 간, 그룹 내 편차제곱합 sum_sq, 자유도 df 그리고 F비와 p값이 정리됨\n",
    "\n",
    "\n",
    "* 이 표만 보더라도 샘플사이즈나 수준의 개수를 알 수 있음"
   ]
  },
  {
   "cell_type": "markdown",
   "id": "7a6c1aef-4c16-4667-850e-c2cfdadf62b9",
   "metadata": {},
   "source": [
    "### 5.2.17 모델의 계수 해석"
   ]
  },
  {
   "cell_type": "markdown",
   "id": "327f07cc-b91c-4858-9063-5f7af49be8bf",
   "metadata": {},
   "source": [
    "* 추정된 모델의 계수 표시"
   ]
  },
  {
   "cell_type": "code",
   "execution_count": 19,
   "id": "8167af3c-fc68-4d2d-9bb4-cc3d68833ecd",
   "metadata": {},
   "outputs": [
    {
     "data": {
      "text/plain": [
       "Intercept           7.0\n",
       "weather[T.rainy]   -4.0\n",
       "weather[T.sunny]    4.0\n",
       "dtype: float64"
      ]
     },
     "execution_count": 19,
     "metadata": {},
     "output_type": "execute_result"
    }
   ],
   "source": [
    "anova_model.params"
   ]
  },
  {
   "cell_type": "markdown",
   "id": "31c368a7-4473-42bc-b620-a992e33ac780",
   "metadata": {},
   "source": [
    "* 모델의 식과 어떻게 대응되는지 확인 \n",
    "$$맥주 매상 ~ N \\left( \\beta_0 + \\beta_1 \\times 비+ \\beta2 \\times 맑음 , \\, \\sigma^2 \\right) $$"
   ]
  },
  {
   "cell_type": "markdown",
   "id": "df016c30-7144-4711-a01d-38b5a78cf938",
   "metadata": {},
   "source": [
    "* Intercept는 $\\beta_0$에 대응함. 그러므로 흐린 날의 매상 평균은 7이 되며, \n",
    "\n",
    "* 비오는 날에는 계수 weather[T.rainy]가 더해져 (7-4 = 3) 매상의 기댓값은 3이 되며,\n",
    "\n",
    "* 맑은 날에는 4가 더해져 매상의 기댓값은 11이 된다."
   ]
  },
  {
   "cell_type": "markdown",
   "id": "61633662-4a19-4de5-b2a7-7b7eea6af46e",
   "metadata": {},
   "source": [
    "### 5.2.18 모델을 사용해서 오차와 효과 분리하기"
   ]
  },
  {
   "cell_type": "markdown",
   "id": "7344ecef-6e38-4937-80d2-41cc52008874",
   "metadata": {},
   "source": [
    "* 추정된 모델의 계수를 이용해서 훈련 데이터에 적용한 결과를 확인"
   ]
  },
  {
   "cell_type": "code",
   "execution_count": 20,
   "id": "e98237aa-b3a4-48ce-932d-46076c2d8a2d",
   "metadata": {},
   "outputs": [
    {
     "data": {
      "text/plain": [
       "0     7.0\n",
       "1     7.0\n",
       "2     3.0\n",
       "3     3.0\n",
       "4    11.0\n",
       "5    11.0\n",
       "dtype: float64"
      ]
     },
     "execution_count": 20,
     "metadata": {},
     "output_type": "execute_result"
    }
   ],
   "source": [
    "fitted = anova_model.fittedvalues\n",
    "fitted"
   ]
  },
  {
   "cell_type": "markdown",
   "id": "0a2ec240-cd48-4467-821f-e8465d1af60a",
   "metadata": {},
   "source": [
    "* 적용 결과는 각 수준의 평균값과 일치함\n",
    "\n",
    "* 독립변수를 카테고리형 변수로 한 일반 선형 모델의 예측치는 각 수준의 평균값과 일치\n",
    "\n",
    "* 적용한 결과값(fitted value)과 실제 데이터의 차이가 잔차 -> anova_model.resid 코드로 확인 가능"
   ]
  },
  {
   "cell_type": "code",
   "execution_count": 21,
   "id": "e0e0af11-73ce-4e4c-b349-d436fd94ecbe",
   "metadata": {},
   "outputs": [
    {
     "data": {
      "text/plain": [
       "0   -1.0\n",
       "1    1.0\n",
       "2   -1.0\n",
       "3    1.0\n",
       "4   -1.0\n",
       "5    1.0\n",
       "dtype: float64"
      ]
     },
     "execution_count": 21,
     "metadata": {},
     "output_type": "execute_result"
    }
   ],
   "source": [
    "anova_model.resid"
   ]
  },
  {
   "cell_type": "markdown",
   "id": "d05f624c-c7e1-4774-b0c6-2cf61796d4c2",
   "metadata": {},
   "source": [
    "### 5.2.19 회귀모델의 분산분석"
   ]
  },
  {
   "cell_type": "markdown",
   "id": "1d44d6f3-5cc8-4e4b-bdc8-805141394e79",
   "metadata": {},
   "source": [
    "* 분산분석이라는 검정 방법은 일반선형모델에서 일반적으로 사용 가능\n",
    "\n",
    "* 이는 독립변수가 연속형 데이터여도 변함 없음"
   ]
  },
  {
   "cell_type": "code",
   "execution_count": 22,
   "id": "f9d21434-0447-4d55-b3ea-24e78d4e17b3",
   "metadata": {},
   "outputs": [],
   "source": [
    "# 데이터 읽어 들이기\n",
    "beer = pd.read_csv(\"py_source/5-1-1-beer.csv\")\n",
    "\n",
    "# 모델 추정\n",
    "lm_model = smf.ols(formula = \"beer ~ temperature\", data = beer).fit()"
   ]
  },
  {
   "cell_type": "markdown",
   "id": "611980fb-608c-40d9-8591-ffe8fa17ce89",
   "metadata": {},
   "source": [
    "* 독립변수가 카테고리형 변수라고 대하도 모델의 적용값과 잔차를사용해서 F비를 계산할 수 있음 \n",
    "\n",
    "* **(자유도)** 독립변수가 연속형 데이터인 경우 그룹 간 변동이나 그룹 내 변동이라는 용어는 잘 사용되지 않음\n",
    "\n",
    "    - 군간변동의 자유도를 **모델의 자유도** : 추정된 파라미터 수에서 1을 뺀 값 (예: 2(기온, 절편) - 1)\n",
    "    \n",
    "    - 군내변도의 자유도를 **잔차의 자유도** : 샘플사이즈에서 추정된 파라미터의 수를 뺀 값 (예: 30 - 2(기온, 절편))"
   ]
  },
  {
   "cell_type": "code",
   "execution_count": 23,
   "id": "0d3c584c-ebfa-4197-946d-6ca310b76fc3",
   "metadata": {},
   "outputs": [],
   "source": [
    "# 모델의 자유도\n",
    "df_lm_model = 1\n",
    "\n",
    "# 잔차의 자유도\n",
    "df_lm_resid = 28"
   ]
  },
  {
   "cell_type": "markdown",
   "id": "bf9a5027-93ed-416a-9306-381c75e8b593",
   "metadata": {},
   "source": [
    "* F비 계산 "
   ]
  },
  {
   "cell_type": "code",
   "execution_count": 24,
   "id": "e8c1e98c-5ccd-4525-83b5-be1e51ecae5d",
   "metadata": {},
   "outputs": [
    {
     "data": {
      "text/plain": [
       "28.447"
      ]
     },
     "execution_count": 24,
     "metadata": {},
     "output_type": "execute_result"
    }
   ],
   "source": [
    "# 모델을 적용한 값\n",
    "lm_effect = lm_model.fittedvalues\n",
    "\n",
    "# 잔차\n",
    "lm_resid = lm_model.resid\n",
    "\n",
    "# 기온의 효과 크기 (기온에 의한 추정치의 편차 제곱합), SSE\n",
    "mu = np.mean(lm_effect)\n",
    "squares_lm_model = np.sum((lm_effect - mu) ** 2)\n",
    "variance_lm_model = squares_lm_model / df_lm_model\n",
    "\n",
    "# 잔차의 크기, SSR\n",
    "squares_lm_resid = np.sum((lm_resid) **2)\n",
    "variance_lm_resid = squares_lm_resid / df_lm_resid\n",
    "\n",
    "# F비\n",
    "f_value_lm = variance_lm_model / variance_lm_resid\n",
    "f_value_lm"
   ]
  },
  {
   "cell_type": "markdown",
   "id": "32bb6082-90d1-499b-8155-0c034db266b7",
   "metadata": {},
   "source": [
    "* 이 F비를 사용해서 p값을 계산해도 괜찮지만, 숫자가 작기 때문에 거의 0이 되어 버림\n",
    "\n",
    "* 분산분석표를 출력함(F비의 계산 결과가 일치한다는 것을 확인)"
   ]
  },
  {
   "cell_type": "code",
   "execution_count": 25,
   "id": "5eef5701-2caa-4676-9a90-a6ee449ed5e9",
   "metadata": {},
   "outputs": [
    {
     "name": "stdout",
     "output_type": "stream",
     "text": [
      "                  sum_sq    df          F    PR(>F)\n",
      "temperature  1651.532489   1.0  28.446984  0.000011\n",
      "Residual     1625.582178  28.0        NaN       NaN\n"
     ]
    }
   ],
   "source": [
    "print(sm.stats.anova_lm(lm_model, typ = 2))"
   ]
  },
  {
   "cell_type": "markdown",
   "id": "0d97fec7-2fdd-4310-b6f6-8bf2f3b4f67a",
   "metadata": {},
   "source": [
    "* 이 결과의 일부는 모델의 summary 함수에도 출력됨"
   ]
  },
  {
   "cell_type": "code",
   "execution_count": 26,
   "id": "a79f66a0-aba0-4ba6-9604-717305eb7e3b",
   "metadata": {},
   "outputs": [
    {
     "data": {
      "text/html": [
       "<table class=\"simpletable\">\n",
       "<caption>OLS Regression Results</caption>\n",
       "<tr>\n",
       "  <th>Dep. Variable:</th>          <td>beer</td>       <th>  R-squared:         </th> <td>   0.504</td>\n",
       "</tr>\n",
       "<tr>\n",
       "  <th>Model:</th>                   <td>OLS</td>       <th>  Adj. R-squared:    </th> <td>   0.486</td>\n",
       "</tr>\n",
       "<tr>\n",
       "  <th>Method:</th>             <td>Least Squares</td>  <th>  F-statistic:       </th> <td>   28.45</td>\n",
       "</tr>\n",
       "<tr>\n",
       "  <th>Date:</th>             <td>Sun, 18 Sep 2022</td> <th>  Prob (F-statistic):</th> <td>1.11e-05</td>\n",
       "</tr>\n",
       "<tr>\n",
       "  <th>Time:</th>                 <td>19:15:22</td>     <th>  Log-Likelihood:    </th> <td> -102.45</td>\n",
       "</tr>\n",
       "<tr>\n",
       "  <th>No. Observations:</th>      <td>    30</td>      <th>  AIC:               </th> <td>   208.9</td>\n",
       "</tr>\n",
       "<tr>\n",
       "  <th>Df Residuals:</th>          <td>    28</td>      <th>  BIC:               </th> <td>   211.7</td>\n",
       "</tr>\n",
       "<tr>\n",
       "  <th>Df Model:</th>              <td>     1</td>      <th>                     </th>     <td> </td>   \n",
       "</tr>\n",
       "<tr>\n",
       "  <th>Covariance Type:</th>      <td>nonrobust</td>    <th>                     </th>     <td> </td>   \n",
       "</tr>\n",
       "</table>\n",
       "<table class=\"simpletable\">\n",
       "<tr>\n",
       "       <td></td>          <th>coef</th>     <th>std err</th>      <th>t</th>      <th>P>|t|</th>  <th>[0.025</th>    <th>0.975]</th>  \n",
       "</tr>\n",
       "<tr>\n",
       "  <th>Intercept</th>   <td>   34.6102</td> <td>    3.235</td> <td>   10.699</td> <td> 0.000</td> <td>   27.984</td> <td>   41.237</td>\n",
       "</tr>\n",
       "<tr>\n",
       "  <th>temperature</th> <td>    0.7654</td> <td>    0.144</td> <td>    5.334</td> <td> 0.000</td> <td>    0.471</td> <td>    1.059</td>\n",
       "</tr>\n",
       "</table>\n",
       "<table class=\"simpletable\">\n",
       "<tr>\n",
       "  <th>Omnibus:</th>       <td> 0.587</td> <th>  Durbin-Watson:     </th> <td>   1.960</td>\n",
       "</tr>\n",
       "<tr>\n",
       "  <th>Prob(Omnibus):</th> <td> 0.746</td> <th>  Jarque-Bera (JB):  </th> <td>   0.290</td>\n",
       "</tr>\n",
       "<tr>\n",
       "  <th>Skew:</th>          <td>-0.240</td> <th>  Prob(JB):          </th> <td>   0.865</td>\n",
       "</tr>\n",
       "<tr>\n",
       "  <th>Kurtosis:</th>      <td> 2.951</td> <th>  Cond. No.          </th> <td>    52.5</td>\n",
       "</tr>\n",
       "</table><br/><br/>Notes:<br/>[1] Standard Errors assume that the covariance matrix of the errors is correctly specified."
      ],
      "text/plain": [
       "<class 'statsmodels.iolib.summary.Summary'>\n",
       "\"\"\"\n",
       "                            OLS Regression Results                            \n",
       "==============================================================================\n",
       "Dep. Variable:                   beer   R-squared:                       0.504\n",
       "Model:                            OLS   Adj. R-squared:                  0.486\n",
       "Method:                 Least Squares   F-statistic:                     28.45\n",
       "Date:                Sun, 18 Sep 2022   Prob (F-statistic):           1.11e-05\n",
       "Time:                        19:15:22   Log-Likelihood:                -102.45\n",
       "No. Observations:                  30   AIC:                             208.9\n",
       "Df Residuals:                      28   BIC:                             211.7\n",
       "Df Model:                           1                                         \n",
       "Covariance Type:            nonrobust                                         \n",
       "===============================================================================\n",
       "                  coef    std err          t      P>|t|      [0.025      0.975]\n",
       "-------------------------------------------------------------------------------\n",
       "Intercept      34.6102      3.235     10.699      0.000      27.984      41.237\n",
       "temperature     0.7654      0.144      5.334      0.000       0.471       1.059\n",
       "==============================================================================\n",
       "Omnibus:                        0.587   Durbin-Watson:                   1.960\n",
       "Prob(Omnibus):                  0.746   Jarque-Bera (JB):                0.290\n",
       "Skew:                          -0.240   Prob(JB):                        0.865\n",
       "Kurtosis:                       2.951   Cond. No.                         52.5\n",
       "==============================================================================\n",
       "\n",
       "Notes:\n",
       "[1] Standard Errors assume that the covariance matrix of the errors is correctly specified.\n",
       "\"\"\""
      ]
     },
     "execution_count": 26,
     "metadata": {},
     "output_type": "execute_result"
    }
   ],
   "source": [
    "lm_model.summary()"
   ]
  },
  {
   "cell_type": "markdown",
   "id": "2670bfa4-97bd-44c3-932d-dc00c0e867a8",
   "metadata": {},
   "source": [
    "* F-statistic 이 F비 , 그 밑에 있는 Prob(F-statistic)이 분산분석의 p값을 보여줌\n",
    "\n",
    "* 독립변수가 1개인 경우에는 계수의 t검정 결과와 분산분석의 결과가 일치함\n",
    "\n",
    "* 단, 독립변수가 늘어나면 일치하지 않게 됨"
   ]
  }
 ],
 "metadata": {
  "kernelspec": {
   "display_name": "Python 3 (ipykernel)",
   "language": "python",
   "name": "python3"
  },
  "language_info": {
   "codemirror_mode": {
    "name": "ipython",
    "version": 3
   },
   "file_extension": ".py",
   "mimetype": "text/x-python",
   "name": "python",
   "nbconvert_exporter": "python",
   "pygments_lexer": "ipython3",
   "version": "3.9.12"
  }
 },
 "nbformat": 4,
 "nbformat_minor": 5
}
