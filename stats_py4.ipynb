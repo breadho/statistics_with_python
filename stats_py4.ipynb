{
 "cells": [
  {
   "cell_type": "markdown",
   "id": "8336e742-7e25-4599-b6a7-0e45dcdada99",
   "metadata": {},
   "source": [
    "# Chapter 4. 통계모델 기본"
   ]
  },
  {
   "cell_type": "markdown",
   "id": "de48e494-6a18-43a2-8396-43bb4ac70129",
   "metadata": {},
   "source": [
    "## 4.1 통계모델"
   ]
  },
  {
   "cell_type": "markdown",
   "id": "64125117-4279-4ed1-b9e3-fb59fd5e5f68",
   "metadata": {},
   "source": [
    "### 4.1.1 모델"
   ]
  },
  {
   "cell_type": "markdown",
   "id": "e53c0f9c-a588-4818-9cd0-a59b772ffc40",
   "metadata": {},
   "source": [
    "* 모델은 모형\n",
    "\n",
    "* 단순히 모델이라고 말할 경우 현실 세계의 모형이라고 해석할 수 있음"
   ]
  },
  {
   "cell_type": "markdown",
   "id": "c955909b-845e-400a-a595-4c20aafe2ab3",
   "metadata": {},
   "source": [
    "### 4.1.2 모델링"
   ]
  },
  {
   "cell_type": "markdown",
   "id": "666b2e2c-cc31-4ea2-a551-c69681cf9890",
   "metadata": {},
   "source": [
    "* 모델을 만드는 것을 모델링이라고 함\n",
    "\n",
    "* 통계모델을 만드는 것을 통계모델링이라고 함"
   ]
  },
  {
   "cell_type": "markdown",
   "id": "a96bbb07-dd21-4640-8762-0591b343e059",
   "metadata": {},
   "source": [
    "### 4.1.3 모델은 무엇에 도움이되나"
   ]
  },
  {
   "cell_type": "markdown",
   "id": "ca4a6143-6a76-4618-a573-d623150c46e6",
   "metadata": {},
   "source": [
    "* 실 세계의 모형(모델)을 이용하는 것으로 **현실 세계의 이해와 예측에 활용**"
   ]
  },
  {
   "cell_type": "markdown",
   "id": "47a7c7a5-c48d-4f27-bbde-c7e86d56d8b0",
   "metadata": {},
   "source": [
    "### 4.1.4 복잡한 세계를 단순화하다"
   ]
  },
  {
   "cell_type": "markdown",
   "id": "4b3f0461-f5d2-4b4f-b2f9-67395d9c5823",
   "metadata": {},
   "source": [
    "* 인간이 이해할 수 있을 만큼 단순하고 그러면서도 복잡한 현실상을 어느 정도 잘 설명할 수 있는 **복잡한 세계를 위한 단순한 모델** 의 구축"
   ]
  },
  {
   "cell_type": "markdown",
   "id": "1375db17-9111-45d6-b8eb-9a61610bba75",
   "metadata": {},
   "source": [
    "### 4.1.5 복잡한 현상을 특정한 관점에서 다시 보게 한다."
   ]
  },
  {
   "cell_type": "markdown",
   "id": "166b7b15-0b9e-4184-836d-4c8dabc5ab5c",
   "metadata": {},
   "source": [
    "* 예) 기온과 맥주 매상(그날의 기온이라는 관점), 맥주 애호 인구수와 맥주 매상(장기적 소비자수 추이에 따른 관점) 등 다양한 관점에서 바라본 모델의 구축 가능\n",
    "\n",
    "* **분석의 목적에 맞춰서 작성하는 모델과 주목하는 관점을 바꾸는 것이 가능**"
   ]
  },
  {
   "cell_type": "markdown",
   "id": "99d7b8ca-6242-440b-8b88-637ac9937811",
   "metadata": {},
   "source": [
    "### 4.1.6 수리모델"
   ]
  },
  {
   "cell_type": "markdown",
   "id": "a53ad655-1962-4527-86dc-aab9ad7b91de",
   "metadata": {},
   "source": [
    "* **수리모델** : 현상을 수식으로 표현한 모델\n",
    "\n",
    "    * 수식으로 표현하여 관계가 명확해짐\n",
    "\n",
    "    * 예) 맥주 매상(만원) = 20 + 4 x 기온 "
   ]
  },
  {
   "cell_type": "markdown",
   "id": "48227bca-fab5-4fc4-8c06-49a8447fd4f6",
   "metadata": {},
   "source": [
    "### 4.1.7 확률 모델"
   ]
  },
  {
   "cell_type": "markdown",
   "id": "7cc9f6b0-eba4-43f8-af93-0b1a3989ca98",
   "metadata": {},
   "source": [
    "* **확률모델** : 수리모델 중에서도 확률적인 표현이 있는 모델\n",
    "\n",
    "    * 확률적인 표현을 하기 위해서 확률분포를 사용\n",
    "    \n",
    "    * 예) $ 맥주 매상  \\sim N \\left( 20 + 4 \\times 기온 , \\sigma^2 \\right ) $\n",
    "    \n",
    "    * 예) $ 맥주 매상 = 20 + 4 \\times 기온 + \\epsilon , \\quad  \\epsilon \\sim N(0, \\sigma^2)$"
   ]
  },
  {
   "cell_type": "markdown",
   "id": "7b71f67e-a66a-4b12-a161-e4195ad7374a",
   "metadata": {},
   "source": [
    "### 4.1.8 통계모델"
   ]
  },
  {
   "cell_type": "markdown",
   "id": "748c129d-fb05-484f-b77e-b4cc35eedccd",
   "metadata": {},
   "source": [
    "* **통계모델** : 데이터에 적합하게 구축된 확률 모델"
   ]
  },
  {
   "cell_type": "markdown",
   "id": "fadd5407-1e21-4638-8628-33501d38c317",
   "metadata": {},
   "source": [
    "* 확률모델의 구조를 생각하면서 데이터에 적합하게 파라미터를 조정해가며 통계 모델을 구축\n",
    "\n",
    "* 확률모델과 통계모델의 구별은 그렇게 엄밀하지 않아서 같은 의미로 사용되는 경우도 있음\n",
    "\n",
    "* 이후 별다른 설명 없이 모델이라고 쓰여 있을 경우엔 통계모델을 가리키는 것"
   ]
  },
  {
   "cell_type": "markdown",
   "id": "393142e6-2dd4-4325-9233-faf39b2f09fe",
   "metadata": {},
   "source": [
    "### 4.1.9 확률분포와 통계모델"
   ]
  },
  {
   "cell_type": "markdown",
   "id": "7043d27c-5b35-4cbc-b006-c54369b571e3",
   "metadata": {
    "tags": []
   },
   "source": [
    "* **통계모델을 사용하면 확률분포의 모수(파라미터)의 변화 패턴을 명확히 할 수 있음**\n",
    "\n",
    "* 예) 기온이 올라가면 맥주 매상의 평균값이 증가한다와 같은 구조"
   ]
  },
  {
   "cell_type": "markdown",
   "id": "f507a96a-74c7-4443-825d-8a156a8e0f3f",
   "metadata": {},
   "source": [
    "### 4.1.10 통계모델을 이용한 예측"
   ]
  },
  {
   "cell_type": "markdown",
   "id": "7e91f699-078f-43e6-a7df-4154bedad5ad",
   "metadata": {},
   "source": [
    "* 예) $ 맥주매상 \\sim N(10 + 5 \\times 기온, \\, \\sigma^2)$\n",
    "\n",
    "    * 기온이 10$^{\\circ}C$일 때의 매상 예측은 기대값이 60, 분산이 $\\sigma^2$인 정규분포를 따르는 매상데이터를 얻을 것이라는 주장이 됨\n",
    "\n",
    "    * 통계모델에 의한 예측은 기온이라는 독립변수를 얻는 것이 조건인 매상의 확률분포, 즉 조건부 확률 분포라는 형태로 얻을 수 있음\n",
    "\n",
    "        - 예측값의 대푯값을 1개 고르는 경우에는 조건부 기댓값이 사용됨"
   ]
  },
  {
   "cell_type": "markdown",
   "id": "71f98468-a2e8-4976-8eeb-ed48cb501b8e",
   "metadata": {},
   "source": [
    "### 4.1.11 통계모델과 고전적인 분석 절차의 비교"
   ]
  },
  {
   "cell_type": "markdown",
   "id": "a68306a7-2c39-46e9-8d43-c2264676bac2",
   "metadata": {},
   "source": [
    "* 고전적인 평균값의 차이 검정 등은 통계모델의 활용 방법 중 한 가지에 불과\n",
    "\n",
    "* **모델을 만드는 단계에 주목함으로써 보다 복잡한 현상에 대해서도 분석을 할 수 있게 됨**\n",
    "\n",
    "    * 2가지 이상의 영향을 동시에 판단 가능 -> 모델링에 초점을 맞췄을 때의 큰 장점"
   ]
  },
  {
   "cell_type": "markdown",
   "id": "229a7800-b5e0-4423-8275-f031e4bcbbbb",
   "metadata": {},
   "source": [
    "### 4.1.12 통계모델의 활용"
   ]
  },
  {
   "cell_type": "markdown",
   "id": "8c920767-c458-4872-be54-a1e2f43e071d",
   "metadata": {},
   "source": [
    "* 모델을 구축하고 그 결과를 음미함으로써 다양한 결과를 얻을 수 있음\n",
    "\n",
    "    * 예를 들어 기온이 올라가면 맥주 매상이 증가한다는 현상의 해석이라든가 기온이라는 변수로 맥주 매상을 예측한다라는 것이 될 수 있음\n",
    "\n",
    "    * **하지만 이들은 추정된 모델 안에서만 성립하는 결과라는 점에 주의해야 할 필요가 있다.**\n",
    "\n",
    "* 통계모델은 어디까지나 '잠정적인' 세계의 모형일 뿐이지만 그럼에도 불구하고 모델을 사용함으로써 데이터 분석은 큰 진보를 달성할 수 있었음.\n",
    "\n",
    "    * **통계모델은 현대 데이터 분석의 표준 도구**라고 할 수 있다.\n",
    "\n",
    "    * 통계 모델을 사용하는 의의, 모델 구축 방법, 모델 평가 방법을 포괄적으로 배워서 모델을 올바르고 유효하게 활용할 필요가 있음"
   ]
  },
  {
   "cell_type": "markdown",
   "id": "2b8c383a-f6f1-4d6c-8ef3-c2bdd186f88a",
   "metadata": {},
   "source": [
    "## 4.2 통계모델을 만드는 방법"
   ]
  },
  {
   "cell_type": "markdown",
   "id": "4e6fb2ab-7ed6-4571-a12b-3775fa940af5",
   "metadata": {},
   "source": [
    "### 4.2.1 이 절의 예제"
   ]
  },
  {
   "cell_type": "markdown",
   "id": "8e89f5cc-b351-4e17-bff7-ba02e0d2ba16",
   "metadata": {},
   "source": [
    "* 4.1절에서와 같이 맥주 매상 예측 모델을 예제로 사용\n",
    "\n",
    "* 매상에 영향을 주는 변수로 기온, 날씨(맑음, 비, 흐림), 맥주 가격 등 3가지가 있음"
   ]
  },
  {
   "cell_type": "markdown",
   "id": "2ee25059-cf8f-4310-b1df-834baedcd0b3",
   "metadata": {},
   "source": [
    "### 4.2.2 종속변수와 독립변수"
   ]
  },
  {
   "cell_type": "markdown",
   "id": "5bf358d4-603b-43bc-b14d-6eeddb40f6d9",
   "metadata": {},
   "source": [
    "* **종속변수(응답변수)** 란 어떤 요인에 종속된 변수, 다시 말해 어떤 변화에 응답하는 변수 - 맥주 매상\n",
    "\n",
    "* **독립변수** 흥미 있는 대상의 변화를 설명하는 변수 - 기온, 날씨, 맥주 가격"
   ]
  },
  {
   "cell_type": "markdown",
   "id": "76947ca0-0eb6-4423-a195-46946649ff3f",
   "metadata": {},
   "source": [
    "* 확률모델에서는 '종속변수 ~ 독립변수'로 표기하는 경우가 많음. 종속변수가 물결 기호(~) 좌측에, 독립변수가 우측에 위치함"
   ]
  },
  {
   "cell_type": "markdown",
   "id": "91e80761-8d8f-48e6-84f9-148977296d16",
   "metadata": {},
   "source": [
    "### 4.2.3 파라메트릭 모델"
   ]
  },
  {
   "cell_type": "markdown",
   "id": "5a7c6f03-f1dc-453d-b0f7-4cb9bd4c0b6d",
   "metadata": {},
   "source": [
    "* **파라메트릭 모델** : 가능한 한 현상을 단순화해서 소수의 파라미터만 사용하는 모델\n",
    "\n",
    "* 파라메트릭 모델을 추정하는 경우에는 소수의 파라미터만 결정해도 되기 때문에 추정이 간단함\n",
    "\n",
    "> (참고) https://blog.naver.com/boadoboado11/222539829109 \n"
   ]
  },
  {
   "cell_type": "markdown",
   "id": "556640b9-dc96-4445-9b7d-325c58fc28d6",
   "metadata": {},
   "source": [
    "### 4.2.4 논파라메트릭 모델"
   ]
  },
  {
   "cell_type": "markdown",
   "id": "b5652018-a137-442b-a5ef-c94f5b1a4ca8",
   "metadata": {},
   "source": [
    "* **논파라메트릭 모델** : 소수의 파라미터만 사용한다는 방침을 취하지 않는 모델\n",
    "\n",
    "* 표현은 쉽게 할 수 있지만 복잡한 모델이 되기 쉬우므로 추정과 해석이 어려워질 수 있음"
   ]
  },
  {
   "cell_type": "markdown",
   "id": "428c2711-3fcf-4fc2-8596-e33f173c108c",
   "metadata": {},
   "source": [
    "### 4.2.5 선형 모델"
   ]
  },
  {
   "cell_type": "markdown",
   "id": "2b1a2ca4-4c98-4f6b-8645-bb9f034f0758",
   "metadata": {},
   "source": [
    "* **선형모델** : 종속변수와 독립변수의 관계를 선형으로 보는 모델"
   ]
  },
  {
   "cell_type": "markdown",
   "id": "26e053df-d831-4132-80b5-eee07a152588",
   "metadata": {},
   "source": [
    "### 4.2.6 계수와 가중치"
   ]
  },
  {
   "cell_type": "markdown",
   "id": "cdd27bad-4af3-44ce-9b38-24344b96ddd2",
   "metadata": {},
   "source": [
    "* 통계 모델에 사용되는 파라미터를 **계수**라고 함\n",
    "\n",
    "* 머신러닝에서는 같은 내용을 **가중치**라는 표현으로 사용함"
   ]
  },
  {
   "cell_type": "markdown",
   "id": "067e0298-5c28-4715-a928-ca9320d4829a",
   "metadata": {},
   "source": [
    "### 4.2.7 모델 구축 = 모델 정하기 + 파라미터 추정"
   ]
  },
  {
   "cell_type": "markdown",
   "id": "8bbe5a42-63fd-4e95-a52b-c4fe8aab1ad1",
   "metadata": {},
   "source": [
    "* 모델 구축 방법은 크게 두 가지로 나뉨.\n",
    "\n",
    "    * 하나는 모델의 구조를 수식으로 표현하는 것 : **모델의 특정**\n",
    "    \n",
    "    * 다른 하나는 **파라미터를 추정** 하는 것"
   ]
  },
  {
   "cell_type": "markdown",
   "id": "69ccb2be-d2b5-4ccf-b32d-fb0765e85f5e",
   "metadata": {},
   "source": [
    "* 단순한 확률분포를 이용해서 선형모델을 구축할 때는 파라미터 추정에 실패하는 경우가 적음\n",
    "\n",
    "    * 모델의 구조를 생각하는 것에만 주력하면 되기 때문에 선형모델은 통계모델의 입문으로서 적절한 주제라 할 수 있음\n",
    "\n",
    "\n",
    "* 복잡한 머신러닝, 예를 들어 심층학습 등을 이용하는 경우에는 파라미터 추정에 실패하는 경우가 종종 있음\n",
    "\n",
    "    * 모델의 구조를 배우는 것 뿐만 아니라 파라미터 추정에 관한 다양한 정보를 기억해야 할 필요가 있음"
   ]
  },
  {
   "cell_type": "markdown",
   "id": "58509306-addb-4f9c-b30f-53df7a31fc6d",
   "metadata": {},
   "source": [
    "### 4.2.8 선형모델을 구축하는 방법"
   ]
  },
  {
   "cell_type": "markdown",
   "id": "168bcda0-fb2c-4565-997c-a2386429d9f2",
   "metadata": {},
   "source": [
    "* 모델 구축의 두 가지 작업 중 파라미터 추정은 파이썬을 이용해서 대부분 자동으로 완료함(다만 그 구조를 이해하는 것은 중요함)\n",
    "\n",
    "* 선형모델의 경우 표현의 폭은 좁아지지만 반대로 그 때문에 기계적으로 모델의 구조를 확인할 수 있음\n",
    "\n",
    "* 선형모델임을 가정했을 때 모델의 구조를 바꾸는 방법은 대부분 다음 두 가지임\n",
    "\n",
    "    - 모델에 사용되는 독립변수를 바꾼다. \n",
    "\n",
    "    - 데이터가 따르는 확률분포를 바꾼다."
   ]
  },
  {
   "cell_type": "markdown",
   "id": "44f907a5-f21d-4555-87e9-bc7d557f01eb",
   "metadata": {},
   "source": [
    "### 4.2.9 변수 선택"
   ]
  },
  {
   "cell_type": "markdown",
   "id": "e7b87f31-7d6e-43ce-8493-54e196c77827",
   "metadata": {},
   "source": [
    "* **변수 선택** : 모델에 사용될 독립변수를 고르는 작업\n",
    "\n",
    "* 변수 조합 중 가장 좋은 변수의 조합을 가진 모델을 선택하는 것이 변수 선택\n",
    "\n",
    "    - 가장 좋은 변수 조합을 선택하는 방법은 크게 두 가지임. 하나는 통계적가설검정을 이용하는 방법이고, 다른 하나는 정보 기준(AIC 등)을 이용하는 방법"
   ]
  },
  {
   "cell_type": "markdown",
   "id": "77f523c8-6ed9-4807-85d8-1f8db9d0d21d",
   "metadata": {},
   "source": [
    "### 4.2.10 Null 모델"
   ]
  },
  {
   "cell_type": "markdown",
   "id": "9119802f-6e7f-4aa5-8731-72e2e95d8ed5",
   "metadata": {},
   "source": [
    "* 독립변수가 없는 모델을 Null 모델(널모델)이라고 함. "
   ]
  },
  {
   "cell_type": "markdown",
   "id": "c6971c15-779d-4cbf-bba4-79cc77a45ebf",
   "metadata": {},
   "source": [
    "### 4.2.11 검정을 이용한 변수 선택"
   ]
  },
  {
   "cell_type": "markdown",
   "id": "663c01a1-ee4a-488f-9c23-6606050750ef",
   "metadata": {},
   "source": [
    "* 맥주 매상 모델을 이용한 예제\n",
    "\n",
    "    - $맥주 매상 \\sim N\\left( \\beta_0 + \\beta_1 \\times 기온 , \\, \\sigma^2 \\right)$\n",
    "    \n",
    "        * 귀무가설: 독립변수의 계수 $\\beta_1$은 0 이다.\n",
    "    \n",
    "        * 대립가설: 독립변수의 계수 $\\beta_1$은 0이 아니다.\n",
    "        \n",
    "* 귀무가설이 기각되는 경우에는 기온에 대한 계수가 0이 아니라고 판단할 수 있기 때문에 모델에 기온이라는 독립변수가 필요하다고 판단할 수 있음\n",
    "\n",
    "* 귀무가설을 기각할 수 없을 때는 **모델은 간단한 쪽이 좋다**는 레이저 원칙에 의해 변수를 모델에서 제거함"
   ]
  },
  {
   "cell_type": "markdown",
   "id": "d4c1ba94-6f01-4954-b0e2-a0ee1c6c9e20",
   "metadata": {},
   "source": [
    "### 4.2.12 정보 기준을 이용한 변수 선택"
   ]
  },
  {
   "cell_type": "markdown",
   "id": "723d1d97-2d1e-4331-b7da-a1cfef7538c0",
   "metadata": {},
   "source": [
    "* **정보 기준** : 추정한 모델의 좋은 정도(의 일면)를 정량화한 지표. 아카이케 정보 기준(Akaike's information Criterion, AIC) 등이 자주 사용됨\n",
    "\n",
    "    * AIC가 작을수록 좋은 모델이라고 판단할 수 있음. 모델에서 가능한 변수의 패턴을 망라하여 모델을 구축하고 각 모델의 AIC를 비교함.\n",
    "    \n",
    "    * AIC가 가장 작은 모델을 채택함으로써 변수 선택을 실행함"
   ]
  },
  {
   "cell_type": "markdown",
   "id": "def0036e-81e8-4bd2-8567-3f43b63471f7",
   "metadata": {},
   "source": [
    "### 4.2.13 모델 평가"
   ]
  },
  {
   "cell_type": "markdown",
   "id": "d1e30334-f05e-4f2e-82f4-95eefca55264",
   "metadata": {},
   "source": [
    "* 추정한 모델을 무조건 신뢰하는 것은 위험함. 추정한 모델을 평가해야 할 필요가 있음\n",
    "\n",
    "* 평가 관점\n",
    "\n",
    "    - 예측 정확도\n",
    "    \n",
    "    - 전제조건의 만족(잔차의 정규성 등)"
   ]
  },
  {
   "cell_type": "markdown",
   "id": "6a4d0d8f-7eb8-4e7b-81dc-88ad07165783",
   "metadata": {},
   "source": [
    "### 4.2.14 통게모델을 만들기 전에 분석의 목적을 정한다"
   ]
  },
  {
   "cell_type": "markdown",
   "id": "85af3d91-116b-41c4-b3ef-fb1c1c8b2f07",
   "metadata": {},
   "source": [
    "* 너무나도 중요할 지 모르는 분석 방법에 대한 설명\n",
    "\n",
    "    - 분석의 목적을 결정하고 데이터를 수집하여 모델링하는 것이 중요함\n",
    "\n",
    "        - 예) 매상을 늘리고 싶다는 것이 목적이라면 기온과 맥주의 관계를 모델링하는 것은 무의미함\n",
    "    \n",
    "        - 기온을 우리가 변화시키는 것은 어렵기 때문. 기온을 바탕으로 매상을 예측하여 재고관리에 활용하는 것이 목적이라면 도움이 됨 \n",
    "    \n"
   ]
  },
  {
   "cell_type": "markdown",
   "id": "384d24ec-573c-4d2a-8881-2efcb7231ba6",
   "metadata": {},
   "source": [
    "## 4.3 데이터의 표현과 모델의 명칭"
   ]
  },
  {
   "cell_type": "markdown",
   "id": "d4ad1629-d9e0-44b4-9c7e-b76a91dd2cf9",
   "metadata": {},
   "source": [
    "### 4.3.1 정규선형모델"
   ]
  },
  {
   "cell_type": "markdown",
   "id": "b0b0da3c-bf1d-467c-94d1-d6471f3ba858",
   "metadata": {},
   "source": [
    "* 종속변수가 정규분포를 따른다는 것을 가정한 선형모델을 **정규선형모델**이라고 함\n",
    "\n",
    "    * 정규 선형모델은 파라메트릭 모델이라고 할 수 있음\n",
    "    \n",
    "    * 종속변수가 정규분포를 따른다고 가정하기 때문에 종속변수는 $-\\infty \\sim \\infty$의 범위를 갖는 연속형 변수가 됨 "
   ]
  },
  {
   "cell_type": "markdown",
   "id": "4efb0054-2780-44c0-a6d0-a82fda2f251f",
   "metadata": {},
   "source": [
    "### 4.3.2 회귀분석"
   ]
  },
  {
   "cell_type": "markdown",
   "id": "48b3e0b6-4764-4a7e-9b55-01fb9dd2456c",
   "metadata": {},
   "source": [
    "* 정규선형모델 중 독립변수가 연속형 변수인 모델을 **회귀분석** 또는 **회귀모델** 이라고 함"
   ]
  },
  {
   "cell_type": "markdown",
   "id": "295610ba-bd6c-4e9c-81d4-b84a560db279",
   "metadata": {},
   "source": [
    "### 4.3.3 다중회귀분석"
   ]
  },
  {
   "cell_type": "markdown",
   "id": "89d2500b-0f38-40d6-bac7-0448656f5043",
   "metadata": {},
   "source": [
    "* 회귀분석 중 독립변수가 여러개 있는 것을 **다중회귀분석** 이라고 함"
   ]
  },
  {
   "cell_type": "markdown",
   "id": "33e939a9-9370-4f17-b8ef-36530442745b",
   "metadata": {},
   "source": [
    "### 4.3.4 분산분석"
   ]
  },
  {
   "cell_type": "markdown",
   "id": "0ed72e66-724e-4e96-a176-eac3a1f43054",
   "metadata": {},
   "source": [
    "* 정규선형모델 중에서 독립변수가 카테고리형 변수인 모델을 **분산분석 모델** 이라고 함\n",
    "\n",
    "* 독립변수가 1종류일 때를 **일원분산분석**, 독립변수가 2종류일때를 **이원분산분석** 이라고 함 \n",
    "\n",
    "    - 이 용어는자주 보이지만 가능한 한 정규선형모델이라는 틀 안에서 이해하는 편이 좋음"
   ]
  },
  {
   "cell_type": "markdown",
   "id": "e148a42f-968c-42a0-bb9d-489ed1639a14",
   "metadata": {},
   "source": [
    "### 4.3.5 일반선형모델"
   ]
  },
  {
   "cell_type": "markdown",
   "id": "0159031a-2336-458b-9726-e5cde3ef98b9",
   "metadata": {},
   "source": [
    "* 종속변수가 따르는 확률분포를 정규분포 이외의 분포에도 사용 가능하게 한 선형모델을 **일반선형모델** 이라고 함\n",
    "\n",
    "    - 정규분포를 따르는 선형모델인 정규선형모델은 일반선형모델의 일종으로 볼 수 있음"
   ]
  },
  {
   "cell_type": "markdown",
   "id": "5c507d71-4cc6-4781-8f41-7be6b7453988",
   "metadata": {},
   "source": [
    "### 4.3.6 머신러닝에서의 명칭"
   ]
  },
  {
   "cell_type": "markdown",
   "id": "e3085d3c-2ae2-493a-893b-fb2c553a7d3e",
   "metadata": {},
   "source": [
    "* 머신러닝 분야에서 회귀는 종속변수가 연속형 변수인 모델을 의미함.\n",
    "\n",
    "    - 이 경우 정규선형모델은 넓은 의미에서 회귀가 됨\n",
    "\n",
    "* 한편 머신러닝 분야에서 종속변수가 카테고리형 변수인 모델을 분류 또는 식별 모델이라고 함.\n",
    "\n",
    "    - 일반화선형모델은 확률분포에 따라서 회귀모델이라고 하거나 식별 모델이라고 함.\n",
    "    \n",
    "    - 예를 들어 모집단분포를 이항분포라고 가정했을 경우에는 식별모델이며, 푸아송 분포라고 가정했을 경우에는 회귀모델이 됨. 분야에 따라 용어가 다를 수 있으므로 주의해야 함"
   ]
  },
  {
   "cell_type": "markdown",
   "id": "274b2c88-1c08-45bf-91ee-f6cee42b3892",
   "metadata": {},
   "source": [
    "## 4.4 파라미터 추정: 우도의 최대화"
   ]
  },
  {
   "cell_type": "markdown",
   "id": "2b2a7340-acab-4915-9a21-c4f66b593f3f",
   "metadata": {},
   "source": [
    "### 4.4.1 파라미터 추정 방법을 배우는 의미"
   ]
  },
  {
   "cell_type": "markdown",
   "id": "be2047b3-c106-4be2-a52f-2e8a78243713",
   "metadata": {},
   "source": [
    "* 새로운 기술이 나타났을 때 그것을 빨리 활용할 수 있는 사람은 원래부터 기술의 원리를 알고 있던 사람 뿐\n",
    "\n",
    "* 파라미터 추정의 원리와 계산의 의미를 이해하면 큰 장점이 될 것임"
   ]
  },
  {
   "cell_type": "markdown",
   "id": "ff3a1c0b-13bb-4993-b2c6-236ee6317f6a",
   "metadata": {},
   "source": [
    "### 4.4.2 우도(가능도, likelihood)"
   ]
  },
  {
   "cell_type": "markdown",
   "id": "80f15ef2-b461-4040-ba1d-d01372f12631",
   "metadata": {},
   "source": [
    "* 파라미터가 정해져 있을 때 표본을 얻을 수 있는 확률(밀도)"
   ]
  },
  {
   "cell_type": "markdown",
   "id": "9c5c21b9-aeb5-4d9f-83bc-0bd575c3b689",
   "metadata": {},
   "source": [
    "### 4.4.3 우도함수"
   ]
  },
  {
   "cell_type": "markdown",
   "id": "ed8c9bf2-ab50-422e-a8b9-11ae1f2f64aa",
   "metadata": {},
   "source": [
    "* 파라미터를 넘겨서 우도를 계산할 수 있는 함수 : **우도함수**\n",
    "\n",
    "* $L \\left ( \\theta \\right )$"
   ]
  },
  {
   "cell_type": "markdown",
   "id": "7eea2d34-d6eb-436f-be5e-63cb638a1d95",
   "metadata": {},
   "source": [
    "### 4.4.4 로그우도"
   ]
  },
  {
   "cell_type": "markdown",
   "id": "4748b900-8f34-4ffb-a60e-1321021c1cd2",
   "metadata": {},
   "source": [
    "* 우도에 로그를 취한 것(계산의 편의성 도모)"
   ]
  },
  {
   "cell_type": "markdown",
   "id": "13253059-761c-4ff2-a946-21c49ca4e8e1",
   "metadata": {},
   "source": [
    "### 4.4.5 로그의 성질"
   ]
  },
  {
   "cell_type": "markdown",
   "id": "547bf6f7-7940-463f-94c0-8c0e9e0f398c",
   "metadata": {},
   "source": [
    "* 1. 단조증가한다.\n",
    "\n",
    "* 2. 곱셈이 덧셈으로 바뀐다.\n",
    "\n",
    "* 3. 절댓값이 극단적으로 작은 값이 되기 어렵다."
   ]
  },
  {
   "cell_type": "markdown",
   "id": "5b96ffb2-2992-4b93-90eb-33c79cf639de",
   "metadata": {},
   "source": [
    "### 4.4.6 최대우도법"
   ]
  },
  {
   "cell_type": "markdown",
   "id": "94b9a3e6-3c34-4e67-9463-5d814cfac909",
   "metadata": {},
   "source": [
    "* 우도나 로그우도의 결과를 최대로 하기 위한 파라미터를 추정할 때 사용하는 방법"
   ]
  },
  {
   "cell_type": "markdown",
   "id": "4fc04677-b03a-4b99-ba79-caa187960479",
   "metadata": {},
   "source": [
    "### 4.4.7 최대우도추정량"
   ]
  },
  {
   "cell_type": "markdown",
   "id": "037bee94-818a-4384-a500-61baae748bbf",
   "metadata": {},
   "source": [
    "* 최대우도법에 의해 추정된 파라미터를 **최대우도추정량** 이라고 함\n",
    "\n",
    "* 추정값임을 나타내기 위해 hat 기호를 사용함 $\\hat{\\theta}$"
   ]
  },
  {
   "cell_type": "markdown",
   "id": "cbae21f4-fac7-4240-8fa1-a63f655e78ff",
   "metadata": {},
   "source": [
    "### 4.4.8 최대화 로그우도"
   ]
  },
  {
   "cell_type": "markdown",
   "id": "99db52c8-5ee5-43c8-b2a2-c8ae6ead9ec2",
   "metadata": {},
   "source": [
    "* 최대우도추정량을 사용했을때의 로그우도 $logL\\left(\\hat{\\theta}\\right)$ 를 최대화 로그우도라고 함"
   ]
  },
  {
   "cell_type": "markdown",
   "id": "63b775d1-fa67-490f-9d69-2842b136af99",
   "metadata": {},
   "source": [
    "### 4.4.9 정규분포를 따르는 데이터의 우도"
   ]
  },
  {
   "cell_type": "markdown",
   "id": "237e5932-f3b6-4038-8b15-cb822cb612a1",
   "metadata": {},
   "source": [
    "$y \\sim N\\left( \\mu, \\sigma^2 \\right )$ 일 때 \n",
    "$L = N\\left( y_1 | \\mu, \\sigma^2 \\right ) \\times N \\left ( y_2 | \\mu , \\sigma^2 \\right )$"
   ]
  },
  {
   "cell_type": "markdown",
   "id": "73d00c00-5a8e-47d4-a887-efe2f9dd6ffe",
   "metadata": {},
   "source": [
    "### 4.4.10 장애모수(nuisance parameter)"
   ]
  },
  {
   "cell_type": "markdown",
   "id": "8b71e7ab-54af-4fa4-ae5a-e6c6d59a055c",
   "metadata": {},
   "source": [
    "* 직접적인 관심의 대상이 아닌 파라미터 : **장애모수**\n",
    "\n",
    "* 정규분포의 모수는 평균과 분산 2가지. 하지만 분산은 평균값에서 계산할 수 있음. 즉, 평균을 추정할 수 있다면 분산 또한 덩달아 알 수 있음\n",
    "\n",
    "    * 따라서 분산이라는 파라미터는 이미 알고 있는 것으로 취급함\n",
    "\n",
    "\n",
    "* 정규분포를 추정할 때의 최대우도법에서는 분산 $\\sigma^2$을 장애 모수로 취급함"
   ]
  },
  {
   "cell_type": "markdown",
   "id": "4529b880-3178-49a7-b8c9-2f68a8361f8b",
   "metadata": {},
   "source": [
    "### 4.4.11 정규선형모델의 우도"
   ]
  },
  {
   "cell_type": "markdown",
   "id": "4412ca76-ff37-443c-81c8-cca77dcdbbc2",
   "metadata": {},
   "source": [
    "* 로그우도르 최대로 하는 파라미터 $\\beta_0$, $\\beta_1$을 추정치로 사용하는 것이 최대우도법\n",
    "\n",
    "    * 상세 식은 생략"
   ]
  },
  {
   "cell_type": "markdown",
   "id": "1ae3339e-d8bb-422d-82b3-0a8453f912de",
   "metadata": {},
   "source": [
    "### 4.4.12 최대우도법 계산 예"
   ]
  },
  {
   "cell_type": "markdown",
   "id": "0b08abdd-47db-4638-ae68-b43676374944",
   "metadata": {},
   "source": [
    "* 최대로그우도에 대한 미분 사용\n",
    "\n",
    "정리하면 $\\mu$ 의 maximum likelihood 값은 평균으로 귀결됨 "
   ]
  },
  {
   "cell_type": "markdown",
   "id": "fb95f4f0-2729-4c29-b87b-2098ca6d78b0",
   "metadata": {},
   "source": [
    "$$\\mu = \\frac{1}{N} \\sum_{i=1}^{N} y_i$$"
   ]
  },
  {
   "cell_type": "markdown",
   "id": "1a712298-d1f8-4077-addb-b7aba29688bd",
   "metadata": {},
   "source": [
    "### 4.4.13 최대우도추정량의 성질"
   ]
  },
  {
   "cell_type": "markdown",
   "id": "afbf8dec-d5bd-4c0f-b1ea-a92e18267c3f",
   "metadata": {},
   "source": [
    "* 샘플사이즈가 한없이 커질때 추정량의 표본분포가 점근적으로 정규분포를 따름\n",
    "\n",
    "* 최대우도추정량은 점근 유효추정량. 표본분산의 분산이 작아 추정치의 흩어짐이 작고 추정오차가 작으므로 바람직한 성질을 가진 추정량이라고 할 수 있음"
   ]
  },
  {
   "cell_type": "markdown",
   "id": "ca5e3c39-dd33-456d-8539-7facf8583766",
   "metadata": {},
   "source": [
    "## 4.5 파라미터 추정: 손실의 최소화"
   ]
  },
  {
   "cell_type": "markdown",
   "id": "27bb4b5b-3241-46e7-ae82-b8756c5ed996",
   "metadata": {},
   "source": [
    "### 4.5.1 손실함수"
   ]
  },
  {
   "cell_type": "markdown",
   "id": "8597e506-2990-4a32-a51a-f71fd5bdb9b9",
   "metadata": {},
   "source": [
    "**손실함수** : 파라미터 추정을 할 때 손실을 최소화하는 목적으로 사용되는 함수"
   ]
  },
  {
   "cell_type": "markdown",
   "id": "99671176-57e2-49c5-a3bf-247a56e1bad0",
   "metadata": {},
   "source": [
    "### 4.5.2 잔차"
   ]
  },
  {
   "cell_type": "markdown",
   "id": "4f9f46cb-fbd8-4449-96b4-6e24a519c3ab",
   "metadata": {},
   "source": [
    "**잔차(residuals)** : 실제 종속변수의 값과 모델을 이용하여 계산한 종속변수의 추정치와의 차이"
   ]
  },
  {
   "cell_type": "markdown",
   "id": "73bb78f8-0f74-4e7f-9a9d-91a26f73cd8d",
   "metadata": {},
   "source": [
    "$$ residuals = y - \\hat{y}$$"
   ]
  },
  {
   "cell_type": "markdown",
   "id": "ace23026-f8ef-4c80-8794-994138d59ce1",
   "metadata": {},
   "source": [
    "### 4.5.3 잔차의 합을 그대로 손실의 지표로 사용할 수 없는 이유"
   ]
  },
  {
   "cell_type": "markdown",
   "id": "4503cdf9-0fed-4887-a7b4-9d2c86fadc32",
   "metadata": {},
   "source": [
    "* 거리의 개념이 빠져있어서 합이 0이 된다고 해도 실제로 차이가 0이라 할 수는 없음 \n",
    "\n",
    "* $ \\sum{residuals}  = 0 $ "
   ]
  },
  {
   "cell_type": "markdown",
   "id": "5d9e136d-ec7c-4a59-bfec-6d4b008fc403",
   "metadata": {},
   "source": [
    "### 4.5.4 잔차제곱합"
   ]
  },
  {
   "cell_type": "markdown",
   "id": "012ccb24-cb9c-498c-b2f7-75722dc28bcf",
   "metadata": {},
   "source": [
    "* 잔차를 제곱해서 합계를 구한 것을 **잔차제곱합** 이라고 함\n",
    "\n",
    "* 잔차제곱합은 다음과 같음 \n",
    "\n",
    "$$ sum of squared residuals = \\sum_{i=1}^{N} \\left [ \\left ( y_i - \\hat{y_i} \\right )^2 \\right ] $$"
   ]
  },
  {
   "cell_type": "markdown",
   "id": "82c0942e-b114-4739-b6c4-126e3c18a0ca",
   "metadata": {},
   "source": [
    "### 4.5.5 최소제곱법"
   ]
  },
  {
   "cell_type": "markdown",
   "id": "36e65eee-180c-417d-a1c0-0bdd9c5584c2",
   "metadata": {},
   "source": [
    "* 잔차제곱합을 최소로 하는 파라미터를 채용하는 방법을 **최소제곱법** 이라고 함\n",
    "\n",
    "* 손실함수로 잔차제곱합을 사용하여 손실을 최소로 하는 파라미터를 추정치로 하는 방법이라고도 얘기할 수 있음\n",
    "\n",
    "    * 보통 최소제곱법은 Ordinary Least Squared 를 줄여서 OLS라고 씀"
   ]
  },
  {
   "cell_type": "markdown",
   "id": "3c6fbf84-0214-4743-ae6e-675a0f086f77",
   "metadata": {},
   "source": [
    "### 4.5.6 최소제곱법과 최대우도법의 관계"
   ]
  },
  {
   "cell_type": "markdown",
   "id": "e7ad862c-5c33-4c18-9a9d-46bd269964a6",
   "metadata": {},
   "source": [
    "* 최소제곱법을 이용한 파라미터 추정치는 모집단 분포가 정규분포임을 가정했을 때의 최대우도법의 결과와 일치함"
   ]
  },
  {
   "cell_type": "markdown",
   "id": "7b9f1b3e-a933-40a0-b488-9c3d9afec623",
   "metadata": {},
   "source": [
    "### 4.5.7 오차함수"
   ]
  },
  {
   "cell_type": "markdown",
   "id": "828d4dd5-ae12-4e10-81dd-c6cf2b05c8bd",
   "metadata": {},
   "source": [
    "* 머신러닝 분야에서 로그우도의 부호를 바꾼 것을 **오차함수**라고 부름\n",
    "\n",
    "* 로그우도의 플러스 마이너스를 바꾼 것이므로 이를 최소화하는 것은  우도를 최대로 하는 것과 같음\n",
    "\n",
    "* 최소제곱법은 모집단 분포가 정규분포임을 가정했을 때의 오차함수를 최소화하는 것"
   ]
  },
  {
   "cell_type": "markdown",
   "id": "0e07d109-764e-44d7-bd33-8458b3a484d6",
   "metadata": {},
   "source": [
    "### 4.5.8 여러가지 손실함수"
   ]
  },
  {
   "cell_type": "markdown",
   "id": "87b2ccad-e852-4a67-bef7-e4562f253488",
   "metadata": {},
   "source": [
    "* 모집단의 분포가 정규분포 이외의 분포임을 가정하게 되면 최대우도법의 추정치와 최소제곱법의 추정치는 일치하지 않게 됨\n",
    "\n",
    "* 따라서 데이터를 가정하고 있는 분포에 따라서 손실함수를 바꿔야 한다는 점에 주의해야 함"
   ]
  },
  {
   "cell_type": "markdown",
   "id": "94fd0d32-363c-4dd6-a3f1-6ed0c9d6fe69",
   "metadata": {},
   "source": [
    "### 4.6 예측 정확도의 평가와 변수 선택"
   ]
  },
  {
   "cell_type": "markdown",
   "id": "fcb00890-cf69-4762-953f-b855b8babeb7",
   "metadata": {},
   "source": [
    "### 4.6.1 적합도와 예측 정확도"
   ]
  },
  {
   "cell_type": "markdown",
   "id": "42e563c0-4c8b-4d86-91e5-af7ec4df2861",
   "metadata": {},
   "source": [
    "* **적합도** 가지고 있는 데이터에 대해 모델을 적용했을 때 들어맞는 정도\n",
    "\n",
    "* **예측 정확도** 는 아직 얻지 못한 데이터에 대해 모델을 적용했을 때 들어맞는 정도\n",
    "\n",
    "    - 들어맞는 정도의 지료로는 로그우도나 잔차제곱합 등이 사용됨"
   ]
  },
  {
   "cell_type": "markdown",
   "id": "6c0044e3-2929-4a9f-bd1e-0f30dfd219e2",
   "metadata": {},
   "source": [
    "### 4.6.2 과적합(오버피팅)"
   ]
  },
  {
   "cell_type": "markdown",
   "id": "f2f02012-4daa-4b85-9fdc-d183e73234e2",
   "metadata": {},
   "source": [
    "* 적합도는 높은데, 예측 정확도가 낮아지는 경우 **과적합** 이라고 함\n",
    "\n",
    "* 가지고 있는 데이터에 지나치게 적합한 모델을 만들면 발생하며, 예측력이 저하되는 문제가 발생함"
   ]
  },
  {
   "cell_type": "markdown",
   "id": "51cbb51e-b553-4945-b34d-ed40a706be0e",
   "metadata": {},
   "source": [
    "### 4.6.3 변수 선택의 의의"
   ]
  },
  {
   "cell_type": "markdown",
   "id": "825a83df-9d04-44dc-80a2-3664debe949f",
   "metadata": {},
   "source": [
    "* 과적합을 하게 되는 흔한 원인으로 독립변수를 너무 많이 늘리는 경우\n",
    "\n",
    "* **필요없는 독립변수를 제외하는 것만으로도 예측 정확도가 높아질 가능성이 있음**"
   ]
  },
  {
   "cell_type": "markdown",
   "id": "e4293952-d3df-4fa9-9dc7-96c14793c8e4",
   "metadata": {},
   "source": [
    "### 4.6.4 일반화 오차"
   ]
  },
  {
   "cell_type": "markdown",
   "id": "6dd9ea12-a499-460f-a66f-4276795841cf",
   "metadata": {},
   "source": [
    "* 아직 얻지 못한 데이터에 대한 예측 오차를 **일반화 오차** 라고 함\n",
    "\n",
    "* 과적합에 대해 이야기할 때 일반화 오차라는 용어를 사용하면 오해가 생기지 않음"
   ]
  },
  {
   "cell_type": "markdown",
   "id": "fd1bbd53-4006-4576-a59d-2371c38611aa",
   "metadata": {},
   "source": [
    "### 4.6.5 훈련 데이터와 테스트 데이터"
   ]
  },
  {
   "cell_type": "markdown",
   "id": "019c9cf0-29d7-40d7-9654-5f428340bf7f",
   "metadata": {},
   "source": [
    "* **훈련 데이터(트레이닝 데이터)** 는 파라미터 추정에 사용되는 데이터 \n",
    "\n",
    "* **테스트 데이터** 일반화 오차를 평가하기 위해 파라미터 추정을 할 때 사용하지 않고 남겨둔 데이터"
   ]
  },
  {
   "cell_type": "markdown",
   "id": "1adc2265-e9c6-40a5-9052-4d081953e331",
   "metadata": {},
   "source": [
    "### 4.6.6 교차검증"
   ]
  },
  {
   "cell_type": "markdown",
   "id": "f0e2f324-36ab-4833-b1b2-85e6e62db016",
   "metadata": {},
   "source": [
    "* **교차검증(크로스 밸리데이션 cross validation, CV)** 은 데이터를 일정한 규칙에 따라 훈련 데이터와 테스트 데이터로 나누어 테스트 데이터에 대한 예측 정확도를 평가하는 방법\n",
    "\n",
    "    - **리브-p-이웃 교차검증(leave-p-out CV)** : 가지고 있는 데이터에서 p개의 데이터를 추출하고 남은 데이터를 테스트 데이터로 사용하는 방법\n",
    "    \n",
    "    - **k겹 교차검증(K-fold CV)** : 가지고 있는 데이터를 K개의 그룹으로 나눔. 그 그룹 중에서 하나를 추출하여 테스트 데이터로 사용. 이것을K 번 반복하여 예측 정확도의 평균값을 평가값으로 사용함"
   ]
  },
  {
   "cell_type": "markdown",
   "id": "e9b3a5bc-e1ef-4cfd-8375-07977a754852",
   "metadata": {},
   "source": [
    "### 4.6.7 아카이케 정보 기준(AIC)"
   ]
  },
  {
   "cell_type": "markdown",
   "id": "3ea7e807-92e6-4960-9dc1-dab70f4ad439",
   "metadata": {},
   "source": [
    "* **아카이케 정보 기준(AIC)** 은 아래 수식으로 계산, AIC가 작을 수록 좋은 모델\n",
    "\n",
    "$$ AIC = -2 \\times (최대로그우도 - 추정된 파라미터 수)$$\n",
    "\n",
    "* AIC로 추정한 파라미터 수를 적합도에 대한 패널티로 사용\n",
    "\n",
    "* 같은 적합도라도 추정된 파라미터 수가 작을수록 AIC 값이 작아짐\n",
    "\n",
    "* AIC는 **패널티를 보강하고, 지나치게 로그우도가 높아지는지 판단하는 지표**, 불필요한 변수를 제외할 수 있음 \n",
    "\n",
    "* AIC는 교차검증에 비해 계산량이 적다는 큰 장점이 있음"
   ]
  },
  {
   "cell_type": "markdown",
   "id": "2bc8d1f2-d941-4b84-916d-3d0faf6ccd88",
   "metadata": {},
   "source": [
    "### 4.6.8 상대 엔트로피"
   ]
  },
  {
   "cell_type": "markdown",
   "id": "a990e9c7-1242-46e4-bd2a-4ed62c3f74fa",
   "metadata": {},
   "source": [
    "* 통계모델의 예측이 확률분포 였다는 것을 새각하면 진짜 분포와 통계모델에 의해 얻어진 분포의 차이는 중요한 요소가 될 수 있음\n",
    "\n",
    "* **상대엔트로피** : 확률분포의 차이를 측정하는 지표 / 분포 사이의 의사(pseudo) 거리라고 부르면 다음 식과 같음\n",
    "\n",
    "$$ 상대 엔트로피 = \\int g(x)log \\frac{g(x)}{f(x)} \\mathrm{d}x  =  \\int g(x)\\left\\{ log{g(x)} - log{f(x)} \\right\\} \\mathrm{d}x$$"
   ]
  },
  {
   "cell_type": "markdown",
   "id": "d02d1b6a-cd8d-4934-bbd7-ada2acfd7084",
   "metadata": {},
   "source": [
    "* 상대 엔트로피는 2개의 확률밀도함수의 로그차 $log g(x) - log f(x)$를 상대 엔트로피의 기댓값으로 간주하고, 이 값을 이용해 확률분포의 차이를 측정하는 지표"
   ]
  },
  {
   "cell_type": "markdown",
   "id": "61c0f4d8-c791-4a75-8b1b-7d639827ccd7",
   "metadata": {},
   "source": [
    "### 4.6.9 상대엔트로피의 최소화와 평균로그우도"
   ]
  },
  {
   "cell_type": "markdown",
   "id": "63a78b72-be4d-4443-a616-1a48ca1a77ee",
   "metadata": {},
   "source": [
    "- 진짜 분포와 예측 분포의 거리를 줄이는 방법\n",
    "\n",
    "    - $y$는 종속변수이며, $g(y)$가 진짜 분포, $f(y)$가 모델로 예측한 분포\n",
    "    \n",
    "    - 아래 마지막 식에 -1을 곱한 값을 **평균로그우도**라고 부름\n",
    "    \n",
    "        $$ \\int g(y) \\left\\{ log g(y) - log f(y) \\right\\} \\mathrm{d}y$$   \n",
    "        $$ \\int g(y) log g(y) -  g(y) log f(y)  \\mathrm{d}y$$\n",
    "        $$ \\int -g(y)logf(y) \\mathrm{d}y $$ \n",
    "      "
   ]
  },
  {
   "cell_type": "markdown",
   "id": "ab13f643-b693-43ea-aff0-999af8e51541",
   "metadata": {},
   "source": [
    "* 평균로그우도를 최대화하는 것은 진짜 분포와 예측된 분포의 차이를 최소화 하는 것과 같음"
   ]
  },
  {
   "cell_type": "markdown",
   "id": "43675a22-a159-4266-9fb0-e4c392219df7",
   "metadata": {},
   "source": [
    "### 4.6.10 평균로그우도가 지니는 편향과 AIC"
   ]
  },
  {
   "cell_type": "markdown",
   "id": "eaf6d01d-bbf0-4815-9685-e9acc586ddfc",
   "metadata": {},
   "source": [
    "* 평균로그우도 자체를 계산하는 것은 어렵기 때문에 최대로그우도를 대신 사용함\n",
    "\n",
    "* 최대로그우도는 평균로그우도보다 크게 편향된 값을 가짐\n",
    "\n",
    "* 편향의 크기는 추정된 파라미터 수라는 것이 수학적으로 증명됨 (최대로그우도에서 추정된 파라미터 수를 빼는 이유)\n",
    "\n",
    "* 때문에 이 편향을 없앤 것이 AIC가 되어 아래와 같이 계산함\n",
    "\n",
    "$$ AIC = -2 \\times (최대로그우도 - 추정된 \\,파라미터\\, 수) $$"
   ]
  },
  {
   "cell_type": "markdown",
   "id": "c1077578-7022-4d1d-a418-934e000777ce",
   "metadata": {},
   "source": [
    "### 4.6.11 AIC와 교차 검증"
   ]
  },
  {
   "cell_type": "markdown",
   "id": "2dd74c21-e59a-4a86-b009-f5136dd2e116",
   "metadata": {},
   "source": [
    "* 모델의 적합도로 최대우도를 사용하고, 예측의 좋음 정도 평가에 로그 우도를 사용한다는 조건을 만족했을 때 리브-1-아웃 교차검증을 이용한 변수 선택의 결과와 AIC 최소 기준(AIC를 최소로 하는 것)에 대한 변수 선택의 결과는 점근적으로 일치함\n",
    "\n",
    "* AIC 최소 기준에서 변수를 선택하면 모르는 데이터에 대한 예측 정확도를 높일 수 있는 가능성이 있음"
   ]
  },
  {
   "cell_type": "markdown",
   "id": "5ee58e16-b955-47ad-bc66-843566fbee97",
   "metadata": {},
   "source": [
    "### 4.6.12 AIC를 이용한 변수 선택"
   ]
  },
  {
   "cell_type": "markdown",
   "id": "3e43ada0-abb1-426f-b779-30afd8d3e24a",
   "metadata": {},
   "source": [
    "* AIC는 모델의 좋음을 평가하는 지표\n",
    "\n",
    "* AIC가 작을수록 좋은 모델이라고 판단할 수 있음\n",
    "\n",
    "* AIC가 최소가 되는 변수의 조합을 선택하는 것으로 변수 선택을 수행함"
   ]
  },
  {
   "cell_type": "markdown",
   "id": "7526fb9e-5494-4980-aded-6e2506656cd0",
   "metadata": {},
   "source": [
    "### 4.6.13 검정 대신  변수 선택"
   ]
  },
  {
   "cell_type": "markdown",
   "id": "9e8ee2aa-11b9-41e6-a963-f0cb48074381",
   "metadata": {},
   "source": [
    "* 예) 약을 먹었을 때 체온이 오른다고 볼 수 있는지 알고 싶을 때, 두 모델을 생성 더 작은 AIC 값을 갖는 모델 선택\n",
    "\n",
    "    - 모델 1: 체온 ~ 독립변수 없음\n",
    "    - 모델 2: 체온 ~ 약의 유무\n",
    "    \n",
    "    - 만약 모델 2의 AIC가 더 작다면 모델 2 채택\n",
    "    \n",
    "* 다만, 검정과는 그 해석이 크게 다르다는 점에 주의 ! \n",
    "\n",
    "    - 모델 2가 체온을 보다 잘 예측할 수 있는 모델이기 때문에 채택, 모델 2가 올바르다는 보증은 AIC가 해줄 수 없음"
   ]
  },
  {
   "cell_type": "markdown",
   "id": "457e305a-28ea-4e77-8258-0fe0c980af7f",
   "metadata": {},
   "source": [
    "### 4.6.14 검정과 AIC 중 어느 것을 사용할 것인가?\n"
   ]
  },
  {
   "cell_type": "markdown",
   "id": "07683c08-bb35-44a5-ba3a-0dc481fd4f11",
   "metadata": {},
   "source": [
    "* 검정과 AIC 중 어느 쪽이 나은지는 판별할 수 없음\n",
    "\n",
    "* 원하는 결과가 나오지 않는다고 하여 검정을 AIC로 바꾸거나 해서는 안됨\n",
    "\n",
    "* 정보기준에는 AIC 외에도 BIC나 AICc 등 몇가지 지표가 더 알려져 있음 -> 하지만 자신이 원하는 결과를 얻을 때까지 지표를 바꾸는 일은 하지 말아야 함"
   ]
  }
 ],
 "metadata": {
  "kernelspec": {
   "display_name": "Python 3 (ipykernel)",
   "language": "python",
   "name": "python3"
  },
  "language_info": {
   "codemirror_mode": {
    "name": "ipython",
    "version": 3
   },
   "file_extension": ".py",
   "mimetype": "text/x-python",
   "name": "python",
   "nbconvert_exporter": "python",
   "pygments_lexer": "ipython3",
   "version": "3.9.12"
  }
 },
 "nbformat": 4,
 "nbformat_minor": 5
}
