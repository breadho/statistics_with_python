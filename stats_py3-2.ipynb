{
 "cells": [
  {
   "cell_type": "markdown",
   "id": "82021583-5cab-4a32-9da2-2788bbc576e2",
   "metadata": {},
   "source": [
    "# Statistics_python"
   ]
  },
  {
   "cell_type": "markdown",
   "id": "49c37409-9b90-4e0f-9f47-2d84cd125265",
   "metadata": {},
   "source": [
    "# Chapter 3. 파이썬을 이용한 데이터 분석"
   ]
  },
  {
   "cell_type": "markdown",
   "id": "fa4f0cef-bba0-491b-9dcd-6b3574eda762",
   "metadata": {},
   "source": [
    "## 3.6 정규분포와 응용"
   ]
  },
  {
   "cell_type": "markdown",
   "id": "16c10527-4505-498c-810c-238aa5dd178e",
   "metadata": {},
   "source": [
    "* 정규분포를 할용하면 시뮬레이션을 하지 않고 계산만으로도 다양한 것을 알 수 있다.\n",
    "\n",
    "* 확률밀도함수를 이용하는 방법과 파이썬으로 구현하는 방법, 정규분포에서 얻을 수 있는 표본분포로 t분포를 도입"
   ]
  },
  {
   "cell_type": "markdown",
   "id": "c2e3bf0f-8edf-4b90-9b58-2796b5592e65",
   "metadata": {},
   "source": [
    "### 3.6.1 라이브러리 임포트"
   ]
  },
  {
   "cell_type": "code",
   "execution_count": 1,
   "id": "b1e2f9ee-bbcd-4e58-9f56-6dcef7e3f44f",
   "metadata": {},
   "outputs": [],
   "source": [
    "# 수치 계산에 사용하는 라이브러리\n",
    "import numpy as np\n",
    "import pandas as pd\n",
    "import scipy as sp\n",
    "from scipy import stats\n",
    "\n",
    "# 그래프를 그리기 위한 라이브러리\n",
    "from matplotlib import pyplot as plt\n",
    "import seaborn as sns\n",
    "sns.set()\n",
    "\n",
    "# 표시 자릿수 지정\n",
    "%precision 3\n",
    "\n",
    "# 그래프를 주피터 노트북에 그리기 위한 설정\n",
    "%matplotlib inline"
   ]
  },
  {
   "cell_type": "markdown",
   "id": "0e741991-9400-43e1-aa9f-40217aa65277",
   "metadata": {},
   "source": [
    "### 3.6.2 확률밀도"
   ]
  },
  {
   "cell_type": "markdown",
   "id": "6dd007c6-b658-4059-a9b8-d6f595372a5e",
   "metadata": {},
   "source": [
    "* 정규분포의 확률밀도 함수 만들기"
   ]
  },
  {
   "cell_type": "code",
   "execution_count": 2,
   "id": "e465678e-8a9f-4264-9e37-586ffbf0fa60",
   "metadata": {},
   "outputs": [
    {
     "data": {
      "text/plain": [
       "3.142"
      ]
     },
     "execution_count": 2,
     "metadata": {},
     "output_type": "execute_result"
    }
   ],
   "source": [
    "np.pi"
   ]
  },
  {
   "cell_type": "code",
   "execution_count": 3,
   "id": "adec0b03-14da-4b7c-b12a-475aabc537bd",
   "metadata": {},
   "outputs": [
    {
     "data": {
      "text/plain": [
       "2.718"
      ]
     },
     "execution_count": 3,
     "metadata": {},
     "output_type": "execute_result"
    }
   ],
   "source": [
    "np.exp(1)"
   ]
  },
  {
   "cell_type": "markdown",
   "id": "d3e22207-79fe-4e8f-b59e-5c5367f6b678",
   "metadata": {},
   "source": [
    "* 평균 4, 분산 0.64(표준편차 0.8)인 정규분포에 대해 확률변수가 3일때의 확률밀도 확인"
   ]
  },
  {
   "cell_type": "code",
   "execution_count": 4,
   "id": "068ca8cf-daa5-447b-b480-edb3cfa149cb",
   "metadata": {},
   "outputs": [
    {
     "data": {
      "text/plain": [
       "0.228"
      ]
     },
     "execution_count": 4,
     "metadata": {},
     "output_type": "execute_result"
    }
   ],
   "source": [
    "x = 3\n",
    "mu = 4\n",
    "sigma = 0.8 \n",
    "\n",
    "1 / (np.sqrt(2 * np.pi * sigma**2)) * np.exp(-((x - mu) ** 2)/(2*sigma**2))"
   ]
  },
  {
   "cell_type": "markdown",
   "id": "47389539-02c6-4005-97b1-4287800db8bd",
   "metadata": {},
   "source": [
    "* scipy.stats 내장 함수를 이용해 위 계산을 간단하게 할 수 있음"
   ]
  },
  {
   "cell_type": "code",
   "execution_count": 5,
   "id": "3fb6f21e-a803-4720-9b94-a70b821b5682",
   "metadata": {},
   "outputs": [
    {
     "data": {
      "text/plain": [
       "0.228"
      ]
     },
     "execution_count": 5,
     "metadata": {},
     "output_type": "execute_result"
    }
   ],
   "source": [
    "stats.norm.pdf(loc = 4, scale = 0.8, x = 3)"
   ]
  },
  {
   "cell_type": "markdown",
   "id": "678d54b3-b330-4a01-b507-6a28e6e22794",
   "metadata": {},
   "source": [
    "* 평균 4, 표준편차 0.8인 정규분포의 인스턴스를 생성해서 pdf 함수를 호출해도 동일한 결과를 얻을 수 있음"
   ]
  },
  {
   "cell_type": "code",
   "execution_count": 6,
   "id": "831f868b-7c31-42e9-9eba-ad2acee35e26",
   "metadata": {},
   "outputs": [
    {
     "data": {
      "text/plain": [
       "0.228"
      ]
     },
     "execution_count": 6,
     "metadata": {},
     "output_type": "execute_result"
    }
   ],
   "source": [
    "norm_dist = stats.norm(loc = 4, scale = 0.8)\n",
    "norm_dist.pdf(x = 3)"
   ]
  },
  {
   "cell_type": "markdown",
   "id": "dfb202bf-bc1a-41f2-a397-f7f8d6b19cbb",
   "metadata": {},
   "source": [
    "* 확률밀도의 시각화"
   ]
  },
  {
   "cell_type": "code",
   "execution_count": 7,
   "id": "535c14ac-4bd8-44fc-ac58-f8b4e25a6c68",
   "metadata": {},
   "outputs": [
    {
     "data": {
      "text/plain": [
       "[<matplotlib.lines.Line2D at 0x196da655ca0>]"
      ]
     },
     "execution_count": 7,
     "metadata": {},
     "output_type": "execute_result"
    },
    {
     "data": {
      "image/png": "[encoded data removed]",
      "text/plain": [
       "<Figure size 432x288 with 1 Axes>"
      ]
     },
     "metadata": {
      "needs_background": "light"
     },
     "output_type": "display_data"
    }
   ],
   "source": [
    "x_plot = np.arange(start = 1, stop = 7.1, step = 0.1)\n",
    "plt.plot(x_plot, stats.norm.pdf(x = x_plot, loc = 4, scale = 0.8), color = 'black')"
   ]
  },
  {
   "cell_type": "markdown",
   "id": "ffda15f7-c417-49e2-b8ff-aaa43396d8bc",
   "metadata": {},
   "source": [
    "### 3.6.3 표본이 어떤 값 이하가 되는 비율"
   ]
  },
  {
   "cell_type": "markdown",
   "id": "996e038b-50f8-4905-87b0-1c85c898caab",
   "metadata": {},
   "source": [
    "* 어떤 값 이하가 되는 데이터의 개수 / 샘플 사이즈 계산을 통해 도출 가능"
   ]
  },
  {
   "cell_type": "code",
   "execution_count": 8,
   "id": "26863814-ffd7-41c7-822b-8eafbe450ccb",
   "metadata": {},
   "outputs": [
    {
     "data": {
      "text/plain": [
       "array([5.299, 3.511, 3.577, ..., 4.065, 4.275, 3.402])"
      ]
     },
     "execution_count": 8,
     "metadata": {},
     "output_type": "execute_result"
    }
   ],
   "source": [
    "np.random.seed(1)\n",
    "simulated_sample = stats.norm.rvs(loc = 4, scale = 0.8, size = 100000)\n",
    "simulated_sample"
   ]
  },
  {
   "cell_type": "code",
   "execution_count": 9,
   "id": "0fba3a02-d083-4090-995e-6145924c5a66",
   "metadata": {},
   "outputs": [
    {
     "data": {
      "text/plain": [
       "100000"
      ]
     },
     "execution_count": 9,
     "metadata": {},
     "output_type": "execute_result"
    }
   ],
   "source": [
    "len(simulated_sample)"
   ]
  },
  {
   "cell_type": "code",
   "execution_count": 10,
   "id": "217a3120-16f1-455e-8b16-54d2c0b4cb68",
   "metadata": {},
   "outputs": [
    {
     "data": {
      "text/plain": [
       "10371"
      ]
     },
     "execution_count": 10,
     "metadata": {},
     "output_type": "execute_result"
    }
   ],
   "source": [
    "np.sum(simulated_sample < 3)"
   ]
  },
  {
   "cell_type": "code",
   "execution_count": 11,
   "id": "9b5acff3-371f-4ec3-a73a-28c7bf6e9af8",
   "metadata": {},
   "outputs": [
    {
     "data": {
      "text/plain": [
       "0.104"
      ]
     },
     "execution_count": 11,
     "metadata": {},
     "output_type": "execute_result"
    }
   ],
   "source": [
    "np.sum(simulated_sample < 3) / len(simulated_sample)"
   ]
  },
  {
   "cell_type": "markdown",
   "id": "2618c6e3-1941-4efb-8bf2-20958650ef67",
   "metadata": {},
   "source": [
    "### 3.6.4 누적분포함수"
   ]
  },
  {
   "cell_type": "markdown",
   "id": "489a1f06-1a2a-4b13-97cb-6f12c36c2283",
   "metadata": {},
   "source": [
    "* 확률변수 X에 대해 x가 실수라고 했을 때 다음과 같이 되는 $F(X)$를 **누적분포함수 또는 분포함수(cdf: cumulative distribution function)** 라고 한다.\n",
    "\n",
    "    $$F(x) = P(X \\le x )$$"
   ]
  },
  {
   "cell_type": "code",
   "execution_count": 12,
   "id": "bd0076af-e093-4a51-bac2-6f26ac92459b",
   "metadata": {},
   "outputs": [
    {
     "data": {
      "text/plain": [
       "0.106"
      ]
     },
     "execution_count": 12,
     "metadata": {},
     "output_type": "execute_result"
    }
   ],
   "source": [
    "stats.norm.cdf(loc = 4, scale = 0.8, x = 3)"
   ]
  },
  {
   "cell_type": "code",
   "execution_count": 13,
   "id": "a7cd01cd-5c14-4c0e-97c9-d64aefae6eb4",
   "metadata": {},
   "outputs": [
    {
     "data": {
      "text/plain": [
       "0.500"
      ]
     },
     "execution_count": 13,
     "metadata": {},
     "output_type": "execute_result"
    }
   ],
   "source": [
    "stats.norm.cdf(loc = 4, scale = 0.8, x = 4)"
   ]
  },
  {
   "cell_type": "code",
   "execution_count": 14,
   "id": "e87ad98e-76b8-4457-a606-50e169e5b958",
   "metadata": {},
   "outputs": [
    {
     "data": {
      "text/plain": [
       "1.000"
      ]
     },
     "execution_count": 14,
     "metadata": {},
     "output_type": "execute_result"
    }
   ],
   "source": [
    "stats.norm.cdf(loc = 4, scale = 0.8, x = 7)"
   ]
  },
  {
   "cell_type": "markdown",
   "id": "b47bcc64-dfdc-40c1-96fa-84d802c6d763",
   "metadata": {},
   "source": [
    "### 3.6.5 하측확률과 퍼센트포인트"
   ]
  },
  {
   "cell_type": "markdown",
   "id": "7124fa9b-bdac-4a5c-9ba9-28ed0ca50764",
   "metadata": {},
   "source": [
    "* **하측확률(low probability)** 데이터가 어떤 값 이하가 될 확률\n",
    "\n",
    "* **퍼센트포인트(percent point)** : 반대로 어떤 확률이 될 기준치 (quantile) -> ppf(percent point function) 이용하여 계산"
   ]
  },
  {
   "cell_type": "code",
   "execution_count": 15,
   "id": "c7e0a844-f34c-4fdc-b554-53f0e945247a",
   "metadata": {},
   "outputs": [
    {
     "data": {
      "text/plain": [
       "2.432"
      ]
     },
     "execution_count": 15,
     "metadata": {},
     "output_type": "execute_result"
    }
   ],
   "source": [
    "stats.norm.ppf(loc = 4, scale = 0.8, q = 0.025)"
   ]
  },
  {
   "cell_type": "markdown",
   "id": "f5539c67-e49c-4f20-a4f8-40fe0e9725fb",
   "metadata": {},
   "source": [
    "* 하측확률과 퍼센트 포인트 관계"
   ]
  },
  {
   "cell_type": "code",
   "execution_count": 16,
   "id": "c89d3b9c-2276-4bd0-b723-673245765b48",
   "metadata": {},
   "outputs": [
    {
     "data": {
      "text/plain": [
       "3.000"
      ]
     },
     "execution_count": 16,
     "metadata": {},
     "output_type": "execute_result"
    }
   ],
   "source": [
    "lower = stats.norm.cdf(loc = 4, scale = 0.8, x = 3)\n",
    "stats.norm.ppf(loc = 4, scale = 0.8, q = lower)"
   ]
  },
  {
   "cell_type": "markdown",
   "id": "f04acd9b-025e-4040-8a6c-49bd86ef9843",
   "metadata": {},
   "source": [
    "* 하측확률이 50%가 되는 퍼센트포인트는 평균과 일치함"
   ]
  },
  {
   "cell_type": "code",
   "execution_count": 17,
   "id": "5c8346f7-6f3f-46a8-abdc-0db62b6ae6f3",
   "metadata": {},
   "outputs": [
    {
     "data": {
      "text/plain": [
       "4.000"
      ]
     },
     "execution_count": 17,
     "metadata": {},
     "output_type": "execute_result"
    }
   ],
   "source": [
    "stats.norm.ppf(loc = 4, scale = 0.8, q = 0.5)"
   ]
  },
  {
   "cell_type": "markdown",
   "id": "abe8d88f-388d-4edd-991d-3d6b8471be8b",
   "metadata": {},
   "source": [
    "### 3.6.6. 표준정규분포"
   ]
  },
  {
   "cell_type": "markdown",
   "id": "02b69cd6-49c4-489e-b56f-4a007f2fc1df",
   "metadata": {},
   "source": [
    "* 평균 0, 분산(표준편차) 1인 정규분포\n",
    "\n",
    "* 파이썬의 퍼센트포인트 함수를 이용하면 과거 표준정규분포표는 사용하지 않아도 됨"
   ]
  },
  {
   "cell_type": "markdown",
   "id": "b250fdf5-c50a-4850-8f85-6a279d4ea821",
   "metadata": {},
   "source": [
    "### 3.6.7 t값"
   ]
  },
  {
   "cell_type": "markdown",
   "id": "e997ab6f-af71-4fd3-ae6a-1648260fac44",
   "metadata": {},
   "source": [
    "* t값은 다음과 같이 계산되는 통계량\n",
    "\n",
    "$ t = \\frac{ \\hat{\\mu} - \\mu}{\\frac{\\hat{\\sigma} } {\\sqrt{N}}} $\n",
    "\n",
    "* 자연어로 다시 쓰면 t값 = (표본평균 - 모평균)/표준오차\n",
    "\n",
    "* 즉, 표본평균에 대한 표준화로 볼 수 있음\n",
    "\n",
    "    * 표준오차 = 표본평균의 표준편차"
   ]
  },
  {
   "cell_type": "markdown",
   "id": "126b2811-e60d-4f50-8b74-875574b7e41a",
   "metadata": {},
   "source": [
    "### 3.6.8 t값의 표본분포"
   ]
  },
  {
   "cell_type": "markdown",
   "id": "cf1d898a-82e4-4db6-b0d9-b842d10e0920",
   "metadata": {},
   "source": [
    "* 모집단분포가 정규분포임을 가정했을 때 표본분포를 구하는 것도 이론적으로 가능함\n",
    "\n",
    "* 다음 시뮬레이션 실시 \n",
    "\n",
    "    - 1. 모집단 분포가 $N(x | 4, 0.8^2)$인 모집단에서 표본추출 시뮬레이션을 실시. 이때 샘플사이즈는 10\n",
    "    \n",
    "    - 2. 얻은 표본에서 표본평균을 구함\n",
    "    \n",
    "    - 3. 얻은 표본에서 표준오차를 구함(표준오차는 표본평균의 표준오차로 간주)\n",
    "    \n",
    "    - 4. (표본평균 - 모평균) / 표준오차 계산으로 t값을 계산함    "
   ]
  },
  {
   "cell_type": "code",
   "execution_count": 18,
   "id": "a3b6b884-55cc-4912-813a-be3b0c18f928",
   "metadata": {},
   "outputs": [],
   "source": [
    "np.random.seed(1)\n",
    "\n",
    "t_value_array = np.zeros(10000)\n",
    "\n",
    "norm_dist = stats.norm(loc = 4, scale = 0.8)\n",
    "\n",
    "# 시뮬레이션 실시\n",
    "\n",
    "for i in range(0, 10000):\n",
    "    sample = norm_dist.rvs(size = 10)\n",
    "    sample_mean = np.mean(sample)\n",
    "    sample_std = np.std(sample, ddof = 1)\n",
    "    sample_se = sample_std/np.sqrt(len(sample))\n",
    "    t_value_array[i] = (sample_mean - 4) / sample_se"
   ]
  },
  {
   "cell_type": "code",
   "execution_count": 19,
   "id": "ece66ad3-d342-44b1-9197-bcffaed22a9b",
   "metadata": {},
   "outputs": [
    {
     "name": "stderr",
     "output_type": "stream",
     "text": [
      "C:\\ProgramData\\Anaconda3\\lib\\site-packages\\seaborn\\distributions.py:2619: FutureWarning: `distplot` is a deprecated function and will be removed in a future version. Please adapt your code to use either `displot` (a figure-level function with similar flexibility) or `histplot` (an axes-level function for histograms).\n",
      "  warnings.warn(msg, FutureWarning)\n"
     ]
    },
    {
     "data": {
      "text/plain": [
       "[<matplotlib.lines.Line2D at 0x196daeb4ac0>]"
      ]
     },
     "execution_count": 19,
     "metadata": {},
     "output_type": "execute_result"
    },
    {
     "data": {
      "image/png": "[encoded data removed]",
      "text/plain": [
       "<Figure size 432x288 with 1 Axes>"
      ]
     },
     "metadata": {
      "needs_background": "light"
     },
     "output_type": "display_data"
    }
   ],
   "source": [
    "## distplot 이용 \n",
    "\n",
    "# t값의 히스토그램\n",
    "sns.distplot(t_value_array, color = \"steelblue\")\n",
    "\n",
    "# 표준정규분포의 확률밀도\n",
    "x = np.arange(start = -8, stop = 8.1, step = 0.1)\n",
    "plt.plot(x, stats.norm.pdf(x = x), color = \"red\", linestyle = \"dotted\")"
   ]
  },
  {
   "cell_type": "code",
   "execution_count": 20,
   "id": "75f2dccb-6a0f-4520-9044-ebc3c9e15db4",
   "metadata": {},
   "outputs": [
    {
     "data": {
      "text/plain": [
       "[<matplotlib.lines.Line2D at 0x196db2f0b20>]"
      ]
     },
     "execution_count": 20,
     "metadata": {},
     "output_type": "execute_result"
    },
    {
     "data": {
      "image/png": "[encoded data removed]",
      "text/plain": [
       "<Figure size 360x360 with 1 Axes>"
      ]
     },
     "metadata": {
      "needs_background": "light"
     },
     "output_type": "display_data"
    }
   ],
   "source": [
    "## displot 이용 \n",
    "\n",
    "# t값의 히스토그램\n",
    "sns.displot(t_value_array, color = \"steelblue\", stat=\"density\", kde = True)\n",
    "# 표준정규분포의 확률밀도\n",
    "x = np.arange(start = -8, stop = 8.1, step = 0.1)\n",
    "plt.plot(x, stats.norm.pdf(x = x), color = \"red\", linestyle = \"dotted\")"
   ]
  },
  {
   "cell_type": "code",
   "execution_count": 21,
   "id": "30716587-2654-4441-adcb-77c5e6d511cd",
   "metadata": {},
   "outputs": [
    {
     "data": {
      "text/plain": [
       "[<matplotlib.lines.Line2D at 0x196db300760>]"
      ]
     },
     "execution_count": 21,
     "metadata": {},
     "output_type": "execute_result"
    },
    {
     "data": {
      "image/png": "[encoded data removed]",
      "text/plain": [
       "<Figure size 432x288 with 1 Axes>"
      ]
     },
     "metadata": {
      "needs_background": "light"
     },
     "output_type": "display_data"
    }
   ],
   "source": [
    "## histplot 이용 \n",
    "\n",
    "# t값의 히스토그램\n",
    "sns.histplot(t_value_array, color = \"steelblue\",  stat=\"density\", kde = True)\n",
    "# 표준정규분포의 확률밀도\n",
    "x = np.arange(start = -8, stop = 8.1, step = 0.1)\n",
    "plt.plot(x, stats.norm.pdf(x = x), color = \"red\", linestyle = \"dotted\")"
   ]
  },
  {
   "cell_type": "markdown",
   "id": "027746eb-a2d0-4b44-8f66-6e8b26c17024",
   "metadata": {},
   "source": [
    "* distplot은 비권장 함수로 향후 소거될 대상이므로 displot과 histplot으로 동일한 그림을 나타내어 봄\n",
    "\n",
    "* 불편성을 만족하므로 표본평균의 평균값은 모평균을 따름\n",
    "\n",
    "* 하지만 표준오차로 나누었는데도 분포의 밑단이 넓어짐. (표본에서 계산한 표준오차로 나누면서 분산이 1보다 크기 때문임)"
   ]
  },
  {
   "cell_type": "markdown",
   "id": "12f85fba-1656-4ab2-8eab-04488c1b3454",
   "metadata": {},
   "source": [
    "### 3.6.9 t분포"
   ]
  },
  {
   "cell_type": "markdown",
   "id": "9f9cf0fd-c71c-4118-80fc-da37f8a02dc7",
   "metadata": {},
   "source": [
    "* 모집단분포가 정규분포일때 t값의 표본분포를 **t분포**라고 함\n",
    "\n",
    "* t 분포의 형태는 자유도에 따라 달라짐. 자류도가 n일 경우 t분포는 t(n)으로 표기함\n",
    "\n",
    "* t 분포의 평균값은 0, t분포의 분산은 1보다 조금 큼. 자유도를 n으로 했을 때 아래와 같이 계산(n이 2보다 클때)\n",
    "\n",
    "    $$ t(n)의 분산 = \\frac{n}{n-2}$$\n",
    "    \n",
    "    \n",
    "* 자유도(즉, 샘플사이즈)가 커질수록 분산은 1에 가까워지고 표준정규분포와 거의 차이가 나지 않게됨(반대로 말하면 샘플사이즈가 작아질 경우 차이가 커짐)"
   ]
  },
  {
   "cell_type": "markdown",
   "id": "8d56753c-88ad-4610-ac01-e3a917423998",
   "metadata": {},
   "source": [
    "* 점선은 표준정규분포를 나타내며 굵은선은 t분포를 나타낸다."
   ]
  },
  {
   "cell_type": "code",
   "execution_count": 22,
   "id": "d874be20-4f0f-4496-b59e-a5a8c6dee875",
   "metadata": {},
   "outputs": [
    {
     "data": {
      "text/plain": [
       "[<matplotlib.lines.Line2D at 0x196db6052e0>]"
      ]
     },
     "execution_count": 22,
     "metadata": {},
     "output_type": "execute_result"
    },
    {
     "data": {
      "image/png": "[encoded data removed]",
      "text/plain": [
       "<Figure size 432x288 with 1 Axes>"
      ]
     },
     "metadata": {
      "needs_background": "light"
     },
     "output_type": "display_data"
    }
   ],
   "source": [
    "# 표준정규분포\n",
    "plt.plot(x, stats.norm.pdf(x = x), color = 'black', linestyle = 'dotted')\n",
    "# t분포\n",
    "plt.plot(x, stats.t.pdf(x = x, df = 9), color = 'black')"
   ]
  },
  {
   "cell_type": "code",
   "execution_count": 23,
   "id": "ef2c8af9-639c-499d-87b1-fea3d385bc1a",
   "metadata": {},
   "outputs": [
    {
     "name": "stderr",
     "output_type": "stream",
     "text": [
      "C:\\ProgramData\\Anaconda3\\lib\\site-packages\\seaborn\\distributions.py:2619: FutureWarning: `distplot` is a deprecated function and will be removed in a future version. Please adapt your code to use either `displot` (a figure-level function with similar flexibility) or `histplot` (an axes-level function for histograms).\n",
      "  warnings.warn(msg, FutureWarning)\n"
     ]
    },
    {
     "data": {
      "text/plain": [
       "[<matplotlib.lines.Line2D at 0x196dc6d37f0>]"
      ]
     },
     "execution_count": 23,
     "metadata": {},
     "output_type": "execute_result"
    },
    {
     "data": {
      "image/png": "[encoded data removed]",
      "text/plain": [
       "<Figure size 432x288 with 1 Axes>"
      ]
     },
     "metadata": {
      "needs_background": "light"
     },
     "output_type": "display_data"
    }
   ],
   "source": [
    "sns.distplot(t_value_array, color = \"steelblue\", norm_hist = True)\n",
    "plt.plot(x, stats.t.pdf(x = x, df = 9), color = \"black\", linestyle = \"dotted\")"
   ]
  },
  {
   "cell_type": "code",
   "execution_count": 24,
   "id": "dfa8008c-7ffe-44fc-b7c6-8fc6a2447697",
   "metadata": {},
   "outputs": [
    {
     "data": {
      "text/plain": [
       "[<matplotlib.lines.Line2D at 0x196dc6f93a0>]"
      ]
     },
     "execution_count": 24,
     "metadata": {},
     "output_type": "execute_result"
    },
    {
     "data": {
      "image/png": "[encoded data removed]",
      "text/plain": [
       "<Figure size 360x360 with 1 Axes>"
      ]
     },
     "metadata": {
      "needs_background": "light"
     },
     "output_type": "display_data"
    }
   ],
   "source": [
    "sns.displot(t_value_array, color = \"steelblue\", stat=\"density\", kde = True)\n",
    "plt.plot(x, stats.t.pdf(x = x, df = 9), color = \"black\", linestyle = \"dotted\")"
   ]
  },
  {
   "cell_type": "code",
   "execution_count": 25,
   "id": "5535144b-ef7d-4bf7-8434-b2b216d93dd1",
   "metadata": {},
   "outputs": [
    {
     "data": {
      "text/plain": [
       "[<matplotlib.lines.Line2D at 0x196dc873280>]"
      ]
     },
     "execution_count": 25,
     "metadata": {},
     "output_type": "execute_result"
    },
    {
     "data": {
      "image/png": "[encoded data removed]",
      "text/plain": [
       "<Figure size 432x288 with 1 Axes>"
      ]
     },
     "metadata": {
      "needs_background": "light"
     },
     "output_type": "display_data"
    }
   ],
   "source": [
    "sns.histplot(t_value_array, color = \"steelblue\", stat=\"density\", kde = True)\n",
    "plt.plot(x, stats.t.pdf(x = x, df = 9), color = \"black\", linestyle = \"dotted\")"
   ]
  },
  {
   "cell_type": "markdown",
   "id": "7eb7ebf8-2025-422c-98d6-5084ed505c1d",
   "metadata": {},
   "source": [
    "**(t분포의 의미)**\n",
    "\n",
    "* t분포의 의미를 한마디로 표현하자면 **모분산을 모르는 상황에서도 표본평균의 분포에 대해 얘기할 수 있다는 것**\n",
    "\n",
    "* 표본에서 계산한 표준오차로 표본평균을 표준화했을 경우의 결과가 t분포를 따른다는 사실을이용하면 얻어낸 표본평균에 관한 불확실성을 짐작할 수 있음. 이러한 내용은 구간추정 등을 할 때 활용됨"
   ]
  },
  {
   "cell_type": "markdown",
   "id": "aa186eb2-a8e6-46a2-84bd-173e9df4bdb3",
   "metadata": {},
   "source": [
    "## 3.7 추정"
   ]
  },
  {
   "cell_type": "markdown",
   "id": "7106da52-75b0-4490-9ec8-37d22bf890ec",
   "metadata": {},
   "source": [
    "* 모집단분포가 정규분포임을 가정했을 때 모수를 알면 모집단 분포를 추정할 수 있다. "
   ]
  },
  {
   "cell_type": "markdown",
   "id": "b8544c39-4bf8-4e61-9a2a-1dd5027ba0ac",
   "metadata": {},
   "source": [
    "### 3.7.1 분석 준비"
   ]
  },
  {
   "cell_type": "code",
   "execution_count": 26,
   "id": "25769f64-5ccf-4f24-a8d6-234725420d22",
   "metadata": {},
   "outputs": [],
   "source": [
    "# 수치 계산에 사용하는 라이브러리\n",
    "import numpy as np\n",
    "import pandas as pd\n",
    "import scipy as sp\n",
    "from scipy import stats\n",
    "\n",
    "# 그래프를 그리기 위한 라이브러리\n",
    "from matplotlib import pyplot as plt\n",
    "import seaborn as sns\n",
    "sns.set()\n",
    "\n",
    "# 표시 자릿수 지정\n",
    "%precision 3\n",
    "\n",
    "# 그래프를 주피터 노트북에 그리기 위한 설정\n",
    "%matplotlib inline"
   ]
  },
  {
   "cell_type": "code",
   "execution_count": 27,
   "id": "c2fbf28a-1e52-40ae-ad80-d03862dffab3",
   "metadata": {},
   "outputs": [],
   "source": [
    "fish = pd.read_csv(\"./py_source/3-7-1-fish_length.csv\")[\"length\"]"
   ]
  },
  {
   "cell_type": "code",
   "execution_count": 28,
   "id": "c49af08f-8ad8-42fa-afe5-dd0dc5a40f79",
   "metadata": {},
   "outputs": [
    {
     "data": {
      "text/plain": [
       "0    4.352982\n",
       "1    3.735304\n",
       "2    5.944617\n",
       "3    3.798326\n",
       "4    4.087688\n",
       "5    5.265985\n",
       "6    3.272614\n",
       "7    3.526691\n",
       "8    4.150083\n",
       "9    3.736104\n",
       "Name: length, dtype: float64"
      ]
     },
     "execution_count": 28,
     "metadata": {},
     "output_type": "execute_result"
    }
   ],
   "source": [
    "fish"
   ]
  },
  {
   "cell_type": "markdown",
   "id": "0e509dbe-6276-41a0-aad1-b4b77092040e",
   "metadata": {},
   "source": [
    "### 3.7.2 점추정"
   ]
  },
  {
   "cell_type": "markdown",
   "id": "a79bcdf4-707c-4789-aa3e-18609bf9a189",
   "metadata": {},
   "source": [
    "**점추정** : 모수(모집단분포의 파라미터)를 어느 1개의 값으로 추정하는 방법\n",
    "\n",
    "* 모평균을 추정하는 경우엔 표본평균을 추정값으로 사용\n",
    "    \n",
    "* 결국 우리가 하는 것은 표본에서 평균값을 계산\n",
    "    \n",
    "* 표본평균을 사용해도 좋은 이유는 표본평균은 불편성과 일치성을 가지고 있는 통계량이므로 모평균의 추정값으로 표본평균을 사용"
   ]
  },
  {
   "cell_type": "code",
   "execution_count": 29,
   "id": "9c813e74-bfd7-46c0-991c-1419a558b92c",
   "metadata": {},
   "outputs": [],
   "source": [
    "mu = np.mean(fish)"
   ]
  },
  {
   "cell_type": "code",
   "execution_count": 30,
   "id": "dabee2b5-c5ad-48ae-8419-e6e314e36e1c",
   "metadata": {},
   "outputs": [
    {
     "data": {
      "text/plain": [
       "4.187"
      ]
     },
     "execution_count": 30,
     "metadata": {},
     "output_type": "execute_result"
    }
   ],
   "source": [
    "mu"
   ]
  },
  {
   "cell_type": "markdown",
   "id": "e73e8244-408d-4cd0-ae5f-d76a49f63497",
   "metadata": {},
   "source": [
    "* 표본평균이 4.187이므로 모평균도 4.187이라고 추정함.(이것이 점추정)\n",
    "\n",
    "* 모분산의 점추정값으로는 불편분산을 사용함"
   ]
  },
  {
   "cell_type": "code",
   "execution_count": 31,
   "id": "5100e483-570e-48db-ba32-98c6e37a36df",
   "metadata": {},
   "outputs": [],
   "source": [
    "sigma_2 = np.var(fish, ddof = 1)"
   ]
  },
  {
   "cell_type": "code",
   "execution_count": 32,
   "id": "102b8440-2f4d-4e3a-b01a-53aa1811de11",
   "metadata": {},
   "outputs": [
    {
     "data": {
      "text/plain": [
       "0.680"
      ]
     },
     "execution_count": 32,
     "metadata": {},
     "output_type": "execute_result"
    }
   ],
   "source": [
    "sigma_2 "
   ]
  },
  {
   "cell_type": "markdown",
   "id": "0a69849a-f664-486b-bbd1-97944638268c",
   "metadata": {},
   "source": [
    "### 3.7.3 구간추정"
   ]
  },
  {
   "cell_type": "markdown",
   "id": "e3399842-8ea0-4904-9fba-1ec9e2464440",
   "metadata": {},
   "source": [
    "* **구간추정** : 추정값이 폭을 가지게 하는 추정 방법. 추정값의 폭 계산에는 확률의 개념을 사용\n",
    "\n",
    "    * 폭을 가지므로 추정오차를 가미할 수 있음. 추정오차가 작으면 구간 추정의 폭이 좁아짐\n",
    "    \n",
    "    * 샘플사이즈가 커져도 구간추정의 폭은 좁아짐"
   ]
  },
  {
   "cell_type": "markdown",
   "id": "32e9f557-d54e-45c1-8df7-ea8588e57af3",
   "metadata": {},
   "source": [
    "### 3.7.4 신뢰계수와 신뢰구간"
   ]
  },
  {
   "cell_type": "markdown",
   "id": "cdeae897-6cf3-4c70-8a8c-d3eb0d046352",
   "metadata": {},
   "source": [
    "* **신뢰계수** : 구간추정의 폭에 대한 신뢰 정도를 확률로 표현한 것.(예: 95%, 99% 등의 수치)\n",
    "\n",
    "* **신뢰구간** : 특정 신뢰계수를 만족하는 구간\n",
    "\n",
    "    * 신뢰계수가 클수록 신뢰구간의 폭이 넓어짐"
   ]
  },
  {
   "cell_type": "markdown",
   "id": "bbc7da77-91c6-4af5-a37d-26e4006ddfc1",
   "metadata": {},
   "source": [
    "### 3.7.5 신뢰한계"
   ]
  },
  {
   "cell_type": "markdown",
   "id": "a27e3369-cc43-4410-a25f-20ef1dbfbe1f",
   "metadata": {},
   "source": [
    "* **신뢰한계(confidence limit)** 는 신뢰구간의 상한값과 하한값. \n",
    "\n",
    "* 각각 하층신뢰한계(lower confidence limit), 상측신뢰한계(upper confidence limit)라고 함"
   ]
  },
  {
   "cell_type": "markdown",
   "id": "316bdd4e-529b-42e0-93fb-9217046dbb99",
   "metadata": {},
   "source": [
    "### 3.7.6 신뢰구간 계싼 방법"
   ]
  },
  {
   "cell_type": "markdown",
   "id": "0b7ecf4e-a94f-4f9a-8466-3deb2f86d77a",
   "metadata": {},
   "source": [
    "* (표본평균 - 모평균)/표준오차 로 계산한 t 값은 t 분포를 따름\n",
    "\n",
    "* 구간추정을 할 때는 t분포의 퍼센트포인트(어떤 확률이 되는 기준점)를 사용함\n",
    "\n",
    "* 신뢰계수 95%라고 했을 때, t분포를 따른 다면 2.5% 지점과 97.5% 지점을 계산함 (t분포를 따를 변수가 이 구간에 들어갈 확률은 95%라는 이야기)"
   ]
  },
  {
   "cell_type": "markdown",
   "id": "48c0d812-a285-411c-a26e-7b87362a9927",
   "metadata": {},
   "source": [
    "### 3.7.7 구간추정(실습)"
   ]
  },
  {
   "cell_type": "code",
   "execution_count": 33,
   "id": "833619f9-0087-47d5-8cdb-07d9a8e09311",
   "metadata": {},
   "outputs": [
    {
     "data": {
      "text/plain": [
       "9"
      ]
     },
     "execution_count": 33,
     "metadata": {},
     "output_type": "execute_result"
    }
   ],
   "source": [
    "# 자유도 \n",
    "\n",
    "df = len(fish) - 1 \n",
    "df"
   ]
  },
  {
   "cell_type": "code",
   "execution_count": 34,
   "id": "252421f6-9a38-41aa-8e05-2a58aa424cb1",
   "metadata": {},
   "outputs": [
    {
     "data": {
      "text/plain": [
       "0.261"
      ]
     },
     "execution_count": 34,
     "metadata": {},
     "output_type": "execute_result"
    }
   ],
   "source": [
    "# 표준오차\n",
    "\n",
    "sigma = np.std(fish, ddof = 1)\n",
    "se = sigma / np.sqrt(len(fish))\n",
    "se"
   ]
  },
  {
   "cell_type": "code",
   "execution_count": 35,
   "id": "5d1a819a-1e45-44db-911c-f89dc8d25dd6",
   "metadata": {},
   "outputs": [
    {
     "data": {
      "text/plain": [
       "(3.597, 4.777)"
      ]
     },
     "execution_count": 35,
     "metadata": {},
     "output_type": "execute_result"
    }
   ],
   "source": [
    "# stats.t.interval 함수를 이용 신뢰 구간 계산\n",
    "\n",
    "interval = stats.t.interval(alpha = 0.95, df = df, loc = mu, scale = se)\n",
    "interval"
   ]
  },
  {
   "cell_type": "markdown",
   "id": "75a0b84b-a26a-4a99-b155-c15339f5ee74",
   "metadata": {},
   "source": [
    "### 3.7.8 신뢰구간을 구하는 방법 상세 설명"
   ]
  },
  {
   "cell_type": "markdown",
   "id": "5c8abe9f-6083-465f-b266-b7a5738f471a",
   "metadata": {},
   "source": [
    "* 1. 어떤 자류도를 가지는 t분포를 따라 97.5% 지점을 계산\n",
    "\n",
    "    * 1.1 t분포를 따르는 97.5% 지점을 $t_{0.975}$로 표기\n",
    "\n",
    "    * 1.2 t분포는 평균에 대해 좌우대칭이기 때문에 2.5% 지점은 $-t_{0.975}$로 표기\n",
    "\n",
    "    * 1.3 t분포를 따르는 변수가 $-t_{0.975}$ 이상 $t_{0.975}$ 이하가 되는 확률이 95%임(이때 95%가 신뢰계수가 된다.)\n",
    "\n",
    "* 2. 표본평균 $-t_{0.975}$ x 표준오차가 하측신뢰한계\n",
    "\n",
    "* 3. 표본평균 $t_{0.975}$ x 표준오차가 상측신뢰한계\n",
    "\n",
    "$$ t_{value} = \\frac{ \\hat{\\mu} - \\mu}{\\hat{se}}$$ 이므로\n",
    "\n",
    "$$ p \\left( \\hat{\\mu} - t_{0.975} \\times \\hat{se} \\le \\mu \\le \\hat{\\mu} + t_{0.975} \\times \\hat{se} \\right) = 95 \\% $$"
   ]
  },
  {
   "cell_type": "code",
   "execution_count": 36,
   "id": "2e4e5276-5175-43ef-bcb5-3eb5337c3714",
   "metadata": {},
   "outputs": [
    {
     "data": {
      "text/plain": [
       "2.262"
      ]
     },
     "execution_count": 36,
     "metadata": {},
     "output_type": "execute_result"
    }
   ],
   "source": [
    "t_975 = stats.t.ppf(q = 0.975, df = df)\n",
    "t_975"
   ]
  },
  {
   "cell_type": "code",
   "execution_count": 37,
   "id": "8fd68b0b-19c8-42fa-a348-987b4c721640",
   "metadata": {},
   "outputs": [
    {
     "data": {
      "text/plain": [
       "3.597"
      ]
     },
     "execution_count": 37,
     "metadata": {},
     "output_type": "execute_result"
    }
   ],
   "source": [
    "lower = mu - t_975 * se\n",
    "lower"
   ]
  },
  {
   "cell_type": "code",
   "execution_count": 38,
   "id": "802cb7ee-c909-4d61-8f97-59ae067b2e05",
   "metadata": {},
   "outputs": [
    {
     "data": {
      "text/plain": [
       "4.777"
      ]
     },
     "execution_count": 38,
     "metadata": {},
     "output_type": "execute_result"
    }
   ],
   "source": [
    "upper = mu + t_975 * se\n",
    "upper"
   ]
  },
  {
   "cell_type": "markdown",
   "id": "fd96c036-d61d-4b23-a287-689c9d780bbc",
   "metadata": {},
   "source": [
    "### 3.7.9 신뢰구간의 폭을 결정하는 요소"
   ]
  },
  {
   "cell_type": "markdown",
   "id": "e0c3eb7f-2acf-467c-81e4-4ba5800a5886",
   "metadata": {},
   "source": [
    "* 표본의 분산 크기가 크면 '데이터가 평균값에서 흩어져 있다. -> 평균값을 신뢰할 수 없게 된다'가 되므로 신뢰구간의 폭이 넓어짐\n",
    "\n",
    "* 반대로 샘플 사이즈가 커지면 표본평균을 신뢰할 수 있게 되므로 신뢰구간 좁아짐"
   ]
  },
  {
   "cell_type": "code",
   "execution_count": 39,
   "id": "4a4e2cab-964a-4b72-8241-4eae2735804c",
   "metadata": {},
   "outputs": [
    {
     "data": {
      "text/plain": [
       "(-1.713, 10.087)"
      ]
     },
     "execution_count": 39,
     "metadata": {},
     "output_type": "execute_result"
    }
   ],
   "source": [
    "# 표본표준편차 10배 증가\n",
    "se2 = (sigma*10)/np.sqrt(len(fish))\n",
    "stats.t.interval(alpha = 0.95, df = df, loc = mu, scale = se2)"
   ]
  },
  {
   "cell_type": "code",
   "execution_count": 40,
   "id": "f7674310-4692-4f17-8fad-70669d22d388",
   "metadata": {},
   "outputs": [
    {
     "data": {
      "text/plain": [
       "(4.023, 4.351)"
      ]
     },
     "execution_count": 40,
     "metadata": {},
     "output_type": "execute_result"
    }
   ],
   "source": [
    "# 샘플사이즈 10배 증가\n",
    "df2 = (len(fish)*10) -1 \n",
    "se3 = sigma / np.sqrt(len(fish)*10)\n",
    "stats.t.interval(alpha = 0.95, df = df2, loc = mu, scale = se3)"
   ]
  },
  {
   "cell_type": "markdown",
   "id": "0891f5ce-74b1-4c7b-ae06-8dc1d1ba783e",
   "metadata": {},
   "source": [
    "* 완전히 똑같은 데이터라고 해도 신뢰계수가 커질수록 안전해진다고 볼 수 있음\n",
    "\n",
    "* 99% 신뢰구간은 아래와 같이 계산할 수 있음"
   ]
  },
  {
   "cell_type": "code",
   "execution_count": 41,
   "id": "85b3f790-8d19-46ee-9612-bad1aa293c6f",
   "metadata": {},
   "outputs": [
    {
     "data": {
      "text/plain": [
       "(3.339, 5.035)"
      ]
     },
     "execution_count": 41,
     "metadata": {},
     "output_type": "execute_result"
    }
   ],
   "source": [
    "stats.t.interval(alpha = 0.99, df = df, loc = mu, scale = se)"
   ]
  },
  {
   "cell_type": "markdown",
   "id": "fdec9dbe-5fe9-4541-bf1e-e35f1d46d824",
   "metadata": {},
   "source": [
    "### 3.7.10 구간추정 결과의 해석"
   ]
  },
  {
   "cell_type": "markdown",
   "id": "079ae903-904d-4d69-9659-9be33fd8e27a",
   "metadata": {},
   "source": [
    "**(중요)**\n",
    "\n",
    "신뢰계수 95%의 의미\n",
    "\n",
    "1. 원래 모집단분포에서 표본을 추출\n",
    "\n",
    "2. 이번에도 같은 방법으로 95% 신뢰구간을 계산\n",
    "\n",
    "3. 이러한 시행을 여러번 반복\n",
    "\n",
    "4. 모든 시행 중 원래 모집단이 신뢰구간에 포함되는 비율이 95%"
   ]
  },
  {
   "cell_type": "code",
   "execution_count": 42,
   "id": "e3ae4951-179c-42f6-8da8-c6d58136bba3",
   "metadata": {},
   "outputs": [],
   "source": [
    "# 시뮬레이션 실시(시행횟수: 20,000번)\n",
    "\n",
    "# 신뢰구간이 모평균(4)을 포함하면 True되는 변수를 담기 위한 어레이\n",
    "be_included_array = np.zeros(20000, dtype = \"bool\") \n",
    "\n",
    "# 신뢰구간이 모평균(4)를 포함하면 True라 되어 준비한 어레이에 입력될 수 있도록 for문 작성\n",
    "\n",
    "np.random.seed(1)\n",
    "norm_dist = stats.norm(loc = 4, scale = 0.8)\n",
    "for i in range(0, 20000):\n",
    "    sample = norm_dist.rvs(size = 10)\n",
    "    df = len(sample) - 1\n",
    "    mu = np.mean(sample)\n",
    "    std = np.std(sample, ddof = 1)\n",
    "    se = std/np.sqrt(len(sample))\n",
    "    interval = stats.t.interval(0.95, df, mu, se)\n",
    "    if(interval[0] <= 4 and interval[1] >= 4):\n",
    "        be_included_array[i] = True\n"
   ]
  },
  {
   "cell_type": "code",
   "execution_count": 43,
   "id": "d4744172-1b8d-4591-9400-f30934ca9c20",
   "metadata": {},
   "outputs": [
    {
     "data": {
      "text/plain": [
       "0.948"
      ]
     },
     "execution_count": 43,
     "metadata": {},
     "output_type": "execute_result"
    }
   ],
   "source": [
    "sum(be_included_array)/len(be_included_array)"
   ]
  },
  {
   "cell_type": "markdown",
   "id": "92666f0b-8acd-43c8-aeff-dc0a0962a18d",
   "metadata": {},
   "source": [
    "* 신뢰구간이 모평균(4)를 포함한 비율이 대략 0.95에 해당함"
   ]
  },
  {
   "cell_type": "markdown",
   "id": "5d63c44a-0970-4e6e-9e04-6b50a261e097",
   "metadata": {},
   "source": [
    "## 3.8 통계적가설검정"
   ]
  },
  {
   "cell_type": "markdown",
   "id": "23181721-e072-4147-95d9-a4b73c35c598",
   "metadata": {},
   "source": [
    "### 3.8.1 통계적가설검정"
   ]
  },
  {
   "cell_type": "markdown",
   "id": "1f299f5b-bb9d-4f89-8d8d-cdf8c8f3a734",
   "metadata": {},
   "source": [
    "**통계적 가설검정** : 표본을 사용해서 모집단에 관한 통계적 판단을 내리는 방법. 간단히 검정이라고도 함"
   ]
  },
  {
   "cell_type": "markdown",
   "id": "96fe9253-3951-48fa-9b8a-917e5fb386fc",
   "metadata": {},
   "source": [
    "### 3.8.2 1변량 데이터의 t검정"
   ]
  },
  {
   "cell_type": "markdown",
   "id": "8d8686b5-276d-4aa8-af73-ec20e16319fa",
   "metadata": {},
   "source": [
    "* 1변량 데이터에 대한 t검정의 특징\n",
    "\n",
    "    - 대상: 평균값\n",
    "    \n",
    "    - 판단하는 것: 평균값이 어떤값과 다른지 얘기할 수 있는지 여부\n",
    "    \n",
    "* 평균에 대한 검정"
   ]
  },
  {
   "cell_type": "markdown",
   "id": "686908ce-1264-4d42-8d87-6504a79b4c4a",
   "metadata": {},
   "source": [
    "### 3.8.3 유의미한 차이"
   ]
  },
  {
   "cell_type": "markdown",
   "id": "c6930a53-26b4-4b84-9d43-d08cf479ed5f",
   "metadata": {},
   "source": [
    "* **유의미한 차이** : 의미가 있는 차이 / 의미가 없는 차이와 대비되어 사용"
   ]
  },
  {
   "cell_type": "markdown",
   "id": "79ea01f9-d192-454d-8df0-9d069d948391",
   "metadata": {},
   "source": [
    "### 3.8.4 t검정: 직관적인 생각"
   ]
  },
  {
   "cell_type": "markdown",
   "id": "9aa5c40e-9964-4f15-a25c-8008abc13298",
   "metadata": {},
   "source": [
    "* t검정의 유의미한 차이에 대한 3가지 조건 (예시 : 조건) \n",
    "\n",
    "    - 큰 샘플에서 조사했다 : 샘플사이즈가 크다\n",
    "    \n",
    "    - 정밀한 저울로 측정했다 : 데이터의 흩어짐(분산)이 적다.\n",
    "    \n",
    "    - 중량의 평균값이 OOg에서 크게 벗어난다 : 평균값의 차이가 크다.\n",
    "    "
   ]
  },
  {
   "cell_type": "markdown",
   "id": "e8add0a3-b5e1-4693-b971-ab20e74e3b96",
   "metadata": {},
   "source": [
    "### 3.8.5 평균값의 차이가 큰 것만으로는 유의미한 차이를 얻을 수 없다. "
   ]
  },
  {
   "cell_type": "markdown",
   "id": "6b0f5424-a493-4dfd-af6c-bc07a2afaad5",
   "metadata": {},
   "source": [
    "- 샘플사이즈와 데이터의 흩어짐 크기가 가미되어야 함"
   ]
  },
  {
   "cell_type": "markdown",
   "id": "3fc77413-e147-48f0-81bf-8612988f7ebd",
   "metadata": {},
   "source": [
    "### 3.8.6 t값"
   ]
  },
  {
   "cell_type": "markdown",
   "id": "6698b72f-acf2-4b68-aeb3-2cee5b87d790",
   "metadata": {},
   "source": [
    "* t검정의 유의미한 차이에 대한 3가지 조건 (예시 : 조건) \n",
    "\n",
    "    - 큰 샘플에서 조사했다 : 샘플사이즈가 크다\n",
    "    \n",
    "    - 정밀한 저울로 측정했다 : 데이터의 흩어짐(분산)이 적다.\n",
    "    \n",
    "    - 중량의 평균값이 OOg에서 크게 벗어난다 : 평균값의 차이가 크다.\n",
    "    \n",
    "* 3가지 모두를 만족한 지표를 t값이라고 부르며, 아래와 같이 계산 가능함\n",
    "\n",
    "    - t값 = (표본평균 - 비교대상값)/표준오차 \n",
    "    \n",
    "    - 이때 t값이 크면 비교대상값과 유의한 차이가 있다고 판단할 수 있음"
   ]
  },
  {
   "cell_type": "markdown",
   "id": "597cda9c-0d4a-4728-906f-c214244a7725",
   "metadata": {},
   "source": [
    "### 3.8.7 통계적가설검정의 틀: 귀무가설, 대립가설"
   ]
  },
  {
   "cell_type": "markdown",
   "id": "1af8f68f-884c-40d7-aa0b-91554bf6df71",
   "metadata": {},
   "source": [
    "* 통계적가설검정에서 가설을 세워서 그 가설이 기각되는지 판단함으로써 데이터에 대한 객관적인 판단을 시도함\n",
    "\n",
    "* 귀무가설 vs 대립가설\n",
    "\n",
    "* 예) 과자 봉지의 평균값이 50g이라는 것을 판단하려는 경우 아래와 같이 가설을 세워 검정함\n",
    "\n",
    "    - 귀무가설: 봉지과자의 평균중량이 50g이다.\n",
    "    \n",
    "    - 대립가설: 봉지과자의 평균중량이 50g이 아니다."
   ]
  },
  {
   "cell_type": "markdown",
   "id": "a6777465-21e5-4980-9c12-b3d4b8b9a355",
   "metadata": {},
   "source": [
    "### 3.8.8 p-value"
   ]
  },
  {
   "cell_type": "markdown",
   "id": "af168454-e48e-476f-b3d7-f5d193b40d6f",
   "metadata": {},
   "source": [
    "* **p-value** 란 표본과 귀무가설 간의 모순을 나타내는 지표\n",
    "\n",
    "* p-값이 작을수록 귀무가설과 표본이 모순된다고 생각할 수 있음\n",
    "\n",
    "* p값은 확률로 표현됨. p값과 신뢰구간 둘 다 완전히 같은 조건에서 몇 번이고 표본추출을 하고 t값 계산을 반복해서 구한 확율을 해석한다는 점에서 주의(3.11절에서 추가 설명)"
   ]
  },
  {
   "cell_type": "markdown",
   "id": "53120b5a-28e8-4d33-88fc-d8b5c921e564",
   "metadata": {},
   "source": [
    "### 3.8.9 유의수준(significance level)"
   ]
  },
  {
   "cell_type": "markdown",
   "id": "37cd726c-2806-44e2-a4a8-f3a64250e513",
   "metadata": {},
   "source": [
    "* p-값이 유의수준을 밑돌면 귀무가설을 기각함. 따라서 **유의수준** 귀무가설을 기각하는 기준이 되는 값이라고 생각할 수 있음 (보통 5% 이용)"
   ]
  },
  {
   "cell_type": "markdown",
   "id": "15aa0ccd-ed61-4c0d-8886-77de73639850",
   "metadata": {},
   "source": [
    "### 3.8.10 t검정과 t분포의 관계"
   ]
  },
  {
   "cell_type": "markdown",
   "id": "0aefd994-afa9-44d9-a75d-c5d9f21738a5",
   "metadata": {},
   "source": [
    "* 검정하고자 하는 대상의 t값을 계산. t분포의 누적분포함수를 사용하여 계산된 t값이 비교하고자하는 대상의 t값과의 차이를 확률로 환산할 수 있음 \n",
    "\n",
    "* 이 확율이 유의 수준 또는 신뢰 수준 (1-$\\alpha$)를 벗어나는지 검정하는 것이 t검정"
   ]
  },
  {
   "cell_type": "markdown",
   "id": "3113949f-8594-4f28-8af6-9c09dd8bccc9",
   "metadata": {},
   "source": [
    "### 3.8.11 단측검정과 양측검정"
   ]
  },
  {
   "cell_type": "markdown",
   "id": "55a456fb-a324-42f7-bad9-25a878039524",
   "metadata": {},
   "source": [
    "* 단측검정: 비교하는 대상 값 작거나 큰 지 여부를 검정\n",
    "\n",
    "* 양측검정: 비교하는 대상 값과 다른지 여부를 검정"
   ]
  },
  {
   "cell_type": "markdown",
   "id": "8ef43b9e-7d6d-46fa-9b3b-ba70a5bc640f",
   "metadata": {},
   "source": [
    "### 3.8.12 p값 계산 방법"
   ]
  },
  {
   "cell_type": "markdown",
   "id": "4c845162-768a-4ab9-a2da-092c53903351",
   "metadata": {},
   "source": [
    "* 양측검정을 전제로 p값 계산\n",
    "\n",
    "* 이번 표본에서 계산한 t값을 $t_{표본}$ 이라고 할 때, t분포의 누적분함수를 사용하면 모평균이 50이라고 가정했을 때, t값이 $t_{표본}$보다 작을 확률을 계산할 수 있음\n",
    "\n",
    "* 이 확률을 $\\alpha$라고 한다면, p값은 $ p = (1 - \\alpha) \\times 2 $ 로 계산"
   ]
  },
  {
   "cell_type": "markdown",
   "id": "4f8ccd54-ce5a-4871-b9ef-b2bac7f94943",
   "metadata": {},
   "source": [
    "### 3.8.13 t검정의 구현: 분석 준비"
   ]
  },
  {
   "cell_type": "code",
   "execution_count": 44,
   "id": "e888d001-b823-47ce-9fcc-a05d598c5011",
   "metadata": {},
   "outputs": [],
   "source": [
    "# 수치 계산에 사용하는 라이브러리\n",
    "import numpy as np\n",
    "import pandas as pd\n",
    "import scipy as sp\n",
    "from scipy import stats\n",
    "\n",
    "# 그래프를 그리기 위한 라이브러리\n",
    "from matplotlib import pyplot as plt\n",
    "import seaborn as sns\n",
    "sns.set()\n",
    "\n",
    "# 표시 자릿수 지정\n",
    "%precision 3\n",
    "\n",
    "# 그래프를 주피터 노트북에 그리기 위한 설정\n",
    "%matplotlib inline"
   ]
  },
  {
   "cell_type": "code",
   "execution_count": 45,
   "id": "2f2ec190-3f6f-4620-862f-11860fd36b51",
   "metadata": {},
   "outputs": [],
   "source": [
    "# 봉지과자 중량을 추정한 가공의 데이터\n",
    "\n",
    "junk_food = pd.read_csv(\"py_source/3-8-1-junk-food-weight.csv\")[\"weight\"]"
   ]
  },
  {
   "cell_type": "code",
   "execution_count": 46,
   "id": "cb91a690-8428-45a1-af66-73e82ace9539",
   "metadata": {},
   "outputs": [
    {
     "data": {
      "text/plain": [
       "0     58.529820\n",
       "1     52.353039\n",
       "2     74.446169\n",
       "3     52.983263\n",
       "4     55.876879\n",
       "5     67.659849\n",
       "6     47.726141\n",
       "7     50.266907\n",
       "8     56.500826\n",
       "9     52.361040\n",
       "10    45.457883\n",
       "11    53.360988\n",
       "12    52.129368\n",
       "13    59.827773\n",
       "14    41.681692\n",
       "15    49.398568\n",
       "16    64.211128\n",
       "17    69.858648\n",
       "18    42.910564\n",
       "19    60.158780\n",
       "Name: weight, dtype: float64"
      ]
     },
     "execution_count": 46,
     "metadata": {},
     "output_type": "execute_result"
    }
   ],
   "source": [
    "junk_food"
   ]
  },
  {
   "cell_type": "markdown",
   "id": "2b7afeee-d2fc-42c4-8423-ed597b0c2a67",
   "metadata": {},
   "source": [
    "* 가설 설정\n",
    "\n",
    "    - 귀무가설: 봉지과자의 평균 중량은 50g이다.\n",
    "    \n",
    "    - 대립가설: 봉지과자의 평균 중량은 50g이 아니다. \n",
    "    \n",
    "    - 유의수준: 5%"
   ]
  },
  {
   "cell_type": "markdown",
   "id": "19217870-137e-45f2-a910-6155cb6f5b77",
   "metadata": {},
   "source": [
    "### 3.8.14 t검정의 구현: t값 계산\n",
    "\n",
    "t값 = (표본평균 - 비교대상값) / 표준오차"
   ]
  },
  {
   "cell_type": "code",
   "execution_count": 47,
   "id": "6c2f3490-e529-4007-996f-2c1dab326bf7",
   "metadata": {},
   "outputs": [
    {
     "data": {
      "text/plain": [
       "55.385"
      ]
     },
     "execution_count": 47,
     "metadata": {},
     "output_type": "execute_result"
    }
   ],
   "source": [
    "mu = np.mean(junk_food)\n",
    "mu"
   ]
  },
  {
   "cell_type": "code",
   "execution_count": 48,
   "id": "5937f73a-a666-44f4-944b-5d7a0fb908aa",
   "metadata": {},
   "outputs": [
    {
     "data": {
      "text/plain": [
       "19"
      ]
     },
     "execution_count": 48,
     "metadata": {},
     "output_type": "execute_result"
    }
   ],
   "source": [
    "# 자유도 구하기\n",
    "\n",
    "df = len(junk_food) - 1\n",
    "df"
   ]
  },
  {
   "cell_type": "code",
   "execution_count": 49,
   "id": "cc912735-d325-4670-b10e-725947927910",
   "metadata": {},
   "outputs": [],
   "source": [
    "# 표준오차 구하기\n",
    "\n",
    "sigma = np.std(junk_food, ddof = 1)\n",
    "se = sigma / np.sqrt(len(junk_food))"
   ]
  },
  {
   "cell_type": "code",
   "execution_count": 50,
   "id": "ee40464d-032d-4924-9f8d-9da36ccbd01e",
   "metadata": {},
   "outputs": [
    {
     "data": {
      "text/plain": [
       "1.958"
      ]
     },
     "execution_count": 50,
     "metadata": {},
     "output_type": "execute_result"
    }
   ],
   "source": [
    "se"
   ]
  },
  {
   "cell_type": "code",
   "execution_count": 51,
   "id": "01892665-7d3d-4dcc-9f35-d591d069b7e8",
   "metadata": {},
   "outputs": [],
   "source": [
    "t_value = (mu - 50)/se"
   ]
  },
  {
   "cell_type": "code",
   "execution_count": 52,
   "id": "9cb524f7-35b4-4cda-a824-36eb934e644c",
   "metadata": {},
   "outputs": [
    {
     "data": {
      "text/plain": [
       "2.750"
      ]
     },
     "execution_count": 52,
     "metadata": {},
     "output_type": "execute_result"
    }
   ],
   "source": [
    "t_value"
   ]
  },
  {
   "cell_type": "markdown",
   "id": "3b9e4edc-6f6b-4996-b922-b4f67ab3aa5d",
   "metadata": {},
   "source": [
    "### 3.8.15 t검정의 구현: p값의 계산"
   ]
  },
  {
   "cell_type": "markdown",
   "id": "9a967e2e-1f19-4c80-ac00-b40bae56bbfc",
   "metadata": {},
   "source": [
    "* 모집단을 정규분포라고 가정했을 때 t값은 t분포를 따른다고 생각할 수 있으므로 t분포의 누적분포함수를 사용함\n",
    "\n",
    "* t분포의 누적분포함수를 사용하면 모평균을 50이라고 가정했을 때 t값이 $t_{표본}$ 보다 클 확률을 계산: 이 확률을 $ \\alpha $라고 함"
   ]
  },
  {
   "cell_type": "code",
   "execution_count": 53,
   "id": "ff48b779-8a1e-4af2-a4ce-beb52beb2303",
   "metadata": {},
   "outputs": [],
   "source": [
    "alpha = stats.t.cdf(t_value, df = df)"
   ]
  },
  {
   "cell_type": "code",
   "execution_count": 54,
   "id": "70426006-f5af-4519-9a70-257a80163468",
   "metadata": {},
   "outputs": [
    {
     "data": {
      "text/plain": [
       "0.994"
      ]
     },
     "execution_count": 54,
     "metadata": {},
     "output_type": "execute_result"
    }
   ],
   "source": [
    "alpha"
   ]
  },
  {
   "cell_type": "code",
   "execution_count": 55,
   "id": "f47aa275-77b0-4453-89cd-f8c3e5d2c799",
   "metadata": {},
   "outputs": [
    {
     "data": {
      "text/plain": [
       "0.013"
      ]
     },
     "execution_count": 55,
     "metadata": {},
     "output_type": "execute_result"
    }
   ],
   "source": [
    "(1-alpha)*2"
   ]
  },
  {
   "cell_type": "markdown",
   "id": "2712f771-07b5-4d74-8896-24cecc967c85",
   "metadata": {},
   "source": [
    "* p값이 유의수준 0.05보다 작으므로 유의미한 차이가 있다고 볼 수 있음\n",
    "\n",
    "* 따라서 봉지과자의 평균 중량은 50g과 유의미하게 차이가 있다는 판단이 가능함\n",
    "\n",
    "* **stats.ttest_1samp(junk_food, 50)** 함수를 사용하면 더욱 간단하게 1표본의 t검정을 할 수 있다."
   ]
  },
  {
   "cell_type": "code",
   "execution_count": 56,
   "id": "a5497f4b-3a94-4f48-8560-a4c6cc8ccab6",
   "metadata": {},
   "outputs": [
    {
     "data": {
      "text/plain": [
       "Ttest_1sampResult(statistic=2.750339683171343, pvalue=0.012725590012524182)"
      ]
     },
     "execution_count": 56,
     "metadata": {},
     "output_type": "execute_result"
    }
   ],
   "source": [
    "stats.ttest_1samp(junk_food, 50)"
   ]
  },
  {
   "cell_type": "markdown",
   "id": "1c9111c9-20aa-44aa-a97e-a8194d2752f7",
   "metadata": {},
   "source": [
    "statistic이 t값이고, p-value가 p값임"
   ]
  },
  {
   "cell_type": "markdown",
   "id": "42e6dff5-a282-4c14-b44a-c6cf818d8e7b",
   "metadata": {},
   "source": [
    "### 3.8.16 시뮬레이션에 의한 p값 계산"
   ]
  },
  {
   "cell_type": "markdown",
   "id": "62645655-82a4-4ff2-9066-e6b6eefad7f0",
   "metadata": {},
   "source": [
    "* p값의 의미를 해석하기 위해 p값을 시뮬레이션을 통해 구해보고자 함\n",
    "\n",
    "* p값은 귀무가설이 옳다고 가정한 뒤, 몇 번이고 표본추출을 하고 t값 계산을 반복했을 때 $t_{표본}$과 같거나 그보다 큰 t값을 얻는 비율이라고 해석할 수 있다."
   ]
  },
  {
   "cell_type": "code",
   "execution_count": 57,
   "id": "1a98eec1-a806-4c0f-b081-a03c5af4c9a6",
   "metadata": {},
   "outputs": [],
   "source": [
    "size = len(junk_food)"
   ]
  },
  {
   "cell_type": "code",
   "execution_count": 58,
   "id": "f818f82e-da84-4473-82f1-ba97c920403e",
   "metadata": {},
   "outputs": [],
   "source": [
    "sigma = np.std(junk_food, ddof = 1)"
   ]
  },
  {
   "cell_type": "code",
   "execution_count": 59,
   "id": "c9767ce8-ea56-496a-86e2-148a2cdd3ac7",
   "metadata": {},
   "outputs": [
    {
     "data": {
      "text/plain": [
       "(20, 8.756)"
      ]
     },
     "execution_count": 59,
     "metadata": {},
     "output_type": "execute_result"
    }
   ],
   "source": [
    "size, sigma"
   ]
  },
  {
   "cell_type": "code",
   "execution_count": 60,
   "id": "c31739d5-c90e-4d0d-ac6c-d0a2be10324d",
   "metadata": {},
   "outputs": [],
   "source": [
    "# 시뮬레이션에서 50,000번의 t값 계산\n",
    "\n",
    "t_value_array = np.zeros(50000)"
   ]
  },
  {
   "cell_type": "markdown",
   "id": "8265645e-bdb2-44c6-94fd-c88bd36e8c97",
   "metadata": {},
   "source": [
    "* 50000개의 t값 중 $t_{표본}$을 넘어선 비율을 구함. 그리고 그 값을 2배 해주면 p값이 됨"
   ]
  },
  {
   "cell_type": "code",
   "execution_count": 61,
   "id": "fe091a9a-02d9-449a-be2e-896b118bf33e",
   "metadata": {},
   "outputs": [],
   "source": [
    "np.random.seed(1)\n",
    "norm_dist = stats.norm(loc = 50, scale = sigma)\n",
    "for i in range(0, 50000):\n",
    "    sample = norm_dist.rvs(size = size)\n",
    "    sample_mean = np.mean(sample)\n",
    "    sample_std = np.std(sample, ddof = 1)\n",
    "    sample_se = sample_std/np.sqrt(size)\n",
    "    t_value_array[i] = (sample_mean - 50) / sample_se"
   ]
  },
  {
   "cell_type": "code",
   "execution_count": 62,
   "id": "8647592e-1fc5-4fee-9ead-a1e80d4d33df",
   "metadata": {},
   "outputs": [
    {
     "data": {
      "text/plain": [
       "0.013"
      ]
     },
     "execution_count": 62,
     "metadata": {},
     "output_type": "execute_result"
    }
   ],
   "source": [
    "(sum(t_value_array > t_value) / 50000)*2"
   ]
  },
  {
   "cell_type": "markdown",
   "id": "2487a783-2acc-4d5f-9c5e-1b5a6d3f5c85",
   "metadata": {},
   "source": [
    "* 이론상 계산한 값과 거의 일치하는 것을 확인할 수 있음"
   ]
  },
  {
   "cell_type": "markdown",
   "id": "380a5790-a11f-4ed2-894b-61078e483174",
   "metadata": {},
   "source": [
    "## 3.9 평균값의 차이 검정"
   ]
  },
  {
   "cell_type": "markdown",
   "id": "618f994d-2624-49b9-b31c-928359891565",
   "metadata": {},
   "source": [
    "### 3.9.1 2집단 데이터에 대한 t검정"
   ]
  },
  {
   "cell_type": "markdown",
   "id": "87287b03-1b51-4df4-985f-ccec3697d878",
   "metadata": {},
   "source": [
    "### 3.9.2 대응표본 t검정"
   ]
  },
  {
   "cell_type": "markdown",
   "id": "d9aee600-255d-4301-81a3-06ea64d81a4a",
   "metadata": {},
   "source": [
    "* 약을 먹기 전과 후에 체온 차이가 얼마나 되는지 조사하는 것과 같이 같은 대상을 다른 조건으로 2번 측정해서 그 차이를 보는 경우\n",
    "\n",
    "* 전후 차이를 측정하고 그 차이들(column)의 평균값이 0과 다르면 전후는 차이가 있다고 주장 가능 \n",
    "\n",
    "* 이와 같이 대응표본 t검정에서는 '차이값이 0과 유의미한 차이가 있는지'를 가지고 1집단 t검정을 실행함"
   ]
  },
  {
   "cell_type": "markdown",
   "id": "48178bf8-bbc5-469f-ad56-9d769a628107",
   "metadata": {},
   "source": [
    "### 3.9.3 분석 준비"
   ]
  },
  {
   "cell_type": "code",
   "execution_count": 63,
   "id": "8e582fa4-5fdd-4e2e-8858-d4865b8fb4c5",
   "metadata": {},
   "outputs": [],
   "source": [
    "# 수치 계산에 사용하는 라이브러리\n",
    "import numpy as np\n",
    "import pandas as pd\n",
    "import scipy as sp\n",
    "from scipy import stats\n",
    "\n",
    "# 그래프를 그리기 위한 라이브러리\n",
    "from matplotlib import pyplot as plt\n",
    "import seaborn as sns\n",
    "sns.set()\n",
    "\n",
    "# 표시 자릿수 지정\n",
    "%precision 3\n",
    "\n",
    "# 그래프를 주피터 노트북에 그리기 위한 설정\n",
    "%matplotlib inline"
   ]
  },
  {
   "cell_type": "code",
   "execution_count": 64,
   "id": "c6248672-ceea-4ef5-9129-7f833a47d651",
   "metadata": {},
   "outputs": [],
   "source": [
    "# 샘플데이터 불러오기 \n",
    "\n",
    "paired_test_data = pd.read_csv(\"py_source/3-9-1-paired-t-test.csv\")"
   ]
  },
  {
   "cell_type": "code",
   "execution_count": 65,
   "id": "8da9a407-da44-4f1d-b5af-6669aa67bcae",
   "metadata": {},
   "outputs": [
    {
     "name": "stdout",
     "output_type": "stream",
     "text": [
      "  person medicine  body_temperature\n",
      "0      A   before              36.2\n",
      "1      B   before              36.2\n",
      "2      C   before              35.3\n",
      "3      D   before              36.1\n",
      "4      E   before              36.1\n",
      "5      A    after              36.8\n",
      "6      B    after              36.1\n",
      "7      C    after              36.8\n",
      "8      D    after              37.1\n",
      "9      E    after              36.9\n"
     ]
    }
   ],
   "source": [
    "print(paired_test_data)"
   ]
  },
  {
   "cell_type": "markdown",
   "id": "7095ac6e-e49f-4a77-bafd-0b1c5f0ffb0f",
   "metadata": {},
   "source": [
    "* 가설 설정\n",
    "\n",
    "    - 귀무가설: 약을 먹기 전과 후의 체온이 변하지 않는다.\n",
    "    \n",
    "    - 대립가설: 약을 먹기 전과 후의 체온이 다르다."
   ]
  },
  {
   "cell_type": "markdown",
   "id": "6f726282-7fd7-4270-bc57-d9db8753a507",
   "metadata": {},
   "source": [
    "### 3.9.4 대응표본 t검정(실습)"
   ]
  },
  {
   "cell_type": "code",
   "execution_count": 66,
   "id": "56e49bf3-6492-4487-b3e2-d3bc9c12cb18",
   "metadata": {},
   "outputs": [
    {
     "data": {
      "text/plain": [
       "array([ 0.6, -0.1,  1.5,  1. ,  0.8])"
      ]
     },
     "execution_count": 66,
     "metadata": {},
     "output_type": "execute_result"
    }
   ],
   "source": [
    "# 시리즈 추출\n",
    "before = paired_test_data.query('medicine == \"before\"')[\"body_temperature\"]\n",
    "after = paired_test_data.query('medicine == \"after\"')[\"body_temperature\"]\n",
    "\n",
    "# 시리즈 -> 배열 전환 \n",
    "before = np.array(before)\n",
    "after = np.array(after)\n",
    "\n",
    "# 차이 계산\n",
    "diff = after - before\n",
    "diff"
   ]
  },
  {
   "cell_type": "markdown",
   "id": "659b8bfb-a003-41d9-b789-4807a00c4ce4",
   "metadata": {},
   "source": [
    "* diff의 평균이 0과 다른지 1집단 t 검정 실시"
   ]
  },
  {
   "cell_type": "code",
   "execution_count": 67,
   "id": "4366a986-1eb3-4478-9ebe-582ab2f2cd83",
   "metadata": {},
   "outputs": [
    {
     "data": {
      "text/plain": [
       "Ttest_1sampResult(statistic=2.901693483620596, pvalue=0.044043109730074276)"
      ]
     },
     "execution_count": 67,
     "metadata": {},
     "output_type": "execute_result"
    }
   ],
   "source": [
    "stats.ttest_1samp(diff, 0)"
   ]
  },
  {
   "cell_type": "markdown",
   "id": "7b54260c-e860-4c79-beaa-824c1deee9de",
   "metadata": {},
   "source": [
    "* stats.ttest_rel 함수를 이용하면 간단하게 검정할 수 있음"
   ]
  },
  {
   "cell_type": "code",
   "execution_count": 68,
   "id": "a558e6ec-9ed3-4d38-ab52-4b17ab9b13f1",
   "metadata": {},
   "outputs": [
    {
     "data": {
      "text/plain": [
       "Ttest_relResult(statistic=2.901693483620596, pvalue=0.044043109730074276)"
      ]
     },
     "execution_count": 68,
     "metadata": {},
     "output_type": "execute_result"
    }
   ],
   "source": [
    "stats.ttest_rel(after, before)"
   ]
  },
  {
   "cell_type": "markdown",
   "id": "9812d33a-5b4c-4b70-a8ad-9414a203cb29",
   "metadata": {},
   "source": [
    "* P값이 0.05보다 작으므로 약을 먹기 전과 후의 체온은 유의미한 차이가 있다고 주장할 수 있음"
   ]
  },
  {
   "cell_type": "markdown",
   "id": "8ddf5208-f0d8-4b01-b00e-4a149623e612",
   "metadata": {},
   "source": [
    "### 3.9.5 독립표본 t 검정"
   ]
  },
  {
   "cell_type": "markdown",
   "id": "b0d96f05-7733-4ee4-b5aa-c5eacb49b52e",
   "metadata": {},
   "source": [
    "* 독립표본 t검정은 '평균값의 차이'에 주목함\n",
    "\n",
    "* 독립표본 t검정은 아래와 같이 계산함\n",
    "\n",
    "$$t = \\frac{\\hat{\\mu_x}-\\hat{\\mu_y}}{\\sqrt{{\\hat{\\sigma_{x}^{2}} \\over m} + {\\hat{\\sigma_{y}^{2}} \\over n}}}$$\n",
    "\n",
    "* 2개의 변수로 분산의 차이가 있다는 것을 가정한 계산을 하고 있기 때문에 분모의 표준오차가 약간 복잡함\n",
    "\n",
    "* Welch 근사법이라 불리는 방법을 이용해 p값 계산 가능. 따라서 이 방법을 Welch 검정이라고도 함"
   ]
  },
  {
   "cell_type": "markdown",
   "id": "0b4c9d60-e4d1-4d26-a074-ce14c1fcd484",
   "metadata": {},
   "source": [
    "### 3.9.6 독립표본 t 검정(실습)"
   ]
  },
  {
   "cell_type": "markdown",
   "id": "9916cee7-bdc1-4114-ba89-54eba6a2db27",
   "metadata": {},
   "source": [
    "* 보통 R에서는 \n",
    "    \n",
    "    - 1. 정규성 검사(Q-Q plot, Shapiro-Wilk 검정, 콜모고로프-스미노로프 검정)\n",
    "\n",
    "    - 1. var.test() 함수를 이용, 등분산 여부 확인 \n",
    "    \n",
    "    - 2. t.test() 함수의 var.equal = TRUE / FALSE 인자를 조정하여 t-test 수행\n",
    "    \n",
    "* 파이썬에서는 \n",
    "    \n",
    "    - 1. normaltest 이용 정규성 검사 (from scipy.stats import normaltest)\n",
    "    \n",
    "    - 2. f_test(x, y) (사용자 정의 함수) 이용 등분산 검정\n",
    "    \n",
    "    - 3. stats.ttest_ind() 함수의 equal_var = True / False 인자 조정하여 등분산 여부에 따른 t-test 수행"
   ]
  },
  {
   "cell_type": "code",
   "execution_count": 69,
   "id": "faef13cd-9a0b-4be5-b702-ac76890ca20a",
   "metadata": {},
   "outputs": [
    {
     "data": {
      "text/plain": [
       "3.156"
      ]
     },
     "execution_count": 69,
     "metadata": {},
     "output_type": "execute_result"
    }
   ],
   "source": [
    "# 원래는 독립표본을 사용해야 하나, 편의상 위의 예제 데이터를 활용\n",
    "\n",
    "# 표본평균\n",
    "mean_bef = np.mean(before)\n",
    "mean_aft = np.mean(after)\n",
    "\n",
    "# 불편분산\n",
    "sigma_bef = np.var(before, ddof = 1)\n",
    "sigma_aft = np.var(after, ddof = 1)\n",
    "\n",
    "# 표본크기\n",
    "m = len(before)\n",
    "n = len(before)\n",
    "\n",
    "# t통계량\n",
    "t_value = (mean_aft - mean_bef) / np.sqrt((sigma_bef/m + sigma_aft/n))\n",
    "t_value"
   ]
  },
  {
   "cell_type": "markdown",
   "id": "cacf3cee-7a2c-4818-b2b1-f1b970e2703a",
   "metadata": {},
   "source": [
    "* 독립표본 t검정은 stats.ttest_ind 함수를 사용해서 간단히 계산할 수 있음"
   ]
  },
  {
   "cell_type": "code",
   "execution_count": 70,
   "id": "b1c22a13-0c87-4642-89a2-5e61dcbc912f",
   "metadata": {},
   "outputs": [
    {
     "data": {
      "text/plain": [
       "Ttest_indResult(statistic=3.1557282344421034, pvalue=0.013484775682079892)"
      ]
     },
     "execution_count": 70,
     "metadata": {},
     "output_type": "execute_result"
    }
   ],
   "source": [
    "stats.ttest_ind(after, before, equal_var = False) # 등분산이 아닐 때 적용 "
   ]
  },
  {
   "cell_type": "code",
   "execution_count": 71,
   "id": "dfe2261a-17cc-41b3-861e-809a777d262e",
   "metadata": {},
   "outputs": [
    {
     "data": {
      "text/plain": [
       "Ttest_indResult(statistic=3.1557282344421034, pvalue=0.013481508481701042)"
      ]
     },
     "execution_count": 71,
     "metadata": {},
     "output_type": "execute_result"
    }
   ],
   "source": [
    "stats.ttest_ind(after, before, equal_var = True) # 등분산일 때 적용"
   ]
  },
  {
   "cell_type": "code",
   "execution_count": 72,
   "id": "cfd945b6-90d3-4b62-8ffd-12e5c56ac35a",
   "metadata": {},
   "outputs": [
    {
     "ename": "ValueError",
     "evalue": "skewtest is not valid with less than 8 samples; 5 samples were given.",
     "output_type": "error",
     "traceback": [
      "\u001b[1;31m---------------------------------------------------------------------------\u001b[0m",
      "\u001b[1;31mValueError\u001b[0m                                Traceback (most recent call last)",
      "Input \u001b[1;32mIn [72]\u001b[0m, in \u001b[0;36m<cell line: 5>\u001b[1;34m()\u001b[0m\n\u001b[0;32m      1\u001b[0m \u001b[38;5;66;03m# (참고) 파이썬 정규성 검사 코드\u001b[39;00m\n\u001b[0;32m      3\u001b[0m \u001b[38;5;28;01mfrom\u001b[39;00m \u001b[38;5;21;01mscipy\u001b[39;00m\u001b[38;5;21;01m.\u001b[39;00m\u001b[38;5;21;01mstats\u001b[39;00m \u001b[38;5;28;01mimport\u001b[39;00m normaltest\n\u001b[1;32m----> 5\u001b[0m \u001b[43mnormaltest\u001b[49m\u001b[43m(\u001b[49m\u001b[43mafter\u001b[49m\u001b[43m)\u001b[49m\n",
      "File \u001b[1;32mC:\\ProgramData\\Anaconda3\\lib\\site-packages\\scipy\\stats\\stats.py:1637\u001b[0m, in \u001b[0;36mnormaltest\u001b[1;34m(a, axis, nan_policy)\u001b[0m\n\u001b[0;32m   1634\u001b[0m     a \u001b[38;5;241m=\u001b[39m ma\u001b[38;5;241m.\u001b[39mmasked_invalid(a)\n\u001b[0;32m   1635\u001b[0m     \u001b[38;5;28;01mreturn\u001b[39;00m mstats_basic\u001b[38;5;241m.\u001b[39mnormaltest(a, axis)\n\u001b[1;32m-> 1637\u001b[0m s, _ \u001b[38;5;241m=\u001b[39m \u001b[43mskewtest\u001b[49m\u001b[43m(\u001b[49m\u001b[43ma\u001b[49m\u001b[43m,\u001b[49m\u001b[43m \u001b[49m\u001b[43maxis\u001b[49m\u001b[43m)\u001b[49m\n\u001b[0;32m   1638\u001b[0m k, _ \u001b[38;5;241m=\u001b[39m kurtosistest(a, axis)\n\u001b[0;32m   1639\u001b[0m k2 \u001b[38;5;241m=\u001b[39m s\u001b[38;5;241m*\u001b[39ms \u001b[38;5;241m+\u001b[39m k\u001b[38;5;241m*\u001b[39mk\n",
      "File \u001b[1;32mC:\\ProgramData\\Anaconda3\\lib\\site-packages\\scipy\\stats\\stats.py:1438\u001b[0m, in \u001b[0;36mskewtest\u001b[1;34m(a, axis, nan_policy, alternative)\u001b[0m\n\u001b[0;32m   1436\u001b[0m n \u001b[38;5;241m=\u001b[39m a\u001b[38;5;241m.\u001b[39mshape[axis]\n\u001b[0;32m   1437\u001b[0m \u001b[38;5;28;01mif\u001b[39;00m n \u001b[38;5;241m<\u001b[39m \u001b[38;5;241m8\u001b[39m:\n\u001b[1;32m-> 1438\u001b[0m     \u001b[38;5;28;01mraise\u001b[39;00m \u001b[38;5;167;01mValueError\u001b[39;00m(\n\u001b[0;32m   1439\u001b[0m         \u001b[38;5;124m\"\u001b[39m\u001b[38;5;124mskewtest is not valid with less than 8 samples; \u001b[39m\u001b[38;5;132;01m%i\u001b[39;00m\u001b[38;5;124m samples\u001b[39m\u001b[38;5;124m\"\u001b[39m\n\u001b[0;32m   1440\u001b[0m         \u001b[38;5;124m\"\u001b[39m\u001b[38;5;124m were given.\u001b[39m\u001b[38;5;124m\"\u001b[39m \u001b[38;5;241m%\u001b[39m \u001b[38;5;28mint\u001b[39m(n))\n\u001b[0;32m   1441\u001b[0m y \u001b[38;5;241m=\u001b[39m b2 \u001b[38;5;241m*\u001b[39m math\u001b[38;5;241m.\u001b[39msqrt(((n \u001b[38;5;241m+\u001b[39m \u001b[38;5;241m1\u001b[39m) \u001b[38;5;241m*\u001b[39m (n \u001b[38;5;241m+\u001b[39m \u001b[38;5;241m3\u001b[39m)) \u001b[38;5;241m/\u001b[39m (\u001b[38;5;241m6.0\u001b[39m \u001b[38;5;241m*\u001b[39m (n \u001b[38;5;241m-\u001b[39m \u001b[38;5;241m2\u001b[39m)))\n\u001b[0;32m   1442\u001b[0m beta2 \u001b[38;5;241m=\u001b[39m (\u001b[38;5;241m3.0\u001b[39m \u001b[38;5;241m*\u001b[39m (n\u001b[38;5;241m*\u001b[39m\u001b[38;5;241m*\u001b[39m\u001b[38;5;241m2\u001b[39m \u001b[38;5;241m+\u001b[39m \u001b[38;5;241m27\u001b[39m\u001b[38;5;241m*\u001b[39mn \u001b[38;5;241m-\u001b[39m \u001b[38;5;241m70\u001b[39m) \u001b[38;5;241m*\u001b[39m (n\u001b[38;5;241m+\u001b[39m\u001b[38;5;241m1\u001b[39m) \u001b[38;5;241m*\u001b[39m (n\u001b[38;5;241m+\u001b[39m\u001b[38;5;241m3\u001b[39m) \u001b[38;5;241m/\u001b[39m\n\u001b[0;32m   1443\u001b[0m          ((n\u001b[38;5;241m-\u001b[39m\u001b[38;5;241m2.0\u001b[39m) \u001b[38;5;241m*\u001b[39m (n\u001b[38;5;241m+\u001b[39m\u001b[38;5;241m5\u001b[39m) \u001b[38;5;241m*\u001b[39m (n\u001b[38;5;241m+\u001b[39m\u001b[38;5;241m7\u001b[39m) \u001b[38;5;241m*\u001b[39m (n\u001b[38;5;241m+\u001b[39m\u001b[38;5;241m9\u001b[39m)))\n",
      "\u001b[1;31mValueError\u001b[0m: skewtest is not valid with less than 8 samples; 5 samples were given."
     ]
    }
   ],
   "source": [
    "# (참고) 파이썬 정규성 검사 코드\n",
    "\n",
    "from scipy.stats import normaltest\n",
    "\n",
    "normaltest(after) # 8개 이상의 샘플이 필요함"
   ]
  },
  {
   "cell_type": "code",
   "execution_count": null,
   "id": "8a71c756-aab9-4583-b57d-3ea33df51dcb",
   "metadata": {},
   "outputs": [],
   "source": [
    "# (참고2) 파이썬 등분산 테스트 \n",
    "#define F-test function : 귀무가설 == 등분산\n",
    "def f_test(x, y):\n",
    "    x = np.array(x)\n",
    "    y = np.array(y)\n",
    "    f = np.var(x, ddof=1)/np.var(y, ddof=1) #calculate F test statistic \n",
    "    dfn = x.size-1 #define degrees of freedom numerator \n",
    "    dfd = y.size-1 #define degrees of freedom denominator \n",
    "    p = 1-scipy.stats.f.cdf(f, dfn, dfd) #find p-value of F test statistic \n",
    "    return f, p"
   ]
  },
  {
   "cell_type": "code",
   "execution_count": null,
   "id": "e0d4b2b3-ff82-471a-addf-dc957395a815",
   "metadata": {},
   "outputs": [],
   "source": [
    "import scipy\n",
    "\n",
    "# perform F-test\n",
    "f_test(after, before)"
   ]
  },
  {
   "cell_type": "markdown",
   "id": "8ae1f928-7cb7-4403-9592-a237cdd0b341",
   "metadata": {},
   "source": [
    "### 3.9.7 독립표본 t검정(등분산)"
   ]
  },
  {
   "cell_type": "markdown",
   "id": "0c2bbac2-b0ad-4bf1-aeec-5f72aca07e36",
   "metadata": {},
   "source": [
    "* 조금 오래된 통계학 입문서에는 데이터의 등분산성을 검정한 뒤 분산이 다르다고 가정한 t 검정과 분산이 같다고 가정한 t 검정을 구별하여 사용\n",
    "\n",
    "* 하지만 최근에는 항상 분산이 다르다고 가정한 t 검정(Welch 검정)을 구별없이 사용하는  추세\n",
    "\n",
    "* stats.ttest_ind( ~, ~, equal_var = False)로 지정"
   ]
  },
  {
   "cell_type": "markdown",
   "id": "b187f5e5-0efd-4da0-81da-41b5eef53fcb",
   "metadata": {},
   "source": [
    "### 3.9.8 p해킹"
   ]
  },
  {
   "cell_type": "markdown",
   "id": "502afb76-d2d4-4301-afb0-194faf6ed313",
   "metadata": {},
   "source": [
    "* 데이터를 조절하거나 검정 방법을 조절하여 p 값을 유의한 수준으로 낮추는 일 등 p값을 자의적으로 변화시키는 일 -> p 해킹\n",
    "\n",
    "* 유의미한 차이는 샘플사이즈나 데이터의 차이 등 다양한 특징을 포괄적으로 정리하여 의미가 있는지 판단하기 위한 방법으로\n",
    "\n",
    "    - p값이라는 수치에만 매달려서 자신이 원하는 결과를 얻기 위한 분석을 하게 되는 일은 지양해야 함"
   ]
  },
  {
   "cell_type": "markdown",
   "id": "32e3af69-e128-4da7-b74d-f69313ce9a62",
   "metadata": {},
   "source": [
    "## 3.10 분할표 검정"
   ]
  },
  {
   "cell_type": "markdown",
   "id": "6e550735-98ee-4744-9761-3cdff56f8f17",
   "metadata": {},
   "source": [
    "* 분할표에 대한 독립성 검정\n",
    "\n",
    "* $\\chi^2$ 검정(카이제곱검정) 이라고도 함"
   ]
  },
  {
   "cell_type": "markdown",
   "id": "d585127e-2923-4d98-8607-e21ad719614d",
   "metadata": {},
   "source": [
    "### 3.10.1 분할표를 사용할 때의 장점"
   ]
  },
  {
   "cell_type": "markdown",
   "id": "9dd88522-18c1-4f20-869d-36b6b04f97c6",
   "metadata": {},
   "source": [
    "* 한 가지 결과에 대해 다른 요인의 영향이 있는지 또는 그 영향에 의해 결과적으로 나타나는 양상인지를 확인할 수 있음\n",
    "\n",
    "* 데이터에 대한 왜곡이 줄어들 수 있음"
   ]
  },
  {
   "cell_type": "markdown",
   "id": "a696f40a-89ec-44d3-99b5-69b92d8fcddc",
   "metadata": {},
   "source": [
    "### 3.10.2 이 절에서 다룰 예제"
   ]
  },
  {
   "cell_type": "markdown",
   "id": "07af988a-1991-43ad-97a1-2c0efcaf8922",
   "metadata": {},
   "source": [
    "* 관측도수에 대한 유의성 판단을 위한 통계적 가설검정"
   ]
  },
  {
   "cell_type": "markdown",
   "id": "57b4119c-6f16-4fcd-9736-3cb29443210a",
   "metadata": {},
   "source": [
    "### 3.10.3 기대도수 구하기"
   ]
  },
  {
   "cell_type": "markdown",
   "id": "d420a18a-c44a-4d1d-b7a0-652831035812",
   "metadata": {},
   "source": [
    "### 3.10.4 기대도수와의 차이 구하기"
   ]
  },
  {
   "cell_type": "markdown",
   "id": "f1e79a63-8cff-43eb-88d2-1bc40ca99d4a",
   "metadata": {},
   "source": [
    "* $\\chi^2$ 통계량 구하기 \n",
    "\n",
    "$$\\chi^2 = \\sum_{i=1}^{2} \\sum_{j=1}^{2} \\frac{\\left ( O_{ij} - E_{ij} \\right )^2}{E_{ij}}$$ "
   ]
  },
  {
   "cell_type": "markdown",
   "id": "b7c89661-763e-4fba-8718-3a2e33b96018",
   "metadata": {},
   "source": [
    "* 2행 2열의 분할표의 경우 카이제곱 통계량의 표본분포는 자유도가 1인 카이제곱 분포에 점근적으로 따름"
   ]
  },
  {
   "cell_type": "markdown",
   "id": "5aa484e8-83cc-43c1-9dd2-827d4886dc7b",
   "metadata": {},
   "source": [
    "### 3.10.5 p값 계산"
   ]
  },
  {
   "cell_type": "code",
   "execution_count": null,
   "id": "84b578ae-5b73-49cd-a473-d2f69ef24775",
   "metadata": {},
   "outputs": [],
   "source": [
    "# 수치 계산에 사용하는 라이브러리\n",
    "import numpy as np\n",
    "import pandas as pd\n",
    "import scipy as sp\n",
    "from scipy import stats\n",
    "\n",
    "# 그래프를 그리기 위한 라이브러리\n",
    "from matplotlib import pyplot as plt\n",
    "import seaborn as sns\n",
    "sns.set()\n",
    "\n",
    "# 표시 자릿수 지정\n",
    "%precision 3\n",
    "\n",
    "# 그래프를 주피터 노트북에 그리기 위한 설정\n",
    "%matplotlib inline"
   ]
  },
  {
   "cell_type": "code",
   "execution_count": null,
   "id": "19848b2e-be59-439d-bd70-5f284b06cb34",
   "metadata": {},
   "outputs": [],
   "source": [
    "# 자유도가 1인 카이제곱 분포의 누적밀도함수를 사용해서 p값 구하기\n",
    "1 - sp.stats.chi2.cdf(x = 6.667, df = 1)"
   ]
  },
  {
   "cell_type": "markdown",
   "id": "d90dccdc-900c-4310-aeac-e4fc2c4a5a15",
   "metadata": {},
   "source": [
    "### 3.10.6 분할표 검정(실습)"
   ]
  },
  {
   "cell_type": "code",
   "execution_count": null,
   "id": "b0926d31-76ff-4bda-b668-8e6d95910ce8",
   "metadata": {},
   "outputs": [],
   "source": [
    "click_data = pd.read_csv(\"py_source/3-10-1-click_data.csv\")\n",
    "print(click_data)"
   ]
  },
  {
   "cell_type": "code",
   "execution_count": null,
   "id": "5249f817-93d1-4461-ae4c-ea51e70cc56e",
   "metadata": {},
   "outputs": [],
   "source": [
    "# 분할표로 변환 \n",
    "\n",
    "cross = pd.pivot_table(\n",
    "    data = click_data,\n",
    "    values = \"freq\",\n",
    "    aggfunc = \"sum\",\n",
    "    index = \"color\",\n",
    "    columns = \"click\")\n",
    "\n",
    "print(cross)"
   ]
  },
  {
   "cell_type": "code",
   "execution_count": null,
   "id": "b3bd25ce-c3fe-4b4a-bec8-f8138f2b8567",
   "metadata": {},
   "outputs": [],
   "source": [
    "sp.stats.chi2_contingency(cross, correction = False)"
   ]
  },
  {
   "cell_type": "markdown",
   "id": "c15eca30-958e-48b5-bb5f-d6ac78e752ac",
   "metadata": {},
   "source": [
    "* $\\chi^2$ 통계량, p-value, 자유도, 기대도수 표 순으로 출력됨\n",
    "\n",
    "* p-value가 0.05보다 작으므로 색에 따라 버튼을 클릭하는 것이 유의미하게 변한다고 할 수 있다."
   ]
  },
  {
   "cell_type": "markdown",
   "id": "fc0791a6-c311-4eb3-a60a-2cb66d78af77",
   "metadata": {},
   "source": [
    "## 3.11 검정 결과 해석"
   ]
  },
  {
   "cell_type": "markdown",
   "id": "be50b78c-02f2-458d-a338-4a7370a9c23a",
   "metadata": {},
   "source": [
    "### 3.11.1 p값이 0.05 이하일 때의 결과 작성법 "
   ]
  },
  {
   "cell_type": "markdown",
   "id": "6a2640fa-f52a-47a4-8df2-e2bfc44cbaf0",
   "metadata": {},
   "source": [
    "* **```~은 ~과 유의미한 차이가 있다```** 라고 기재"
   ]
  },
  {
   "cell_type": "markdown",
   "id": "8b83b194-5332-4c5d-bad6-c9d86cbc20f1",
   "metadata": {},
   "source": [
    "###  3.11.2 p값이 0.05보다 클 때의 결과 작성법"
   ]
  },
  {
   "cell_type": "markdown",
   "id": "e4ccde86-77e7-4d97-8a56-d5ad44462163",
   "metadata": {},
   "source": [
    "* **```~은 ~과 유의미한 차이가 있다고 말할 수 없다```** 라고 기재\n",
    "\n",
    "* ```~은 ~과 같다``` 라고 말하면 안됨 !!"
   ]
  },
  {
   "cell_type": "markdown",
   "id": "c1cd1116-7083-4ee0-9889-506aee70ff60",
   "metadata": {},
   "source": [
    "### 3.11.3 가설검정을 할 때 자주하는 실수 "
   ]
  },
  {
   "cell_type": "markdown",
   "id": "160a23f3-2484-4341-ae6d-6e6e224c4344",
   "metadata": {},
   "source": [
    "* 통계적 가설검정 시 대표적인 오류 \n",
    "\n",
    "    - 1. p값이 작으면 차이가 크다고 말할 수 있다. \n",
    "    \n",
    "    - 2. p값이 0.05보다 크므로 차이가 없다고 말할 수 있다.\n",
    "    \n",
    "    - 3. 1-p 값은 대립가설이 올바를 확률이다."
   ]
  },
  {
   "cell_type": "markdown",
   "id": "ffe3a637-4f16-45ea-b5eb-c456681c5942",
   "metadata": {},
   "source": [
    "* p값은 데이터의 흩어진 정도인 표준편차(분산)가 작으면 t값이 커지므로 p값이 작아질 수 있고, 샘플사이즈가 많아지면 t값이 커지므로 p값이 작아질 수 있다. 따라서 p값이 작다고 차이가 크다고 말할 수는 없다.\n",
    "\n",
    "* 귀무가설이 틀릴 확률은 p값이라는 지표로 컨트로 가능하지만, 귀무가설이 옳을 확률은 p값이라는 지표로 컨트롤 할 수 없음\n",
    "\n"
   ]
  },
  {
   "cell_type": "markdown",
   "id": "40b0b15d-bd6b-487b-8914-b747aeb0b0c7",
   "metadata": {},
   "source": [
    "### 3.11.4 제1종 오류와 제2종 오류"
   ]
  },
  {
   "cell_type": "markdown",
   "id": "7195f986-5176-42d6-9134-89e7cfc99337",
   "metadata": {},
   "source": [
    "* **제1종 오류** : 귀무가설이 올바르지만 실수하여 귀무가설을 기각하는 경우\n",
    "\n",
    "* **제2종 오류** : 귀무가설이 틀렸는데 실수하여 귀무가설을 채택하는 경우"
   ]
  },
  {
   "cell_type": "markdown",
   "id": "8f457677-47a9-4062-879d-9ea2d33c0bf5",
   "metadata": {},
   "source": [
    "### 3.11.5 검정의 비대칭성"
   ]
  },
  {
   "cell_type": "markdown",
   "id": "95e222bd-6fdb-4732-88e4-c5c8e0964fa5",
   "metadata": {},
   "source": [
    "* 제1종 오류에 대해서는 그 확률을 컨트롤할 수 있지만, 제2종 오류에 대해서는 컨트롤할 수 없어서 발생하는 것이 **검정의 비대칭성** \n",
    "\n",
    "* 제2종 오류가 일어날 확률, 즉 귀무가설이 틀렸는데 실수하여 귀무가설을 채택할 확률은 통계적가설검정으로 컨트롤할 수 없음\n",
    "\n",
    "    - 따라서 검정력을 계산하는 다른 방식이 생겨남\n",
    "\n",
    "\n",
    "* 통계적 가설검정에서는 제1종 오류만 컨트롤할 수 있다는 점 기억 필요"
   ]
  },
  {
   "cell_type": "markdown",
   "id": "58c71550-3091-4210-908d-307f6fbb887f",
   "metadata": {},
   "source": [
    "### 3.11.6 유의수준은 검정을 하기 전에 정해둔다."
   ]
  },
  {
   "cell_type": "markdown",
   "id": "782dfef8-cfb6-4281-a951-f066c7f01299",
   "metadata": {},
   "source": [
    "* 유의수준은 검정을 하기 전에 정해두어야 한다는 규칙이 있음\n",
    "\n",
    "    - 예를 들어 유의수준을 1%로 해서 검정을 했는데, p값이 0.037이 나와서 유의미한 차이를 얻지 못했다고 유의수준을 5%로 바꾸는 것은 반칙임\n",
    "\n",
    "\n",
    "* 보통 5%, 1%를 많이 사용함"
   ]
  },
  {
   "cell_type": "markdown",
   "id": "97c85019-ad74-49a7-9f6d-0c5525945af3",
   "metadata": {},
   "source": [
    "### 3.11.7 모델 선택"
   ]
  },
  {
   "cell_type": "markdown",
   "id": "e1476f49-0d70-4d15-b7af-5283ae3355d7",
   "metadata": {},
   "source": [
    "* 통계모델과 모델 선택이라는 틀을 통해 검정의 비대칭 문제를 조금이나마 완화할 수 있음"
   ]
  },
  {
   "cell_type": "markdown",
   "id": "972b36a7-d70b-4925-8192-c41f893b5e86",
   "metadata": {},
   "source": [
    "### 3.11.8 통계적가설검정이 필요한가"
   ]
  },
  {
   "cell_type": "markdown",
   "id": "76706d03-0e51-4056-8f15-c41fd1e7fd38",
   "metadata": {},
   "source": [
    "* 언젠가는 필요 없게 될지도 모르지만 그것이 오늘은 아니다(Not today)\n",
    "\n",
    "* 데이터 분석 업무를 하는데 통계가설검정을 이해하지 못하는 상황이라면 큰 문제가 발생(의사소통의 문제)\n",
    "\n",
    "* 적극적으로 사용할지 여부는 분석가가 판단을 해야겠지만, 최소한 통계적가설검정에 대한 이론은 알아두는 것이 좋음"
   ]
  },
  {
   "cell_type": "markdown",
   "id": "1ddb970d-6f11-4cca-b51b-8ac7d0c549cb",
   "metadata": {},
   "source": [
    "### 3.11.9 가정이 올바른가"
   ]
  },
  {
   "cell_type": "markdown",
   "id": "d76ddb9b-b4e9-4bf6-9ffe-e48466ce51f6",
   "metadata": {},
   "source": [
    "* t검정에서는 모집단 분포가 정규분포라고 가정함. 이 가정이 충족되지 않으면 p값을 계산하는 것이 불가능함\n",
    "\n",
    "* 데이터 분석은 데이터를 다듬는 작업이라고 생각할 수도 있지만 실제로는 매우 다름\n",
    "\n",
    "    - 표본이 가지는 가정과의 차이를 어떻게 줄일지 항상 생각해야 함\n",
    "    \n",
    "    - 그리고 이러한 분석의 밑에 깔려 있는 가정에 대해 진지하게 생각하게 되었을 때 옛날부터 있었던 '평균값의 차이 검정' 등의 틀에서는 이 문제를 해결하기 역부족이라는 것을 깨닫게 될 것임"
   ]
  },
  {
   "cell_type": "markdown",
   "id": "54a22094-0a1d-43a8-95c8-c7eabbf9db41",
   "metadata": {},
   "source": [
    "* 통계모델을 통해 현상을 보다 유연하게 분석할 수 있게 해주는 통계학의 새로운 기준을 배울 수 있음"
   ]
  }
 ],
 "metadata": {
  "kernelspec": {
   "display_name": "Python 3 (ipykernel)",
   "language": "python",
   "name": "python3"
  },
  "language_info": {
   "codemirror_mode": {
    "name": "ipython",
    "version": 3
   },
   "file_extension": ".py",
   "mimetype": "text/x-python",
   "name": "python",
   "nbconvert_exporter": "python",
   "pygments_lexer": "ipython3",
   "version": "3.9.12"
  }
 },
 "nbformat": 4,
 "nbformat_minor": 5
}
