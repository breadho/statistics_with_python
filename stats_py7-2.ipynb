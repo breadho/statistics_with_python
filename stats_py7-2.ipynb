{
 "cells": [
  {
   "cell_type": "markdown",
   "id": "c28b80da-520d-47c1-952c-529e59ec0135",
   "metadata": {},
   "source": [
    "# Chapter 7. 통계학과 머신러닝"
   ]
  },
  {
   "cell_type": "markdown",
   "id": "ead7669f-4127-4508-8d28-32ee05f08ba4",
   "metadata": {},
   "source": [
    "## 7.2 정규화와 리지 회귀, 라소 회귀"
   ]
  },
  {
   "cell_type": "markdown",
   "id": "d3812914-2b8b-4dcc-939f-bb05ed292677",
   "metadata": {},
   "source": [
    "* 통계학과 머신러닝을 이어주는 모델인 리지 회귀와 라소 회귀를 소개함\n",
    "\n",
    "* 단순한 예측모델로도 뛰어나고, 다양한 머신러닝에 이용되는 정규화라는 이론을 이해하기 위한 내용으로도 뛰어남"
   ]
  },
  {
   "cell_type": "markdown",
   "id": "8be12112-98af-4e10-8c03-933e3ef09c0f",
   "metadata": {},
   "source": [
    "### 7.2.1 정규화 "
   ]
  },
  {
   "cell_type": "markdown",
   "id": "51845ac8-e2fc-442e-8256-5401d8cc208f",
   "metadata": {},
   "source": [
    "* **정규화** : 파라미터를 추정할 때 손실함수에 벌칙항을 도입함으로써 계수가 큰 값이 되는 것을 막는 기법. 벌칙항은 정규화항이라고도 부르며 통계학에서는 **파라미터의 축소 추정**이라고도 부름"
   ]
  },
  {
   "cell_type": "markdown",
   "id": "ad6f1df5-1278-4b42-b99b-bf0c0e389f73",
   "metadata": {},
   "source": [
    "### 7.2.2 리지 회귀"
   ]
  },
  {
   "cell_type": "markdown",
   "id": "fb71ef4c-0fd3-4a0a-8116-f8239f843560",
   "metadata": {},
   "source": [
    "* **리지 회귀** : 정규화항으로 계수의 제곱합을 이용한 회귀모델. 이 타입의 정규화를 **L2 정규화** 라고도 부름"
   ]
  },
  {
   "cell_type": "markdown",
   "id": "4c2ecd32-c8a9-49fb-82c2-52eda050b3a2",
   "metadata": {},
   "source": [
    "* **수식 비교**\n",
    "\n",
    "    - 보통의 최소제곱법: **잔차제곱합을 최소로 하는 계수 추정**\n",
    "    \n",
    "    $$\\sum_{i=1}^{I} \\left( y_i - \\sum_{j=1}^{J}\\beta_j \\cdot x_{ij} \\right)$$\n",
    "    \n",
    "    - **리지회귀**는 아래처럼 **벌칙이 있는 잔차제곱합**을 **최소로 하는 계수를 추정**\n",
    "    \n",
    "    $$\\sum_{i=1}^{I} \\left[ \\left( y_i - \\sum_{j=1}^{J}\\beta_j \\cdot x_{ij} \\right)^2 + \\alpha \\sum_{j=1}^{J}\\beta_{j}^{2} \\right]$$"
   ]
  },
  {
   "cell_type": "markdown",
   "id": "9ca3b034-03cc-4525-b6e7-2ad91e70bb57",
   "metadata": {},
   "source": [
    "* **$\\alpha \\sum_{j=1}^{J} \\beta_{j}^{2}$** : 정규화항(벌칙항)\n",
    "\n",
    "* **$\\alpha$** : 정규화의 강도를 지정하는 파라미터, $\\alpha$가 크면 벌칙의 영향이 강해지기 때문에 계수의 절대치는 작아짐"
   ]
  },
  {
   "cell_type": "markdown",
   "id": "544c6a11-b05f-41af-9308-21cc7ace664a",
   "metadata": {},
   "source": [
    "### 7.2.3 라소 회귀"
   ]
  },
  {
   "cell_type": "markdown",
   "id": "27d96400-4377-481e-a1fc-ad9c7c94ff2c",
   "metadata": {},
   "source": [
    "* **라소 회귀** : 정규화항으로 계수의 절댓값의 합을 이용한 회귀모델. 이 타입의 정규화를 **L1 정규화**라고도 부름\n",
    "\n",
    "* 라소 회귀는 아래와 같이 벌칙이 있는 잔차제곱합을 최소로 하는 계수를 추정함\n",
    "\n",
    "    - 벌칙항이 **절댓값의 합이 된 점**을 제외하면 리지 회귀와 같음\n",
    "    \n",
    "    $$\\sum_{i=1}^{I} \\left[ \\left( y_i - \\sum_{j=1}^{J}\\beta_j \\cdot x_{ij} \\right)^2 + \\alpha \\sum_{j=1}^{J} \\left| \\beta_{j} \\right| \\right]$$"
   ]
  },
  {
   "cell_type": "markdown",
   "id": "d2eec8ed-b0de-4078-857a-064a37325f20",
   "metadata": {},
   "source": [
    "### 7.2.4 정규화 강도를 지정하는 파라미터의 결정"
   ]
  },
  {
   "cell_type": "markdown",
   "id": "e5c6fa32-5f70-437b-a5a1-26fcfd421195",
   "metadata": {},
   "source": [
    "* $\\alpha$를 여러가지로 변화시킨 후 교차검증법을 이용해서 테스트 데이터에 대한 예측 정확도를 평가함. 그 중 테스트 데이터를 가장 잘 예측한 $\\alpha$를 선택함\n",
    "\n",
    "    * 교차검증법 사용을 권장함"
   ]
  },
  {
   "cell_type": "markdown",
   "id": "35cb3010-e847-42fa-99a1-a88aaa09637b",
   "metadata": {},
   "source": [
    "### 7.2.5 독립변수의 표준화"
   ]
  },
  {
   "cell_type": "markdown",
   "id": "da1ca714-2e7b-495b-b770-04fc8ce6f341",
   "metadata": {},
   "source": [
    "* 리지나 라소를 실행하기 전에 미리 독립변수를 평균 0, 표준편차 1로 표준화할 필요가 있음\n",
    "\n",
    "     * 예를 들어 kg 단위의 데이터를 사용했을 때와, g 단위의 데이터를 사용했을 때의 회귀계수의 절댓값의 크기가 바뀜 \n",
    "     \n",
    "     * 회귀계수의 절댓값이 커지면 벌칙의 영향도 커짐 -> 독립변수의 단위가 파라미터 추정 시 영향을 주는 것을 막기 위해 미리 독립변수를 표준화함"
   ]
  },
  {
   "cell_type": "markdown",
   "id": "835fe39d-1101-4313-821b-d966e48071a1",
   "metadata": {},
   "source": [
    "### 7.2.6 리지 회귀와 라소 회귀의 추정 결과 차이"
   ]
  },
  {
   "cell_type": "markdown",
   "id": "a727cd9b-f4a0-412d-9029-e69c7f50628f",
   "metadata": {},
   "source": [
    "* 리지 회귀는 전체적으로 절대치가 작은 회귀계수를 얻을 수 있음\n",
    "\n",
    "* 라소 회귀는 대부분의 파라미터가 0이 되고, 일부 파라미터만 0과 다른 값이 되기 쉬움 -> 변수 선택에 사용\n",
    "\n",
    "    - **라소 회귀**는 성긴(sparse) 해를 얻을 수 있기 때문에 **스파스 모델링**이라는 이름으로 소개되기도 함\n",
    "    \n",
    "    > (참고) https://towardsdatascience.com/from-linear-regression-to-ridge-regression-the-lasso-and-the-elastic-net-4eaecaf5f7e6"
   ]
  },
  {
   "cell_type": "markdown",
   "id": "a49b504e-69a0-4d69-8f32-7b9a8058b11e",
   "metadata": {},
   "source": [
    "![image.png](drawings/Lasso_Ridge.png)"
   ]
  },
  {
   "cell_type": "markdown",
   "id": "cf854792-4db2-4e26-8d7f-95ae84ac3c0a",
   "metadata": {},
   "source": [
    "### 7.2.7 변수 선택과 정규화의 비교"
   ]
  },
  {
   "cell_type": "markdown",
   "id": "c2cda7c2-06d9-4d33-8957-9b2021e1095c",
   "metadata": {},
   "source": [
    "* 변수 선택에서는 AIC 기준 등에 근거하여 불필요한 독립변수를 모델에서 제외함\n",
    "\n",
    "* 정규화를 이용하여 절대치가 큰 계수를 추정하는 것을 피하고 독립변수가 종속변수에 미치는 영향을 줄일 수 있음\n",
    "\n",
    "    - 라소 회귀에서 계수가 0이 되는 변수를 제외하고 변수를 선택하는 방식으로 변수 선택에 활용할 수 있음"
   ]
  },
  {
   "cell_type": "markdown",
   "id": "5fa95c80-cf00-400b-addd-9dd38f54de2d",
   "metadata": {},
   "source": [
    "### 7.2.8 정규화의 의의"
   ]
  },
  {
   "cell_type": "markdown",
   "id": "80b13758-e78b-4e19-8e48-9377c6f82d15",
   "metadata": {},
   "source": [
    "* **(AIC 등을 이용한 변수 선택의 결점 보완)** 모든 변수 조합에 대한 AIC의 계산 수행 시 계산량이 많아지는 단점이 있음. 리지 회귀나 라소 회귀를 사용하면 적은 계산 비용으로 다양한 독립변수를 사용할 모델을 적절한 복잡도로 추정할 수 있음\n",
    "\n",
    "* **(적은 샘플 사이즈 데이터에도 적용 가능)** 샘플 사이즈보다 독립변수의 종류가 많은 데이터에도 라소 회귀 등을 이용할 수 있음. \n",
    "\n",
    "* **(과학습(overfitting)을 억제할 수 있음)** 머신러닝에서는 오버피팅을 억제하기 위해 정규화를 다양한 모델에 활용"
   ]
  },
  {
   "cell_type": "markdown",
   "id": "a485657b-f9da-4c97-9d60-37ad28cd9257",
   "metadata": {},
   "source": [
    "## 7.3 파이썬을 이용한 리지 회귀와 라소 회귀"
   ]
  },
  {
   "cell_type": "markdown",
   "id": "3d8dff6c-5e33-4986-9e17-07b750079438",
   "metadata": {},
   "source": [
    "* statsmodels 패키지 또는 sklearn 패키지 사용"
   ]
  },
  {
   "cell_type": "markdown",
   "id": "d0699eb9-5212-460d-8904-129a3cbf9236",
   "metadata": {},
   "source": [
    "### 7.3.1 사이킷런"
   ]
  },
  {
   "cell_type": "markdown",
   "id": "6f6851bc-5190-4a20-8552-c3c8053c59b9",
   "metadata": {},
   "source": [
    "* **(패키지)** 머신러닝 관련 파이썬 라이브러리 패키지\n",
    "\n",
    "* **(조직)** 과학계산 분야의 비영리 단체이자 프로젝트 기반 커뮤니티로 유수의 기관과 민간 단체들로부터 funding을 지원받고 있음\n",
    "\n",
    "> (참고) 사이킷런 조직 소개 https://scikit-learn.org/stable/about.html\n",
    "\n",
    "> (참고) 사이킷런 거버넌스 https://scikit-learn.org/stable/governance.html#governance"
   ]
  },
  {
   "cell_type": "markdown",
   "id": "49563953-8abe-4efe-928f-2d7393b1e42f",
   "metadata": {},
   "source": [
    "### 7.3.2 분석 준비"
   ]
  },
  {
   "cell_type": "code",
   "execution_count": 1,
   "id": "3a6b4da1-b7ec-4a90-b0f6-78993034fbb8",
   "metadata": {},
   "outputs": [],
   "source": [
    "# 수치계산에 사용되는 라이브러리\n",
    "import numpy as np\n",
    "import pandas as pd\n",
    "import scipy as sp\n",
    "from scipy import stats\n",
    "\n",
    "# 그래프를 그리기 위한 라이브러리\n",
    "from matplotlib import pyplot as plt\n",
    "import seaborn as sns\n",
    "sns.set()\n",
    "\n",
    "# 통계모델을 추정하는데 사용하는 라이브러리\n",
    "import statsmodels.formula.api as smf\n",
    "import statsmodels.api as sm\n",
    "\n",
    "# 머신러닝을 적용하기 위한 라이브러리\n",
    "from sklearn import linear_model\n",
    "\n",
    "# 표시 자릿수 지정\n",
    "%precision 3\n",
    "\n",
    "# 그래프를 주피터 노트북에 그리기 위한 설정\n",
    "%matplotlib inline"
   ]
  },
  {
   "cell_type": "code",
   "execution_count": 2,
   "id": "d19a9a00-1f04-4ce2-821c-9c57cb4850a1",
   "metadata": {},
   "outputs": [],
   "source": [
    "X = pd.read_csv(\"py_source/7-3-1-large-data.csv\")"
   ]
  },
  {
   "cell_type": "code",
   "execution_count": 3,
   "id": "0fcf3f95-a472-40c0-af03-c7f445f2a6fb",
   "metadata": {},
   "outputs": [
    {
     "data": {
      "text/html": [
       "<div>\n",
       "<style scoped>\n",
       "    .dataframe tbody tr th:only-of-type {\n",
       "        vertical-align: middle;\n",
       "    }\n",
       "\n",
       "    .dataframe tbody tr th {\n",
       "        vertical-align: top;\n",
       "    }\n",
       "\n",
       "    .dataframe thead th {\n",
       "        text-align: right;\n",
       "    }\n",
       "</style>\n",
       "<table border=\"1\" class=\"dataframe\">\n",
       "  <thead>\n",
       "    <tr style=\"text-align: right;\">\n",
       "      <th></th>\n",
       "      <th>X_1</th>\n",
       "      <th>X_2</th>\n",
       "      <th>X_3</th>\n",
       "      <th>X_4</th>\n",
       "      <th>X_5</th>\n",
       "      <th>X_6</th>\n",
       "      <th>X_7</th>\n",
       "      <th>X_8</th>\n",
       "      <th>X_9</th>\n",
       "      <th>X_10</th>\n",
       "      <th>...</th>\n",
       "      <th>X_91</th>\n",
       "      <th>X_92</th>\n",
       "      <th>X_93</th>\n",
       "      <th>X_94</th>\n",
       "      <th>X_95</th>\n",
       "      <th>X_96</th>\n",
       "      <th>X_97</th>\n",
       "      <th>X_98</th>\n",
       "      <th>X_99</th>\n",
       "      <th>X_100</th>\n",
       "    </tr>\n",
       "  </thead>\n",
       "  <tbody>\n",
       "    <tr>\n",
       "      <th>0</th>\n",
       "      <td>1.0000</td>\n",
       "      <td>0.5000</td>\n",
       "      <td>0.3333</td>\n",
       "      <td>0.2500</td>\n",
       "      <td>0.2000</td>\n",
       "      <td>0.1667</td>\n",
       "      <td>0.1429</td>\n",
       "      <td>0.1250</td>\n",
       "      <td>0.1111</td>\n",
       "      <td>0.1000</td>\n",
       "      <td>...</td>\n",
       "      <td>0.0110</td>\n",
       "      <td>0.0109</td>\n",
       "      <td>0.0108</td>\n",
       "      <td>0.0106</td>\n",
       "      <td>0.0105</td>\n",
       "      <td>0.0104</td>\n",
       "      <td>0.0103</td>\n",
       "      <td>0.0102</td>\n",
       "      <td>0.0101</td>\n",
       "      <td>0.0100</td>\n",
       "    </tr>\n",
       "    <tr>\n",
       "      <th>1</th>\n",
       "      <td>0.5000</td>\n",
       "      <td>0.3333</td>\n",
       "      <td>0.2500</td>\n",
       "      <td>0.2000</td>\n",
       "      <td>0.1667</td>\n",
       "      <td>0.1429</td>\n",
       "      <td>0.1250</td>\n",
       "      <td>0.1111</td>\n",
       "      <td>0.1000</td>\n",
       "      <td>0.0909</td>\n",
       "      <td>...</td>\n",
       "      <td>0.0109</td>\n",
       "      <td>0.0108</td>\n",
       "      <td>0.0106</td>\n",
       "      <td>0.0105</td>\n",
       "      <td>0.0104</td>\n",
       "      <td>0.0103</td>\n",
       "      <td>0.0102</td>\n",
       "      <td>0.0101</td>\n",
       "      <td>0.0100</td>\n",
       "      <td>0.0099</td>\n",
       "    </tr>\n",
       "    <tr>\n",
       "      <th>2</th>\n",
       "      <td>0.3333</td>\n",
       "      <td>0.2500</td>\n",
       "      <td>0.2000</td>\n",
       "      <td>0.1667</td>\n",
       "      <td>0.1429</td>\n",
       "      <td>0.1250</td>\n",
       "      <td>0.1111</td>\n",
       "      <td>0.1000</td>\n",
       "      <td>0.0909</td>\n",
       "      <td>0.0833</td>\n",
       "      <td>...</td>\n",
       "      <td>0.0108</td>\n",
       "      <td>0.0106</td>\n",
       "      <td>0.0105</td>\n",
       "      <td>0.0104</td>\n",
       "      <td>0.0103</td>\n",
       "      <td>0.0102</td>\n",
       "      <td>0.0101</td>\n",
       "      <td>0.0100</td>\n",
       "      <td>0.0099</td>\n",
       "      <td>0.0098</td>\n",
       "    </tr>\n",
       "  </tbody>\n",
       "</table>\n",
       "<p>3 rows × 100 columns</p>\n",
       "</div>"
      ],
      "text/plain": [
       "      X_1     X_2     X_3     X_4     X_5     X_6     X_7     X_8     X_9  \\\n",
       "0  1.0000  0.5000  0.3333  0.2500  0.2000  0.1667  0.1429  0.1250  0.1111   \n",
       "1  0.5000  0.3333  0.2500  0.2000  0.1667  0.1429  0.1250  0.1111  0.1000   \n",
       "2  0.3333  0.2500  0.2000  0.1667  0.1429  0.1250  0.1111  0.1000  0.0909   \n",
       "\n",
       "     X_10  ...    X_91    X_92    X_93    X_94    X_95    X_96    X_97  \\\n",
       "0  0.1000  ...  0.0110  0.0109  0.0108  0.0106  0.0105  0.0104  0.0103   \n",
       "1  0.0909  ...  0.0109  0.0108  0.0106  0.0105  0.0104  0.0103  0.0102   \n",
       "2  0.0833  ...  0.0108  0.0106  0.0105  0.0104  0.0103  0.0102  0.0101   \n",
       "\n",
       "     X_98    X_99   X_100  \n",
       "0  0.0102  0.0101  0.0100  \n",
       "1  0.0101  0.0100  0.0099  \n",
       "2  0.0100  0.0099  0.0098  \n",
       "\n",
       "[3 rows x 100 columns]"
      ]
     },
     "execution_count": 3,
     "metadata": {},
     "output_type": "execute_result"
    }
   ],
   "source": [
    "X.head(3)"
   ]
  },
  {
   "cell_type": "code",
   "execution_count": 4,
   "id": "7b8afc13-3402-4913-9f1f-aae283e997db",
   "metadata": {},
   "outputs": [
    {
     "data": {
      "text/plain": [
       "(150, 100)"
      ]
     },
     "execution_count": 4,
     "metadata": {},
     "output_type": "execute_result"
    }
   ],
   "source": [
    "# 행 150, 열 100개인 비교적 wide한 데이터\n",
    "\n",
    "X.shape"
   ]
  },
  {
   "cell_type": "markdown",
   "id": "e8c72e28-0d19-4611-a5bc-b5fec84e21aa",
   "metadata": {},
   "source": [
    "### 7.3.3 표준화"
   ]
  },
  {
   "cell_type": "markdown",
   "id": "a61a4cb0-cc34-495d-989c-c2dec17a98da",
   "metadata": {},
   "source": [
    "* 표준화는 각각의 변수에서 평균값을 빼고 표준편차로 나누는 작업을 통해 실시"
   ]
  },
  {
   "cell_type": "code",
   "execution_count": 5,
   "id": "1e41a3dd-e5da-45f8-85d6-9ddaa84efae3",
   "metadata": {},
   "outputs": [
    {
     "data": {
      "text/plain": [
       "0.037"
      ]
     },
     "execution_count": 5,
     "metadata": {},
     "output_type": "execute_result"
    }
   ],
   "source": [
    "np.mean(X.X_1)"
   ]
  },
  {
   "cell_type": "code",
   "execution_count": 6,
   "id": "af4ae990-2259-425a-89b5-6bdfc1cb649b",
   "metadata": {},
   "outputs": [
    {
     "data": {
      "text/plain": [
       "X_1    0.037272\n",
       "X_2    0.030649\n",
       "X_3    0.027360\n",
       "dtype: float64"
      ]
     },
     "execution_count": 6,
     "metadata": {},
     "output_type": "execute_result"
    }
   ],
   "source": [
    "np.mean(X, axis = 0).head(3)"
   ]
  },
  {
   "cell_type": "code",
   "execution_count": 7,
   "id": "a4d22068-c0ca-4306-82dd-1ccacf6d4b98",
   "metadata": {},
   "outputs": [],
   "source": [
    "X -= np.mean(X, axis = 0)\n",
    "X /= np.std(X, ddof = 1, axis = 0)"
   ]
  },
  {
   "cell_type": "code",
   "execution_count": 8,
   "id": "51b8d292-f1de-4179-8ed4-09491bffcbab",
   "metadata": {},
   "outputs": [
    {
     "data": {
      "text/plain": [
       "X_1      0.0\n",
       "X_2     -0.0\n",
       "X_3     -0.0\n",
       "X_4     -0.0\n",
       "X_5     -0.0\n",
       "        ... \n",
       "X_96     0.0\n",
       "X_97     0.0\n",
       "X_98     0.0\n",
       "X_99     0.0\n",
       "X_100    0.0\n",
       "Length: 100, dtype: float64"
      ]
     },
     "execution_count": 8,
     "metadata": {},
     "output_type": "execute_result"
    }
   ],
   "source": [
    "# 평균값이 0이 되었는지 확인\n",
    "\n",
    "np.mean(X, axis = 0).round(3)"
   ]
  },
  {
   "cell_type": "code",
   "execution_count": 9,
   "id": "0df71743-9ea3-4912-9b4d-115c54cced2e",
   "metadata": {},
   "outputs": [
    {
     "data": {
      "text/plain": [
       "X_1      0.997\n",
       "X_2      0.997\n",
       "X_3      0.997\n",
       "X_4      0.997\n",
       "X_5      0.997\n",
       "         ...  \n",
       "X_96     0.997\n",
       "X_97     0.997\n",
       "X_98     0.997\n",
       "X_99     0.997\n",
       "X_100    0.997\n",
       "Length: 100, dtype: float64"
      ]
     },
     "execution_count": 9,
     "metadata": {},
     "output_type": "execute_result"
    }
   ],
   "source": [
    "# 표준편차가 1이 되었는지도 확인\n",
    "\n",
    "np.std(X, axis = 0).round(3)"
   ]
  },
  {
   "cell_type": "markdown",
   "id": "d8f1ecf9-e0c0-424d-804c-5cc29169b5f7",
   "metadata": {},
   "source": [
    "### 7.3.4 시뮬레이션으로 종속변수 만들기"
   ]
  },
  {
   "cell_type": "markdown",
   "id": "d636722d-d336-45fc-aba8-1edd14c81cea",
   "metadata": {},
   "source": [
    "* 올바른 계수를 5라고 설정하여 종속변수를 만듦(정규분포에 따른 노이즈가 들어 있는 것을 가정함)"
   ]
  },
  {
   "cell_type": "code",
   "execution_count": 10,
   "id": "93ba5fbc-ae9d-4885-a97b-8ea1be7eb867",
   "metadata": {},
   "outputs": [],
   "source": [
    "# 정규분포를 따르는 노이즈\n",
    "np.random.seed(1)\n",
    "noise = sp.stats.norm.rvs(loc = 0, scale = 1, size = X.shape[0])"
   ]
  },
  {
   "cell_type": "code",
   "execution_count": 11,
   "id": "99d98647-4126-4724-8df8-7e85341ec576",
   "metadata": {},
   "outputs": [],
   "source": [
    "y = X.X_1 * 5 + noise"
   ]
  },
  {
   "cell_type": "markdown",
   "id": "792e53d0-3777-4f2e-83aa-9bb79a84f6a0",
   "metadata": {},
   "source": [
    "* 종속변수와 X_1의 관계를 그래프로 그려봄"
   ]
  },
  {
   "cell_type": "code",
   "execution_count": 12,
   "id": "4cd3f9ce-2061-4842-8444-ad2a03ca9888",
   "metadata": {},
   "outputs": [
    {
     "data": {
      "text/plain": [
       "<seaborn.axisgrid.JointGrid at 0x17718299280>"
      ]
     },
     "execution_count": 12,
     "metadata": {},
     "output_type": "execute_result"
    },
    {
     "data": {
      "image/png": "[encoded data removed]",
      "text/plain": [
       "<Figure size 432x432 with 3 Axes>"
      ]
     },
     "metadata": {
      "needs_background": "light"
     },
     "output_type": "display_data"
    }
   ],
   "source": [
    "# 종속변수와 독립변수 합치기\n",
    "large_data = pd.concat([pd.DataFrame({\"y\" : y}), X], axis = 1)\n",
    "\n",
    "# 그래프 그리기\n",
    "sns.jointplot(y = \"y\", x = \"X_1\", data = large_data)"
   ]
  },
  {
   "cell_type": "markdown",
   "id": "03105048-0d2d-428b-bf85-0c72500b5533",
   "metadata": {},
   "source": [
    "* 종속변수로 사용된 데이터는 가상의 데이터임(저자 임의 생산)"
   ]
  },
  {
   "cell_type": "markdown",
   "id": "59c8a170-5520-4464-a08d-bfae3552205f",
   "metadata": {},
   "source": [
    "### 7.3.5 일반적인 최소제곱법 적용하기"
   ]
  },
  {
   "cell_type": "markdown",
   "id": "c69a146d-4bab-48e9-b172-29a0ecf92169",
   "metadata": {},
   "source": [
    "* 일반적인 최소제곱법을 이용해서 파라미터 추정"
   ]
  },
  {
   "cell_type": "code",
   "execution_count": 13,
   "id": "7c6cdeb1-8913-4a43-9d30-ba9e173e1ef6",
   "metadata": {},
   "outputs": [
    {
     "data": {
      "text/plain": [
       "X_1       14.755\n",
       "X_2      -87.463\n",
       "X_3      211.743\n",
       "X_4      -94.153\n",
       "X_5      -68.175\n",
       "          ...   \n",
       "X_96      -2.479\n",
       "X_97     -13.059\n",
       "X_98      -5.545\n",
       "X_99      -2.923\n",
       "X_100      2.945\n",
       "Length: 100, dtype: float64"
      ]
     },
     "execution_count": 13,
     "metadata": {},
     "output_type": "execute_result"
    }
   ],
   "source": [
    "lm_statsmodels = sm.OLS(endog = y, exog = X).fit()\n",
    "lm_statsmodels.params.round(3)"
   ]
  },
  {
   "cell_type": "markdown",
   "id": "884df426-c71a-4b3c-9ffb-818f1a4a5b59",
   "metadata": {},
   "source": [
    "### 7.3.6 sklearn을 이용한 선형회귀"
   ]
  },
  {
   "cell_type": "markdown",
   "id": "4df78557-29f4-4fc9-b333-94d2950ceb6b",
   "metadata": {},
   "source": [
    "* 사이킷런에서 실시하는 일반적인 최소제곱법을 이용한 정규선형모델"
   ]
  },
  {
   "cell_type": "markdown",
   "id": "756fa0d7-0f77-4c3f-acdd-59f56e91c2c2",
   "metadata": {},
   "source": [
    "* 사이킷런에서는 먼저 모델의 구조를 지정한 후 fit 함수의 파라미터로 데이터를 지정\n",
    "\n",
    "* 추정된 계수는 coef_ 변수에 저장됨(계수의 절댓값이 크게 추정되는 것에 주목)"
   ]
  },
  {
   "cell_type": "code",
   "execution_count": 14,
   "id": "2658b3af-48f4-4fe1-8e28-d7ec51987b95",
   "metadata": {},
   "outputs": [
    {
     "data": {
      "text/plain": [
       "array([ 1.476e+01, -8.746e+01,  2.117e+02, -9.415e+01, -6.817e+01,\n",
       "       -9.284e+01,  1.761e+00,  8.169e+01,  6.680e+01,  2.788e+01,\n",
       "       -3.288e+01,  6.818e+01, -1.699e+01,  2.209e+01, -4.855e+01,\n",
       "       -3.390e+01, -4.536e+01,  9.728e+00,  2.481e+01,  1.858e+00,\n",
       "        1.599e+00, -2.838e+01,  6.477e+00, -5.980e+01,  3.532e+01,\n",
       "       -1.302e+01,  4.108e+01, -4.303e+01,  5.247e+01,  1.920e+00,\n",
       "        3.342e+01,  8.490e+00,  8.329e+00, -2.293e+01, -3.577e+01,\n",
       "       -1.337e+01,  3.178e+01, -2.018e+01, -2.654e+01, -3.523e+01,\n",
       "        1.927e+01,  4.823e+01, -1.655e+00,  5.750e-01, -1.893e+01,\n",
       "        7.370e-01,  1.047e+01, -7.732e+00, -1.854e+00, -2.560e-01,\n",
       "       -5.045e+00, -4.227e+00,  2.523e+01,  1.616e+01, -1.310e+01,\n",
       "        6.455e+00, -1.332e+01, -2.291e+01, -1.202e+01,  7.745e+00,\n",
       "        1.755e+01,  5.997e+00,  4.648e+00,  4.120e+00, -1.825e+00,\n",
       "        5.366e+00,  4.546e+00, -2.598e+00, -4.091e+00,  7.496e+00,\n",
       "        3.100e+01,  1.530e+01, -5.323e+00, -1.509e+01, -3.801e+00,\n",
       "       -6.584e+00, -7.200e-02, -4.237e+00,  3.355e+00,  3.176e+00,\n",
       "        6.025e+00, -2.420e-01,  2.628e+00, -2.100e-02, -8.349e+00,\n",
       "       -5.091e+00, -5.060e+00, -4.779e+00,  7.645e+00,  1.797e+00,\n",
       "        4.276e+00,  1.420e-01,  2.800e+00,  3.146e+00, -5.188e+00,\n",
       "       -2.479e+00, -1.306e+01, -5.545e+00, -2.923e+00,  2.945e+00])"
      ]
     },
     "execution_count": 14,
     "metadata": {},
     "output_type": "execute_result"
    }
   ],
   "source": [
    "# 어떤 모델을 만들지 지정\n",
    "lm_sklearn = linear_model.LinearRegression()\n",
    "\n",
    "# 데이터를 지정하여 모델을 추정\n",
    "lm_sklearn.fit(X, y)\n",
    "\n",
    "# 추정된 파라미터(array형)\n",
    "lm_sklearn.coef_.round(3)"
   ]
  },
  {
   "cell_type": "markdown",
   "id": "eb7da232-5c1c-4a5f-8951-7d98c46e850f",
   "metadata": {},
   "source": [
    "### 7.3.7 릿지 회귀 - 벌칙항의 영향"
   ]
  },
  {
   "cell_type": "markdown",
   "id": "b04381bd-56d6-44b9-880c-70831d18fde1",
   "metadata": {},
   "source": [
    "* 일반적인 최소제곱법으로는 잘 되지 않는 것을 알 수 있었으므로 정규화를 사용함\n",
    "\n",
    "* 우선 리지 회귀를 이용\n",
    "\n",
    "    - 정규화에 있어서 중요한 것은 정규화의 강도 $\\alpha$의 결정\n",
    "    \n",
    "    - 정규화의 강도 $\\alpha$가 주는 영향부터 알아보도록 함"
   ]
  },
  {
   "cell_type": "code",
   "execution_count": 15,
   "id": "55375a11-3049-4f15-a5f2-4380276434c6",
   "metadata": {},
   "outputs": [
    {
     "data": {
      "text/plain": [
       "array([0.01 , 0.011, 0.013, 0.015, 0.017, 0.019, 0.021, 0.024, 0.028,\n",
       "       0.031, 0.036, 0.04 , 0.046, 0.052, 0.059, 0.067, 0.076, 0.086,\n",
       "       0.098, 0.111, 0.126, 0.144, 0.163, 0.185, 0.21 , 0.239, 0.271,\n",
       "       0.307, 0.349, 0.396, 0.45 , 0.511, 0.58 , 0.658, 0.747, 0.848,\n",
       "       0.963, 1.093, 1.241, 1.409, 1.6  , 1.816, 2.062, 2.341, 2.658,\n",
       "       3.017, 3.425, 3.889, 4.415, 5.012])"
      ]
     },
     "execution_count": 15,
     "metadata": {},
     "output_type": "execute_result"
    }
   ],
   "source": [
    "# alpha 값 50개 생성\n",
    "n_alphas = 50\n",
    "ridge_alphas = np.logspace(-2, 0.7, n_alphas)\n",
    "ridge_alphas"
   ]
  },
  {
   "cell_type": "markdown",
   "id": "240504f6-0c66-4170-955a-c32f6cde6357",
   "metadata": {},
   "source": [
    "* np.logspace는 이번에 처음 등장한 함수\n",
    "\n",
    "     - np.arange와 비슷한 함수로 밑이 10인 로그를 취한 등차수열"
   ]
  },
  {
   "cell_type": "code",
   "execution_count": 16,
   "id": "dbb4addd-ab35-42f9-bb0e-4d95f8e441f8",
   "metadata": {},
   "outputs": [
    {
     "data": {
      "text/plain": [
       "array([-2.   , -1.945, -1.89 , -1.835, -1.78 , -1.724, -1.669, -1.614,\n",
       "       -1.559, -1.504, -1.449, -1.394, -1.339, -1.284, -1.229, -1.173,\n",
       "       -1.118, -1.063, -1.008, -0.953, -0.898, -0.843, -0.788, -0.733,\n",
       "       -0.678, -0.622, -0.567, -0.512, -0.457, -0.402, -0.347, -0.292,\n",
       "       -0.237, -0.182, -0.127, -0.071, -0.016,  0.039,  0.094,  0.149,\n",
       "        0.204,  0.259,  0.314,  0.369,  0.424,  0.48 ,  0.535,  0.59 ,\n",
       "        0.645,  0.7  ])"
      ]
     },
     "execution_count": 16,
     "metadata": {},
     "output_type": "execute_result"
    }
   ],
   "source": [
    "np.log10(ridge_alphas) # -2 ~ 0.7 까지 등차 수열이 됨을 알 수 있음"
   ]
  },
  {
   "cell_type": "markdown",
   "id": "3700b78d-f7f4-4180-a813-ac385b6cbb83",
   "metadata": {},
   "source": [
    "* 50개의 𝛼를 바꿔가면서 50번 리지 회귀로 추정함\n",
    "\n",
    "* 리지 회귀 추정에는 linear_model.Ridge 함수를 사용\n",
    "\n",
    "    - $\\alpha$와 절편은 추정하지 않는 파라미터 옵션 지정\n",
    "    \n",
    "    > **(옵션 참고)** https://scikit-learn.org/stable/modules/generated/sklearn.linear_model.Ridge.html"
   ]
  },
  {
   "cell_type": "code",
   "execution_count": 17,
   "id": "a4870bc0-0d08-47cb-841c-0fd5738b5ffb",
   "metadata": {},
   "outputs": [],
   "source": [
    "# 추정한 회귀계수를 저장할 리스트\n",
    "ridge_coefs = []\n",
    "\n",
    "# for 루프로 리지 회귀를 추정함\n",
    "for a in ridge_alphas:\n",
    "    ridge = linear_model.Ridge(alpha = a, fit_intercept = False)\n",
    "    ridge.fit(X, y)\n",
    "    ridge_coefs.append(ridge.coef_)"
   ]
  },
  {
   "cell_type": "code",
   "execution_count": 18,
   "id": "1808a219-b65b-4e0e-9a0f-5538bbe5b5d7",
   "metadata": {},
   "outputs": [
    {
     "data": {
      "text/plain": [
       "(50, 100)"
      ]
     },
     "execution_count": 18,
     "metadata": {},
     "output_type": "execute_result"
    }
   ],
   "source": [
    "# 추정된 계수를 numpy 배열로 변환\n",
    "ridge_coefs = np.array(ridge_coefs)\n",
    "ridge_coefs.shape"
   ]
  },
  {
   "cell_type": "markdown",
   "id": "82fdd06a-481e-43ed-a413-1b33e84b7d35",
   "metadata": {},
   "source": [
    "* 계수 추정 결과를 확인하기 위해 그래프를 그림 \n",
    "\n",
    "* 결과를 보기 쉽게 하기 위해 가로축을 $-log_{10}{\\alpha}$로 변환한 뒤 그래프를 그림\n",
    "\n",
    "* 이런 그래프를 **solution-path**라고 함"
   ]
  },
  {
   "cell_type": "code",
   "execution_count": 19,
   "id": "d898dda2-9481-4a7e-a098-7d133f231a5f",
   "metadata": {},
   "outputs": [
    {
     "data": {
      "text/plain": [
       "Text(0, 0.5, 'Coefficients')"
      ]
     },
     "execution_count": 19,
     "metadata": {},
     "output_type": "execute_result"
    },
    {
     "data": {
      "image/png": "[encoded data removed]",
      "text/plain": [
       "<Figure size 432x288 with 1 Axes>"
      ]
     },
     "metadata": {
      "needs_background": "light"
     },
     "output_type": "display_data"
    }
   ],
   "source": [
    "# alpha 변환\n",
    "log_alphas = -np.log10(ridge_alphas)\n",
    "\n",
    "# 가로축을 -log10(𝛼)로 , 세로축을 계수로 하는 그래프 그리기 \n",
    "plt.plot(log_alphas, ridge_coefs);\n",
    "\n",
    "# 독립변수 X_1의 계수를 알기 쉽게 표시\n",
    "plt.text( max(log_alphas) + 0.1 , np.array(ridge_coefs)[0, 0],\"X_1\")\n",
    "\n",
    "# x축의 범위\n",
    "plt.xlim([min(log_alphas) - 0.1, max(log_alphas)+ 0.3])\n",
    "\n",
    "# x축 레이블\n",
    "plt.title(\"Ridge\")\n",
    "plt.xlabel(\"- log10(alpha)\")\n",
    "plt.ylabel(\"Coefficients\")"
   ]
  },
  {
   "cell_type": "markdown",
   "id": "a6fa8b44-8fcb-4e1b-9d4a-bee5a24e242b",
   "metadata": {},
   "source": [
    "* 가로축이 $-log_{10}{\\alpha}$ 이므로 왼쪽으로 갈수록  $\\alpha$가 크고, 정규화의 강도가 강하다는 데 주의!\n",
    "\n",
    "    * 왼쪽으로 갈수록 계수의 절대치가 작게 추정\n",
    "    \n",
    "    * 오른쪽으로 갈수록 벌칙이 완화되어 계수의 절대치가 크게 추정됨"
   ]
  },
  {
   "cell_type": "markdown",
   "id": "9971be12-cf86-4451-bd53-f84f1c978264",
   "metadata": {},
   "source": [
    "### 7.3.8 리지 회귀 - 최적의 정규화 강도 결정"
   ]
  },
  {
   "cell_type": "markdown",
   "id": "0b01d010-dbe9-4a5e-b3da-8547d47ba55a",
   "metadata": {},
   "source": [
    "* $\\alpha$의 크기 결정\n",
    "\n",
    "    - 교차검증법을 이용하여 예측 정확도를 평가해서 정확도가 가장 좋은 $\\alpha$를 채택하여 모델을 재구축함\n",
    "    \n",
    "    - RidgeCV 함수 이용(인수로 cv = 10 을 넣으면 10-fold-CV를 사용해서 예측 정확도를 평가함)"
   ]
  },
  {
   "cell_type": "code",
   "execution_count": 20,
   "id": "0cc625c5-b741-473a-b0ed-bd1bae5882f9",
   "metadata": {},
   "outputs": [
    {
     "data": {
      "text/plain": [
       "RidgeCV(alphas=array([0.01 , 0.011, 0.013, 0.015, 0.017, 0.019, 0.021, 0.024, 0.028,\n",
       "       0.031, 0.036, 0.04 , 0.046, 0.052, 0.059, 0.067, 0.076, 0.086,\n",
       "       0.098, 0.111, 0.126, 0.144, 0.163, 0.185, 0.21 , 0.239, 0.271,\n",
       "       0.307, 0.349, 0.396, 0.45 , 0.511, 0.58 , 0.658, 0.747, 0.848,\n",
       "       0.963, 1.093, 1.241, 1.409, 1.6  , 1.816, 2.062, 2.341, 2.658,\n",
       "       3.017, 3.425, 3.889, 4.415, 5.012]),\n",
       "        cv=10, fit_intercept=False)"
      ]
     },
     "execution_count": 20,
     "metadata": {},
     "output_type": "execute_result"
    }
   ],
   "source": [
    "# CV에서 최적의 𝛼를 구함\n",
    "ridge_best = linear_model.RidgeCV(cv = 10, alphas = ridge_alphas, fit_intercept = False)\n",
    "ridge_best.fit(X, y)"
   ]
  },
  {
   "cell_type": "code",
   "execution_count": 21,
   "id": "60e5d9ef-8965-403a-9c97-dfc06deecfea",
   "metadata": {},
   "outputs": [
    {
     "data": {
      "text/plain": [
       "0.237"
      ]
     },
     "execution_count": 21,
     "metadata": {},
     "output_type": "execute_result"
    }
   ],
   "source": [
    "# 최적의 -log10(alpha)\n",
    "-np.log10(ridge_best.alpha_)"
   ]
  },
  {
   "cell_type": "markdown",
   "id": "2f2696c0-6cc9-4218-bd40-66d4c89c71cb",
   "metadata": {},
   "source": [
    "*  $-log_{10}{\\alpha} = 0.237$ 지점을 좀 전의 solution-path에서 보면 X_1 이외의 독립변수의 계수의 절댓값이 0에 가까운 것으로 나타남"
   ]
  },
  {
   "cell_type": "code",
   "execution_count": 22,
   "id": "73f8c5e7-bfd2-4952-a803-2f5e2977d490",
   "metadata": {},
   "outputs": [
    {
     "data": {
      "text/plain": [
       "0.580"
      ]
     },
     "execution_count": 22,
     "metadata": {},
     "output_type": "execute_result"
    }
   ],
   "source": [
    "# best alpha 값\n",
    "\n",
    "ridge_best.alpha_"
   ]
  },
  {
   "cell_type": "code",
   "execution_count": 23,
   "id": "7cb3ae57-25ef-4a6f-9fdb-3d74807c7788",
   "metadata": {},
   "outputs": [
    {
     "data": {
      "text/plain": [
       "array([ 4.463,  1.288,  0.293, -0.091, -0.201, -0.233, -0.215, -0.206,\n",
       "       -0.145, -0.135, -0.155, -0.046, -0.097, -0.017, -0.11 , -0.012,\n",
       "       -0.094,  0.013, -0.018, -0.031,  0.025, -0.029,  0.043, -0.087,\n",
       "        0.127,  0.021,  0.055, -0.077,  0.141, -0.007,  0.099,  0.116,\n",
       "       -0.044,  0.037, -0.034,  0.015,  0.123, -0.171, -0.007, -0.182,\n",
       "        0.09 ,  0.222,  0.035, -0.032, -0.008,  0.025,  0.338, -0.193,\n",
       "       -0.108,  0.212, -0.128, -0.246,  0.249,  0.128, -0.155,  0.27 ,\n",
       "        0.03 , -0.165, -0.178,  0.158, -0.011,  0.013,  0.194,  0.134,\n",
       "       -0.156, -0.018,  0.256,  0.223, -0.185,  0.006,  0.535,  0.181,\n",
       "       -0.348, -0.123,  0.226, -0.043, -0.115, -0.053,  0.209,  0.189,\n",
       "       -0.042, -0.205, -0.099,  0.059, -0.224,  0.15 , -0.039, -0.113,\n",
       "        0.21 ,  0.012,  0.129, -0.032, -0.022, -0.229, -0.198,  0.245,\n",
       "       -0.305, -0.396, -0.163,  0.164])"
      ]
     },
     "execution_count": 23,
     "metadata": {},
     "output_type": "execute_result"
    }
   ],
   "source": [
    "# 이때 추정된 계수 확인\n",
    "\n",
    "ridge_best.coef_"
   ]
  },
  {
   "cell_type": "markdown",
   "id": "470fcb82-385e-44a4-9808-cf1d4186218e",
   "metadata": {},
   "source": [
    "* 독립변수 X_1의 계수가 4.463이 된 것을 보면 정답과 상당히 가까운 값이 된 것을 나타남\n",
    "\n",
    "* 여기서 다른 독립변수의 계수를 보면 나름대로 작은 값으로 되어 있지만 영향이 아예 없다고는 할 수 없음"
   ]
  },
  {
   "cell_type": "markdown",
   "id": "a71f6835-4f10-4b1a-ad27-5b703f58af3c",
   "metadata": {},
   "source": [
    "### 7.3.9 라소 회귀 - 벌칙항의 영향"
   ]
  },
  {
   "cell_type": "markdown",
   "id": "4e647ca9-2d2e-47f0-9958-a0b1709ad461",
   "metadata": {},
   "source": [
    "* lasso_path라는 편리한 함수를 이용하여 실시\n",
    "\n",
    "* 파라미터로 데이터를 지정하는 것만으로도 $\\alpha$를 다양하게 변화시킨 결과를 출력함"
   ]
  },
  {
   "cell_type": "code",
   "execution_count": 24,
   "id": "4c39ed47-b389-4718-9450-7fd79f1defe6",
   "metadata": {},
   "outputs": [],
   "source": [
    "lasso_alphas, lasso_coefs, _ = linear_model.lasso_path(X, y)"
   ]
  },
  {
   "cell_type": "code",
   "execution_count": 25,
   "id": "55caf382-0b76-42b1-96d6-a06c9717b9f4",
   "metadata": {},
   "outputs": [
    {
     "data": {
      "text/plain": [
       "array([[ 0.   ,  0.339,  0.656, ...,  5.293,  5.303,  5.313],\n",
       "       [ 0.   ,  0.   ,  0.   , ..., -0.   , -0.   , -0.   ],\n",
       "       [ 0.   ,  0.   ,  0.   , ..., -0.   , -0.   , -0.   ],\n",
       "       ...,\n",
       "       [ 0.   ,  0.   ,  0.   , ...,  0.   ,  0.   ,  0.   ],\n",
       "       [ 0.   ,  0.   ,  0.   , ...,  0.   ,  0.   ,  0.   ],\n",
       "       [ 0.   ,  0.   ,  0.   , ...,  0.   ,  0.   ,  0.   ]])"
      ]
     },
     "execution_count": 25,
     "metadata": {},
     "output_type": "execute_result"
    }
   ],
   "source": [
    "lasso_coefs"
   ]
  },
  {
   "cell_type": "code",
   "execution_count": 26,
   "id": "2f5c95c7-058b-4c98-ac85-cd461b428ac0",
   "metadata": {},
   "outputs": [
    {
     "data": {
      "text/plain": [
       "array([0.   , 0.339, 0.656, 0.951, 1.226, 1.482, 1.722, 1.945, 2.153,\n",
       "       2.347, 2.528, 2.697, 2.855, 3.001, 3.138, 3.266, 3.385, 3.496,\n",
       "       3.6  , 3.696, 3.787, 3.871, 3.949, 4.022, 4.09 , 4.154, 4.213,\n",
       "       4.268, 4.32 , 4.368, 4.413, 4.455, 4.494, 4.53 , 4.564, 4.596,\n",
       "       4.625, 4.653, 4.678, 4.702, 4.725, 4.745, 4.765, 4.783, 4.8  ,\n",
       "       4.816, 4.83 , 4.844, 4.857, 4.869, 4.88 , 4.89 , 4.9  , 4.909,\n",
       "       4.917, 4.925, 4.932, 4.939, 4.945, 4.951, 4.957, 4.962, 4.967,\n",
       "       4.971, 4.98 , 4.99 , 4.999, 5.008, 5.018, 5.027, 5.035, 5.044,\n",
       "       5.057, 5.066, 5.073, 5.08 , 5.093, 5.101, 5.108, 5.114, 5.121,\n",
       "       5.136, 5.143, 5.149, 5.167, 5.173, 5.179, 5.184, 5.19 , 5.212,\n",
       "       5.224, 5.231, 5.234, 5.239, 5.264, 5.28 , 5.285, 5.293, 5.303,\n",
       "       5.313])"
      ]
     },
     "execution_count": 26,
     "metadata": {},
     "output_type": "execute_result"
    }
   ],
   "source": [
    "lasso_coefs[0]"
   ]
  },
  {
   "cell_type": "code",
   "execution_count": 27,
   "id": "1fbfc482-f419-471e-9e0d-4f5439df1932",
   "metadata": {},
   "outputs": [
    {
     "data": {
      "text/plain": [
       "100"
      ]
     },
     "execution_count": 27,
     "metadata": {},
     "output_type": "execute_result"
    }
   ],
   "source": [
    "len(lasso_coefs[0])"
   ]
  },
  {
   "cell_type": "code",
   "execution_count": 28,
   "id": "487b69ee-557b-4c44-ab9a-97c1e550b1e8",
   "metadata": {},
   "outputs": [
    {
     "data": {
      "text/plain": [
       "100"
      ]
     },
     "execution_count": 28,
     "metadata": {},
     "output_type": "execute_result"
    }
   ],
   "source": [
    "len(lasso_alphas)"
   ]
  },
  {
   "cell_type": "code",
   "execution_count": 29,
   "id": "0c86dc82-d734-42a7-9760-855e2b5b4ed3",
   "metadata": {},
   "outputs": [
    {
     "data": {
      "text/plain": [
       "Text(0, 0.5, 'Coefficients')"
      ]
     },
     "execution_count": 29,
     "metadata": {},
     "output_type": "execute_result"
    },
    {
     "data": {
      "image/png": "[encoded data removed]",
      "text/plain": [
       "<Figure size 432x288 with 1 Axes>"
      ]
     },
     "metadata": {
      "needs_background": "light"
     },
     "output_type": "display_data"
    }
   ],
   "source": [
    "# alpha 변환\n",
    "log_alphas= -np.log10(lasso_alphas)\n",
    "\n",
    "# 가로축을 -log10(alpha), 세로축을 계수로 하는 그래프\n",
    "plt.plot(log_alphas, lasso_coefs.T);\n",
    "\n",
    "# 독립변수 X_1의 계수를 알기 쉽게 표시\n",
    "plt.text(max(log_alphas) + 0.1, lasso_coefs[0, -1], \"X_1\")\n",
    "\n",
    "# x축의 범위\n",
    "plt.xlim([min(log_alphas) - 0.1, max(log_alphas) + 0.3])\n",
    "\n",
    "# 축 레이블\n",
    "plt.title(\"Lasso\")\n",
    "plt.xlabel(\"-log10(alpha)\")\n",
    "plt.ylabel(\"Coefficients\")"
   ]
  },
  {
   "cell_type": "markdown",
   "id": "65595fe2-5a5d-4ade-9b2c-caf2d13cbf13",
   "metadata": {},
   "source": [
    "### 7.3.10 라소 회귀 - 최적의 정규화 강도 결정"
   ]
  },
  {
   "cell_type": "markdown",
   "id": "6f8fc486-c500-44ba-94c8-5a14d5c5d647",
   "metadata": {},
   "source": [
    "* 교차 검증법을 이용해서 $\\alpha$를 결정함"
   ]
  },
  {
   "cell_type": "code",
   "execution_count": 30,
   "id": "8b5858e9-2569-41bd-aa6f-cb43cb8cbc98",
   "metadata": {},
   "outputs": [
    {
     "data": {
      "text/plain": [
       "LassoCV(alphas=array([5.   , 4.663, 4.349, 4.056, 3.782, 3.527, 3.29 , 3.068, 2.861,\n",
       "       2.668, 2.488, 2.321, 2.164, 2.018, 1.882, 1.756, 1.637, 1.527,\n",
       "       1.424, 1.328, 1.239, 1.155, 1.077, 1.005, 0.937, 0.874, 0.815,\n",
       "       0.76 , 0.709, 0.661, 0.616, 0.575, 0.536, 0.5  , 0.466, 0.435,\n",
       "       0.406, 0.378, 0.353, 0.329, 0.307, 0.286, 0.267, 0.249, 0.232,\n",
       "       0.216, 0.202, 0.188, 0.176, 0.164, 0.153, 0.142, 0.133, 0.124,\n",
       "       0.116, 0.108, 0.1  , 0.094, 0.087, 0.081, 0.076, 0.071, 0.066,\n",
       "       0.062, 0.057, 0.054, 0.05 , 0.047, 0.043, 0.041, 0.038, 0.035,\n",
       "       0.033, 0.031, 0.029, 0.027, 0.025, 0.023, 0.022, 0.02 , 0.019,\n",
       "       0.018, 0.016, 0.015, 0.014, 0.013, 0.012, 0.012, 0.011, 0.01 ,\n",
       "       0.009, 0.009, 0.008, 0.008, 0.007, 0.007, 0.006, 0.006, 0.005,\n",
       "       0.005]),\n",
       "        cv=10)"
      ]
     },
     "execution_count": 30,
     "metadata": {},
     "output_type": "execute_result"
    }
   ],
   "source": [
    "# CV로 최적의 𝛼를 구함\n",
    "lasso_best = linear_model.LassoCV(cv = 10, alphas = lasso_alphas)\n",
    "lasso_best.fit(X, y)"
   ]
  },
  {
   "cell_type": "code",
   "execution_count": 31,
   "id": "0a57de5e-bce6-4447-802e-d6e099de7991",
   "metadata": {},
   "outputs": [
    {
     "data": {
      "text/plain": [
       "2.301"
      ]
     },
     "execution_count": 31,
     "metadata": {},
     "output_type": "execute_result"
    }
   ],
   "source": [
    "# 최적의 -log10(alpha)\n",
    "-np.log10(lasso_best.alpha_)"
   ]
  },
  {
   "cell_type": "code",
   "execution_count": 32,
   "id": "1a77925b-8076-4eb7-a8a7-bdcdf889899c",
   "metadata": {},
   "outputs": [
    {
     "data": {
      "text/plain": [
       "0.005"
      ]
     },
     "execution_count": 32,
     "metadata": {},
     "output_type": "execute_result"
    }
   ],
   "source": [
    "# 최적의 alpha 값\n",
    "lasso_best.alpha_"
   ]
  },
  {
   "cell_type": "code",
   "execution_count": 33,
   "id": "7bf3c8b6-3aa9-4262-9f74-3b08ce8c6d63",
   "metadata": {},
   "outputs": [
    {
     "data": {
      "text/plain": [
       "array([ 5.336e+00, -0.000e+00, -0.000e+00, -3.043e-01, -4.121e-02,\n",
       "       -0.000e+00, -0.000e+00, -0.000e+00, -0.000e+00, -0.000e+00,\n",
       "       -0.000e+00, -0.000e+00, -0.000e+00, -0.000e+00, -0.000e+00,\n",
       "       -0.000e+00, -0.000e+00, -0.000e+00, -0.000e+00, -0.000e+00,\n",
       "       -0.000e+00, -0.000e+00, -0.000e+00, -0.000e+00, -0.000e+00,\n",
       "       -0.000e+00, -0.000e+00, -0.000e+00,  0.000e+00, -0.000e+00,\n",
       "        0.000e+00,  0.000e+00, -0.000e+00,  0.000e+00,  0.000e+00,\n",
       "        0.000e+00,  0.000e+00, -0.000e+00,  0.000e+00,  0.000e+00,\n",
       "        0.000e+00,  0.000e+00,  0.000e+00,  0.000e+00,  0.000e+00,\n",
       "        0.000e+00,  0.000e+00,  0.000e+00,  0.000e+00,  0.000e+00,\n",
       "        0.000e+00,  0.000e+00,  0.000e+00,  0.000e+00,  0.000e+00,\n",
       "        0.000e+00,  0.000e+00,  0.000e+00,  0.000e+00,  0.000e+00,\n",
       "        0.000e+00,  0.000e+00,  0.000e+00,  0.000e+00,  0.000e+00,\n",
       "        0.000e+00,  0.000e+00,  0.000e+00,  0.000e+00,  0.000e+00,\n",
       "        8.425e-03,  0.000e+00,  0.000e+00,  0.000e+00,  0.000e+00,\n",
       "        0.000e+00,  0.000e+00,  0.000e+00,  0.000e+00,  0.000e+00,\n",
       "        0.000e+00,  0.000e+00,  0.000e+00,  0.000e+00,  0.000e+00,\n",
       "        0.000e+00,  0.000e+00,  0.000e+00,  0.000e+00,  0.000e+00,\n",
       "        0.000e+00,  0.000e+00,  0.000e+00,  0.000e+00,  0.000e+00,\n",
       "        7.192e-04,  0.000e+00,  0.000e+00,  0.000e+00,  0.000e+00])"
      ]
     },
     "execution_count": 33,
     "metadata": {},
     "output_type": "execute_result"
    }
   ],
   "source": [
    "# 추정된 계수 목록\n",
    "\n",
    "lasso_best.coef_"
   ]
  },
  {
   "cell_type": "markdown",
   "id": "94de7d78-3c75-4672-aee7-c7827f3ebc47",
   "metadata": {},
   "source": [
    "* X_1의 계수가 5, 나머지 대부분의 계수가 0이 되는 것을 확인할 수 있음"
   ]
  }
 ],
 "metadata": {
  "kernelspec": {
   "display_name": "Python 3 (ipykernel)",
   "language": "python",
   "name": "python3"
  },
  "language_info": {
   "codemirror_mode": {
    "name": "ipython",
    "version": 3
   },
   "file_extension": ".py",
   "mimetype": "text/x-python",
   "name": "python",
   "nbconvert_exporter": "python",
   "pygments_lexer": "ipython3",
   "version": "3.9.12"
  }
 },
 "nbformat": 4,
 "nbformat_minor": 5
}
