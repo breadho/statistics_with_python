{
 "cells": [
  {
   "cell_type": "markdown",
   "id": "64183d2a-7455-4fd7-86bb-927fbb426be7",
   "metadata": {},
   "source": [
    "# Chapter 6. 일반선형모델"
   ]
  },
  {
   "cell_type": "markdown",
   "id": "39a9da90-08db-4121-8f7c-50db060d78e2",
   "metadata": {},
   "source": [
    "## 6.1 여러 가지 확률 분포"
   ]
  },
  {
   "cell_type": "markdown",
   "id": "eb07b508-019e-4832-bbf0-edb8e864e0e7",
   "metadata": {},
   "source": [
    "### 6.1.1 용어 설명"
   ]
  },
  {
   "cell_type": "markdown",
   "id": "1652dd04-007e-449d-ac26-60d8c022e1d6",
   "metadata": {},
   "source": [
    "* **이항확률변수** : 2개의 값만 가지는 확률변수 (예를 들어 있다와 없다, 앞과 뒤 등)\n",
    "\n",
    "* **베르누이 시행** : 2종류의 결과 중 하나만 발생시키는 시행(예를 들어 동전을 한 번 던져서 앞이 나올지 뒤가 나올지 기록하는 시행 등)\n",
    "\n",
    "* **성공확률** : 2종류의 결과 중 어느 한쪽의 결과를얻을 확률을편의상 성공확률이라고 부름 [0, 1] 사이 범위\n",
    "\n",
    "* **베르누이 분포** : 한 번의 베르누이 시행이 일어날때 이항확률변수가 따르는 확률분포\n",
    "\n",
    "$$P \\left( X = 1 \\right) = p$$\n",
    "$$P \\left( X = 0 \\right) = 1 - p$$"
   ]
  },
  {
   "cell_type": "markdown",
   "id": "381db7df-d643-4f79-986d-9f705cc4f33f",
   "metadata": {},
   "source": [
    "### 6.1.2 이항분포"
   ]
  },
  {
   "cell_type": "markdown",
   "id": "56d2358f-eead-46d7-b4ce-3bd51bd8b2b9",
   "metadata": {},
   "source": [
    "* **이항분포** : 성공확률이 p면서 N회의 독립 베르누이 시행을 했을 때 성공한 횟수 m이 따르는 이산형 확률분포.\n",
    "\n",
    "    - 이항분포의 모수(파라미터)는 성공확률 p와 시행횟수 N이다. \n",
    "\n",
    "\n",
    "* 이항분포를 따르는 확률변수 m의 기댓값은 $Np$로 계산하고 분산은 $Np(1-p)$로 계산함\n"
   ]
  },
  {
   "cell_type": "markdown",
   "id": "2f0f3512-ae73-4dc4-94a2-e10cb784bdda",
   "metadata": {},
   "source": [
    "### 6.1.3 이항분포 사용법"
   ]
  },
  {
   "cell_type": "markdown",
   "id": "f0aca719-02ac-4da4-9788-8d36b9dc784c",
   "metadata": {},
   "source": [
    "* 실제 분석을 할 때는 성공확률 p가 어떻게 변화하는가라는 시점으로 이항분포가 이용되는 경우가 많음\n",
    "\n",
    "    * 시행횟수(또는 피험자 수) N과 성공횟수 m은 데이터로 주어지는 경우가 많음\n",
    "    \n",
    "* 예를 들어 흡연여부에 따라 암에 걸릴 확률이 어떻게 변화하는지, 가격을 변경하면 상품의 구입률이 변화하는지 등"
   ]
  },
  {
   "cell_type": "markdown",
   "id": "49435e0b-9b99-4be1-8fd3-aaa35d2e0243",
   "metadata": {},
   "source": [
    "### 6.1.4 이항분포의 확률질량함수"
   ]
  },
  {
   "cell_type": "markdown",
   "id": "a410850e-3afe-4981-9a92-d956825182fb",
   "metadata": {},
   "source": [
    "* 이항분포는 Binomial distribution의 약자를 취해서 **Bin**으로 표시함\n",
    "\n",
    "$$Bin \\left( m | N, p \\right) = _{n}\\textrm{C}_{m} \\cdot p^m \\cdot \\left(1-p \\right)^{N-m} $$\n",
    "\n",
    "$$ _{n}\\textrm{C}_{m} = \\frac{N!}{\\left(N-m\\right)! \\cdot m!}$$\n",
    "\n",
    "* p:성공확률, N: 시행횟수, m은 성공횟수"
   ]
  },
  {
   "cell_type": "markdown",
   "id": "8a6597bf-74b5-4e12-9d3b-05d321dbad72",
   "metadata": {},
   "source": [
    "### 6.1.5 분석 준비"
   ]
  },
  {
   "cell_type": "code",
   "execution_count": 1,
   "id": "40858b2c-d49c-4a80-845e-b8896d21200f",
   "metadata": {},
   "outputs": [],
   "source": [
    "# 이항분포를 다루기 위해 필요한 라이브러리 임포트\n",
    "\n",
    "# 수치계산에 사용되는 라이브러리\n",
    "import numpy as np\n",
    "import pandas as pd\n",
    "import scipy as sp\n",
    "from scipy import stats\n",
    "\n",
    "# 그래프를 그리기 위한 라이브러리\n",
    "from matplotlib import pyplot as plt\n",
    "import seaborn as sns\n",
    "sns.set()\n",
    "\n",
    "# 표시 자릿수 지정\n",
    "%precision 3\n",
    "\n",
    "# 그래프를 주피터 노트북에 그리기 위한 설정\n",
    "%matplotlib inline"
   ]
  },
  {
   "cell_type": "markdown",
   "id": "5dcaa53f-5599-4998-a9f1-e073aa095247",
   "metadata": {},
   "source": [
    "### 6.1.6 이항분포(실습)"
   ]
  },
  {
   "cell_type": "markdown",
   "id": "e5ac85a3-c4b4-4c01-a213-70b600eb6dd5",
   "metadata": {},
   "source": [
    "* 이항분포 역시 정규분포와 마찬가지로 scipy.stats에 여러가지 함수가 준비되어 있음\n",
    "\n",
    "* 우선 확률질량함수부터 보면 **```pmf```** 는 **Probability Mass Function**의 약자.\n",
    "\n",
    "    - 파라미터는 성공횟수, 시행횟수, 성공확률을 순서대로 넘김"
   ]
  },
  {
   "cell_type": "code",
   "execution_count": 2,
   "id": "984dc52c-5e50-4769-90a8-c4a8d4a8dc66",
   "metadata": {},
   "outputs": [
    {
     "data": {
      "text/plain": [
       "0.500"
      ]
     },
     "execution_count": 2,
     "metadata": {},
     "output_type": "execute_result"
    }
   ],
   "source": [
    "sp.stats.binom.pmf(k = 1, n = 2, p = 0.5)"
   ]
  },
  {
   "cell_type": "markdown",
   "id": "013115e7-0901-43cc-9235-bdea3a50ba02",
   "metadata": {},
   "source": [
    "* 난수 생성은 sp.stats.binom.rvs 함수를 사용"
   ]
  },
  {
   "cell_type": "code",
   "execution_count": 3,
   "id": "52886b78-7bd5-423f-936b-dd9b735295ec",
   "metadata": {},
   "outputs": [
    {
     "data": {
      "text/plain": [
       "array([2, 3, 0, 1, 1])"
      ]
     },
     "execution_count": 3,
     "metadata": {},
     "output_type": "execute_result"
    }
   ],
   "source": [
    "# 앞이 나올 확률이 20%인 동전을 10번 던져서 앞이 나온 수를 세는 시행을 5번 반복\n",
    "\n",
    "np.random.seed(1)\n",
    "sp.stats.binom.rvs(n = 10, p = 0.2, size = 5)"
   ]
  },
  {
   "cell_type": "markdown",
   "id": "8f5bb3f2-5ea9-46c4-a8c0-ca9bf2248160",
   "metadata": {},
   "source": [
    "* 난수의 히스토그램과 이항분포의 확률질량함수에서 계산된 확률을 겹쳐서 그래프 그리기\n",
    "\n",
    "    - 정규분포과 달리 좌우 비대칭인 히스토그램이 생성"
   ]
  },
  {
   "cell_type": "code",
   "execution_count": 4,
   "id": "f8bdeff0-645a-4c77-8846-1a51646c89f3",
   "metadata": {},
   "outputs": [
    {
     "name": "stderr",
     "output_type": "stream",
     "text": [
      "C:\\ProgramData\\Anaconda3\\lib\\site-packages\\seaborn\\distributions.py:2619: FutureWarning: `distplot` is a deprecated function and will be removed in a future version. Please adapt your code to use either `displot` (a figure-level function with similar flexibility) or `histplot` (an axes-level function for histograms).\n",
      "  warnings.warn(msg, FutureWarning)\n"
     ]
    },
    {
     "data": {
      "text/plain": [
       "[<matplotlib.lines.Line2D at 0x1442b130af0>]"
      ]
     },
     "execution_count": 4,
     "metadata": {},
     "output_type": "execute_result"
    },
    {
     "data": {
      "image/png": "[encoded data removed]",
      "text/plain": [
       "<Figure size 432x288 with 1 Axes>"
      ]
     },
     "metadata": {
      "needs_background": "light"
     },
     "output_type": "display_data"
    }
   ],
   "source": [
    "# N = 10, p = 0.2인 이항분포\n",
    "binomial = sp.stats.binom(n = 10, p = 0.2)\n",
    "\n",
    "# 난수 \n",
    "np.random.seed(1)\n",
    "rvs_binomial = binomial.rvs(size = 10000)\n",
    "\n",
    "# 확률밀도함수 \n",
    "m = np.arange(0, 10, 1)\n",
    "pmf_binomial = binomial.pmf(k = m)\n",
    "\n",
    "# 난수의 히스토그램과 확률질량함수를 겹쳐서 그리기\n",
    "sns.distplot(rvs_binomial, bins = m, kde = False, norm_hist = True, color = 'steelblue')\n",
    "plt.plot(m, pmf_binomial, color = \"red\")\n"
   ]
  },
  {
   "cell_type": "code",
   "execution_count": 5,
   "id": "cbf74e29-031c-4647-8f85-11d48b0a07ea",
   "metadata": {},
   "outputs": [
    {
     "data": {
      "text/plain": [
       "[<matplotlib.lines.Line2D at 0x1442b81c880>]"
      ]
     },
     "execution_count": 5,
     "metadata": {},
     "output_type": "execute_result"
    },
    {
     "data": {
      "image/png": "[encoded data removed]",
      "text/plain": [
       "<Figure size 432x288 with 1 Axes>"
      ]
     },
     "metadata": {
      "needs_background": "light"
     },
     "output_type": "display_data"
    }
   ],
   "source": [
    "# 난수의 히스토그램과 확률질량함수를 겹쳐서 그리기\n",
    "sns.histplot(rvs_binomial, bins = m, kde = False, color = 'steelblue', stat = \"density\")\n",
    "plt.plot(m, pmf_binomial, color = \"red\")"
   ]
  },
  {
   "cell_type": "markdown",
   "id": "34619c2d-f31a-4e88-b661-0c8890e34344",
   "metadata": {},
   "source": [
    "### 6.1.7 포아송 분포"
   ]
  },
  {
   "cell_type": "markdown",
   "id": "d65a29d1-0fe3-4110-8896-20edbafb0857",
   "metadata": {},
   "source": [
    "* 포아송 분포는 1개 또는 2개, 1회 또는 2회 등의 카운트 데이터가 따르는 이산형 확률분포\n",
    "\n",
    "* 카운트 데이터는 0 이상의 정수라는 특징이 있음 ($-\\infty \\sim \\infty$ 의 실수를 취하는 정규 분포와 큰 차이)\n",
    "\n",
    "* 포아송 분포의 모수는 강도(일이 일어날횟수에 대한 기댓값, 발생 강도) $\\lambda$ 밖에 없음\n",
    "\n",
    "    - 포아송 분포를 따른 확률변수는 기댓값과 분산도  $\\lambda$ 값과 같음"
   ]
  },
  {
   "cell_type": "markdown",
   "id": "f9ba3076-2d03-4ade-ab4a-b398c39c10ad",
   "metadata": {},
   "source": [
    "### 6.1.8 포아송 분포의 사용"
   ]
  },
  {
   "cell_type": "markdown",
   "id": "3e60cb6a-97d3-40de-8591-e8e89fd928cb",
   "metadata": {},
   "source": [
    "* 예를 들어 낚싯대를바꾸면 잡아 올리는 물고기 수가 달라지는지, 주변 환경에 따라 조사 구획 내의 생물의 개체수가 변하는지, 날씨에 따라 상품의 판매 개수가 얼마나 달라지는지 등을 알아볼 때 사용"
   ]
  },
  {
   "cell_type": "markdown",
   "id": "f577bb91-813d-4557-bbf2-981fbf6cea39",
   "metadata": {},
   "source": [
    "### 6.1.9 포아송 분포의 확률질량함수"
   ]
  },
  {
   "cell_type": "markdown",
   "id": "afd4d7f3-5740-44f4-89ed-f580dd134305",
   "metadata": {},
   "source": [
    "* 포아송 분포의 확률질량함수 (x : 카운트 데이터 등 이산형 확률변수, $\\lambda$ 는 포아송 분포의 강도) \n",
    "\n",
    "$$Pois \\left( x | \\lambda \\right) = \\frac{e^{-\\lambda} \\cdot \\lambda^{x}}{x!}$$\n"
   ]
  },
  {
   "cell_type": "markdown",
   "id": "66088207-bb7f-481f-9d3c-65607c8c7576",
   "metadata": {},
   "source": [
    "### 6.1.10 이항 분포와 포아송 분포의 관계"
   ]
  },
  {
   "cell_type": "markdown",
   "id": "4d1fc3cb-65bc-4f28-862d-8c3871f4b398",
   "metadata": {},
   "source": [
    "* 포아송 분포는 이항분포에서 도출할 수 있음\n",
    "\n",
    "    - 포아송 분포는 $ p \\to  0, N \\to \\infty$ 라는 조건에서 이항분포가 $Np =\\lambda$ 인 결과\n",
    "\n",
    "    - 성공확률이 한없이 0에 가깝지만 시행횟수가 무한히 많은 이항분포\n",
    "    \n",
    "    - 일어나기 어려운 사건 $p \\to  0$ 이지만, 대상이 되는 사람 수가 굉장히 많을 때 $N \\to \\infty$의 발생건수가 포아송 분포를 따름"
   ]
  },
  {
   "cell_type": "markdown",
   "id": "b0e241d1-5d78-4bff-8e8f-0ae4141ee96c",
   "metadata": {},
   "source": [
    "### 6.1.11 포아송 분포(실습)"
   ]
  },
  {
   "cell_type": "markdown",
   "id": "c350448d-2a1c-47f0-bd53-66587879dd11",
   "metadata": {},
   "source": [
    "* 포아송 분포의 확률질량함수는 sp.stats.poisson.pmf를 사용해서 얻을 수 있음\n",
    "\n",
    "* 강도가 5인 포아송 분포에서 어떤 값(k) 2를 얻는 확률은 다음과 같음"
   ]
  },
  {
   "cell_type": "code",
   "execution_count": 6,
   "id": "444a8dbe-0114-4937-8635-3f7d3ef921b9",
   "metadata": {},
   "outputs": [
    {
     "data": {
      "text/plain": [
       "0.084"
      ]
     },
     "execution_count": 6,
     "metadata": {},
     "output_type": "execute_result"
    }
   ],
   "source": [
    "sp.stats.poisson.pmf(k = 2, mu = 5)"
   ]
  },
  {
   "cell_type": "code",
   "execution_count": 7,
   "id": "6559af02-69f8-4b51-9a63-6cdcd06935cd",
   "metadata": {},
   "outputs": [
    {
     "data": {
      "text/plain": [
       "array([2, 1, 0, 1, 2])"
      ]
     },
     "execution_count": 7,
     "metadata": {},
     "output_type": "execute_result"
    }
   ],
   "source": [
    "np.random.seed(1)\n",
    "sp.stats.poisson.rvs(mu = 2, size = 5)"
   ]
  },
  {
   "cell_type": "markdown",
   "id": "62636c85-ee96-45d7-9ced-17e1d3342466",
   "metadata": {},
   "source": [
    "* 난수의 히스토그램과 확률질량함수의 비교"
   ]
  },
  {
   "cell_type": "code",
   "execution_count": 8,
   "id": "e60a59e7-8e40-4c4c-b5f1-b43a953cefb6",
   "metadata": {},
   "outputs": [
    {
     "name": "stderr",
     "output_type": "stream",
     "text": [
      "C:\\ProgramData\\Anaconda3\\lib\\site-packages\\seaborn\\distributions.py:2619: FutureWarning: `distplot` is a deprecated function and will be removed in a future version. Please adapt your code to use either `displot` (a figure-level function with similar flexibility) or `histplot` (an axes-level function for histograms).\n",
      "  warnings.warn(msg, FutureWarning)\n"
     ]
    },
    {
     "data": {
      "text/plain": [
       "[<matplotlib.lines.Line2D at 0x1442b99fb20>]"
      ]
     },
     "execution_count": 8,
     "metadata": {},
     "output_type": "execute_result"
    },
    {
     "data": {
      "image/png": "[encoded data removed]",
      "text/plain": [
       "<Figure size 432x288 with 1 Axes>"
      ]
     },
     "metadata": {
      "needs_background": "light"
     },
     "output_type": "display_data"
    }
   ],
   "source": [
    "# lambda = 2인 포아송 분포\n",
    "poisson = sp.stats.poisson(mu = 2)\n",
    "\n",
    "# 난수 \n",
    "np.random.seed(1)\n",
    "rvs_poisson = poisson.rvs(size = 10000)\n",
    "\n",
    "# 확률질량함수\n",
    "pmf_poisson = poisson.pmf(k = m)\n",
    "\n",
    "# 난수의 히스토그램과 확률질량함수를 겹쳐서 그리기\n",
    "sns.distplot(rvs_poisson, bins = m, kde = False, norm_hist = True, color = 'steelblue')\n",
    "plt.plot(m, pmf_poisson, color = \"red\")"
   ]
  },
  {
   "cell_type": "code",
   "execution_count": 9,
   "id": "bce78b86-d225-448f-b56d-78568ad15e25",
   "metadata": {},
   "outputs": [
    {
     "data": {
      "text/plain": [
       "[<matplotlib.lines.Line2D at 0x1442ba1f0d0>]"
      ]
     },
     "execution_count": 9,
     "metadata": {},
     "output_type": "execute_result"
    },
    {
     "data": {
      "image/png": "[encoded data removed]",
      "text/plain": [
       "<Figure size 432x288 with 1 Axes>"
      ]
     },
     "metadata": {
      "needs_background": "light"
     },
     "output_type": "display_data"
    }
   ],
   "source": [
    "# 난수의 히스토그램과 확률질량함수를 겹쳐서 그리기\n",
    "sns.histplot(rvs_poisson, bins = m, kde = False, stat = \"density\", color = 'steelblue')\n",
    "plt.plot(m, pmf_poisson, color = \"red\")"
   ]
  },
  {
   "cell_type": "markdown",
   "id": "f1b24220-c7da-4cb5-b636-aa8d21ded37f",
   "metadata": {},
   "source": [
    "* 시행횟수 100,000,000회, 성공확률 0.00000002로 한 이항분포의 확률질량함수를 강도 2인 포아송 분포의 확률질량함수와 비교"
   ]
  },
  {
   "cell_type": "code",
   "execution_count": 10,
   "id": "7152bdf3-5356-46d1-a3b7-ff03eb182c60",
   "metadata": {},
   "outputs": [
    {
     "data": {
      "text/plain": [
       "[<matplotlib.lines.Line2D at 0x1442ba865e0>]"
      ]
     },
     "execution_count": 10,
     "metadata": {},
     "output_type": "execute_result"
    },
    {
     "data": {
      "image/png": "[encoded data removed]",
      "text/plain": [
       "<Figure size 432x288 with 1 Axes>"
      ]
     },
     "metadata": {
      "needs_background": "light"
     },
     "output_type": "display_data"
    }
   ],
   "source": [
    "# N이 크고 p가 작은 이항분포\n",
    "N = 100000000\n",
    "p = 0.00000002\n",
    "binomial_2 = sp.stats.binom(n = N, p = p)\n",
    "\n",
    "# 확률질량함수 \n",
    "pmf_binomial_2 = binomial_2.pmf(k = m)\n",
    "\n",
    "# 확률질량 그래프\n",
    "plt.plot(m, pmf_poisson, color = \"red\")\n",
    "plt.plot(m, pmf_binomial_2, color = \"black\", linestyle = 'dotted')"
   ]
  },
  {
   "cell_type": "markdown",
   "id": "bb3de94f-0cb3-4825-aa26-1721c49c8434",
   "metadata": {},
   "source": [
    "* N이 크고 p가 작은 이항분포와 포아송 분포가 거의 일치하는 것을 확인 가능"
   ]
  },
  {
   "cell_type": "markdown",
   "id": "a759592f-89c3-4f86-ae58-f71207243eb1",
   "metadata": {},
   "source": [
    "### 6.1.12 그 외의 확률분포"
   ]
  },
  {
   "cell_type": "markdown",
   "id": "fb6bef56-fa05-48a5-a4e2-8e6fc4d2747c",
   "metadata": {},
   "source": [
    "* **음이항분포** : 포아송 분포와 마찬가지로 카운트 데이터가 따르는 확률분포. 포아송 분포보다 분산이 큰 것이 특징\n",
    "\n",
    "    - 예를 들어 무리 짓는 생물의 개체수라면 포아송 분포로는 상정할 수 없는 큰 분산이 되는 경우가 있음\n",
    "    \n",
    "    - 이 문제를 **과분산** 이라고 부르며, 이때 음이항 분포를 사용하면 잘 모델링되는 경우가 있음\n",
    "\n",
    "\n",
    "* **감마분포** : 0 이상의 값을 취하는 연속형 확률변수가 따르는 확률분포. 정규분포와 달리 0 이상의 값만 취하며, 분산값도 평균값에 따라 변함(비등분산)"
   ]
  },
  {
   "cell_type": "markdown",
   "id": "fbe7d03f-71fb-41a4-96ef-a5ef80254b05",
   "metadata": {},
   "source": [
    "### 6.1.13 지수형 분포"
   ]
  },
  {
   "cell_type": "markdown",
   "id": "20ae790d-8be9-4c6d-9b57-f469eb701cf0",
   "metadata": {},
   "source": [
    "> https://blog.naver.com/jung1pp/221753670818\n",
    "\n",
    "* 일반화선형모델은 정규분포 이외의 확률분포도 모집단분포로 가정할 수 있는 선형모델\n",
    "\n",
    "* 정규분포 이외의 확률분포로 이용되는 것이 **지수족** (지수형 분포족)이라고 불리는 부류의 분포\n",
    "\n",
    "    * 지수족은 정규분포 이외의 분포를 포함하지만, 정규분포가가지는 많은 편리한 성질을 가지고 있기 때문에 모델의 추정이나 해석이 용이\n",
    "    \n",
    "    * 지수족 정의($x$: 확률변수, $\\theta$는 확률분포의 모수)\n",
    "    \n",
    "    $$f\\left( x | \\theta \\right) = exp \\left [ a(x)b(\\theta) + c(\\theta) + d(x) \\right]$$\n",
    "    \n",
    "    * 특히 $a(x) = x$ 인 분포를 정준형(canonical)이라고 부르며, $b(\\theta)$를 분포의 자연 파라미터라고 부름\n",
    "    \n",
    "    * 예를 들어 포아송 분포는 지수족에 포함되어 정준형으로 간주할 수 있음\n",
    "\n",
    "        * $Pois \\left( x | \\lambda \\right) = \\frac{e^{-\\lambda} \\cdot \\lambda^{x}}{x!} \\quad \\to \\quad Pois \\left( x | \\lambda \\right) = exp \\left[ xlog\\lambda - \\lambda - logx! \\right]$\n",
    "        \n",
    "        * $a(x) = x$이므로 정준형이며, 자연 파라미터는 $log\\lambda$가 됨"
   ]
  }
 ],
 "metadata": {
  "kernelspec": {
   "display_name": "Python 3 (ipykernel)",
   "language": "python",
   "name": "python3"
  },
  "language_info": {
   "codemirror_mode": {
    "name": "ipython",
    "version": 3
   },
   "file_extension": ".py",
   "mimetype": "text/x-python",
   "name": "python",
   "nbconvert_exporter": "python",
   "pygments_lexer": "ipython3",
   "version": "3.9.12"
  }
 },
 "nbformat": 4,
 "nbformat_minor": 5
}
